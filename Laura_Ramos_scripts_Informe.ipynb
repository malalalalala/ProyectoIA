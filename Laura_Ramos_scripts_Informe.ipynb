{
 "cells": [
  {
   "cell_type": "markdown",
   "id": "879cc2e6-c369-47c2-81ab-4fcd23a96ab9",
   "metadata": {},
   "source": [
    "# **PROYECTO FINAL - MODELOS Y SIMULACIÓN DE SISTEMAS 2**\n",
    "\n",
    "## **Implementación de Modelos de Aprendizaje Automático para la Predicción de Ataques Cardíacos**\n",
    "\n",
    "### Universidad de Antioquia\n",
    "\n",
    "### Facultad de Ingeniería\n",
    "\n",
    "### Ingeniería de Sistemas\n",
    "\n",
    "### UdeA - Ude@\n",
    "\n",
    "### Profesor: Antonio Tamayo Herrera\n",
    "\n",
    "### Estudiante: Laura Victoria Ramos Agudelo"
   ]
  },
  {
   "cell_type": "markdown",
   "id": "051884da-6c0a-4361-9351-08181f09218b",
   "metadata": {
    "tags": []
   },
   "source": [
    "## 1. Análisis exploratorio de los datos\n",
    "\n",
    "En esta sección, se realizará un análisis exploratorio de los datos para comprender mejor las características del conjunto de datos y obtener información valiosa sobre las variables y su relación con el objetivo de predicción.\n",
    "\n",
    "### 1.1 Carga de datos"
   ]
  },
  {
   "cell_type": "code",
   "execution_count": 2,
   "id": "2860c3df-7fbd-4dd4-a0c3-28ae148760d5",
   "metadata": {
    "tags": []
   },
   "outputs": [],
   "source": [
    "import pandas as pd"
   ]
  },
  {
   "cell_type": "code",
   "execution_count": 3,
   "id": "6d8cbb3d-de74-4282-af6c-ea522d3c8a4d",
   "metadata": {
    "tags": []
   },
   "outputs": [
    {
     "data": {
      "text/html": [
       "<div>\n",
       "<style scoped>\n",
       "    .dataframe tbody tr th:only-of-type {\n",
       "        vertical-align: middle;\n",
       "    }\n",
       "\n",
       "    .dataframe tbody tr th {\n",
       "        vertical-align: top;\n",
       "    }\n",
       "\n",
       "    .dataframe thead th {\n",
       "        text-align: right;\n",
       "    }\n",
       "</style>\n",
       "<table border=\"1\" class=\"dataframe\">\n",
       "  <thead>\n",
       "    <tr style=\"text-align: right;\">\n",
       "      <th></th>\n",
       "      <th>age</th>\n",
       "      <th>sex</th>\n",
       "      <th>cp</th>\n",
       "      <th>trtbps</th>\n",
       "      <th>chol</th>\n",
       "      <th>fbs</th>\n",
       "      <th>restecg</th>\n",
       "      <th>thalachh</th>\n",
       "      <th>exng</th>\n",
       "      <th>oldpeak</th>\n",
       "      <th>slp</th>\n",
       "      <th>caa</th>\n",
       "      <th>thall</th>\n",
       "      <th>output</th>\n",
       "    </tr>\n",
       "  </thead>\n",
       "  <tbody>\n",
       "    <tr>\n",
       "      <th>245</th>\n",
       "      <td>48</td>\n",
       "      <td>1</td>\n",
       "      <td>0</td>\n",
       "      <td>124</td>\n",
       "      <td>274</td>\n",
       "      <td>0</td>\n",
       "      <td>0</td>\n",
       "      <td>166</td>\n",
       "      <td>0</td>\n",
       "      <td>0.5</td>\n",
       "      <td>1</td>\n",
       "      <td>0</td>\n",
       "      <td>3</td>\n",
       "      <td>0</td>\n",
       "    </tr>\n",
       "    <tr>\n",
       "      <th>277</th>\n",
       "      <td>57</td>\n",
       "      <td>1</td>\n",
       "      <td>1</td>\n",
       "      <td>124</td>\n",
       "      <td>261</td>\n",
       "      <td>0</td>\n",
       "      <td>1</td>\n",
       "      <td>141</td>\n",
       "      <td>0</td>\n",
       "      <td>0.3</td>\n",
       "      <td>2</td>\n",
       "      <td>0</td>\n",
       "      <td>3</td>\n",
       "      <td>0</td>\n",
       "    </tr>\n",
       "    <tr>\n",
       "      <th>168</th>\n",
       "      <td>63</td>\n",
       "      <td>1</td>\n",
       "      <td>0</td>\n",
       "      <td>130</td>\n",
       "      <td>254</td>\n",
       "      <td>0</td>\n",
       "      <td>0</td>\n",
       "      <td>147</td>\n",
       "      <td>0</td>\n",
       "      <td>1.4</td>\n",
       "      <td>1</td>\n",
       "      <td>1</td>\n",
       "      <td>3</td>\n",
       "      <td>0</td>\n",
       "    </tr>\n",
       "    <tr>\n",
       "      <th>40</th>\n",
       "      <td>51</td>\n",
       "      <td>0</td>\n",
       "      <td>2</td>\n",
       "      <td>140</td>\n",
       "      <td>308</td>\n",
       "      <td>0</td>\n",
       "      <td>0</td>\n",
       "      <td>142</td>\n",
       "      <td>0</td>\n",
       "      <td>1.5</td>\n",
       "      <td>2</td>\n",
       "      <td>1</td>\n",
       "      <td>2</td>\n",
       "      <td>1</td>\n",
       "    </tr>\n",
       "    <tr>\n",
       "      <th>288</th>\n",
       "      <td>57</td>\n",
       "      <td>1</td>\n",
       "      <td>0</td>\n",
       "      <td>110</td>\n",
       "      <td>335</td>\n",
       "      <td>0</td>\n",
       "      <td>1</td>\n",
       "      <td>143</td>\n",
       "      <td>1</td>\n",
       "      <td>3.0</td>\n",
       "      <td>1</td>\n",
       "      <td>1</td>\n",
       "      <td>3</td>\n",
       "      <td>0</td>\n",
       "    </tr>\n",
       "    <tr>\n",
       "      <th>70</th>\n",
       "      <td>54</td>\n",
       "      <td>1</td>\n",
       "      <td>2</td>\n",
       "      <td>120</td>\n",
       "      <td>258</td>\n",
       "      <td>0</td>\n",
       "      <td>0</td>\n",
       "      <td>147</td>\n",
       "      <td>0</td>\n",
       "      <td>0.4</td>\n",
       "      <td>1</td>\n",
       "      <td>0</td>\n",
       "      <td>3</td>\n",
       "      <td>1</td>\n",
       "    </tr>\n",
       "    <tr>\n",
       "      <th>44</th>\n",
       "      <td>39</td>\n",
       "      <td>1</td>\n",
       "      <td>2</td>\n",
       "      <td>140</td>\n",
       "      <td>321</td>\n",
       "      <td>0</td>\n",
       "      <td>0</td>\n",
       "      <td>182</td>\n",
       "      <td>0</td>\n",
       "      <td>0.0</td>\n",
       "      <td>2</td>\n",
       "      <td>0</td>\n",
       "      <td>2</td>\n",
       "      <td>1</td>\n",
       "    </tr>\n",
       "    <tr>\n",
       "      <th>164</th>\n",
       "      <td>38</td>\n",
       "      <td>1</td>\n",
       "      <td>2</td>\n",
       "      <td>138</td>\n",
       "      <td>175</td>\n",
       "      <td>0</td>\n",
       "      <td>1</td>\n",
       "      <td>173</td>\n",
       "      <td>0</td>\n",
       "      <td>0.0</td>\n",
       "      <td>2</td>\n",
       "      <td>4</td>\n",
       "      <td>2</td>\n",
       "      <td>1</td>\n",
       "    </tr>\n",
       "    <tr>\n",
       "      <th>251</th>\n",
       "      <td>43</td>\n",
       "      <td>1</td>\n",
       "      <td>0</td>\n",
       "      <td>132</td>\n",
       "      <td>247</td>\n",
       "      <td>1</td>\n",
       "      <td>0</td>\n",
       "      <td>143</td>\n",
       "      <td>1</td>\n",
       "      <td>0.1</td>\n",
       "      <td>1</td>\n",
       "      <td>4</td>\n",
       "      <td>3</td>\n",
       "      <td>0</td>\n",
       "    </tr>\n",
       "    <tr>\n",
       "      <th>68</th>\n",
       "      <td>44</td>\n",
       "      <td>1</td>\n",
       "      <td>1</td>\n",
       "      <td>120</td>\n",
       "      <td>220</td>\n",
       "      <td>0</td>\n",
       "      <td>1</td>\n",
       "      <td>170</td>\n",
       "      <td>0</td>\n",
       "      <td>0.0</td>\n",
       "      <td>2</td>\n",
       "      <td>0</td>\n",
       "      <td>2</td>\n",
       "      <td>1</td>\n",
       "    </tr>\n",
       "  </tbody>\n",
       "</table>\n",
       "</div>"
      ],
      "text/plain": [
       "     age  sex  cp  trtbps  chol  fbs  restecg  thalachh  exng  oldpeak  slp  \\\n",
       "245   48    1   0     124   274    0        0       166     0      0.5    1   \n",
       "277   57    1   1     124   261    0        1       141     0      0.3    2   \n",
       "168   63    1   0     130   254    0        0       147     0      1.4    1   \n",
       "40    51    0   2     140   308    0        0       142     0      1.5    2   \n",
       "288   57    1   0     110   335    0        1       143     1      3.0    1   \n",
       "70    54    1   2     120   258    0        0       147     0      0.4    1   \n",
       "44    39    1   2     140   321    0        0       182     0      0.0    2   \n",
       "164   38    1   2     138   175    0        1       173     0      0.0    2   \n",
       "251   43    1   0     132   247    1        0       143     1      0.1    1   \n",
       "68    44    1   1     120   220    0        1       170     0      0.0    2   \n",
       "\n",
       "     caa  thall  output  \n",
       "245    0      3       0  \n",
       "277    0      3       0  \n",
       "168    1      3       0  \n",
       "40     1      2       1  \n",
       "288    1      3       0  \n",
       "70     0      3       1  \n",
       "44     0      2       1  \n",
       "164    4      2       1  \n",
       "251    4      3       0  \n",
       "68     0      2       1  "
      ]
     },
     "execution_count": 3,
     "metadata": {},
     "output_type": "execute_result"
    }
   ],
   "source": [
    "df = pd.read_csv('heart.csv')\n",
    "df.sample(10)"
   ]
  },
  {
   "cell_type": "markdown",
   "id": "8949b524-9d9a-4bc1-8342-86317e3f642f",
   "metadata": {},
   "source": [
    "### 1.2 Inspección de datos faltantes"
   ]
  },
  {
   "cell_type": "code",
   "execution_count": 4,
   "id": "4f13722e-f99e-4e72-a2f1-6df740c932a6",
   "metadata": {
    "tags": []
   },
   "outputs": [
    {
     "data": {
      "text/plain": [
       "age         0\n",
       "sex         0\n",
       "cp          0\n",
       "trtbps      0\n",
       "chol        0\n",
       "fbs         0\n",
       "restecg     0\n",
       "thalachh    0\n",
       "exng        0\n",
       "oldpeak     0\n",
       "slp         0\n",
       "caa         0\n",
       "thall       0\n",
       "output      0\n",
       "dtype: int64"
      ]
     },
     "execution_count": 4,
     "metadata": {},
     "output_type": "execute_result"
    }
   ],
   "source": [
    "missing_values_count = df.isnull().sum()\n",
    "missing_values_count\n"
   ]
  },
  {
   "cell_type": "markdown",
   "id": "95dc7e5e-adf1-4cae-b453-a320531e91c6",
   "metadata": {},
   "source": [
    "### 1.3 Exploración de columnas y tipos de datos"
   ]
  },
  {
   "cell_type": "code",
   "execution_count": 71,
   "id": "bbf85ad7-bdb2-41a9-93f3-723a768bc09b",
   "metadata": {
    "tags": []
   },
   "outputs": [
    {
     "data": {
      "text/plain": [
       "(303, 14)"
      ]
     },
     "execution_count": 71,
     "metadata": {},
     "output_type": "execute_result"
    }
   ],
   "source": [
    "df.shape"
   ]
  },
  {
   "cell_type": "code",
   "execution_count": 98,
   "id": "2dc53ad8-5499-4d82-8c1b-18f58e3f741c",
   "metadata": {},
   "outputs": [
    {
     "name": "stdout",
     "output_type": "stream",
     "text": [
      "age\n",
      "Column: age, Unique Count: 41, Data Type: int64\n",
      "sex\n",
      "Column: sex, Unique Count: 2, Data Type: int64\n",
      "cp\n",
      "Column: cp, Unique Count: 4, Data Type: int64\n",
      "trtbps\n",
      "Column: trtbps, Unique Count: 49, Data Type: int64\n",
      "chol\n",
      "Column: chol, Unique Count: 152, Data Type: int64\n",
      "fbs\n",
      "Column: fbs, Unique Count: 2, Data Type: int64\n",
      "restecg\n",
      "Column: restecg, Unique Count: 3, Data Type: int64\n",
      "thalachh\n",
      "Column: thalachh, Unique Count: 91, Data Type: int64\n",
      "exng\n",
      "Column: exng, Unique Count: 2, Data Type: int64\n",
      "oldpeak\n",
      "Column: oldpeak, Unique Count: 40, Data Type: float64\n",
      "slp\n",
      "Column: slp, Unique Count: 3, Data Type: int64\n",
      "caa\n",
      "Column: caa, Unique Count: 5, Data Type: int64\n",
      "thall\n",
      "Column: thall, Unique Count: 4, Data Type: int64\n",
      "output\n",
      "Column: output, Unique Count: 2, Data Type: int64\n"
     ]
    }
   ],
   "source": [
    "for column in df.columns:\n",
    "    print(column)\n",
    "    unique_count = df[column].nunique()\n",
    "    data_type = df[column].dtype\n",
    "    print(f\"Column: {column}, Unique Count: {unique_count}, Data Type: {data_type}\")"
   ]
  },
  {
   "cell_type": "code",
   "execution_count": 99,
   "id": "2d63cef6-0375-473c-afdd-99f7c528a1a9",
   "metadata": {
    "tags": []
   },
   "outputs": [
    {
     "name": "stdout",
     "output_type": "stream",
     "text": [
      "<class 'pandas.core.frame.DataFrame'>\n",
      "RangeIndex: 303 entries, 0 to 302\n",
      "Data columns (total 14 columns):\n",
      " #   Column    Non-Null Count  Dtype  \n",
      "---  ------    --------------  -----  \n",
      " 0   age       303 non-null    int64  \n",
      " 1   sex       303 non-null    int64  \n",
      " 2   cp        303 non-null    int64  \n",
      " 3   trtbps    303 non-null    int64  \n",
      " 4   chol      303 non-null    int64  \n",
      " 5   fbs       303 non-null    int64  \n",
      " 6   restecg   303 non-null    int64  \n",
      " 7   thalachh  303 non-null    int64  \n",
      " 8   exng      303 non-null    int64  \n",
      " 9   oldpeak   303 non-null    float64\n",
      " 10  slp       303 non-null    int64  \n",
      " 11  caa       303 non-null    int64  \n",
      " 12  thall     303 non-null    int64  \n",
      " 13  output    303 non-null    int64  \n",
      "dtypes: float64(1), int64(13)\n",
      "memory usage: 33.3 KB\n"
     ]
    }
   ],
   "source": [
    "df.info()"
   ]
  },
  {
   "cell_type": "code",
   "execution_count": 100,
   "id": "7bab7645-347a-421f-a4e4-03a3c459bcf1",
   "metadata": {
    "tags": []
   },
   "outputs": [
    {
     "name": "stdout",
     "output_type": "stream",
     "text": [
      "Valores únicos en la columna age: [63 37 41 56 57 44 52 54 48 49 64 58 50 66 43 69 59 42 61 40 71 51 65 53\n",
      " 46 45 39 47 62 34 35 29 55 60 67 68 74 76 70 38 77]\n",
      "Cantidad de valores únicos en age: 41\n",
      "Valores únicos en la columna sex: [1 0]\n",
      "Cantidad de valores únicos en sex: 2\n",
      "Valores únicos en la columna cp: [3 2 1 0]\n",
      "Cantidad de valores únicos en cp: 4\n",
      "Valores únicos en la columna trtbps: [145 130 120 140 172 150 110 135 160 105 125 142 155 104 138 128 108 134\n",
      " 122 115 118 100 124  94 112 102 152 101 132 148 178 129 180 136 126 106\n",
      " 156 170 146 117 200 165 174 192 144 123 154 114 164]\n",
      "Cantidad de valores únicos en trtbps: 49\n",
      "Valores únicos en la columna chol: [233 250 204 236 354 192 294 263 199 168 239 275 266 211 283 219 340 226\n",
      " 247 234 243 302 212 175 417 197 198 177 273 213 304 232 269 360 308 245\n",
      " 208 264 321 325 235 257 216 256 231 141 252 201 222 260 182 303 265 309\n",
      " 186 203 183 220 209 258 227 261 221 205 240 318 298 564 277 214 248 255\n",
      " 207 223 288 160 394 315 246 244 270 195 196 254 126 313 262 215 193 271\n",
      " 268 267 210 295 306 178 242 180 228 149 278 253 342 157 286 229 284 224\n",
      " 206 167 230 335 276 353 225 330 290 172 305 188 282 185 326 274 164 307\n",
      " 249 341 407 217 174 281 289 322 299 300 293 184 409 259 200 327 237 218\n",
      " 319 166 311 169 187 176 241 131]\n",
      "Cantidad de valores únicos en chol: 152\n",
      "Valores únicos en la columna fbs: [1 0]\n",
      "Cantidad de valores únicos en fbs: 2\n",
      "Valores únicos en la columna restecg: [0 1 2]\n",
      "Cantidad de valores únicos en restecg: 3\n",
      "Valores únicos en la columna thalachh: [150 187 172 178 163 148 153 173 162 174 160 139 171 144 158 114 151 161\n",
      " 179 137 157 123 152 168 140 188 125 170 165 142 180 143 182 156 115 149\n",
      " 146 175 186 185 159 130 190 132 147 154 202 166 164 184 122 169 138 111\n",
      " 145 194 131 133 155 167 192 121  96 126 105 181 116 108 129 120 112 128\n",
      " 109 113  99 177 141 136  97 127 103 124  88 195 106  95 117  71 118 134\n",
      "  90]\n",
      "Cantidad de valores únicos en thalachh: 91\n",
      "Valores únicos en la columna exng: [0 1]\n",
      "Cantidad de valores únicos en exng: 2\n",
      "Valores únicos en la columna oldpeak: [2.3 3.5 1.4 0.8 0.6 0.4 1.3 0.  0.5 1.6 1.2 0.2 1.8 1.  2.6 1.5 3.  2.4\n",
      " 0.1 1.9 4.2 1.1 2.  0.7 0.3 0.9 3.6 3.1 3.2 2.5 2.2 2.8 3.4 6.2 4.  5.6\n",
      " 2.9 2.1 3.8 4.4]\n",
      "Cantidad de valores únicos en oldpeak: 40\n",
      "Valores únicos en la columna slp: [0 2 1]\n",
      "Cantidad de valores únicos en slp: 3\n",
      "Valores únicos en la columna caa: [0 2 1 3 4]\n",
      "Cantidad de valores únicos en caa: 5\n",
      "Valores únicos en la columna thall: [1 2 3 0]\n",
      "Cantidad de valores únicos en thall: 4\n",
      "Valores únicos en la columna output: [1 0]\n",
      "Cantidad de valores únicos en output: 2\n"
     ]
    }
   ],
   "source": [
    "for column in df.columns:\n",
    "    unique_values = df[column].unique()\n",
    "    unique_count = df[column].nunique()\n",
    "    print(f\"Valores únicos en la columna {column}: {unique_values}\")\n",
    "    print(f\"Cantidad de valores únicos en {column}: {unique_count}\")"
   ]
  },
  {
   "cell_type": "markdown",
   "id": "86ff9d55-a961-4cc7-b7f3-fa018b737d83",
   "metadata": {
    "tags": []
   },
   "source": [
    "### 1.4 Estadísticas descriptivas"
   ]
  },
  {
   "cell_type": "code",
   "execution_count": 101,
   "id": "9c29fb6b-f08c-4d0e-826c-846fb932e4e2",
   "metadata": {
    "tags": []
   },
   "outputs": [
    {
     "data": {
      "text/html": [
       "<div>\n",
       "<style scoped>\n",
       "    .dataframe tbody tr th:only-of-type {\n",
       "        vertical-align: middle;\n",
       "    }\n",
       "\n",
       "    .dataframe tbody tr th {\n",
       "        vertical-align: top;\n",
       "    }\n",
       "\n",
       "    .dataframe thead th {\n",
       "        text-align: right;\n",
       "    }\n",
       "</style>\n",
       "<table border=\"1\" class=\"dataframe\">\n",
       "  <thead>\n",
       "    <tr style=\"text-align: right;\">\n",
       "      <th></th>\n",
       "      <th>age</th>\n",
       "      <th>sex</th>\n",
       "      <th>cp</th>\n",
       "      <th>trtbps</th>\n",
       "      <th>chol</th>\n",
       "      <th>fbs</th>\n",
       "      <th>restecg</th>\n",
       "      <th>thalachh</th>\n",
       "      <th>exng</th>\n",
       "      <th>oldpeak</th>\n",
       "      <th>slp</th>\n",
       "      <th>caa</th>\n",
       "      <th>thall</th>\n",
       "      <th>output</th>\n",
       "    </tr>\n",
       "  </thead>\n",
       "  <tbody>\n",
       "    <tr>\n",
       "      <th>count</th>\n",
       "      <td>303.000000</td>\n",
       "      <td>303.000000</td>\n",
       "      <td>303.000000</td>\n",
       "      <td>303.000000</td>\n",
       "      <td>303.000000</td>\n",
       "      <td>303.000000</td>\n",
       "      <td>303.000000</td>\n",
       "      <td>303.000000</td>\n",
       "      <td>303.000000</td>\n",
       "      <td>303.000000</td>\n",
       "      <td>303.000000</td>\n",
       "      <td>303.000000</td>\n",
       "      <td>303.000000</td>\n",
       "      <td>303.000000</td>\n",
       "    </tr>\n",
       "    <tr>\n",
       "      <th>mean</th>\n",
       "      <td>54.366337</td>\n",
       "      <td>0.683168</td>\n",
       "      <td>0.966997</td>\n",
       "      <td>131.623762</td>\n",
       "      <td>246.264026</td>\n",
       "      <td>0.148515</td>\n",
       "      <td>0.528053</td>\n",
       "      <td>149.646865</td>\n",
       "      <td>0.326733</td>\n",
       "      <td>1.039604</td>\n",
       "      <td>1.399340</td>\n",
       "      <td>0.729373</td>\n",
       "      <td>2.313531</td>\n",
       "      <td>0.544554</td>\n",
       "    </tr>\n",
       "    <tr>\n",
       "      <th>std</th>\n",
       "      <td>9.082101</td>\n",
       "      <td>0.466011</td>\n",
       "      <td>1.032052</td>\n",
       "      <td>17.538143</td>\n",
       "      <td>51.830751</td>\n",
       "      <td>0.356198</td>\n",
       "      <td>0.525860</td>\n",
       "      <td>22.905161</td>\n",
       "      <td>0.469794</td>\n",
       "      <td>1.161075</td>\n",
       "      <td>0.616226</td>\n",
       "      <td>1.022606</td>\n",
       "      <td>0.612277</td>\n",
       "      <td>0.498835</td>\n",
       "    </tr>\n",
       "    <tr>\n",
       "      <th>min</th>\n",
       "      <td>29.000000</td>\n",
       "      <td>0.000000</td>\n",
       "      <td>0.000000</td>\n",
       "      <td>94.000000</td>\n",
       "      <td>126.000000</td>\n",
       "      <td>0.000000</td>\n",
       "      <td>0.000000</td>\n",
       "      <td>71.000000</td>\n",
       "      <td>0.000000</td>\n",
       "      <td>0.000000</td>\n",
       "      <td>0.000000</td>\n",
       "      <td>0.000000</td>\n",
       "      <td>0.000000</td>\n",
       "      <td>0.000000</td>\n",
       "    </tr>\n",
       "    <tr>\n",
       "      <th>25%</th>\n",
       "      <td>47.500000</td>\n",
       "      <td>0.000000</td>\n",
       "      <td>0.000000</td>\n",
       "      <td>120.000000</td>\n",
       "      <td>211.000000</td>\n",
       "      <td>0.000000</td>\n",
       "      <td>0.000000</td>\n",
       "      <td>133.500000</td>\n",
       "      <td>0.000000</td>\n",
       "      <td>0.000000</td>\n",
       "      <td>1.000000</td>\n",
       "      <td>0.000000</td>\n",
       "      <td>2.000000</td>\n",
       "      <td>0.000000</td>\n",
       "    </tr>\n",
       "    <tr>\n",
       "      <th>50%</th>\n",
       "      <td>55.000000</td>\n",
       "      <td>1.000000</td>\n",
       "      <td>1.000000</td>\n",
       "      <td>130.000000</td>\n",
       "      <td>240.000000</td>\n",
       "      <td>0.000000</td>\n",
       "      <td>1.000000</td>\n",
       "      <td>153.000000</td>\n",
       "      <td>0.000000</td>\n",
       "      <td>0.800000</td>\n",
       "      <td>1.000000</td>\n",
       "      <td>0.000000</td>\n",
       "      <td>2.000000</td>\n",
       "      <td>1.000000</td>\n",
       "    </tr>\n",
       "    <tr>\n",
       "      <th>75%</th>\n",
       "      <td>61.000000</td>\n",
       "      <td>1.000000</td>\n",
       "      <td>2.000000</td>\n",
       "      <td>140.000000</td>\n",
       "      <td>274.500000</td>\n",
       "      <td>0.000000</td>\n",
       "      <td>1.000000</td>\n",
       "      <td>166.000000</td>\n",
       "      <td>1.000000</td>\n",
       "      <td>1.600000</td>\n",
       "      <td>2.000000</td>\n",
       "      <td>1.000000</td>\n",
       "      <td>3.000000</td>\n",
       "      <td>1.000000</td>\n",
       "    </tr>\n",
       "    <tr>\n",
       "      <th>max</th>\n",
       "      <td>77.000000</td>\n",
       "      <td>1.000000</td>\n",
       "      <td>3.000000</td>\n",
       "      <td>200.000000</td>\n",
       "      <td>564.000000</td>\n",
       "      <td>1.000000</td>\n",
       "      <td>2.000000</td>\n",
       "      <td>202.000000</td>\n",
       "      <td>1.000000</td>\n",
       "      <td>6.200000</td>\n",
       "      <td>2.000000</td>\n",
       "      <td>4.000000</td>\n",
       "      <td>3.000000</td>\n",
       "      <td>1.000000</td>\n",
       "    </tr>\n",
       "  </tbody>\n",
       "</table>\n",
       "</div>"
      ],
      "text/plain": [
       "              age         sex          cp      trtbps        chol         fbs  \\\n",
       "count  303.000000  303.000000  303.000000  303.000000  303.000000  303.000000   \n",
       "mean    54.366337    0.683168    0.966997  131.623762  246.264026    0.148515   \n",
       "std      9.082101    0.466011    1.032052   17.538143   51.830751    0.356198   \n",
       "min     29.000000    0.000000    0.000000   94.000000  126.000000    0.000000   \n",
       "25%     47.500000    0.000000    0.000000  120.000000  211.000000    0.000000   \n",
       "50%     55.000000    1.000000    1.000000  130.000000  240.000000    0.000000   \n",
       "75%     61.000000    1.000000    2.000000  140.000000  274.500000    0.000000   \n",
       "max     77.000000    1.000000    3.000000  200.000000  564.000000    1.000000   \n",
       "\n",
       "          restecg    thalachh        exng     oldpeak         slp         caa  \\\n",
       "count  303.000000  303.000000  303.000000  303.000000  303.000000  303.000000   \n",
       "mean     0.528053  149.646865    0.326733    1.039604    1.399340    0.729373   \n",
       "std      0.525860   22.905161    0.469794    1.161075    0.616226    1.022606   \n",
       "min      0.000000   71.000000    0.000000    0.000000    0.000000    0.000000   \n",
       "25%      0.000000  133.500000    0.000000    0.000000    1.000000    0.000000   \n",
       "50%      1.000000  153.000000    0.000000    0.800000    1.000000    0.000000   \n",
       "75%      1.000000  166.000000    1.000000    1.600000    2.000000    1.000000   \n",
       "max      2.000000  202.000000    1.000000    6.200000    2.000000    4.000000   \n",
       "\n",
       "            thall      output  \n",
       "count  303.000000  303.000000  \n",
       "mean     2.313531    0.544554  \n",
       "std      0.612277    0.498835  \n",
       "min      0.000000    0.000000  \n",
       "25%      2.000000    0.000000  \n",
       "50%      2.000000    1.000000  \n",
       "75%      3.000000    1.000000  \n",
       "max      3.000000    1.000000  "
      ]
     },
     "execution_count": 101,
     "metadata": {},
     "output_type": "execute_result"
    }
   ],
   "source": [
    "df.describe()"
   ]
  },
  {
   "cell_type": "code",
   "execution_count": 102,
   "id": "69e4e38a-b8d3-4e5d-968d-b996c9f74336",
   "metadata": {
    "tags": []
   },
   "outputs": [
    {
     "name": "stdout",
     "output_type": "stream",
     "text": [
      "Media de cada columna:\n",
      "age          54.366337\n",
      "sex           0.683168\n",
      "cp            0.966997\n",
      "trtbps      131.623762\n",
      "chol        246.264026\n",
      "fbs           0.148515\n",
      "restecg       0.528053\n",
      "thalachh    149.646865\n",
      "exng          0.326733\n",
      "oldpeak       1.039604\n",
      "slp           1.399340\n",
      "caa           0.729373\n",
      "thall         2.313531\n",
      "output        0.544554\n",
      "dtype: float64\n",
      "\n",
      "Mediana de cada columna:\n",
      "age          55.0\n",
      "sex           1.0\n",
      "cp            1.0\n",
      "trtbps      130.0\n",
      "chol        240.0\n",
      "fbs           0.0\n",
      "restecg       1.0\n",
      "thalachh    153.0\n",
      "exng          0.0\n",
      "oldpeak       0.8\n",
      "slp           1.0\n",
      "caa           0.0\n",
      "thall         2.0\n",
      "output        1.0\n",
      "dtype: float64\n",
      "\n",
      "Moda de cada columna:\n",
      "age          58.0\n",
      "sex           1.0\n",
      "cp            0.0\n",
      "trtbps      120.0\n",
      "chol        197.0\n",
      "fbs           0.0\n",
      "restecg       1.0\n",
      "thalachh    162.0\n",
      "exng          0.0\n",
      "oldpeak       0.0\n",
      "slp           2.0\n",
      "caa           0.0\n",
      "thall         2.0\n",
      "output        1.0\n",
      "Name: 0, dtype: float64\n"
     ]
    }
   ],
   "source": [
    "media = df.mean()\n",
    "mediana = df.median()\n",
    "moda = df.mode().iloc[0]  # Esto tomará la primera moda en caso de múltiples modas\n",
    "# Imprime los resultados\n",
    "print(\"Media de cada columna:\")\n",
    "print(media)\n",
    "print(\"\\nMediana de cada columna:\")\n",
    "print(mediana)\n",
    "print(\"\\nModa de cada columna:\")\n",
    "print(moda)"
   ]
  },
  {
   "cell_type": "code",
   "execution_count": 103,
   "id": "a7e62c49-6a44-483b-8acf-07fe6f3903f9",
   "metadata": {
    "tags": []
   },
   "outputs": [
    {
     "data": {
      "text/html": [
       "<div>\n",
       "<style scoped>\n",
       "    .dataframe tbody tr th:only-of-type {\n",
       "        vertical-align: middle;\n",
       "    }\n",
       "\n",
       "    .dataframe tbody tr th {\n",
       "        vertical-align: top;\n",
       "    }\n",
       "\n",
       "    .dataframe thead th {\n",
       "        text-align: right;\n",
       "    }\n",
       "</style>\n",
       "<table border=\"1\" class=\"dataframe\">\n",
       "  <thead>\n",
       "    <tr style=\"text-align: right;\">\n",
       "      <th></th>\n",
       "      <th>Atributo</th>\n",
       "      <th>Descripción</th>\n",
       "      <th>Tipo</th>\n",
       "      <th>Rango</th>\n",
       "      <th>Valores Únicos</th>\n",
       "      <th>Media</th>\n",
       "      <th>Mediana</th>\n",
       "      <th>Moda</th>\n",
       "    </tr>\n",
       "  </thead>\n",
       "  <tbody>\n",
       "    <tr>\n",
       "      <th>0</th>\n",
       "      <td>Age</td>\n",
       "      <td>Edad del paciente en años completos</td>\n",
       "      <td>Continuo</td>\n",
       "      <td>29 a 77</td>\n",
       "      <td>41</td>\n",
       "      <td>54.366337</td>\n",
       "      <td>55.0</td>\n",
       "      <td>58.0</td>\n",
       "    </tr>\n",
       "    <tr>\n",
       "      <th>1</th>\n",
       "      <td>Sex</td>\n",
       "      <td>Sexo del paciente (1 = masculino; 0 = femenino)</td>\n",
       "      <td>Categórico</td>\n",
       "      <td>0 a 1</td>\n",
       "      <td>2</td>\n",
       "      <td>0.683168</td>\n",
       "      <td>1.0</td>\n",
       "      <td>1.0</td>\n",
       "    </tr>\n",
       "    <tr>\n",
       "      <th>2</th>\n",
       "      <td>CP</td>\n",
       "      <td>Tipo de dolor torácico (0 a 3)</td>\n",
       "      <td>Categórico</td>\n",
       "      <td>0 a 3</td>\n",
       "      <td>4</td>\n",
       "      <td>0.966997</td>\n",
       "      <td>1.0</td>\n",
       "      <td>0.0</td>\n",
       "    </tr>\n",
       "    <tr>\n",
       "      <th>3</th>\n",
       "      <td>Trtbps</td>\n",
       "      <td>Presión arterial en reposo (mm Hg al ingreso a...</td>\n",
       "      <td>Continuo</td>\n",
       "      <td>94 a 200</td>\n",
       "      <td>49</td>\n",
       "      <td>131.623762</td>\n",
       "      <td>130.0</td>\n",
       "      <td>120.0</td>\n",
       "    </tr>\n",
       "    <tr>\n",
       "      <th>4</th>\n",
       "      <td>Chol</td>\n",
       "      <td>Colesterol sérico en mg/dl</td>\n",
       "      <td>Continuo</td>\n",
       "      <td>126 a 564</td>\n",
       "      <td>152</td>\n",
       "      <td>246.264026</td>\n",
       "      <td>240.0</td>\n",
       "      <td>197.0</td>\n",
       "    </tr>\n",
       "    <tr>\n",
       "      <th>5</th>\n",
       "      <td>FBS</td>\n",
       "      <td>Azúcar en sangre en ayunas</td>\n",
       "      <td>Categórico</td>\n",
       "      <td>0 a 1</td>\n",
       "      <td>2</td>\n",
       "      <td>0.148515</td>\n",
       "      <td>0.0</td>\n",
       "      <td>0.0</td>\n",
       "    </tr>\n",
       "    <tr>\n",
       "      <th>6</th>\n",
       "      <td>Restecg</td>\n",
       "      <td>Resultados electrocardiográficos en reposo</td>\n",
       "      <td>Categórico</td>\n",
       "      <td>0 a 2</td>\n",
       "      <td>3</td>\n",
       "      <td>0.528053</td>\n",
       "      <td>1.0</td>\n",
       "      <td>1.0</td>\n",
       "    </tr>\n",
       "    <tr>\n",
       "      <th>7</th>\n",
       "      <td>Thalach</td>\n",
       "      <td>Máxima frecuencia cardíaca alcanzada</td>\n",
       "      <td>Continuo</td>\n",
       "      <td>71 a 202</td>\n",
       "      <td>91</td>\n",
       "      <td>149.646865</td>\n",
       "      <td>153.0</td>\n",
       "      <td>162.0</td>\n",
       "    </tr>\n",
       "    <tr>\n",
       "      <th>8</th>\n",
       "      <td>Exang</td>\n",
       "      <td>Angina inducida por el ejercicio</td>\n",
       "      <td>Categórico</td>\n",
       "      <td>0 a 1</td>\n",
       "      <td>2</td>\n",
       "      <td>0.326733</td>\n",
       "      <td>0.0</td>\n",
       "      <td>0.0</td>\n",
       "    </tr>\n",
       "    <tr>\n",
       "      <th>9</th>\n",
       "      <td>Oldpeak</td>\n",
       "      <td>Depresión del ST inducida por el ejercicio res...</td>\n",
       "      <td>Continuo</td>\n",
       "      <td>0 a 6.20</td>\n",
       "      <td>40</td>\n",
       "      <td>1.039604</td>\n",
       "      <td>0.8</td>\n",
       "      <td>0.0</td>\n",
       "    </tr>\n",
       "    <tr>\n",
       "      <th>10</th>\n",
       "      <td>Slope</td>\n",
       "      <td>Pendiente del segmento ST del ejercicio</td>\n",
       "      <td>Categórico</td>\n",
       "      <td>0 a 2</td>\n",
       "      <td>3</td>\n",
       "      <td>1.399340</td>\n",
       "      <td>1.0</td>\n",
       "      <td>2.0</td>\n",
       "    </tr>\n",
       "    <tr>\n",
       "      <th>11</th>\n",
       "      <td>Ca</td>\n",
       "      <td>Número de vasos principales (0-3) vistos en fl...</td>\n",
       "      <td>Categórico</td>\n",
       "      <td>0 a 4</td>\n",
       "      <td>5</td>\n",
       "      <td>0.729373</td>\n",
       "      <td>0.0</td>\n",
       "      <td>0.0</td>\n",
       "    </tr>\n",
       "    <tr>\n",
       "      <th>12</th>\n",
       "      <td>Thal</td>\n",
       "      <td>Estado del corazón</td>\n",
       "      <td>Categórico</td>\n",
       "      <td>0 a 3</td>\n",
       "      <td>4</td>\n",
       "      <td>2.313531</td>\n",
       "      <td>2.0</td>\n",
       "      <td>2.0</td>\n",
       "    </tr>\n",
       "    <tr>\n",
       "      <th>13</th>\n",
       "      <td>Num (Objetivo)</td>\n",
       "      <td>Diagnóstico de enfermedad cardíaca (estado ang...</td>\n",
       "      <td>Categórico</td>\n",
       "      <td>0 a 1</td>\n",
       "      <td>2</td>\n",
       "      <td>0.544554</td>\n",
       "      <td>1.0</td>\n",
       "      <td>1.0</td>\n",
       "    </tr>\n",
       "  </tbody>\n",
       "</table>\n",
       "</div>"
      ],
      "text/plain": [
       "          Atributo                                        Descripción  \\\n",
       "0              Age                Edad del paciente en años completos   \n",
       "1              Sex    Sexo del paciente (1 = masculino; 0 = femenino)   \n",
       "2               CP                     Tipo de dolor torácico (0 a 3)   \n",
       "3           Trtbps  Presión arterial en reposo (mm Hg al ingreso a...   \n",
       "4             Chol                         Colesterol sérico en mg/dl   \n",
       "5              FBS                         Azúcar en sangre en ayunas   \n",
       "6          Restecg         Resultados electrocardiográficos en reposo   \n",
       "7          Thalach               Máxima frecuencia cardíaca alcanzada   \n",
       "8            Exang                   Angina inducida por el ejercicio   \n",
       "9          Oldpeak  Depresión del ST inducida por el ejercicio res...   \n",
       "10           Slope            Pendiente del segmento ST del ejercicio   \n",
       "11              Ca  Número de vasos principales (0-3) vistos en fl...   \n",
       "12            Thal                                 Estado del corazón   \n",
       "13  Num (Objetivo)  Diagnóstico de enfermedad cardíaca (estado ang...   \n",
       "\n",
       "          Tipo      Rango  Valores Únicos       Media  Mediana   Moda  \n",
       "0     Continuo    29 a 77              41   54.366337     55.0   58.0  \n",
       "1   Categórico      0 a 1               2    0.683168      1.0    1.0  \n",
       "2   Categórico      0 a 3               4    0.966997      1.0    0.0  \n",
       "3     Continuo   94 a 200              49  131.623762    130.0  120.0  \n",
       "4     Continuo  126 a 564             152  246.264026    240.0  197.0  \n",
       "5   Categórico      0 a 1               2    0.148515      0.0    0.0  \n",
       "6   Categórico      0 a 2               3    0.528053      1.0    1.0  \n",
       "7     Continuo   71 a 202              91  149.646865    153.0  162.0  \n",
       "8   Categórico      0 a 1               2    0.326733      0.0    0.0  \n",
       "9     Continuo   0 a 6.20              40    1.039604      0.8    0.0  \n",
       "10  Categórico      0 a 2               3    1.399340      1.0    2.0  \n",
       "11  Categórico      0 a 4               5    0.729373      0.0    0.0  \n",
       "12  Categórico      0 a 3               4    2.313531      2.0    2.0  \n",
       "13  Categórico      0 a 1               2    0.544554      1.0    1.0  "
      ]
     },
     "execution_count": 103,
     "metadata": {},
     "output_type": "execute_result"
    }
   ],
   "source": [
    "data = {\n",
    "    \"Atributo\": [\n",
    "        \"Age\", \"Sex\", \"CP\", \"Trtbps\", \"Chol\", \"FBS\", \"Restecg\", \"Thalach\", \"Exang\", \n",
    "        \"Oldpeak\", \"Slope\", \"Ca\", \"Thal\", \"Num (Objetivo)\"\n",
    "    ],\n",
    "    \"Descripción\": [\n",
    "        \"Edad del paciente en años completos\", \n",
    "        \"Sexo del paciente (1 = masculino; 0 = femenino)\", \n",
    "        \"Tipo de dolor torácico (0 a 3)\", \n",
    "        \"Presión arterial en reposo (mm Hg al ingreso al hospital)\", \n",
    "        \"Colesterol sérico en mg/dl\", \n",
    "        \"Azúcar en sangre en ayunas\", \n",
    "        \"Resultados electrocardiográficos en reposo\", \n",
    "        \"Máxima frecuencia cardíaca alcanzada\", \n",
    "        \"Angina inducida por el ejercicio\", \n",
    "        \"Depresión del ST inducida por el ejercicio respecto al reposo\", \n",
    "        \"Pendiente del segmento ST del ejercicio\", \n",
    "        \"Número de vasos principales (0-3) vistos en fluoroscopia\", \n",
    "        \"Estado del corazón\", \n",
    "        \"Diagnóstico de enfermedad cardíaca (estado angiográfico)\"\n",
    "    ],\n",
    "    \"Tipo\": [\n",
    "        \"Continuo\", \"Categórico\", \"Categórico\", \"Continuo\", \"Continuo\", \"Categórico\", \n",
    "        \"Categórico\", \"Continuo\", \"Categórico\", \"Continuo\", \"Categórico\", \"Categórico\", \n",
    "        \"Categórico\", \"Categórico\"\n",
    "    ],\n",
    "    \"Rango\": [\n",
    "        \"29 a 77\", \"0 a 1\", \"0 a 3\", \"94 a 200\", \"126 a 564\", \"0 a 1\", \"0 a 2\", \n",
    "        \"71 a 202\", \"0 a 1\", \"0 a 6.20\", \"0 a 2\", \"0 a 4\", \"0 a 3\", \"0 a 1\"\n",
    "    ],\n",
    "    \"Valores Únicos\": [df[column].nunique() for column in df.columns],\n",
    "    \"Media\": [df[column].mean() for column in df.columns if df[column].dtype != 'object'],\n",
    "    \"Mediana\": [df[column].median() for column in df.columns if df[column].dtype != 'object'],\n",
    "    \"Moda\": [df[column].mode()[0] for column in df.columns if df[column].dtype != 'object']\n",
    "}\n",
    "\n",
    "df_resumen\n"
   ]
  },
  {
   "cell_type": "code",
   "execution_count": 104,
   "id": "9c2b0521-2b5e-46ad-bf00-2f880fb0d59f",
   "metadata": {
    "tags": []
   },
   "outputs": [
    {
     "name": "stdout",
     "output_type": "stream",
     "text": [
      "Matriz de correlación:\n",
      "               age       sex        cp    trtbps      chol       fbs  \\\n",
      "age       1.000000 -0.098447 -0.068653  0.279351  0.213678  0.121308   \n",
      "sex      -0.098447  1.000000 -0.049353 -0.056769 -0.197912  0.045032   \n",
      "cp       -0.068653 -0.049353  1.000000  0.047608 -0.076904  0.094444   \n",
      "trtbps    0.279351 -0.056769  0.047608  1.000000  0.123174  0.177531   \n",
      "chol      0.213678 -0.197912 -0.076904  0.123174  1.000000  0.013294   \n",
      "fbs       0.121308  0.045032  0.094444  0.177531  0.013294  1.000000   \n",
      "restecg  -0.116211 -0.058196  0.044421 -0.114103 -0.151040 -0.084189   \n",
      "thalachh -0.398522 -0.044020  0.295762 -0.046698 -0.009940 -0.008567   \n",
      "exng      0.096801  0.141664 -0.394280  0.067616  0.067023  0.025665   \n",
      "oldpeak   0.210013  0.096093 -0.149230  0.193216  0.053952  0.005747   \n",
      "slp      -0.168814 -0.030711  0.119717 -0.121475 -0.004038 -0.059894   \n",
      "caa       0.276326  0.118261 -0.181053  0.101389  0.070511  0.137979   \n",
      "thall     0.068001  0.210041 -0.161736  0.062210  0.098803 -0.032019   \n",
      "output   -0.225439 -0.280937  0.433798 -0.144931 -0.085239 -0.028046   \n",
      "\n",
      "           restecg  thalachh      exng   oldpeak       slp       caa  \\\n",
      "age      -0.116211 -0.398522  0.096801  0.210013 -0.168814  0.276326   \n",
      "sex      -0.058196 -0.044020  0.141664  0.096093 -0.030711  0.118261   \n",
      "cp        0.044421  0.295762 -0.394280 -0.149230  0.119717 -0.181053   \n",
      "trtbps   -0.114103 -0.046698  0.067616  0.193216 -0.121475  0.101389   \n",
      "chol     -0.151040 -0.009940  0.067023  0.053952 -0.004038  0.070511   \n",
      "fbs      -0.084189 -0.008567  0.025665  0.005747 -0.059894  0.137979   \n",
      "restecg   1.000000  0.044123 -0.070733 -0.058770  0.093045 -0.072042   \n",
      "thalachh  0.044123  1.000000 -0.378812 -0.344187  0.386784 -0.213177   \n",
      "exng     -0.070733 -0.378812  1.000000  0.288223 -0.257748  0.115739   \n",
      "oldpeak  -0.058770 -0.344187  0.288223  1.000000 -0.577537  0.222682   \n",
      "slp       0.093045  0.386784 -0.257748 -0.577537  1.000000 -0.080155   \n",
      "caa      -0.072042 -0.213177  0.115739  0.222682 -0.080155  1.000000   \n",
      "thall    -0.011981 -0.096439  0.206754  0.210244 -0.104764  0.151832   \n",
      "output    0.137230  0.421741 -0.436757 -0.430696  0.345877 -0.391724   \n",
      "\n",
      "             thall    output  \n",
      "age       0.068001 -0.225439  \n",
      "sex       0.210041 -0.280937  \n",
      "cp       -0.161736  0.433798  \n",
      "trtbps    0.062210 -0.144931  \n",
      "chol      0.098803 -0.085239  \n",
      "fbs      -0.032019 -0.028046  \n",
      "restecg  -0.011981  0.137230  \n",
      "thalachh -0.096439  0.421741  \n",
      "exng      0.206754 -0.436757  \n",
      "oldpeak   0.210244 -0.430696  \n",
      "slp      -0.104764  0.345877  \n",
      "caa       0.151832 -0.391724  \n",
      "thall     1.000000 -0.344029  \n",
      "output   -0.344029  1.000000  \n"
     ]
    }
   ],
   "source": [
    "# Calcular la matriz de correlación\n",
    "correlation_matrix = df.corr()\n",
    "\n",
    "# Mostrar la matriz de correlación\n",
    "print(\"Matriz de correlación:\")\n",
    "print(correlation_matrix)\n"
   ]
  },
  {
   "cell_type": "code",
   "execution_count": 78,
   "id": "6def76b3-8340-413c-9a4f-7b7329799b9a",
   "metadata": {
    "tags": []
   },
   "outputs": [
    {
     "data": {
      "image/png": "[encoded data removed]",
      "text/plain": [
       "<Figure size 1200x900 with 2 Axes>"
      ]
     },
     "metadata": {},
     "output_type": "display_data"
    }
   ],
   "source": [
    "import seaborn as sns\n",
    "import matplotlib.pyplot as plt\n",
    "#correlation matrix\n",
    "corrmat = df.corr()\n",
    "f, ax = plt.subplots(figsize=(12, 9))\n",
    "sns.heatmap(corrmat, vmax=.8, square=True);"
   ]
  },
  {
   "cell_type": "markdown",
   "id": "0503d30a-05a9-498e-812b-2c7dc3af120a",
   "metadata": {
    "tags": []
   },
   "source": [
    "## 2. Preparación de los datos"
   ]
  },
  {
   "cell_type": "code",
   "execution_count": 5,
   "id": "f90161b7-0408-4ab8-a597-f122338fdd1f",
   "metadata": {},
   "outputs": [
    {
     "name": "stdout",
     "output_type": "stream",
     "text": [
      "Primeros 5 datos de X:\n",
      "[[ 63.    1.    3.  145.  233.    1.    0.  150.    0.    2.3   0.    0.\n",
      "    1. ]\n",
      " [ 37.    1.    2.  130.  250.    0.    1.  187.    0.    3.5   0.    0.\n",
      "    2. ]\n",
      " [ 41.    0.    1.  130.  204.    0.    0.  172.    0.    1.4   2.    0.\n",
      "    2. ]\n",
      " [ 56.    1.    1.  120.  236.    0.    1.  178.    0.    0.8   2.    0.\n",
      "    2. ]\n",
      " [ 57.    0.    0.  120.  354.    0.    1.  163.    1.    0.6   2.    0.\n",
      "    2. ]]\n",
      "\n",
      "Datos de y:\n",
      "[1 1 1 1 1 1 1 1 1 1 1 1 1 1 1 1 1 1 1 1 1 1 1 1 1 1 1 1 1 1 1 1 1 1 1 1 1\n",
      " 1 1 1 1 1 1 1 1 1 1 1 1 1 1 1 1 1 1 1 1 1 1 1 1 1 1 1 1 1 1 1 1 1 1 1 1 1\n",
      " 1 1 1 1 1 1 1 1 1 1 1 1 1 1 1 1 1 1 1 1 1 1 1 1 1 1 1 1 1 1 1 1 1 1 1 1 1\n",
      " 1 1 1 1 1 1 1 1 1 1 1 1 1 1 1 1 1 1 1 1 1 1 1 1 1 1 1 1 1 1 1 1 1 1 1 1 1\n",
      " 1 1 1 1 1 1 1 1 1 1 1 1 1 1 1 1 1 0 0 0 0 0 0 0 0 0 0 0 0 0 0 0 0 0 0 0 0\n",
      " 0 0 0 0 0 0 0 0 0 0 0 0 0 0 0 0 0 0 0 0 0 0 0 0 0 0 0 0 0 0 0 0 0 0 0 0 0\n",
      " 0 0 0 0 0 0 0 0 0 0 0 0 0 0 0 0 0 0 0 0 0 0 0 0 0 0 0 0 0 0 0 0 0 0 0 0 0\n",
      " 0 0 0 0 0 0 0 0 0 0 0 0 0 0 0 0 0 0 0 0 0 0 0 0 0 0 0 0 0 0 0 0 0 0 0 0 0\n",
      " 0 0 0 0 0 0 0]\n"
     ]
    }
   ],
   "source": [
    "import numpy as np\n",
    "from sklearn.preprocessing import StandardScaler\n",
    "\n",
    "X = df.iloc[:, :-1].values\n",
    "y = df.iloc[:, -1].values\n",
    "\n",
    "# Imprimir los primeros 5 datos de X y y\n",
    "print(\"Primeros 5 datos de X:\")\n",
    "print(X[:5])  # Muestra las primeras 5 filas de X\n",
    "\n",
    "print(\"\\nDatos de y:\")\n",
    "print(y[:400])\n",
    "\n",
    "# Normalización de los datos\n",
    "scaler = StandardScaler()\n",
    "X_scaled = scaler.fit_transform(X)\n",
    "X=X_scaled"
   ]
  },
  {
   "cell_type": "code",
   "execution_count": 111,
   "id": "c5b9c2c1-c13b-4cfe-8391-4c9109ee22a5",
   "metadata": {
    "tags": []
   },
   "outputs": [
    {
     "data": {
      "image/png": "[encoded data removed]",
      "text/plain": [
       "<Figure size 1000x600 with 1 Axes>"
      ]
     },
     "metadata": {},
     "output_type": "display_data"
    },
    {
     "name": "stdout",
     "output_type": "stream",
     "text": [
      "output\n",
      "1    165\n",
      "0    138\n",
      "Name: count, dtype: int64\n"
     ]
    }
   ],
   "source": [
    "import matplotlib.pyplot as plt\n",
    "import seaborn as sns\n",
    "\n",
    "# Contar el número de muestras por cada valor de la columna 'output'\n",
    "clases_count = df['output'].value_counts()\n",
    "\n",
    "# Crear el gráfico de barras\n",
    "plt.figure(figsize=(10, 6))\n",
    "sns.barplot(x=clases_count.index, y=clases_count.values, palette='viridis')\n",
    "plt.title('Número de muestras por clase')\n",
    "plt.xlabel('Clase')\n",
    "plt.ylabel('Número de muestras')\n",
    "plt.xticks(rotation=0)  # Ajusta la rotación según necesidad\n",
    "plt.show()\n",
    "\n",
    "\n",
    "# Imprimir el conteo de muestras por clase\n",
    "print(clases_count)"
   ]
  },
  {
   "cell_type": "markdown",
   "id": "99dbf166-0082-4558-8e7c-9bfd0543e49c",
   "metadata": {
    "tags": []
   },
   "source": [
    "## 3. Modelos de predicción\n",
    "\n",
    "En esta sección, entrenaremos y evaluaremos varios modelos de aprendizaje automático para la predicción de ataques cardíacos utilizando la validación cruzada estratificada. Los modelos que se probarán son:"
   ]
  },
  {
   "cell_type": "code",
   "execution_count": 169,
   "id": "b4dddcb1-6f9c-4858-88ba-5a81817c3a1f",
   "metadata": {
    "tags": []
   },
   "outputs": [],
   "source": [
    "import time\n",
    "import pandas as pd\n",
    "from sklearn.ensemble import RandomForestClassifier\n",
    "from sklearn.model_selection import StratifiedKFold\n",
    "from sklearn.metrics import classification_report\n",
    "\n",
    "def evaluate_model(model, model_name, X, y, n_splits=10):\n",
    "\n",
    "\n",
    "    # Preparar la validación cruzada estratificada\n",
    "    skf = StratifiedKFold(n_splits=n_splits, shuffle=True, random_state=1)\n",
    "    scores = []\n",
    "    times = []\n",
    "\n",
    "    # Validación cruzada\n",
    "    for train_index, test_index in skf.split(X, y):\n",
    "        X_train, X_test = X[train_index], X[test_index]\n",
    "        y_train, y_test = y[train_index], y[test_index]\n",
    "        \n",
    "        start_time = time.time()\n",
    "        # Entrenamiento del modelo\n",
    "        model.fit(X_train, y_train)\n",
    "        end_time = time.time()\n",
    "        \n",
    "        y_pred = model.predict(X_test)\n",
    "        \n",
    "        # Evaluación del modelo\n",
    "        report = classification_report(y_test, y_pred, output_dict=True)\n",
    "        scores.append(report['weighted avg'])\n",
    "        times.append(end_time - start_time)\n",
    "    \n",
    "    # Almacenar resultados en un diccionario\n",
    "    results = {\n",
    "        'Modelo': model_name,\n",
    "        'Precisión': np.mean([score['precision'] for score in scores]),\n",
    "        'Recall': np.mean([score['recall'] for score in scores]),\n",
    "        'F1-score': np.mean([score['f1-score'] for score in scores]),\n",
    "        'Tiempo de ejecución': np.mean(times)\n",
    "    }\n",
    "    return results\n"
   ]
  },
  {
   "cell_type": "markdown",
   "id": "ad8bba64-acdf-420a-942b-4935430cb624",
   "metadata": {},
   "source": [
    "### 3.1 Funciones Discriminantes Gaussianas (QuadraticDiscriminantAnalysis)\n",
    "\n",
    "En esta subsección, evaluaremos el modelo QuadraticDiscriminantAnalysis (QDA) de scikit-learn, el cual es una implementación de las Funciones Discriminantes Gaussianas. A diferencia del Análisis Discriminante Lineal (LDA), el QDA no asume que las matrices de covarianza sean iguales para todas las clases, lo que permite una mayor flexibilidad en la modelización de los datos."
   ]
  },
  {
   "cell_type": "code",
   "execution_count": 161,
   "id": "fd18c853-f3e5-4110-baae-2acb731c3d49",
   "metadata": {
    "tags": []
   },
   "outputs": [
    {
     "data": {
      "text/html": [
       "<div>\n",
       "<style scoped>\n",
       "    .dataframe tbody tr th:only-of-type {\n",
       "        vertical-align: middle;\n",
       "    }\n",
       "\n",
       "    .dataframe tbody tr th {\n",
       "        vertical-align: top;\n",
       "    }\n",
       "\n",
       "    .dataframe thead th {\n",
       "        text-align: right;\n",
       "    }\n",
       "</style>\n",
       "<table border=\"1\" class=\"dataframe\">\n",
       "  <thead>\n",
       "    <tr style=\"text-align: right;\">\n",
       "      <th></th>\n",
       "      <th>Modelo</th>\n",
       "      <th>Precisión</th>\n",
       "      <th>Recall</th>\n",
       "      <th>F1-score</th>\n",
       "      <th>Tiempo de ejecución</th>\n",
       "    </tr>\n",
       "  </thead>\n",
       "  <tbody>\n",
       "    <tr>\n",
       "      <th>6</th>\n",
       "      <td>QDA reg_param=0.3</td>\n",
       "      <td>0.843524</td>\n",
       "      <td>0.835161</td>\n",
       "      <td>0.833376</td>\n",
       "      <td>0.000641</td>\n",
       "    </tr>\n",
       "    <tr>\n",
       "      <th>7</th>\n",
       "      <td>QDA reg_param=0.4</td>\n",
       "      <td>0.836857</td>\n",
       "      <td>0.828495</td>\n",
       "      <td>0.826717</td>\n",
       "      <td>0.000725</td>\n",
       "    </tr>\n",
       "    <tr>\n",
       "      <th>9</th>\n",
       "      <td>QDA reg_param=0.6</td>\n",
       "      <td>0.839287</td>\n",
       "      <td>0.828387</td>\n",
       "      <td>0.825439</td>\n",
       "      <td>0.000853</td>\n",
       "    </tr>\n",
       "    <tr>\n",
       "      <th>10</th>\n",
       "      <td>QDA reg_param=0.7</td>\n",
       "      <td>0.839287</td>\n",
       "      <td>0.828387</td>\n",
       "      <td>0.825439</td>\n",
       "      <td>0.000758</td>\n",
       "    </tr>\n",
       "    <tr>\n",
       "      <th>8</th>\n",
       "      <td>QDA reg_param=0.5</td>\n",
       "      <td>0.835332</td>\n",
       "      <td>0.825161</td>\n",
       "      <td>0.822501</td>\n",
       "      <td>0.000836</td>\n",
       "    </tr>\n",
       "    <tr>\n",
       "      <th>4</th>\n",
       "      <td>QDA reg_param=0.1</td>\n",
       "      <td>0.828302</td>\n",
       "      <td>0.822258</td>\n",
       "      <td>0.821242</td>\n",
       "      <td>0.000815</td>\n",
       "    </tr>\n",
       "    <tr>\n",
       "      <th>5</th>\n",
       "      <td>QDA reg_param=0.2</td>\n",
       "      <td>0.829658</td>\n",
       "      <td>0.822258</td>\n",
       "      <td>0.820748</td>\n",
       "      <td>0.000756</td>\n",
       "    </tr>\n",
       "    <tr>\n",
       "      <th>11</th>\n",
       "      <td>QDA reg_param=0.8</td>\n",
       "      <td>0.831520</td>\n",
       "      <td>0.818387</td>\n",
       "      <td>0.814649</td>\n",
       "      <td>0.000772</td>\n",
       "    </tr>\n",
       "    <tr>\n",
       "      <th>12</th>\n",
       "      <td>QDA reg_param=0.9</td>\n",
       "      <td>0.828440</td>\n",
       "      <td>0.815269</td>\n",
       "      <td>0.811712</td>\n",
       "      <td>0.000761</td>\n",
       "    </tr>\n",
       "    <tr>\n",
       "      <th>13</th>\n",
       "      <td>QDA reg_param=1</td>\n",
       "      <td>0.823150</td>\n",
       "      <td>0.811828</td>\n",
       "      <td>0.808685</td>\n",
       "      <td>0.000773</td>\n",
       "    </tr>\n",
       "    <tr>\n",
       "      <th>3</th>\n",
       "      <td>QDA reg_param=0.05</td>\n",
       "      <td>0.814720</td>\n",
       "      <td>0.808925</td>\n",
       "      <td>0.808235</td>\n",
       "      <td>0.003100</td>\n",
       "    </tr>\n",
       "    <tr>\n",
       "      <th>1</th>\n",
       "      <td>QDA reg_param=0.01</td>\n",
       "      <td>0.807936</td>\n",
       "      <td>0.802366</td>\n",
       "      <td>0.801787</td>\n",
       "      <td>0.001178</td>\n",
       "    </tr>\n",
       "    <tr>\n",
       "      <th>2</th>\n",
       "      <td>QDA reg_param=0.02</td>\n",
       "      <td>0.807936</td>\n",
       "      <td>0.802366</td>\n",
       "      <td>0.801787</td>\n",
       "      <td>0.001354</td>\n",
       "    </tr>\n",
       "    <tr>\n",
       "      <th>0</th>\n",
       "      <td>QDA reg_param=0.0</td>\n",
       "      <td>0.800524</td>\n",
       "      <td>0.795806</td>\n",
       "      <td>0.795237</td>\n",
       "      <td>0.001453</td>\n",
       "    </tr>\n",
       "  </tbody>\n",
       "</table>\n",
       "</div>"
      ],
      "text/plain": [
       "                Modelo  Precisión    Recall  F1-score  Tiempo de ejecución\n",
       "6    QDA reg_param=0.3   0.843524  0.835161  0.833376             0.000641\n",
       "7    QDA reg_param=0.4   0.836857  0.828495  0.826717             0.000725\n",
       "9    QDA reg_param=0.6   0.839287  0.828387  0.825439             0.000853\n",
       "10   QDA reg_param=0.7   0.839287  0.828387  0.825439             0.000758\n",
       "8    QDA reg_param=0.5   0.835332  0.825161  0.822501             0.000836\n",
       "4    QDA reg_param=0.1   0.828302  0.822258  0.821242             0.000815\n",
       "5    QDA reg_param=0.2   0.829658  0.822258  0.820748             0.000756\n",
       "11   QDA reg_param=0.8   0.831520  0.818387  0.814649             0.000772\n",
       "12   QDA reg_param=0.9   0.828440  0.815269  0.811712             0.000761\n",
       "13     QDA reg_param=1   0.823150  0.811828  0.808685             0.000773\n",
       "3   QDA reg_param=0.05   0.814720  0.808925  0.808235             0.003100\n",
       "1   QDA reg_param=0.01   0.807936  0.802366  0.801787             0.001178\n",
       "2   QDA reg_param=0.02   0.807936  0.802366  0.801787             0.001354\n",
       "0    QDA reg_param=0.0   0.800524  0.795806  0.795237             0.001453"
      ]
     },
     "execution_count": 161,
     "metadata": {},
     "output_type": "execute_result"
    }
   ],
   "source": [
    "# Valores de reg_param para probar\n",
    "reg_params = [0.0, 0.01, 0.02, 0.05, 0.1, 0.2,0.3, 0.4, 0.5 ,0.6 , 0.7,0.8,0.9,1]\n",
    "results = []\n",
    "\n",
    "# Probar diferentes valores de reg_param\n",
    "for reg in reg_params:\n",
    "    model = QuadraticDiscriminantAnalysis(reg_param=reg)\n",
    "    model_results = evaluate_model(model, f\"QDA reg_param={reg}\", X, y)\n",
    "    results.append(model_results)\n",
    "\n",
    "# Crear DataFrame para mostrar los resultados en una tabla\n",
    "results_df = pd.DataFrame(results)\n",
    "\n",
    "# Ordenar el DataFrame por F1-score en orden descendente para ver la mejor combinación al principio\n",
    "best_result = results_df.sort_values(by='F1-score', ascending=False)\n",
    "best_result"
   ]
  },
  {
   "cell_type": "markdown",
   "id": "97526388-7b0a-4106-9813-afbaef6101ea",
   "metadata": {},
   "source": [
    "### 3.2 Modelo K-Nearest Neighbors (KNN)"
   ]
  },
  {
   "cell_type": "code",
   "execution_count": 162,
   "id": "9af5e40d-cc2f-49a6-89ec-50f9d0384f80",
   "metadata": {
    "tags": []
   },
   "outputs": [
    {
     "data": {
      "text/html": [
       "<div>\n",
       "<style scoped>\n",
       "    .dataframe tbody tr th:only-of-type {\n",
       "        vertical-align: middle;\n",
       "    }\n",
       "\n",
       "    .dataframe tbody tr th {\n",
       "        vertical-align: top;\n",
       "    }\n",
       "\n",
       "    .dataframe thead th {\n",
       "        text-align: right;\n",
       "    }\n",
       "</style>\n",
       "<table border=\"1\" class=\"dataframe\">\n",
       "  <thead>\n",
       "    <tr style=\"text-align: right;\">\n",
       "      <th></th>\n",
       "      <th>Modelo</th>\n",
       "      <th>Precisión</th>\n",
       "      <th>Recall</th>\n",
       "      <th>F1-score</th>\n",
       "      <th>Tiempo de ejecución</th>\n",
       "    </tr>\n",
       "  </thead>\n",
       "  <tbody>\n",
       "    <tr>\n",
       "      <th>4</th>\n",
       "      <td>KNN n_neighbors=11</td>\n",
       "      <td>0.848241</td>\n",
       "      <td>0.834946</td>\n",
       "      <td>0.832498</td>\n",
       "      <td>0.000574</td>\n",
       "    </tr>\n",
       "    <tr>\n",
       "      <th>6</th>\n",
       "      <td>KNN n_neighbors=15</td>\n",
       "      <td>0.850125</td>\n",
       "      <td>0.835161</td>\n",
       "      <td>0.831915</td>\n",
       "      <td>0.000602</td>\n",
       "    </tr>\n",
       "    <tr>\n",
       "      <th>5</th>\n",
       "      <td>KNN n_neighbors=13</td>\n",
       "      <td>0.851659</td>\n",
       "      <td>0.835161</td>\n",
       "      <td>0.831634</td>\n",
       "      <td>0.000563</td>\n",
       "    </tr>\n",
       "    <tr>\n",
       "      <th>2</th>\n",
       "      <td>KNN n_neighbors=7</td>\n",
       "      <td>0.838965</td>\n",
       "      <td>0.828495</td>\n",
       "      <td>0.826528</td>\n",
       "      <td>0.001266</td>\n",
       "    </tr>\n",
       "    <tr>\n",
       "      <th>9</th>\n",
       "      <td>KNN n_neighbors=21</td>\n",
       "      <td>0.849924</td>\n",
       "      <td>0.828602</td>\n",
       "      <td>0.823132</td>\n",
       "      <td>0.000526</td>\n",
       "    </tr>\n",
       "    <tr>\n",
       "      <th>14</th>\n",
       "      <td>KNN n_neighbors=31</td>\n",
       "      <td>0.848080</td>\n",
       "      <td>0.828602</td>\n",
       "      <td>0.823055</td>\n",
       "      <td>0.000517</td>\n",
       "    </tr>\n",
       "    <tr>\n",
       "      <th>7</th>\n",
       "      <td>KNN n_neighbors=17</td>\n",
       "      <td>0.840954</td>\n",
       "      <td>0.825269</td>\n",
       "      <td>0.821390</td>\n",
       "      <td>0.000582</td>\n",
       "    </tr>\n",
       "    <tr>\n",
       "      <th>8</th>\n",
       "      <td>KNN n_neighbors=19</td>\n",
       "      <td>0.842948</td>\n",
       "      <td>0.825376</td>\n",
       "      <td>0.820818</td>\n",
       "      <td>0.000536</td>\n",
       "    </tr>\n",
       "    <tr>\n",
       "      <th>13</th>\n",
       "      <td>KNN n_neighbors=29</td>\n",
       "      <td>0.844398</td>\n",
       "      <td>0.825269</td>\n",
       "      <td>0.819891</td>\n",
       "      <td>0.000544</td>\n",
       "    </tr>\n",
       "    <tr>\n",
       "      <th>3</th>\n",
       "      <td>KNN n_neighbors=9</td>\n",
       "      <td>0.832849</td>\n",
       "      <td>0.821720</td>\n",
       "      <td>0.819357</td>\n",
       "      <td>0.001093</td>\n",
       "    </tr>\n",
       "    <tr>\n",
       "      <th>0</th>\n",
       "      <td>KNN n_neighbors=3</td>\n",
       "      <td>0.821741</td>\n",
       "      <td>0.818602</td>\n",
       "      <td>0.817755</td>\n",
       "      <td>0.001861</td>\n",
       "    </tr>\n",
       "    <tr>\n",
       "      <th>1</th>\n",
       "      <td>KNN n_neighbors=5</td>\n",
       "      <td>0.823688</td>\n",
       "      <td>0.815376</td>\n",
       "      <td>0.813836</td>\n",
       "      <td>0.000806</td>\n",
       "    </tr>\n",
       "    <tr>\n",
       "      <th>17</th>\n",
       "      <td>KNN n_neighbors=37</td>\n",
       "      <td>0.836852</td>\n",
       "      <td>0.818710</td>\n",
       "      <td>0.813331</td>\n",
       "      <td>0.000531</td>\n",
       "    </tr>\n",
       "    <tr>\n",
       "      <th>12</th>\n",
       "      <td>KNN n_neighbors=27</td>\n",
       "      <td>0.836441</td>\n",
       "      <td>0.818710</td>\n",
       "      <td>0.813262</td>\n",
       "      <td>0.000525</td>\n",
       "    </tr>\n",
       "    <tr>\n",
       "      <th>18</th>\n",
       "      <td>KNN n_neighbors=41</td>\n",
       "      <td>0.838157</td>\n",
       "      <td>0.818710</td>\n",
       "      <td>0.813046</td>\n",
       "      <td>0.000528</td>\n",
       "    </tr>\n",
       "    <tr>\n",
       "      <th>10</th>\n",
       "      <td>KNN n_neighbors=23</td>\n",
       "      <td>0.839872</td>\n",
       "      <td>0.818817</td>\n",
       "      <td>0.812882</td>\n",
       "      <td>0.000543</td>\n",
       "    </tr>\n",
       "    <tr>\n",
       "      <th>11</th>\n",
       "      <td>KNN n_neighbors=25</td>\n",
       "      <td>0.838289</td>\n",
       "      <td>0.818710</td>\n",
       "      <td>0.812827</td>\n",
       "      <td>0.000506</td>\n",
       "    </tr>\n",
       "    <tr>\n",
       "      <th>15</th>\n",
       "      <td>KNN n_neighbors=33</td>\n",
       "      <td>0.839993</td>\n",
       "      <td>0.818602</td>\n",
       "      <td>0.812714</td>\n",
       "      <td>0.000535</td>\n",
       "    </tr>\n",
       "    <tr>\n",
       "      <th>16</th>\n",
       "      <td>KNN n_neighbors=35</td>\n",
       "      <td>0.834049</td>\n",
       "      <td>0.815376</td>\n",
       "      <td>0.809979</td>\n",
       "      <td>0.000544</td>\n",
       "    </tr>\n",
       "    <tr>\n",
       "      <th>19</th>\n",
       "      <td>KNN n_neighbors=43</td>\n",
       "      <td>0.831843</td>\n",
       "      <td>0.812151</td>\n",
       "      <td>0.806515</td>\n",
       "      <td>0.000534</td>\n",
       "    </tr>\n",
       "  </tbody>\n",
       "</table>\n",
       "</div>"
      ],
      "text/plain": [
       "                Modelo  Precisión    Recall  F1-score  Tiempo de ejecución\n",
       "4   KNN n_neighbors=11   0.848241  0.834946  0.832498             0.000574\n",
       "6   KNN n_neighbors=15   0.850125  0.835161  0.831915             0.000602\n",
       "5   KNN n_neighbors=13   0.851659  0.835161  0.831634             0.000563\n",
       "2    KNN n_neighbors=7   0.838965  0.828495  0.826528             0.001266\n",
       "9   KNN n_neighbors=21   0.849924  0.828602  0.823132             0.000526\n",
       "14  KNN n_neighbors=31   0.848080  0.828602  0.823055             0.000517\n",
       "7   KNN n_neighbors=17   0.840954  0.825269  0.821390             0.000582\n",
       "8   KNN n_neighbors=19   0.842948  0.825376  0.820818             0.000536\n",
       "13  KNN n_neighbors=29   0.844398  0.825269  0.819891             0.000544\n",
       "3    KNN n_neighbors=9   0.832849  0.821720  0.819357             0.001093\n",
       "0    KNN n_neighbors=3   0.821741  0.818602  0.817755             0.001861\n",
       "1    KNN n_neighbors=5   0.823688  0.815376  0.813836             0.000806\n",
       "17  KNN n_neighbors=37   0.836852  0.818710  0.813331             0.000531\n",
       "12  KNN n_neighbors=27   0.836441  0.818710  0.813262             0.000525\n",
       "18  KNN n_neighbors=41   0.838157  0.818710  0.813046             0.000528\n",
       "10  KNN n_neighbors=23   0.839872  0.818817  0.812882             0.000543\n",
       "11  KNN n_neighbors=25   0.838289  0.818710  0.812827             0.000506\n",
       "15  KNN n_neighbors=33   0.839993  0.818602  0.812714             0.000535\n",
       "16  KNN n_neighbors=35   0.834049  0.815376  0.809979             0.000544\n",
       "19  KNN n_neighbors=43   0.831843  0.812151  0.806515             0.000534"
      ]
     },
     "execution_count": 162,
     "metadata": {},
     "output_type": "execute_result"
    }
   ],
   "source": [
    "# Lista de números de vecinos para probar\n",
    "n_neighbors_list = [3, 5, 7, 9, 11, 13, 15, 17, 19, 21, 23, 25, 27, 29, 31,33,35,37,41,43]\n",
    "results = []\n",
    "\n",
    "# Probar diferentes valores de n_neighbors\n",
    "for neighbors in n_neighbors_list:\n",
    "    model = KNeighborsClassifier(n_neighbors=neighbors)\n",
    "    model_results = evaluate_model(model, f\"KNN n_neighbors={neighbors}\", X, y)\n",
    "    results.append(model_results)\n",
    "\n",
    "# Crear DataFrame para mostrar los resultados en una tabla\n",
    "results_df = pd.DataFrame(results)\n",
    "results_df\n",
    "\n",
    "# Ordenar el DataFrame por F1-score en orden descendente para ver la mejor combinación al principio\n",
    "best_result = results_df.sort_values(by='F1-score', ascending=False)\n",
    "best_result"
   ]
  },
  {
   "cell_type": "markdown",
   "id": "1c20c552-1a83-4d35-8873-caa423bfbf3a",
   "metadata": {},
   "source": [
    "### 3.3 Modelo Random Forest"
   ]
  },
  {
   "cell_type": "code",
   "execution_count": 134,
   "id": "c6b1cd18-3ac8-48af-bad8-bb3dd5635d18",
   "metadata": {
    "tags": []
   },
   "outputs": [
    {
     "data": {
      "text/html": [
       "<div>\n",
       "<style scoped>\n",
       "    .dataframe tbody tr th:only-of-type {\n",
       "        vertical-align: middle;\n",
       "    }\n",
       "\n",
       "    .dataframe tbody tr th {\n",
       "        vertical-align: top;\n",
       "    }\n",
       "\n",
       "    .dataframe thead th {\n",
       "        text-align: right;\n",
       "    }\n",
       "</style>\n",
       "<table border=\"1\" class=\"dataframe\">\n",
       "  <thead>\n",
       "    <tr style=\"text-align: right;\">\n",
       "      <th></th>\n",
       "      <th>Modelo</th>\n",
       "      <th>Precisión</th>\n",
       "      <th>Recall</th>\n",
       "      <th>F1-score</th>\n",
       "      <th>Tiempo de ejecución</th>\n",
       "    </tr>\n",
       "  </thead>\n",
       "  <tbody>\n",
       "    <tr>\n",
       "      <th>349</th>\n",
       "      <td>RF_n=30_depth=9_criterion=entropy</td>\n",
       "      <td>0.858345</td>\n",
       "      <td>0.847957</td>\n",
       "      <td>0.846163</td>\n",
       "      <td>0.033536</td>\n",
       "    </tr>\n",
       "    <tr>\n",
       "      <th>335</th>\n",
       "      <td>RF_n=30_depth=2_criterion=entropy</td>\n",
       "      <td>0.858703</td>\n",
       "      <td>0.848280</td>\n",
       "      <td>0.845859</td>\n",
       "      <td>0.029150</td>\n",
       "    </tr>\n",
       "    <tr>\n",
       "      <th>419</th>\n",
       "      <td>RF_n=50_depth=50_criterion=entropy</td>\n",
       "      <td>0.855491</td>\n",
       "      <td>0.844731</td>\n",
       "      <td>0.843051</td>\n",
       "      <td>0.077160</td>\n",
       "    </tr>\n",
       "    <tr>\n",
       "      <th>391</th>\n",
       "      <td>RF_n=50_depth=None_criterion=entropy</td>\n",
       "      <td>0.855491</td>\n",
       "      <td>0.844731</td>\n",
       "      <td>0.843051</td>\n",
       "      <td>0.054466</td>\n",
       "    </tr>\n",
       "    <tr>\n",
       "      <th>417</th>\n",
       "      <td>RF_n=50_depth=40_criterion=entropy</td>\n",
       "      <td>0.855491</td>\n",
       "      <td>0.844731</td>\n",
       "      <td>0.843051</td>\n",
       "      <td>0.080417</td>\n",
       "    </tr>\n",
       "    <tr>\n",
       "      <th>415</th>\n",
       "      <td>RF_n=50_depth=30_criterion=entropy</td>\n",
       "      <td>0.855491</td>\n",
       "      <td>0.844731</td>\n",
       "      <td>0.843051</td>\n",
       "      <td>0.069704</td>\n",
       "    </tr>\n",
       "    <tr>\n",
       "      <th>413</th>\n",
       "      <td>RF_n=50_depth=20_criterion=entropy</td>\n",
       "      <td>0.855491</td>\n",
       "      <td>0.844731</td>\n",
       "      <td>0.843051</td>\n",
       "      <td>0.059277</td>\n",
       "    </tr>\n",
       "    <tr>\n",
       "      <th>395</th>\n",
       "      <td>RF_n=50_depth=2_criterion=entropy</td>\n",
       "      <td>0.854198</td>\n",
       "      <td>0.844839</td>\n",
       "      <td>0.842871</td>\n",
       "      <td>0.048506</td>\n",
       "    </tr>\n",
       "    <tr>\n",
       "      <th>381</th>\n",
       "      <td>RF_n=40_depth=10_criterion=entropy</td>\n",
       "      <td>0.849055</td>\n",
       "      <td>0.841290</td>\n",
       "      <td>0.840060</td>\n",
       "      <td>0.047563</td>\n",
       "    </tr>\n",
       "    <tr>\n",
       "      <th>283</th>\n",
       "      <td>RF_n=10_depth=6_criterion=entropy</td>\n",
       "      <td>0.852759</td>\n",
       "      <td>0.841505</td>\n",
       "      <td>0.840010</td>\n",
       "      <td>0.011133</td>\n",
       "    </tr>\n",
       "    <tr>\n",
       "      <th>336</th>\n",
       "      <td>RF_n=30_depth=3_criterion=gini</td>\n",
       "      <td>0.848921</td>\n",
       "      <td>0.841398</td>\n",
       "      <td>0.839623</td>\n",
       "      <td>0.029963</td>\n",
       "    </tr>\n",
       "    <tr>\n",
       "      <th>394</th>\n",
       "      <td>RF_n=50_depth=2_criterion=gini</td>\n",
       "      <td>0.851087</td>\n",
       "      <td>0.841505</td>\n",
       "      <td>0.839563</td>\n",
       "      <td>0.047617</td>\n",
       "    </tr>\n",
       "    <tr>\n",
       "      <th>365</th>\n",
       "      <td>RF_n=40_depth=2_criterion=entropy</td>\n",
       "      <td>0.852976</td>\n",
       "      <td>0.841613</td>\n",
       "      <td>0.839432</td>\n",
       "      <td>0.043481</td>\n",
       "    </tr>\n",
       "    <tr>\n",
       "      <th>351</th>\n",
       "      <td>RF_n=30_depth=10_criterion=entropy</td>\n",
       "      <td>0.849437</td>\n",
       "      <td>0.841290</td>\n",
       "      <td>0.839423</td>\n",
       "      <td>0.033127</td>\n",
       "    </tr>\n",
       "    <tr>\n",
       "      <th>334</th>\n",
       "      <td>RF_n=30_depth=2_criterion=gini</td>\n",
       "      <td>0.854095</td>\n",
       "      <td>0.841720</td>\n",
       "      <td>0.839154</td>\n",
       "      <td>0.032691</td>\n",
       "    </tr>\n",
       "    <tr>\n",
       "      <th>165</th>\n",
       "      <td>RF_n=6_depth=7_criterion=entropy</td>\n",
       "      <td>0.845240</td>\n",
       "      <td>0.838495</td>\n",
       "      <td>0.837397</td>\n",
       "      <td>0.007092</td>\n",
       "    </tr>\n",
       "    <tr>\n",
       "      <th>409</th>\n",
       "      <td>RF_n=50_depth=9_criterion=entropy</td>\n",
       "      <td>0.850832</td>\n",
       "      <td>0.838602</td>\n",
       "      <td>0.836816</td>\n",
       "      <td>0.055422</td>\n",
       "    </tr>\n",
       "    <tr>\n",
       "      <th>317</th>\n",
       "      <td>RF_n=20_depth=8_criterion=entropy</td>\n",
       "      <td>0.847282</td>\n",
       "      <td>0.837957</td>\n",
       "      <td>0.836774</td>\n",
       "      <td>0.024646</td>\n",
       "    </tr>\n",
       "    <tr>\n",
       "      <th>306</th>\n",
       "      <td>RF_n=20_depth=3_criterion=gini</td>\n",
       "      <td>0.845465</td>\n",
       "      <td>0.838065</td>\n",
       "      <td>0.836657</td>\n",
       "      <td>0.027759</td>\n",
       "    </tr>\n",
       "    <tr>\n",
       "      <th>347</th>\n",
       "      <td>RF_n=30_depth=8_criterion=entropy</td>\n",
       "      <td>0.847871</td>\n",
       "      <td>0.838065</td>\n",
       "      <td>0.836383</td>\n",
       "      <td>0.032772</td>\n",
       "    </tr>\n",
       "    <tr>\n",
       "      <th>329</th>\n",
       "      <td>RF_n=20_depth=50_criterion=entropy</td>\n",
       "      <td>0.849688</td>\n",
       "      <td>0.837957</td>\n",
       "      <td>0.836234</td>\n",
       "      <td>0.027089</td>\n",
       "    </tr>\n",
       "    <tr>\n",
       "      <th>301</th>\n",
       "      <td>RF_n=20_depth=None_criterion=entropy</td>\n",
       "      <td>0.849688</td>\n",
       "      <td>0.837957</td>\n",
       "      <td>0.836234</td>\n",
       "      <td>0.034226</td>\n",
       "    </tr>\n",
       "    <tr>\n",
       "      <th>323</th>\n",
       "      <td>RF_n=20_depth=20_criterion=entropy</td>\n",
       "      <td>0.849688</td>\n",
       "      <td>0.837957</td>\n",
       "      <td>0.836234</td>\n",
       "      <td>0.027784</td>\n",
       "    </tr>\n",
       "    <tr>\n",
       "      <th>327</th>\n",
       "      <td>RF_n=20_depth=40_criterion=entropy</td>\n",
       "      <td>0.849688</td>\n",
       "      <td>0.837957</td>\n",
       "      <td>0.836234</td>\n",
       "      <td>0.023744</td>\n",
       "    </tr>\n",
       "    <tr>\n",
       "      <th>325</th>\n",
       "      <td>RF_n=20_depth=30_criterion=entropy</td>\n",
       "      <td>0.849688</td>\n",
       "      <td>0.837957</td>\n",
       "      <td>0.836234</td>\n",
       "      <td>0.024540</td>\n",
       "    </tr>\n",
       "    <tr>\n",
       "      <th>289</th>\n",
       "      <td>RF_n=10_depth=9_criterion=entropy</td>\n",
       "      <td>0.843153</td>\n",
       "      <td>0.834839</td>\n",
       "      <td>0.833915</td>\n",
       "      <td>0.014176</td>\n",
       "    </tr>\n",
       "    <tr>\n",
       "      <th>307</th>\n",
       "      <td>RF_n=20_depth=3_criterion=entropy</td>\n",
       "      <td>0.842067</td>\n",
       "      <td>0.835054</td>\n",
       "      <td>0.833709</td>\n",
       "      <td>0.023742</td>\n",
       "    </tr>\n",
       "    <tr>\n",
       "      <th>379</th>\n",
       "      <td>RF_n=40_depth=9_criterion=entropy</td>\n",
       "      <td>0.846356</td>\n",
       "      <td>0.835054</td>\n",
       "      <td>0.833172</td>\n",
       "      <td>0.047786</td>\n",
       "    </tr>\n",
       "    <tr>\n",
       "      <th>344</th>\n",
       "      <td>RF_n=30_depth=7_criterion=gini</td>\n",
       "      <td>0.846346</td>\n",
       "      <td>0.834839</td>\n",
       "      <td>0.832789</td>\n",
       "      <td>0.035124</td>\n",
       "    </tr>\n",
       "    <tr>\n",
       "      <th>343</th>\n",
       "      <td>RF_n=30_depth=6_criterion=entropy</td>\n",
       "      <td>0.846013</td>\n",
       "      <td>0.834731</td>\n",
       "      <td>0.832690</td>\n",
       "      <td>0.036837</td>\n",
       "    </tr>\n",
       "    <tr>\n",
       "      <th>305</th>\n",
       "      <td>RF_n=20_depth=2_criterion=entropy</td>\n",
       "      <td>0.848725</td>\n",
       "      <td>0.835161</td>\n",
       "      <td>0.832105</td>\n",
       "      <td>0.025287</td>\n",
       "    </tr>\n",
       "    <tr>\n",
       "      <th>259</th>\n",
       "      <td>RF_n=9_depth=9_criterion=entropy</td>\n",
       "      <td>0.839115</td>\n",
       "      <td>0.831828</td>\n",
       "      <td>0.830328</td>\n",
       "      <td>0.010669</td>\n",
       "    </tr>\n",
       "    <tr>\n",
       "      <th>411</th>\n",
       "      <td>RF_n=50_depth=10_criterion=entropy</td>\n",
       "      <td>0.841389</td>\n",
       "      <td>0.831613</td>\n",
       "      <td>0.829975</td>\n",
       "      <td>0.055295</td>\n",
       "    </tr>\n",
       "    <tr>\n",
       "      <th>319</th>\n",
       "      <td>RF_n=20_depth=9_criterion=entropy</td>\n",
       "      <td>0.846360</td>\n",
       "      <td>0.831613</td>\n",
       "      <td>0.829879</td>\n",
       "      <td>0.025403</td>\n",
       "    </tr>\n",
       "    <tr>\n",
       "      <th>337</th>\n",
       "      <td>RF_n=30_depth=3_criterion=entropy</td>\n",
       "      <td>0.839869</td>\n",
       "      <td>0.831720</td>\n",
       "      <td>0.829812</td>\n",
       "      <td>0.036629</td>\n",
       "    </tr>\n",
       "    <tr>\n",
       "      <th>389</th>\n",
       "      <td>RF_n=40_depth=50_criterion=entropy</td>\n",
       "      <td>0.842211</td>\n",
       "      <td>0.831505</td>\n",
       "      <td>0.829592</td>\n",
       "      <td>0.044343</td>\n",
       "    </tr>\n",
       "    <tr>\n",
       "      <th>385</th>\n",
       "      <td>RF_n=40_depth=30_criterion=entropy</td>\n",
       "      <td>0.842211</td>\n",
       "      <td>0.831505</td>\n",
       "      <td>0.829592</td>\n",
       "      <td>0.044146</td>\n",
       "    </tr>\n",
       "    <tr>\n",
       "      <th>361</th>\n",
       "      <td>RF_n=40_depth=None_criterion=entropy</td>\n",
       "      <td>0.842211</td>\n",
       "      <td>0.831505</td>\n",
       "      <td>0.829592</td>\n",
       "      <td>0.044103</td>\n",
       "    </tr>\n",
       "    <tr>\n",
       "      <th>383</th>\n",
       "      <td>RF_n=40_depth=20_criterion=entropy</td>\n",
       "      <td>0.842211</td>\n",
       "      <td>0.831505</td>\n",
       "      <td>0.829592</td>\n",
       "      <td>0.044100</td>\n",
       "    </tr>\n",
       "    <tr>\n",
       "      <th>387</th>\n",
       "      <td>RF_n=40_depth=40_criterion=entropy</td>\n",
       "      <td>0.842211</td>\n",
       "      <td>0.831505</td>\n",
       "      <td>0.829592</td>\n",
       "      <td>0.046470</td>\n",
       "    </tr>\n",
       "    <tr>\n",
       "      <th>355</th>\n",
       "      <td>RF_n=30_depth=30_criterion=entropy</td>\n",
       "      <td>0.843733</td>\n",
       "      <td>0.831505</td>\n",
       "      <td>0.829552</td>\n",
       "      <td>0.033907</td>\n",
       "    </tr>\n",
       "    <tr>\n",
       "      <th>357</th>\n",
       "      <td>RF_n=30_depth=40_criterion=entropy</td>\n",
       "      <td>0.843733</td>\n",
       "      <td>0.831505</td>\n",
       "      <td>0.829552</td>\n",
       "      <td>0.038083</td>\n",
       "    </tr>\n",
       "    <tr>\n",
       "      <th>359</th>\n",
       "      <td>RF_n=30_depth=50_criterion=entropy</td>\n",
       "      <td>0.843733</td>\n",
       "      <td>0.831505</td>\n",
       "      <td>0.829552</td>\n",
       "      <td>0.037911</td>\n",
       "    </tr>\n",
       "    <tr>\n",
       "      <th>353</th>\n",
       "      <td>RF_n=30_depth=20_criterion=entropy</td>\n",
       "      <td>0.843733</td>\n",
       "      <td>0.831505</td>\n",
       "      <td>0.829552</td>\n",
       "      <td>0.034377</td>\n",
       "    </tr>\n",
       "    <tr>\n",
       "      <th>331</th>\n",
       "      <td>RF_n=30_depth=None_criterion=entropy</td>\n",
       "      <td>0.843733</td>\n",
       "      <td>0.831505</td>\n",
       "      <td>0.829552</td>\n",
       "      <td>0.033599</td>\n",
       "    </tr>\n",
       "    <tr>\n",
       "      <th>163</th>\n",
       "      <td>RF_n=6_depth=6_criterion=entropy</td>\n",
       "      <td>0.842742</td>\n",
       "      <td>0.831613</td>\n",
       "      <td>0.829535</td>\n",
       "      <td>0.007204</td>\n",
       "    </tr>\n",
       "    <tr>\n",
       "      <th>396</th>\n",
       "      <td>RF_n=50_depth=3_criterion=gini</td>\n",
       "      <td>0.841053</td>\n",
       "      <td>0.831505</td>\n",
       "      <td>0.829532</td>\n",
       "      <td>0.051011</td>\n",
       "    </tr>\n",
       "    <tr>\n",
       "      <th>407</th>\n",
       "      <td>RF_n=50_depth=8_criterion=entropy</td>\n",
       "      <td>0.842973</td>\n",
       "      <td>0.831398</td>\n",
       "      <td>0.829365</td>\n",
       "      <td>0.054957</td>\n",
       "    </tr>\n",
       "    <tr>\n",
       "      <th>364</th>\n",
       "      <td>RF_n=40_depth=2_criterion=gini</td>\n",
       "      <td>0.844791</td>\n",
       "      <td>0.831720</td>\n",
       "      <td>0.828985</td>\n",
       "      <td>0.040818</td>\n",
       "    </tr>\n",
       "    <tr>\n",
       "      <th>401</th>\n",
       "      <td>RF_n=50_depth=5_criterion=entropy</td>\n",
       "      <td>0.844618</td>\n",
       "      <td>0.831290</td>\n",
       "      <td>0.828959</td>\n",
       "      <td>0.056455</td>\n",
       "    </tr>\n",
       "    <tr>\n",
       "      <th>338</th>\n",
       "      <td>RF_n=30_depth=4_criterion=gini</td>\n",
       "      <td>0.846159</td>\n",
       "      <td>0.831828</td>\n",
       "      <td>0.828739</td>\n",
       "      <td>0.035740</td>\n",
       "    </tr>\n",
       "    <tr>\n",
       "      <th>300</th>\n",
       "      <td>RF_n=20_depth=None_criterion=gini</td>\n",
       "      <td>0.837533</td>\n",
       "      <td>0.828387</td>\n",
       "      <td>0.827204</td>\n",
       "      <td>0.026511</td>\n",
       "    </tr>\n",
       "    <tr>\n",
       "      <th>326</th>\n",
       "      <td>RF_n=20_depth=40_criterion=gini</td>\n",
       "      <td>0.837533</td>\n",
       "      <td>0.828387</td>\n",
       "      <td>0.827204</td>\n",
       "      <td>0.025796</td>\n",
       "    </tr>\n",
       "    <tr>\n",
       "      <th>324</th>\n",
       "      <td>RF_n=20_depth=30_criterion=gini</td>\n",
       "      <td>0.837533</td>\n",
       "      <td>0.828387</td>\n",
       "      <td>0.827204</td>\n",
       "      <td>0.024087</td>\n",
       "    </tr>\n",
       "    <tr>\n",
       "      <th>328</th>\n",
       "      <td>RF_n=20_depth=50_criterion=gini</td>\n",
       "      <td>0.837533</td>\n",
       "      <td>0.828387</td>\n",
       "      <td>0.827204</td>\n",
       "      <td>0.023265</td>\n",
       "    </tr>\n",
       "    <tr>\n",
       "      <th>322</th>\n",
       "      <td>RF_n=20_depth=20_criterion=gini</td>\n",
       "      <td>0.837533</td>\n",
       "      <td>0.828387</td>\n",
       "      <td>0.827204</td>\n",
       "      <td>0.028545</td>\n",
       "    </tr>\n",
       "    <tr>\n",
       "      <th>377</th>\n",
       "      <td>RF_n=40_depth=8_criterion=entropy</td>\n",
       "      <td>0.837630</td>\n",
       "      <td>0.828172</td>\n",
       "      <td>0.826178</td>\n",
       "      <td>0.043757</td>\n",
       "    </tr>\n",
       "    <tr>\n",
       "      <th>366</th>\n",
       "      <td>RF_n=40_depth=3_criterion=gini</td>\n",
       "      <td>0.838173</td>\n",
       "      <td>0.828387</td>\n",
       "      <td>0.826134</td>\n",
       "      <td>0.039888</td>\n",
       "    </tr>\n",
       "    <tr>\n",
       "      <th>404</th>\n",
       "      <td>RF_n=50_depth=7_criterion=gini</td>\n",
       "      <td>0.839678</td>\n",
       "      <td>0.828280</td>\n",
       "      <td>0.826060</td>\n",
       "      <td>0.052878</td>\n",
       "    </tr>\n",
       "    <tr>\n",
       "      <th>341</th>\n",
       "      <td>RF_n=30_depth=5_criterion=entropy</td>\n",
       "      <td>0.841597</td>\n",
       "      <td>0.828172</td>\n",
       "      <td>0.825820</td>\n",
       "      <td>0.031996</td>\n",
       "    </tr>\n",
       "    <tr>\n",
       "      <th>313</th>\n",
       "      <td>RF_n=20_depth=6_criterion=entropy</td>\n",
       "      <td>0.844414</td>\n",
       "      <td>0.828172</td>\n",
       "      <td>0.825657</td>\n",
       "      <td>0.022058</td>\n",
       "    </tr>\n",
       "    <tr>\n",
       "      <th>371</th>\n",
       "      <td>RF_n=40_depth=5_criterion=entropy</td>\n",
       "      <td>0.842518</td>\n",
       "      <td>0.828065</td>\n",
       "      <td>0.825549</td>\n",
       "      <td>0.042034</td>\n",
       "    </tr>\n",
       "    <tr>\n",
       "      <th>368</th>\n",
       "      <td>RF_n=40_depth=4_criterion=gini</td>\n",
       "      <td>0.840906</td>\n",
       "      <td>0.828280</td>\n",
       "      <td>0.825321</td>\n",
       "      <td>0.039972</td>\n",
       "    </tr>\n",
       "    <tr>\n",
       "      <th>318</th>\n",
       "      <td>RF_n=20_depth=9_criterion=gini</td>\n",
       "      <td>0.832720</td>\n",
       "      <td>0.825054</td>\n",
       "      <td>0.823887</td>\n",
       "      <td>0.025141</td>\n",
       "    </tr>\n",
       "    <tr>\n",
       "      <th>261</th>\n",
       "      <td>RF_n=9_depth=10_criterion=entropy</td>\n",
       "      <td>0.830427</td>\n",
       "      <td>0.824946</td>\n",
       "      <td>0.823532</td>\n",
       "      <td>0.011562</td>\n",
       "    </tr>\n",
       "    <tr>\n",
       "      <th>253</th>\n",
       "      <td>RF_n=9_depth=6_criterion=entropy</td>\n",
       "      <td>0.835745</td>\n",
       "      <td>0.825054</td>\n",
       "      <td>0.823156</td>\n",
       "      <td>0.010284</td>\n",
       "    </tr>\n",
       "    <tr>\n",
       "      <th>321</th>\n",
       "      <td>RF_n=20_depth=10_criterion=entropy</td>\n",
       "      <td>0.835052</td>\n",
       "      <td>0.824839</td>\n",
       "      <td>0.823032</td>\n",
       "      <td>0.030192</td>\n",
       "    </tr>\n",
       "    <tr>\n",
       "      <th>372</th>\n",
       "      <td>RF_n=40_depth=6_criterion=gini</td>\n",
       "      <td>0.835486</td>\n",
       "      <td>0.824946</td>\n",
       "      <td>0.822888</td>\n",
       "      <td>0.042393</td>\n",
       "    </tr>\n",
       "    <tr>\n",
       "      <th>314</th>\n",
       "      <td>RF_n=20_depth=7_criterion=gini</td>\n",
       "      <td>0.838366</td>\n",
       "      <td>0.825161</td>\n",
       "      <td>0.822770</td>\n",
       "      <td>0.025308</td>\n",
       "    </tr>\n",
       "    <tr>\n",
       "      <th>374</th>\n",
       "      <td>RF_n=40_depth=7_criterion=gini</td>\n",
       "      <td>0.835262</td>\n",
       "      <td>0.824946</td>\n",
       "      <td>0.822745</td>\n",
       "      <td>0.044092</td>\n",
       "    </tr>\n",
       "    <tr>\n",
       "      <th>375</th>\n",
       "      <td>RF_n=40_depth=7_criterion=entropy</td>\n",
       "      <td>0.841839</td>\n",
       "      <td>0.825161</td>\n",
       "      <td>0.822726</td>\n",
       "      <td>0.043197</td>\n",
       "    </tr>\n",
       "    <tr>\n",
       "      <th>223</th>\n",
       "      <td>RF_n=8_depth=6_criterion=entropy</td>\n",
       "      <td>0.834184</td>\n",
       "      <td>0.824731</td>\n",
       "      <td>0.822685</td>\n",
       "      <td>0.009184</td>\n",
       "    </tr>\n",
       "    <tr>\n",
       "      <th>397</th>\n",
       "      <td>RF_n=50_depth=3_criterion=entropy</td>\n",
       "      <td>0.834998</td>\n",
       "      <td>0.824946</td>\n",
       "      <td>0.822667</td>\n",
       "      <td>0.054300</td>\n",
       "    </tr>\n",
       "    <tr>\n",
       "      <th>405</th>\n",
       "      <td>RF_n=50_depth=7_criterion=entropy</td>\n",
       "      <td>0.840893</td>\n",
       "      <td>0.825054</td>\n",
       "      <td>0.822654</td>\n",
       "      <td>0.053643</td>\n",
       "    </tr>\n",
       "    <tr>\n",
       "      <th>133</th>\n",
       "      <td>RF_n=5_depth=6_criterion=entropy</td>\n",
       "      <td>0.837330</td>\n",
       "      <td>0.825161</td>\n",
       "      <td>0.822450</td>\n",
       "      <td>0.006035</td>\n",
       "    </tr>\n",
       "    <tr>\n",
       "      <th>373</th>\n",
       "      <td>RF_n=40_depth=6_criterion=entropy</td>\n",
       "      <td>0.839753</td>\n",
       "      <td>0.824839</td>\n",
       "      <td>0.822340</td>\n",
       "      <td>0.043200</td>\n",
       "    </tr>\n",
       "    <tr>\n",
       "      <th>403</th>\n",
       "      <td>RF_n=50_depth=6_criterion=entropy</td>\n",
       "      <td>0.839243</td>\n",
       "      <td>0.824946</td>\n",
       "      <td>0.822273</td>\n",
       "      <td>0.053579</td>\n",
       "    </tr>\n",
       "    <tr>\n",
       "      <th>399</th>\n",
       "      <td>RF_n=50_depth=4_criterion=entropy</td>\n",
       "      <td>0.835461</td>\n",
       "      <td>0.824839</td>\n",
       "      <td>0.822163</td>\n",
       "      <td>0.052705</td>\n",
       "    </tr>\n",
       "    <tr>\n",
       "      <th>304</th>\n",
       "      <td>RF_n=20_depth=2_criterion=gini</td>\n",
       "      <td>0.837369</td>\n",
       "      <td>0.824946</td>\n",
       "      <td>0.822128</td>\n",
       "      <td>0.020501</td>\n",
       "    </tr>\n",
       "    <tr>\n",
       "      <th>125</th>\n",
       "      <td>RF_n=5_depth=2_criterion=entropy</td>\n",
       "      <td>0.837534</td>\n",
       "      <td>0.825376</td>\n",
       "      <td>0.821426</td>\n",
       "      <td>0.005827</td>\n",
       "    </tr>\n",
       "    <tr>\n",
       "      <th>124</th>\n",
       "      <td>RF_n=5_depth=2_criterion=gini</td>\n",
       "      <td>0.837534</td>\n",
       "      <td>0.825376</td>\n",
       "      <td>0.821426</td>\n",
       "      <td>0.005325</td>\n",
       "    </tr>\n",
       "    <tr>\n",
       "      <th>287</th>\n",
       "      <td>RF_n=10_depth=8_criterion=entropy</td>\n",
       "      <td>0.828722</td>\n",
       "      <td>0.821935</td>\n",
       "      <td>0.821396</td>\n",
       "      <td>0.011501</td>\n",
       "    </tr>\n",
       "    <tr>\n",
       "      <th>229</th>\n",
       "      <td>RF_n=8_depth=9_criterion=entropy</td>\n",
       "      <td>0.828515</td>\n",
       "      <td>0.821935</td>\n",
       "      <td>0.821047</td>\n",
       "      <td>0.010240</td>\n",
       "    </tr>\n",
       "    <tr>\n",
       "      <th>132</th>\n",
       "      <td>RF_n=5_depth=6_criterion=gini</td>\n",
       "      <td>0.831890</td>\n",
       "      <td>0.821720</td>\n",
       "      <td>0.820206</td>\n",
       "      <td>0.005737</td>\n",
       "    </tr>\n",
       "    <tr>\n",
       "      <th>280</th>\n",
       "      <td>RF_n=10_depth=5_criterion=gini</td>\n",
       "      <td>0.831620</td>\n",
       "      <td>0.821828</td>\n",
       "      <td>0.819998</td>\n",
       "      <td>0.011071</td>\n",
       "    </tr>\n",
       "    <tr>\n",
       "      <th>139</th>\n",
       "      <td>RF_n=5_depth=9_criterion=entropy</td>\n",
       "      <td>0.830378</td>\n",
       "      <td>0.822043</td>\n",
       "      <td>0.819931</td>\n",
       "      <td>0.006137</td>\n",
       "    </tr>\n",
       "    <tr>\n",
       "      <th>346</th>\n",
       "      <td>RF_n=30_depth=8_criterion=gini</td>\n",
       "      <td>0.829709</td>\n",
       "      <td>0.821828</td>\n",
       "      <td>0.819922</td>\n",
       "      <td>0.032478</td>\n",
       "    </tr>\n",
       "    <tr>\n",
       "      <th>367</th>\n",
       "      <td>RF_n=40_depth=3_criterion=entropy</td>\n",
       "      <td>0.831350</td>\n",
       "      <td>0.821828</td>\n",
       "      <td>0.819618</td>\n",
       "      <td>0.039592</td>\n",
       "    </tr>\n",
       "    <tr>\n",
       "      <th>339</th>\n",
       "      <td>RF_n=30_depth=4_criterion=entropy</td>\n",
       "      <td>0.834374</td>\n",
       "      <td>0.821935</td>\n",
       "      <td>0.819119</td>\n",
       "      <td>0.040870</td>\n",
       "    </tr>\n",
       "    <tr>\n",
       "      <th>216</th>\n",
       "      <td>RF_n=8_depth=3_criterion=gini</td>\n",
       "      <td>0.832658</td>\n",
       "      <td>0.821613</td>\n",
       "      <td>0.819117</td>\n",
       "      <td>0.008671</td>\n",
       "    </tr>\n",
       "    <tr>\n",
       "      <th>345</th>\n",
       "      <td>RF_n=30_depth=7_criterion=entropy</td>\n",
       "      <td>0.840350</td>\n",
       "      <td>0.821828</td>\n",
       "      <td>0.819091</td>\n",
       "      <td>0.033888</td>\n",
       "    </tr>\n",
       "    <tr>\n",
       "      <th>398</th>\n",
       "      <td>RF_n=50_depth=4_criterion=gini</td>\n",
       "      <td>0.834756</td>\n",
       "      <td>0.821613</td>\n",
       "      <td>0.818548</td>\n",
       "      <td>0.053477</td>\n",
       "    </tr>\n",
       "    <tr>\n",
       "      <th>291</th>\n",
       "      <td>RF_n=10_depth=10_criterion=entropy</td>\n",
       "      <td>0.827635</td>\n",
       "      <td>0.818495</td>\n",
       "      <td>0.817994</td>\n",
       "      <td>0.014170</td>\n",
       "    </tr>\n",
       "    <tr>\n",
       "      <th>105</th>\n",
       "      <td>RF_n=4_depth=7_criterion=entropy</td>\n",
       "      <td>0.822200</td>\n",
       "      <td>0.818602</td>\n",
       "      <td>0.817459</td>\n",
       "      <td>0.005494</td>\n",
       "    </tr>\n",
       "    <tr>\n",
       "      <th>260</th>\n",
       "      <td>RF_n=9_depth=10_criterion=gini</td>\n",
       "      <td>0.828107</td>\n",
       "      <td>0.818710</td>\n",
       "      <td>0.817455</td>\n",
       "      <td>0.010748</td>\n",
       "    </tr>\n",
       "    <tr>\n",
       "      <th>257</th>\n",
       "      <td>RF_n=9_depth=8_criterion=entropy</td>\n",
       "      <td>0.824457</td>\n",
       "      <td>0.818602</td>\n",
       "      <td>0.817312</td>\n",
       "      <td>0.010402</td>\n",
       "    </tr>\n",
       "    <tr>\n",
       "      <th>320</th>\n",
       "      <td>RF_n=20_depth=10_criterion=gini</td>\n",
       "      <td>0.829516</td>\n",
       "      <td>0.818495</td>\n",
       "      <td>0.816926</td>\n",
       "      <td>0.026469</td>\n",
       "    </tr>\n",
       "    <tr>\n",
       "      <th>348</th>\n",
       "      <td>RF_n=30_depth=9_criterion=gini</td>\n",
       "      <td>0.827633</td>\n",
       "      <td>0.818387</td>\n",
       "      <td>0.816809</td>\n",
       "      <td>0.032530</td>\n",
       "    </tr>\n",
       "    <tr>\n",
       "      <th>279</th>\n",
       "      <td>RF_n=10_depth=4_criterion=entropy</td>\n",
       "      <td>0.830389</td>\n",
       "      <td>0.818280</td>\n",
       "      <td>0.816700</td>\n",
       "      <td>0.011192</td>\n",
       "    </tr>\n",
       "    <tr>\n",
       "      <th>284</th>\n",
       "      <td>RF_n=10_depth=7_criterion=gini</td>\n",
       "      <td>0.830097</td>\n",
       "      <td>0.818817</td>\n",
       "      <td>0.816684</td>\n",
       "      <td>0.011722</td>\n",
       "    </tr>\n",
       "    <tr>\n",
       "      <th>219</th>\n",
       "      <td>RF_n=8_depth=4_criterion=entropy</td>\n",
       "      <td>0.829263</td>\n",
       "      <td>0.818387</td>\n",
       "      <td>0.816663</td>\n",
       "      <td>0.008751</td>\n",
       "    </tr>\n",
       "    <tr>\n",
       "      <th>285</th>\n",
       "      <td>RF_n=10_depth=7_criterion=entropy</td>\n",
       "      <td>0.833100</td>\n",
       "      <td>0.818710</td>\n",
       "      <td>0.816561</td>\n",
       "      <td>0.011226</td>\n",
       "    </tr>\n",
       "    <tr>\n",
       "      <th>402</th>\n",
       "      <td>RF_n=50_depth=6_criterion=gini</td>\n",
       "      <td>0.828582</td>\n",
       "      <td>0.818495</td>\n",
       "      <td>0.816213</td>\n",
       "      <td>0.055382</td>\n",
       "    </tr>\n",
       "    <tr>\n",
       "      <th>247</th>\n",
       "      <td>RF_n=9_depth=3_criterion=entropy</td>\n",
       "      <td>0.827603</td>\n",
       "      <td>0.818172</td>\n",
       "      <td>0.816118</td>\n",
       "      <td>0.009821</td>\n",
       "    </tr>\n",
       "    <tr>\n",
       "      <th>380</th>\n",
       "      <td>RF_n=40_depth=10_criterion=gini</td>\n",
       "      <td>0.828519</td>\n",
       "      <td>0.818387</td>\n",
       "      <td>0.816116</td>\n",
       "      <td>0.050296</td>\n",
       "    </tr>\n",
       "    <tr>\n",
       "      <th>214</th>\n",
       "      <td>RF_n=8_depth=2_criterion=gini</td>\n",
       "      <td>0.827168</td>\n",
       "      <td>0.818710</td>\n",
       "      <td>0.816116</td>\n",
       "      <td>0.008270</td>\n",
       "    </tr>\n",
       "    <tr>\n",
       "      <th>410</th>\n",
       "      <td>RF_n=50_depth=10_criterion=gini</td>\n",
       "      <td>0.832210</td>\n",
       "      <td>0.818602</td>\n",
       "      <td>0.815960</td>\n",
       "      <td>0.054878</td>\n",
       "    </tr>\n",
       "    <tr>\n",
       "      <th>311</th>\n",
       "      <td>RF_n=20_depth=5_criterion=entropy</td>\n",
       "      <td>0.832881</td>\n",
       "      <td>0.818172</td>\n",
       "      <td>0.815863</td>\n",
       "      <td>0.022292</td>\n",
       "    </tr>\n",
       "    <tr>\n",
       "      <th>215</th>\n",
       "      <td>RF_n=8_depth=2_criterion=entropy</td>\n",
       "      <td>0.829101</td>\n",
       "      <td>0.818710</td>\n",
       "      <td>0.815816</td>\n",
       "      <td>0.008435</td>\n",
       "    </tr>\n",
       "    <tr>\n",
       "      <th>340</th>\n",
       "      <td>RF_n=30_depth=5_criterion=gini</td>\n",
       "      <td>0.833412</td>\n",
       "      <td>0.818495</td>\n",
       "      <td>0.815610</td>\n",
       "      <td>0.038077</td>\n",
       "    </tr>\n",
       "    <tr>\n",
       "      <th>369</th>\n",
       "      <td>RF_n=40_depth=4_criterion=entropy</td>\n",
       "      <td>0.829443</td>\n",
       "      <td>0.818280</td>\n",
       "      <td>0.815576</td>\n",
       "      <td>0.043985</td>\n",
       "    </tr>\n",
       "    <tr>\n",
       "      <th>275</th>\n",
       "      <td>RF_n=10_depth=2_criterion=entropy</td>\n",
       "      <td>0.828700</td>\n",
       "      <td>0.818817</td>\n",
       "      <td>0.815493</td>\n",
       "      <td>0.010246</td>\n",
       "    </tr>\n",
       "    <tr>\n",
       "      <th>308</th>\n",
       "      <td>RF_n=20_depth=4_criterion=gini</td>\n",
       "      <td>0.834539</td>\n",
       "      <td>0.818602</td>\n",
       "      <td>0.815276</td>\n",
       "      <td>0.027369</td>\n",
       "    </tr>\n",
       "    <tr>\n",
       "      <th>278</th>\n",
       "      <td>RF_n=10_depth=4_criterion=gini</td>\n",
       "      <td>0.822040</td>\n",
       "      <td>0.815054</td>\n",
       "      <td>0.814089</td>\n",
       "      <td>0.011266</td>\n",
       "    </tr>\n",
       "    <tr>\n",
       "      <th>225</th>\n",
       "      <td>RF_n=8_depth=7_criterion=entropy</td>\n",
       "      <td>0.824937</td>\n",
       "      <td>0.815269</td>\n",
       "      <td>0.813762</td>\n",
       "      <td>0.011349</td>\n",
       "    </tr>\n",
       "    <tr>\n",
       "      <th>141</th>\n",
       "      <td>RF_n=5_depth=10_criterion=entropy</td>\n",
       "      <td>0.820656</td>\n",
       "      <td>0.815054</td>\n",
       "      <td>0.813595</td>\n",
       "      <td>0.006153</td>\n",
       "    </tr>\n",
       "    <tr>\n",
       "      <th>218</th>\n",
       "      <td>RF_n=8_depth=4_criterion=gini</td>\n",
       "      <td>0.823122</td>\n",
       "      <td>0.814839</td>\n",
       "      <td>0.813419</td>\n",
       "      <td>0.008657</td>\n",
       "    </tr>\n",
       "    <tr>\n",
       "      <th>342</th>\n",
       "      <td>RF_n=30_depth=6_criterion=gini</td>\n",
       "      <td>0.823739</td>\n",
       "      <td>0.815161</td>\n",
       "      <td>0.813352</td>\n",
       "      <td>0.035502</td>\n",
       "    </tr>\n",
       "    <tr>\n",
       "      <th>201</th>\n",
       "      <td>RF_n=7_depth=10_criterion=entropy</td>\n",
       "      <td>0.823417</td>\n",
       "      <td>0.815161</td>\n",
       "      <td>0.813339</td>\n",
       "      <td>0.008301</td>\n",
       "    </tr>\n",
       "    <tr>\n",
       "      <th>68</th>\n",
       "      <td>RF_n=3_depth=4_criterion=gini</td>\n",
       "      <td>0.821664</td>\n",
       "      <td>0.815054</td>\n",
       "      <td>0.813234</td>\n",
       "      <td>0.004825</td>\n",
       "    </tr>\n",
       "    <tr>\n",
       "      <th>197</th>\n",
       "      <td>RF_n=7_depth=8_criterion=entropy</td>\n",
       "      <td>0.821234</td>\n",
       "      <td>0.815376</td>\n",
       "      <td>0.813208</td>\n",
       "      <td>0.008614</td>\n",
       "    </tr>\n",
       "    <tr>\n",
       "      <th>350</th>\n",
       "      <td>RF_n=30_depth=10_criterion=gini</td>\n",
       "      <td>0.824534</td>\n",
       "      <td>0.815161</td>\n",
       "      <td>0.813135</td>\n",
       "      <td>0.032228</td>\n",
       "    </tr>\n",
       "    <tr>\n",
       "      <th>135</th>\n",
       "      <td>RF_n=5_depth=7_criterion=entropy</td>\n",
       "      <td>0.821857</td>\n",
       "      <td>0.815161</td>\n",
       "      <td>0.813093</td>\n",
       "      <td>0.006030</td>\n",
       "    </tr>\n",
       "    <tr>\n",
       "      <th>316</th>\n",
       "      <td>RF_n=20_depth=8_criterion=gini</td>\n",
       "      <td>0.824058</td>\n",
       "      <td>0.814946</td>\n",
       "      <td>0.813069</td>\n",
       "      <td>0.024488</td>\n",
       "    </tr>\n",
       "    <tr>\n",
       "      <th>103</th>\n",
       "      <td>RF_n=4_depth=6_criterion=entropy</td>\n",
       "      <td>0.826674</td>\n",
       "      <td>0.815161</td>\n",
       "      <td>0.812899</td>\n",
       "      <td>0.005124</td>\n",
       "    </tr>\n",
       "    <tr>\n",
       "      <th>276</th>\n",
       "      <td>RF_n=10_depth=3_criterion=gini</td>\n",
       "      <td>0.825716</td>\n",
       "      <td>0.814946</td>\n",
       "      <td>0.812730</td>\n",
       "      <td>0.010689</td>\n",
       "    </tr>\n",
       "    <tr>\n",
       "      <th>161</th>\n",
       "      <td>RF_n=6_depth=5_criterion=entropy</td>\n",
       "      <td>0.827416</td>\n",
       "      <td>0.814946</td>\n",
       "      <td>0.812726</td>\n",
       "      <td>0.008585</td>\n",
       "    </tr>\n",
       "    <tr>\n",
       "      <th>157</th>\n",
       "      <td>RF_n=6_depth=3_criterion=entropy</td>\n",
       "      <td>0.824339</td>\n",
       "      <td>0.815161</td>\n",
       "      <td>0.812562</td>\n",
       "      <td>0.007471</td>\n",
       "    </tr>\n",
       "    <tr>\n",
       "      <th>250</th>\n",
       "      <td>RF_n=9_depth=5_criterion=gini</td>\n",
       "      <td>0.828612</td>\n",
       "      <td>0.815161</td>\n",
       "      <td>0.812541</td>\n",
       "      <td>0.009834</td>\n",
       "    </tr>\n",
       "    <tr>\n",
       "      <th>156</th>\n",
       "      <td>RF_n=6_depth=3_criterion=gini</td>\n",
       "      <td>0.826022</td>\n",
       "      <td>0.815054</td>\n",
       "      <td>0.812181</td>\n",
       "      <td>0.007606</td>\n",
       "    </tr>\n",
       "    <tr>\n",
       "      <th>245</th>\n",
       "      <td>RF_n=9_depth=2_criterion=entropy</td>\n",
       "      <td>0.824953</td>\n",
       "      <td>0.815376</td>\n",
       "      <td>0.811817</td>\n",
       "      <td>0.009326</td>\n",
       "    </tr>\n",
       "    <tr>\n",
       "      <th>185</th>\n",
       "      <td>RF_n=7_depth=2_criterion=entropy</td>\n",
       "      <td>0.828125</td>\n",
       "      <td>0.815699</td>\n",
       "      <td>0.811734</td>\n",
       "      <td>0.007310</td>\n",
       "    </tr>\n",
       "    <tr>\n",
       "      <th>333</th>\n",
       "      <td>RF_n=30_depth=1_criterion=entropy</td>\n",
       "      <td>0.827933</td>\n",
       "      <td>0.815376</td>\n",
       "      <td>0.811435</td>\n",
       "      <td>0.029532</td>\n",
       "    </tr>\n",
       "    <tr>\n",
       "      <th>266</th>\n",
       "      <td>RF_n=9_depth=40_criterion=gini</td>\n",
       "      <td>0.822177</td>\n",
       "      <td>0.812258</td>\n",
       "      <td>0.811006</td>\n",
       "      <td>0.011527</td>\n",
       "    </tr>\n",
       "    <tr>\n",
       "      <th>268</th>\n",
       "      <td>RF_n=9_depth=50_criterion=gini</td>\n",
       "      <td>0.822177</td>\n",
       "      <td>0.812258</td>\n",
       "      <td>0.811006</td>\n",
       "      <td>0.010249</td>\n",
       "    </tr>\n",
       "    <tr>\n",
       "      <th>240</th>\n",
       "      <td>RF_n=9_depth=None_criterion=gini</td>\n",
       "      <td>0.822177</td>\n",
       "      <td>0.812258</td>\n",
       "      <td>0.811006</td>\n",
       "      <td>0.010528</td>\n",
       "    </tr>\n",
       "    <tr>\n",
       "      <th>262</th>\n",
       "      <td>RF_n=9_depth=20_criterion=gini</td>\n",
       "      <td>0.822177</td>\n",
       "      <td>0.812258</td>\n",
       "      <td>0.811006</td>\n",
       "      <td>0.010431</td>\n",
       "    </tr>\n",
       "    <tr>\n",
       "      <th>264</th>\n",
       "      <td>RF_n=9_depth=30_criterion=gini</td>\n",
       "      <td>0.822177</td>\n",
       "      <td>0.812258</td>\n",
       "      <td>0.811006</td>\n",
       "      <td>0.010473</td>\n",
       "    </tr>\n",
       "    <tr>\n",
       "      <th>155</th>\n",
       "      <td>RF_n=6_depth=2_criterion=entropy</td>\n",
       "      <td>0.832241</td>\n",
       "      <td>0.815699</td>\n",
       "      <td>0.810978</td>\n",
       "      <td>0.007024</td>\n",
       "    </tr>\n",
       "    <tr>\n",
       "      <th>227</th>\n",
       "      <td>RF_n=8_depth=8_criterion=entropy</td>\n",
       "      <td>0.819311</td>\n",
       "      <td>0.812151</td>\n",
       "      <td>0.810823</td>\n",
       "      <td>0.010622</td>\n",
       "    </tr>\n",
       "    <tr>\n",
       "      <th>137</th>\n",
       "      <td>RF_n=5_depth=8_criterion=entropy</td>\n",
       "      <td>0.817480</td>\n",
       "      <td>0.812473</td>\n",
       "      <td>0.810711</td>\n",
       "      <td>0.006115</td>\n",
       "    </tr>\n",
       "    <tr>\n",
       "      <th>295</th>\n",
       "      <td>RF_n=10_depth=30_criterion=entropy</td>\n",
       "      <td>0.822203</td>\n",
       "      <td>0.811505</td>\n",
       "      <td>0.810679</td>\n",
       "      <td>0.011692</td>\n",
       "    </tr>\n",
       "    <tr>\n",
       "      <th>293</th>\n",
       "      <td>RF_n=10_depth=20_criterion=entropy</td>\n",
       "      <td>0.822203</td>\n",
       "      <td>0.811505</td>\n",
       "      <td>0.810679</td>\n",
       "      <td>0.011466</td>\n",
       "    </tr>\n",
       "    <tr>\n",
       "      <th>297</th>\n",
       "      <td>RF_n=10_depth=40_criterion=entropy</td>\n",
       "      <td>0.822203</td>\n",
       "      <td>0.811505</td>\n",
       "      <td>0.810679</td>\n",
       "      <td>0.012750</td>\n",
       "    </tr>\n",
       "    <tr>\n",
       "      <th>299</th>\n",
       "      <td>RF_n=10_depth=50_criterion=entropy</td>\n",
       "      <td>0.822203</td>\n",
       "      <td>0.811505</td>\n",
       "      <td>0.810679</td>\n",
       "      <td>0.013387</td>\n",
       "    </tr>\n",
       "    <tr>\n",
       "      <th>271</th>\n",
       "      <td>RF_n=10_depth=None_criterion=entropy</td>\n",
       "      <td>0.822203</td>\n",
       "      <td>0.811505</td>\n",
       "      <td>0.810679</td>\n",
       "      <td>0.011500</td>\n",
       "    </tr>\n",
       "    <tr>\n",
       "      <th>248</th>\n",
       "      <td>RF_n=9_depth=4_criterion=gini</td>\n",
       "      <td>0.819030</td>\n",
       "      <td>0.811828</td>\n",
       "      <td>0.810460</td>\n",
       "      <td>0.010247</td>\n",
       "    </tr>\n",
       "    <tr>\n",
       "      <th>199</th>\n",
       "      <td>RF_n=7_depth=9_criterion=entropy</td>\n",
       "      <td>0.817507</td>\n",
       "      <td>0.812151</td>\n",
       "      <td>0.810412</td>\n",
       "      <td>0.008335</td>\n",
       "    </tr>\n",
       "    <tr>\n",
       "      <th>267</th>\n",
       "      <td>RF_n=9_depth=40_criterion=entropy</td>\n",
       "      <td>0.819842</td>\n",
       "      <td>0.811828</td>\n",
       "      <td>0.810273</td>\n",
       "      <td>0.010488</td>\n",
       "    </tr>\n",
       "    <tr>\n",
       "      <th>241</th>\n",
       "      <td>RF_n=9_depth=None_criterion=entropy</td>\n",
       "      <td>0.819842</td>\n",
       "      <td>0.811828</td>\n",
       "      <td>0.810273</td>\n",
       "      <td>0.011568</td>\n",
       "    </tr>\n",
       "    <tr>\n",
       "      <th>265</th>\n",
       "      <td>RF_n=9_depth=30_criterion=entropy</td>\n",
       "      <td>0.819842</td>\n",
       "      <td>0.811828</td>\n",
       "      <td>0.810273</td>\n",
       "      <td>0.010532</td>\n",
       "    </tr>\n",
       "    <tr>\n",
       "      <th>269</th>\n",
       "      <td>RF_n=9_depth=50_criterion=entropy</td>\n",
       "      <td>0.819842</td>\n",
       "      <td>0.811828</td>\n",
       "      <td>0.810273</td>\n",
       "      <td>0.010359</td>\n",
       "    </tr>\n",
       "    <tr>\n",
       "      <th>263</th>\n",
       "      <td>RF_n=9_depth=20_criterion=entropy</td>\n",
       "      <td>0.819842</td>\n",
       "      <td>0.811828</td>\n",
       "      <td>0.810273</td>\n",
       "      <td>0.010894</td>\n",
       "    </tr>\n",
       "    <tr>\n",
       "      <th>406</th>\n",
       "      <td>RF_n=50_depth=8_criterion=gini</td>\n",
       "      <td>0.821266</td>\n",
       "      <td>0.811720</td>\n",
       "      <td>0.809989</td>\n",
       "      <td>0.053450</td>\n",
       "    </tr>\n",
       "    <tr>\n",
       "      <th>195</th>\n",
       "      <td>RF_n=7_depth=7_criterion=entropy</td>\n",
       "      <td>0.821412</td>\n",
       "      <td>0.812151</td>\n",
       "      <td>0.809917</td>\n",
       "      <td>0.008130</td>\n",
       "    </tr>\n",
       "    <tr>\n",
       "      <th>312</th>\n",
       "      <td>RF_n=20_depth=6_criterion=gini</td>\n",
       "      <td>0.820137</td>\n",
       "      <td>0.811828</td>\n",
       "      <td>0.809911</td>\n",
       "      <td>0.025269</td>\n",
       "    </tr>\n",
       "    <tr>\n",
       "      <th>255</th>\n",
       "      <td>RF_n=9_depth=7_criterion=entropy</td>\n",
       "      <td>0.825576</td>\n",
       "      <td>0.812473</td>\n",
       "      <td>0.809868</td>\n",
       "      <td>0.013871</td>\n",
       "    </tr>\n",
       "    <tr>\n",
       "      <th>85</th>\n",
       "      <td>RF_n=3_depth=30_criterion=entropy</td>\n",
       "      <td>0.820584</td>\n",
       "      <td>0.811828</td>\n",
       "      <td>0.809859</td>\n",
       "      <td>0.003953</td>\n",
       "    </tr>\n",
       "    <tr>\n",
       "      <th>61</th>\n",
       "      <td>RF_n=3_depth=None_criterion=entropy</td>\n",
       "      <td>0.820584</td>\n",
       "      <td>0.811828</td>\n",
       "      <td>0.809859</td>\n",
       "      <td>0.003970</td>\n",
       "    </tr>\n",
       "    <tr>\n",
       "      <th>89</th>\n",
       "      <td>RF_n=3_depth=50_criterion=entropy</td>\n",
       "      <td>0.820584</td>\n",
       "      <td>0.811828</td>\n",
       "      <td>0.809859</td>\n",
       "      <td>0.004026</td>\n",
       "    </tr>\n",
       "    <tr>\n",
       "      <th>87</th>\n",
       "      <td>RF_n=3_depth=40_criterion=entropy</td>\n",
       "      <td>0.820584</td>\n",
       "      <td>0.811828</td>\n",
       "      <td>0.809859</td>\n",
       "      <td>0.004289</td>\n",
       "    </tr>\n",
       "    <tr>\n",
       "      <th>83</th>\n",
       "      <td>RF_n=3_depth=20_criterion=entropy</td>\n",
       "      <td>0.820584</td>\n",
       "      <td>0.811828</td>\n",
       "      <td>0.809859</td>\n",
       "      <td>0.003965</td>\n",
       "    </tr>\n",
       "    <tr>\n",
       "      <th>376</th>\n",
       "      <td>RF_n=40_depth=8_criterion=gini</td>\n",
       "      <td>0.821026</td>\n",
       "      <td>0.811828</td>\n",
       "      <td>0.809791</td>\n",
       "      <td>0.042556</td>\n",
       "    </tr>\n",
       "    <tr>\n",
       "      <th>384</th>\n",
       "      <td>RF_n=40_depth=30_criterion=gini</td>\n",
       "      <td>0.824207</td>\n",
       "      <td>0.811828</td>\n",
       "      <td>0.809690</td>\n",
       "      <td>0.042798</td>\n",
       "    </tr>\n",
       "    <tr>\n",
       "      <th>360</th>\n",
       "      <td>RF_n=40_depth=None_criterion=gini</td>\n",
       "      <td>0.824207</td>\n",
       "      <td>0.811828</td>\n",
       "      <td>0.809690</td>\n",
       "      <td>0.055640</td>\n",
       "    </tr>\n",
       "    <tr>\n",
       "      <th>388</th>\n",
       "      <td>RF_n=40_depth=50_criterion=gini</td>\n",
       "      <td>0.824207</td>\n",
       "      <td>0.811828</td>\n",
       "      <td>0.809690</td>\n",
       "      <td>0.044786</td>\n",
       "    </tr>\n",
       "    <tr>\n",
       "      <th>386</th>\n",
       "      <td>RF_n=40_depth=40_criterion=gini</td>\n",
       "      <td>0.824207</td>\n",
       "      <td>0.811828</td>\n",
       "      <td>0.809690</td>\n",
       "      <td>0.043697</td>\n",
       "    </tr>\n",
       "    <tr>\n",
       "      <th>382</th>\n",
       "      <td>RF_n=40_depth=20_criterion=gini</td>\n",
       "      <td>0.824207</td>\n",
       "      <td>0.811828</td>\n",
       "      <td>0.809690</td>\n",
       "      <td>0.042750</td>\n",
       "    </tr>\n",
       "    <tr>\n",
       "      <th>143</th>\n",
       "      <td>RF_n=5_depth=20_criterion=entropy</td>\n",
       "      <td>0.821091</td>\n",
       "      <td>0.812043</td>\n",
       "      <td>0.809613</td>\n",
       "      <td>0.006193</td>\n",
       "    </tr>\n",
       "    <tr>\n",
       "      <th>147</th>\n",
       "      <td>RF_n=5_depth=40_criterion=entropy</td>\n",
       "      <td>0.821091</td>\n",
       "      <td>0.812043</td>\n",
       "      <td>0.809613</td>\n",
       "      <td>0.006114</td>\n",
       "    </tr>\n",
       "    <tr>\n",
       "      <th>121</th>\n",
       "      <td>RF_n=5_depth=None_criterion=entropy</td>\n",
       "      <td>0.821091</td>\n",
       "      <td>0.812043</td>\n",
       "      <td>0.809613</td>\n",
       "      <td>0.006234</td>\n",
       "    </tr>\n",
       "    <tr>\n",
       "      <th>149</th>\n",
       "      <td>RF_n=5_depth=50_criterion=entropy</td>\n",
       "      <td>0.821091</td>\n",
       "      <td>0.812043</td>\n",
       "      <td>0.809613</td>\n",
       "      <td>0.006663</td>\n",
       "    </tr>\n",
       "    <tr>\n",
       "      <th>145</th>\n",
       "      <td>RF_n=5_depth=30_criterion=entropy</td>\n",
       "      <td>0.821091</td>\n",
       "      <td>0.812043</td>\n",
       "      <td>0.809613</td>\n",
       "      <td>0.006267</td>\n",
       "    </tr>\n",
       "    <tr>\n",
       "      <th>390</th>\n",
       "      <td>RF_n=50_depth=None_criterion=gini</td>\n",
       "      <td>0.823247</td>\n",
       "      <td>0.811720</td>\n",
       "      <td>0.809591</td>\n",
       "      <td>0.054094</td>\n",
       "    </tr>\n",
       "    <tr>\n",
       "      <th>412</th>\n",
       "      <td>RF_n=50_depth=20_criterion=gini</td>\n",
       "      <td>0.823247</td>\n",
       "      <td>0.811720</td>\n",
       "      <td>0.809591</td>\n",
       "      <td>0.061696</td>\n",
       "    </tr>\n",
       "    <tr>\n",
       "      <th>418</th>\n",
       "      <td>RF_n=50_depth=50_criterion=gini</td>\n",
       "      <td>0.823247</td>\n",
       "      <td>0.811720</td>\n",
       "      <td>0.809591</td>\n",
       "      <td>0.059055</td>\n",
       "    </tr>\n",
       "    <tr>\n",
       "      <th>416</th>\n",
       "      <td>RF_n=50_depth=40_criterion=gini</td>\n",
       "      <td>0.823247</td>\n",
       "      <td>0.811720</td>\n",
       "      <td>0.809591</td>\n",
       "      <td>0.063133</td>\n",
       "    </tr>\n",
       "    <tr>\n",
       "      <th>414</th>\n",
       "      <td>RF_n=50_depth=30_criterion=gini</td>\n",
       "      <td>0.823247</td>\n",
       "      <td>0.811720</td>\n",
       "      <td>0.809591</td>\n",
       "      <td>0.067144</td>\n",
       "    </tr>\n",
       "    <tr>\n",
       "      <th>315</th>\n",
       "      <td>RF_n=20_depth=7_criterion=entropy</td>\n",
       "      <td>0.826003</td>\n",
       "      <td>0.812043</td>\n",
       "      <td>0.809579</td>\n",
       "      <td>0.029821</td>\n",
       "    </tr>\n",
       "    <tr>\n",
       "      <th>217</th>\n",
       "      <td>RF_n=8_depth=3_criterion=entropy</td>\n",
       "      <td>0.819395</td>\n",
       "      <td>0.811613</td>\n",
       "      <td>0.809554</td>\n",
       "      <td>0.008787</td>\n",
       "    </tr>\n",
       "    <tr>\n",
       "      <th>277</th>\n",
       "      <td>RF_n=10_depth=3_criterion=entropy</td>\n",
       "      <td>0.821918</td>\n",
       "      <td>0.811613</td>\n",
       "      <td>0.809537</td>\n",
       "      <td>0.011742</td>\n",
       "    </tr>\n",
       "    <tr>\n",
       "      <th>193</th>\n",
       "      <td>RF_n=7_depth=6_criterion=entropy</td>\n",
       "      <td>0.823563</td>\n",
       "      <td>0.811828</td>\n",
       "      <td>0.809488</td>\n",
       "      <td>0.008089</td>\n",
       "    </tr>\n",
       "    <tr>\n",
       "      <th>131</th>\n",
       "      <td>RF_n=5_depth=5_criterion=entropy</td>\n",
       "      <td>0.826005</td>\n",
       "      <td>0.811828</td>\n",
       "      <td>0.809070</td>\n",
       "      <td>0.005859</td>\n",
       "    </tr>\n",
       "    <tr>\n",
       "      <th>67</th>\n",
       "      <td>RF_n=3_depth=3_criterion=entropy</td>\n",
       "      <td>0.821405</td>\n",
       "      <td>0.811613</td>\n",
       "      <td>0.809062</td>\n",
       "      <td>0.003580</td>\n",
       "    </tr>\n",
       "    <tr>\n",
       "      <th>186</th>\n",
       "      <td>RF_n=7_depth=3_criterion=gini</td>\n",
       "      <td>0.821573</td>\n",
       "      <td>0.811720</td>\n",
       "      <td>0.809017</td>\n",
       "      <td>0.007871</td>\n",
       "    </tr>\n",
       "    <tr>\n",
       "      <th>244</th>\n",
       "      <td>RF_n=9_depth=2_criterion=gini</td>\n",
       "      <td>0.820454</td>\n",
       "      <td>0.812151</td>\n",
       "      <td>0.808687</td>\n",
       "      <td>0.009154</td>\n",
       "    </tr>\n",
       "    <tr>\n",
       "      <th>274</th>\n",
       "      <td>RF_n=10_depth=2_criterion=gini</td>\n",
       "      <td>0.822732</td>\n",
       "      <td>0.812258</td>\n",
       "      <td>0.808509</td>\n",
       "      <td>0.010115</td>\n",
       "    </tr>\n",
       "    <tr>\n",
       "      <th>309</th>\n",
       "      <td>RF_n=20_depth=4_criterion=entropy</td>\n",
       "      <td>0.829071</td>\n",
       "      <td>0.811828</td>\n",
       "      <td>0.808377</td>\n",
       "      <td>0.024808</td>\n",
       "    </tr>\n",
       "    <tr>\n",
       "      <th>332</th>\n",
       "      <td>RF_n=30_depth=1_criterion=gini</td>\n",
       "      <td>0.824736</td>\n",
       "      <td>0.812043</td>\n",
       "      <td>0.808068</td>\n",
       "      <td>0.034070</td>\n",
       "    </tr>\n",
       "    <tr>\n",
       "      <th>192</th>\n",
       "      <td>RF_n=7_depth=6_criterion=gini</td>\n",
       "      <td>0.816572</td>\n",
       "      <td>0.808710</td>\n",
       "      <td>0.807733</td>\n",
       "      <td>0.007942</td>\n",
       "    </tr>\n",
       "    <tr>\n",
       "      <th>79</th>\n",
       "      <td>RF_n=3_depth=9_criterion=entropy</td>\n",
       "      <td>0.813564</td>\n",
       "      <td>0.808817</td>\n",
       "      <td>0.807696</td>\n",
       "      <td>0.003979</td>\n",
       "    </tr>\n",
       "    <tr>\n",
       "      <th>169</th>\n",
       "      <td>RF_n=6_depth=9_criterion=entropy</td>\n",
       "      <td>0.817235</td>\n",
       "      <td>0.808602</td>\n",
       "      <td>0.807353</td>\n",
       "      <td>0.007112</td>\n",
       "    </tr>\n",
       "    <tr>\n",
       "      <th>167</th>\n",
       "      <td>RF_n=6_depth=8_criterion=entropy</td>\n",
       "      <td>0.821341</td>\n",
       "      <td>0.808710</td>\n",
       "      <td>0.807317</td>\n",
       "      <td>0.007327</td>\n",
       "    </tr>\n",
       "    <tr>\n",
       "      <th>358</th>\n",
       "      <td>RF_n=30_depth=50_criterion=gini</td>\n",
       "      <td>0.815475</td>\n",
       "      <td>0.808495</td>\n",
       "      <td>0.806992</td>\n",
       "      <td>0.040920</td>\n",
       "    </tr>\n",
       "    <tr>\n",
       "      <th>330</th>\n",
       "      <td>RF_n=30_depth=None_criterion=gini</td>\n",
       "      <td>0.815475</td>\n",
       "      <td>0.808495</td>\n",
       "      <td>0.806992</td>\n",
       "      <td>0.033653</td>\n",
       "    </tr>\n",
       "    <tr>\n",
       "      <th>354</th>\n",
       "      <td>RF_n=30_depth=30_criterion=gini</td>\n",
       "      <td>0.815475</td>\n",
       "      <td>0.808495</td>\n",
       "      <td>0.806992</td>\n",
       "      <td>0.032242</td>\n",
       "    </tr>\n",
       "    <tr>\n",
       "      <th>352</th>\n",
       "      <td>RF_n=30_depth=20_criterion=gini</td>\n",
       "      <td>0.815475</td>\n",
       "      <td>0.808495</td>\n",
       "      <td>0.806992</td>\n",
       "      <td>0.032912</td>\n",
       "    </tr>\n",
       "    <tr>\n",
       "      <th>356</th>\n",
       "      <td>RF_n=30_depth=40_criterion=gini</td>\n",
       "      <td>0.815475</td>\n",
       "      <td>0.808495</td>\n",
       "      <td>0.806992</td>\n",
       "      <td>0.035317</td>\n",
       "    </tr>\n",
       "    <tr>\n",
       "      <th>378</th>\n",
       "      <td>RF_n=40_depth=9_criterion=gini</td>\n",
       "      <td>0.817011</td>\n",
       "      <td>0.808495</td>\n",
       "      <td>0.806967</td>\n",
       "      <td>0.042955</td>\n",
       "    </tr>\n",
       "    <tr>\n",
       "      <th>81</th>\n",
       "      <td>RF_n=3_depth=10_criterion=entropy</td>\n",
       "      <td>0.815689</td>\n",
       "      <td>0.808495</td>\n",
       "      <td>0.806768</td>\n",
       "      <td>0.003922</td>\n",
       "    </tr>\n",
       "    <tr>\n",
       "      <th>408</th>\n",
       "      <td>RF_n=50_depth=9_criterion=gini</td>\n",
       "      <td>0.818558</td>\n",
       "      <td>0.808387</td>\n",
       "      <td>0.806693</td>\n",
       "      <td>0.055965</td>\n",
       "    </tr>\n",
       "    <tr>\n",
       "      <th>249</th>\n",
       "      <td>RF_n=9_depth=4_criterion=entropy</td>\n",
       "      <td>0.819374</td>\n",
       "      <td>0.808710</td>\n",
       "      <td>0.806573</td>\n",
       "      <td>0.010032</td>\n",
       "    </tr>\n",
       "    <tr>\n",
       "      <th>189</th>\n",
       "      <td>RF_n=7_depth=4_criterion=entropy</td>\n",
       "      <td>0.819790</td>\n",
       "      <td>0.808387</td>\n",
       "      <td>0.806220</td>\n",
       "      <td>0.008386</td>\n",
       "    </tr>\n",
       "    <tr>\n",
       "      <th>310</th>\n",
       "      <td>RF_n=20_depth=5_criterion=gini</td>\n",
       "      <td>0.821081</td>\n",
       "      <td>0.808495</td>\n",
       "      <td>0.806064</td>\n",
       "      <td>0.024869</td>\n",
       "    </tr>\n",
       "    <tr>\n",
       "      <th>128</th>\n",
       "      <td>RF_n=5_depth=4_criterion=gini</td>\n",
       "      <td>0.820226</td>\n",
       "      <td>0.808495</td>\n",
       "      <td>0.806048</td>\n",
       "      <td>0.005908</td>\n",
       "    </tr>\n",
       "    <tr>\n",
       "      <th>97</th>\n",
       "      <td>RF_n=4_depth=3_criterion=entropy</td>\n",
       "      <td>0.814479</td>\n",
       "      <td>0.808495</td>\n",
       "      <td>0.806025</td>\n",
       "      <td>0.004641</td>\n",
       "    </tr>\n",
       "    <tr>\n",
       "      <th>246</th>\n",
       "      <td>RF_n=9_depth=3_criterion=gini</td>\n",
       "      <td>0.819606</td>\n",
       "      <td>0.808280</td>\n",
       "      <td>0.805982</td>\n",
       "      <td>0.009587</td>\n",
       "    </tr>\n",
       "    <tr>\n",
       "      <th>281</th>\n",
       "      <td>RF_n=10_depth=5_criterion=entropy</td>\n",
       "      <td>0.823917</td>\n",
       "      <td>0.808280</td>\n",
       "      <td>0.805780</td>\n",
       "      <td>0.011345</td>\n",
       "    </tr>\n",
       "    <tr>\n",
       "      <th>220</th>\n",
       "      <td>RF_n=8_depth=5_criterion=gini</td>\n",
       "      <td>0.820315</td>\n",
       "      <td>0.808495</td>\n",
       "      <td>0.805685</td>\n",
       "      <td>0.008960</td>\n",
       "    </tr>\n",
       "    <tr>\n",
       "      <th>190</th>\n",
       "      <td>RF_n=7_depth=5_criterion=gini</td>\n",
       "      <td>0.821900</td>\n",
       "      <td>0.808495</td>\n",
       "      <td>0.805597</td>\n",
       "      <td>0.007996</td>\n",
       "    </tr>\n",
       "    <tr>\n",
       "      <th>400</th>\n",
       "      <td>RF_n=50_depth=5_criterion=gini</td>\n",
       "      <td>0.823469</td>\n",
       "      <td>0.808602</td>\n",
       "      <td>0.805547</td>\n",
       "      <td>0.052567</td>\n",
       "    </tr>\n",
       "    <tr>\n",
       "      <th>393</th>\n",
       "      <td>RF_n=50_depth=1_criterion=entropy</td>\n",
       "      <td>0.818875</td>\n",
       "      <td>0.808387</td>\n",
       "      <td>0.805516</td>\n",
       "      <td>0.046667</td>\n",
       "    </tr>\n",
       "    <tr>\n",
       "      <th>392</th>\n",
       "      <td>RF_n=50_depth=1_criterion=gini</td>\n",
       "      <td>0.820210</td>\n",
       "      <td>0.808387</td>\n",
       "      <td>0.805465</td>\n",
       "      <td>0.046857</td>\n",
       "    </tr>\n",
       "    <tr>\n",
       "      <th>160</th>\n",
       "      <td>RF_n=6_depth=5_criterion=gini</td>\n",
       "      <td>0.820530</td>\n",
       "      <td>0.808387</td>\n",
       "      <td>0.805420</td>\n",
       "      <td>0.009190</td>\n",
       "    </tr>\n",
       "    <tr>\n",
       "      <th>184</th>\n",
       "      <td>RF_n=7_depth=2_criterion=gini</td>\n",
       "      <td>0.821398</td>\n",
       "      <td>0.809032</td>\n",
       "      <td>0.805045</td>\n",
       "      <td>0.007300</td>\n",
       "    </tr>\n",
       "    <tr>\n",
       "      <th>154</th>\n",
       "      <td>RF_n=6_depth=2_criterion=gini</td>\n",
       "      <td>0.824217</td>\n",
       "      <td>0.809032</td>\n",
       "      <td>0.804501</td>\n",
       "      <td>0.008201</td>\n",
       "    </tr>\n",
       "    <tr>\n",
       "      <th>230</th>\n",
       "      <td>RF_n=8_depth=10_criterion=gini</td>\n",
       "      <td>0.816727</td>\n",
       "      <td>0.805376</td>\n",
       "      <td>0.804378</td>\n",
       "      <td>0.011834</td>\n",
       "    </tr>\n",
       "    <tr>\n",
       "      <th>171</th>\n",
       "      <td>RF_n=6_depth=10_criterion=entropy</td>\n",
       "      <td>0.810569</td>\n",
       "      <td>0.804946</td>\n",
       "      <td>0.804102</td>\n",
       "      <td>0.007289</td>\n",
       "    </tr>\n",
       "    <tr>\n",
       "      <th>170</th>\n",
       "      <td>RF_n=6_depth=10_criterion=gini</td>\n",
       "      <td>0.816169</td>\n",
       "      <td>0.805161</td>\n",
       "      <td>0.804006</td>\n",
       "      <td>0.007092</td>\n",
       "    </tr>\n",
       "    <tr>\n",
       "      <th>224</th>\n",
       "      <td>RF_n=8_depth=7_criterion=gini</td>\n",
       "      <td>0.817145</td>\n",
       "      <td>0.805806</td>\n",
       "      <td>0.803871</td>\n",
       "      <td>0.009720</td>\n",
       "    </tr>\n",
       "    <tr>\n",
       "      <th>138</th>\n",
       "      <td>RF_n=5_depth=9_criterion=gini</td>\n",
       "      <td>0.816059</td>\n",
       "      <td>0.805269</td>\n",
       "      <td>0.803598</td>\n",
       "      <td>0.005961</td>\n",
       "    </tr>\n",
       "    <tr>\n",
       "      <th>151</th>\n",
       "      <td>RF_n=6_depth=None_criterion=entropy</td>\n",
       "      <td>0.815848</td>\n",
       "      <td>0.804946</td>\n",
       "      <td>0.803588</td>\n",
       "      <td>0.007304</td>\n",
       "    </tr>\n",
       "    <tr>\n",
       "      <th>179</th>\n",
       "      <td>RF_n=6_depth=50_criterion=entropy</td>\n",
       "      <td>0.815848</td>\n",
       "      <td>0.804946</td>\n",
       "      <td>0.803588</td>\n",
       "      <td>0.007208</td>\n",
       "    </tr>\n",
       "    <tr>\n",
       "      <th>177</th>\n",
       "      <td>RF_n=6_depth=40_criterion=entropy</td>\n",
       "      <td>0.815848</td>\n",
       "      <td>0.804946</td>\n",
       "      <td>0.803588</td>\n",
       "      <td>0.007235</td>\n",
       "    </tr>\n",
       "    <tr>\n",
       "      <th>175</th>\n",
       "      <td>RF_n=6_depth=30_criterion=entropy</td>\n",
       "      <td>0.815848</td>\n",
       "      <td>0.804946</td>\n",
       "      <td>0.803588</td>\n",
       "      <td>0.008821</td>\n",
       "    </tr>\n",
       "    <tr>\n",
       "      <th>173</th>\n",
       "      <td>RF_n=6_depth=20_criterion=entropy</td>\n",
       "      <td>0.815848</td>\n",
       "      <td>0.804946</td>\n",
       "      <td>0.803588</td>\n",
       "      <td>0.007285</td>\n",
       "    </tr>\n",
       "    <tr>\n",
       "      <th>69</th>\n",
       "      <td>RF_n=3_depth=4_criterion=entropy</td>\n",
       "      <td>0.814564</td>\n",
       "      <td>0.805161</td>\n",
       "      <td>0.803425</td>\n",
       "      <td>0.004511</td>\n",
       "    </tr>\n",
       "    <tr>\n",
       "      <th>98</th>\n",
       "      <td>RF_n=4_depth=4_criterion=gini</td>\n",
       "      <td>0.814129</td>\n",
       "      <td>0.805161</td>\n",
       "      <td>0.803358</td>\n",
       "      <td>0.004742</td>\n",
       "    </tr>\n",
       "    <tr>\n",
       "      <th>188</th>\n",
       "      <td>RF_n=7_depth=4_criterion=gini</td>\n",
       "      <td>0.814909</td>\n",
       "      <td>0.805161</td>\n",
       "      <td>0.803180</td>\n",
       "      <td>0.008137</td>\n",
       "    </tr>\n",
       "    <tr>\n",
       "      <th>66</th>\n",
       "      <td>RF_n=3_depth=3_criterion=gini</td>\n",
       "      <td>0.814300</td>\n",
       "      <td>0.805376</td>\n",
       "      <td>0.802952</td>\n",
       "      <td>0.003676</td>\n",
       "    </tr>\n",
       "    <tr>\n",
       "      <th>158</th>\n",
       "      <td>RF_n=6_depth=4_criterion=gini</td>\n",
       "      <td>0.817709</td>\n",
       "      <td>0.805161</td>\n",
       "      <td>0.802784</td>\n",
       "      <td>0.008068</td>\n",
       "    </tr>\n",
       "    <tr>\n",
       "      <th>187</th>\n",
       "      <td>RF_n=7_depth=3_criterion=entropy</td>\n",
       "      <td>0.814036</td>\n",
       "      <td>0.805269</td>\n",
       "      <td>0.802460</td>\n",
       "      <td>0.008048</td>\n",
       "    </tr>\n",
       "    <tr>\n",
       "      <th>191</th>\n",
       "      <td>RF_n=7_depth=5_criterion=entropy</td>\n",
       "      <td>0.820837</td>\n",
       "      <td>0.805161</td>\n",
       "      <td>0.802411</td>\n",
       "      <td>0.008131</td>\n",
       "    </tr>\n",
       "    <tr>\n",
       "      <th>130</th>\n",
       "      <td>RF_n=5_depth=5_criterion=gini</td>\n",
       "      <td>0.815358</td>\n",
       "      <td>0.805054</td>\n",
       "      <td>0.802340</td>\n",
       "      <td>0.006248</td>\n",
       "    </tr>\n",
       "    <tr>\n",
       "      <th>251</th>\n",
       "      <td>RF_n=9_depth=5_criterion=entropy</td>\n",
       "      <td>0.823213</td>\n",
       "      <td>0.805054</td>\n",
       "      <td>0.801881</td>\n",
       "      <td>0.010450</td>\n",
       "    </tr>\n",
       "    <tr>\n",
       "      <th>363</th>\n",
       "      <td>RF_n=40_depth=1_criterion=entropy</td>\n",
       "      <td>0.818580</td>\n",
       "      <td>0.805054</td>\n",
       "      <td>0.801416</td>\n",
       "      <td>0.039760</td>\n",
       "    </tr>\n",
       "    <tr>\n",
       "      <th>303</th>\n",
       "      <td>RF_n=20_depth=1_criterion=entropy</td>\n",
       "      <td>0.820099</td>\n",
       "      <td>0.805591</td>\n",
       "      <td>0.801168</td>\n",
       "      <td>0.023177</td>\n",
       "    </tr>\n",
       "    <tr>\n",
       "      <th>111</th>\n",
       "      <td>RF_n=4_depth=10_criterion=entropy</td>\n",
       "      <td>0.812855</td>\n",
       "      <td>0.801828</td>\n",
       "      <td>0.801124</td>\n",
       "      <td>0.005017</td>\n",
       "    </tr>\n",
       "    <tr>\n",
       "      <th>162</th>\n",
       "      <td>RF_n=6_depth=6_criterion=gini</td>\n",
       "      <td>0.810327</td>\n",
       "      <td>0.802043</td>\n",
       "      <td>0.801052</td>\n",
       "      <td>0.007862</td>\n",
       "    </tr>\n",
       "    <tr>\n",
       "      <th>282</th>\n",
       "      <td>RF_n=10_depth=6_criterion=gini</td>\n",
       "      <td>0.809431</td>\n",
       "      <td>0.801613</td>\n",
       "      <td>0.800498</td>\n",
       "      <td>0.010955</td>\n",
       "    </tr>\n",
       "    <tr>\n",
       "      <th>180</th>\n",
       "      <td>RF_n=7_depth=None_criterion=gini</td>\n",
       "      <td>0.812200</td>\n",
       "      <td>0.802043</td>\n",
       "      <td>0.800414</td>\n",
       "      <td>0.008044</td>\n",
       "    </tr>\n",
       "    <tr>\n",
       "      <th>208</th>\n",
       "      <td>RF_n=7_depth=50_criterion=gini</td>\n",
       "      <td>0.812200</td>\n",
       "      <td>0.802043</td>\n",
       "      <td>0.800414</td>\n",
       "      <td>0.008094</td>\n",
       "    </tr>\n",
       "    <tr>\n",
       "      <th>206</th>\n",
       "      <td>RF_n=7_depth=40_criterion=gini</td>\n",
       "      <td>0.812200</td>\n",
       "      <td>0.802043</td>\n",
       "      <td>0.800414</td>\n",
       "      <td>0.008099</td>\n",
       "    </tr>\n",
       "    <tr>\n",
       "      <th>204</th>\n",
       "      <td>RF_n=7_depth=30_criterion=gini</td>\n",
       "      <td>0.812200</td>\n",
       "      <td>0.802043</td>\n",
       "      <td>0.800414</td>\n",
       "      <td>0.007977</td>\n",
       "    </tr>\n",
       "    <tr>\n",
       "      <th>202</th>\n",
       "      <td>RF_n=7_depth=20_criterion=gini</td>\n",
       "      <td>0.812200</td>\n",
       "      <td>0.802043</td>\n",
       "      <td>0.800414</td>\n",
       "      <td>0.008898</td>\n",
       "    </tr>\n",
       "    <tr>\n",
       "      <th>43</th>\n",
       "      <td>RF_n=2_depth=6_criterion=entropy</td>\n",
       "      <td>0.816163</td>\n",
       "      <td>0.801935</td>\n",
       "      <td>0.800351</td>\n",
       "      <td>0.002842</td>\n",
       "    </tr>\n",
       "    <tr>\n",
       "      <th>140</th>\n",
       "      <td>RF_n=5_depth=10_criterion=gini</td>\n",
       "      <td>0.811409</td>\n",
       "      <td>0.801935</td>\n",
       "      <td>0.800237</td>\n",
       "      <td>0.005914</td>\n",
       "    </tr>\n",
       "    <tr>\n",
       "      <th>239</th>\n",
       "      <td>RF_n=8_depth=50_criterion=entropy</td>\n",
       "      <td>0.814848</td>\n",
       "      <td>0.801720</td>\n",
       "      <td>0.800080</td>\n",
       "      <td>0.009386</td>\n",
       "    </tr>\n",
       "    <tr>\n",
       "      <th>211</th>\n",
       "      <td>RF_n=8_depth=None_criterion=entropy</td>\n",
       "      <td>0.814848</td>\n",
       "      <td>0.801720</td>\n",
       "      <td>0.800080</td>\n",
       "      <td>0.009648</td>\n",
       "    </tr>\n",
       "    <tr>\n",
       "      <th>237</th>\n",
       "      <td>RF_n=8_depth=40_criterion=entropy</td>\n",
       "      <td>0.814848</td>\n",
       "      <td>0.801720</td>\n",
       "      <td>0.800080</td>\n",
       "      <td>0.009616</td>\n",
       "    </tr>\n",
       "    <tr>\n",
       "      <th>235</th>\n",
       "      <td>RF_n=8_depth=30_criterion=entropy</td>\n",
       "      <td>0.814848</td>\n",
       "      <td>0.801720</td>\n",
       "      <td>0.800080</td>\n",
       "      <td>0.009286</td>\n",
       "    </tr>\n",
       "    <tr>\n",
       "      <th>233</th>\n",
       "      <td>RF_n=8_depth=20_criterion=entropy</td>\n",
       "      <td>0.814848</td>\n",
       "      <td>0.801720</td>\n",
       "      <td>0.800080</td>\n",
       "      <td>0.009318</td>\n",
       "    </tr>\n",
       "    <tr>\n",
       "      <th>200</th>\n",
       "      <td>RF_n=7_depth=10_criterion=gini</td>\n",
       "      <td>0.813797</td>\n",
       "      <td>0.802043</td>\n",
       "      <td>0.799991</td>\n",
       "      <td>0.008133</td>\n",
       "    </tr>\n",
       "    <tr>\n",
       "      <th>254</th>\n",
       "      <td>RF_n=9_depth=7_criterion=gini</td>\n",
       "      <td>0.815766</td>\n",
       "      <td>0.802688</td>\n",
       "      <td>0.799961</td>\n",
       "      <td>0.010198</td>\n",
       "    </tr>\n",
       "    <tr>\n",
       "      <th>221</th>\n",
       "      <td>RF_n=8_depth=5_criterion=entropy</td>\n",
       "      <td>0.816338</td>\n",
       "      <td>0.801720</td>\n",
       "      <td>0.799136</td>\n",
       "      <td>0.008896</td>\n",
       "    </tr>\n",
       "    <tr>\n",
       "      <th>75</th>\n",
       "      <td>RF_n=3_depth=7_criterion=entropy</td>\n",
       "      <td>0.809525</td>\n",
       "      <td>0.801935</td>\n",
       "      <td>0.799046</td>\n",
       "      <td>0.003944</td>\n",
       "    </tr>\n",
       "    <tr>\n",
       "      <th>127</th>\n",
       "      <td>RF_n=5_depth=3_criterion=entropy</td>\n",
       "      <td>0.809736</td>\n",
       "      <td>0.801935</td>\n",
       "      <td>0.798783</td>\n",
       "      <td>0.006696</td>\n",
       "    </tr>\n",
       "    <tr>\n",
       "      <th>362</th>\n",
       "      <td>RF_n=40_depth=1_criterion=gini</td>\n",
       "      <td>0.815111</td>\n",
       "      <td>0.801720</td>\n",
       "      <td>0.798116</td>\n",
       "      <td>0.039186</td>\n",
       "    </tr>\n",
       "    <tr>\n",
       "      <th>296</th>\n",
       "      <td>RF_n=10_depth=40_criterion=gini</td>\n",
       "      <td>0.809614</td>\n",
       "      <td>0.798817</td>\n",
       "      <td>0.797838</td>\n",
       "      <td>0.011742</td>\n",
       "    </tr>\n",
       "    <tr>\n",
       "      <th>298</th>\n",
       "      <td>RF_n=10_depth=50_criterion=gini</td>\n",
       "      <td>0.809614</td>\n",
       "      <td>0.798817</td>\n",
       "      <td>0.797838</td>\n",
       "      <td>0.016473</td>\n",
       "    </tr>\n",
       "    <tr>\n",
       "      <th>292</th>\n",
       "      <td>RF_n=10_depth=20_criterion=gini</td>\n",
       "      <td>0.809614</td>\n",
       "      <td>0.798817</td>\n",
       "      <td>0.797838</td>\n",
       "      <td>0.011398</td>\n",
       "    </tr>\n",
       "    <tr>\n",
       "      <th>270</th>\n",
       "      <td>RF_n=10_depth=None_criterion=gini</td>\n",
       "      <td>0.809614</td>\n",
       "      <td>0.798817</td>\n",
       "      <td>0.797838</td>\n",
       "      <td>0.011059</td>\n",
       "    </tr>\n",
       "    <tr>\n",
       "      <th>294</th>\n",
       "      <td>RF_n=10_depth=30_criterion=gini</td>\n",
       "      <td>0.809614</td>\n",
       "      <td>0.798817</td>\n",
       "      <td>0.797838</td>\n",
       "      <td>0.011355</td>\n",
       "    </tr>\n",
       "    <tr>\n",
       "      <th>150</th>\n",
       "      <td>RF_n=6_depth=None_criterion=gini</td>\n",
       "      <td>0.810263</td>\n",
       "      <td>0.798710</td>\n",
       "      <td>0.797490</td>\n",
       "      <td>0.007359</td>\n",
       "    </tr>\n",
       "    <tr>\n",
       "      <th>174</th>\n",
       "      <td>RF_n=6_depth=30_criterion=gini</td>\n",
       "      <td>0.810263</td>\n",
       "      <td>0.798710</td>\n",
       "      <td>0.797490</td>\n",
       "      <td>0.007242</td>\n",
       "    </tr>\n",
       "    <tr>\n",
       "      <th>172</th>\n",
       "      <td>RF_n=6_depth=20_criterion=gini</td>\n",
       "      <td>0.810263</td>\n",
       "      <td>0.798710</td>\n",
       "      <td>0.797490</td>\n",
       "      <td>0.007124</td>\n",
       "    </tr>\n",
       "    <tr>\n",
       "      <th>176</th>\n",
       "      <td>RF_n=6_depth=40_criterion=gini</td>\n",
       "      <td>0.810263</td>\n",
       "      <td>0.798710</td>\n",
       "      <td>0.797490</td>\n",
       "      <td>0.007129</td>\n",
       "    </tr>\n",
       "    <tr>\n",
       "      <th>178</th>\n",
       "      <td>RF_n=6_depth=50_criterion=gini</td>\n",
       "      <td>0.810263</td>\n",
       "      <td>0.798710</td>\n",
       "      <td>0.797490</td>\n",
       "      <td>0.007113</td>\n",
       "    </tr>\n",
       "    <tr>\n",
       "      <th>164</th>\n",
       "      <td>RF_n=6_depth=7_criterion=gini</td>\n",
       "      <td>0.811034</td>\n",
       "      <td>0.799355</td>\n",
       "      <td>0.797450</td>\n",
       "      <td>0.006968</td>\n",
       "    </tr>\n",
       "    <tr>\n",
       "      <th>146</th>\n",
       "      <td>RF_n=5_depth=40_criterion=gini</td>\n",
       "      <td>0.807487</td>\n",
       "      <td>0.798710</td>\n",
       "      <td>0.797197</td>\n",
       "      <td>0.005823</td>\n",
       "    </tr>\n",
       "    <tr>\n",
       "      <th>144</th>\n",
       "      <td>RF_n=5_depth=30_criterion=gini</td>\n",
       "      <td>0.807487</td>\n",
       "      <td>0.798710</td>\n",
       "      <td>0.797197</td>\n",
       "      <td>0.006164</td>\n",
       "    </tr>\n",
       "    <tr>\n",
       "      <th>142</th>\n",
       "      <td>RF_n=5_depth=20_criterion=gini</td>\n",
       "      <td>0.807487</td>\n",
       "      <td>0.798710</td>\n",
       "      <td>0.797197</td>\n",
       "      <td>0.005910</td>\n",
       "    </tr>\n",
       "    <tr>\n",
       "      <th>120</th>\n",
       "      <td>RF_n=5_depth=None_criterion=gini</td>\n",
       "      <td>0.807487</td>\n",
       "      <td>0.798710</td>\n",
       "      <td>0.797197</td>\n",
       "      <td>0.006447</td>\n",
       "    </tr>\n",
       "    <tr>\n",
       "      <th>148</th>\n",
       "      <td>RF_n=5_depth=50_criterion=gini</td>\n",
       "      <td>0.807487</td>\n",
       "      <td>0.798710</td>\n",
       "      <td>0.797197</td>\n",
       "      <td>0.006039</td>\n",
       "    </tr>\n",
       "    <tr>\n",
       "      <th>99</th>\n",
       "      <td>RF_n=4_depth=4_criterion=entropy</td>\n",
       "      <td>0.807404</td>\n",
       "      <td>0.798602</td>\n",
       "      <td>0.797008</td>\n",
       "      <td>0.004720</td>\n",
       "    </tr>\n",
       "    <tr>\n",
       "      <th>196</th>\n",
       "      <td>RF_n=7_depth=8_criterion=gini</td>\n",
       "      <td>0.805108</td>\n",
       "      <td>0.798602</td>\n",
       "      <td>0.796842</td>\n",
       "      <td>0.008370</td>\n",
       "    </tr>\n",
       "    <tr>\n",
       "      <th>286</th>\n",
       "      <td>RF_n=10_depth=8_criterion=gini</td>\n",
       "      <td>0.810569</td>\n",
       "      <td>0.798387</td>\n",
       "      <td>0.796813</td>\n",
       "      <td>0.011252</td>\n",
       "    </tr>\n",
       "    <tr>\n",
       "      <th>258</th>\n",
       "      <td>RF_n=9_depth=9_criterion=gini</td>\n",
       "      <td>0.807939</td>\n",
       "      <td>0.798495</td>\n",
       "      <td>0.796698</td>\n",
       "      <td>0.010787</td>\n",
       "    </tr>\n",
       "    <tr>\n",
       "      <th>159</th>\n",
       "      <td>RF_n=6_depth=4_criterion=entropy</td>\n",
       "      <td>0.810179</td>\n",
       "      <td>0.798817</td>\n",
       "      <td>0.796438</td>\n",
       "      <td>0.008190</td>\n",
       "    </tr>\n",
       "    <tr>\n",
       "      <th>370</th>\n",
       "      <td>RF_n=40_depth=5_criterion=gini</td>\n",
       "      <td>0.813699</td>\n",
       "      <td>0.798817</td>\n",
       "      <td>0.795349</td>\n",
       "      <td>0.049599</td>\n",
       "    </tr>\n",
       "    <tr>\n",
       "      <th>302</th>\n",
       "      <td>RF_n=20_depth=1_criterion=gini</td>\n",
       "      <td>0.813432</td>\n",
       "      <td>0.798925</td>\n",
       "      <td>0.794501</td>\n",
       "      <td>0.023085</td>\n",
       "    </tr>\n",
       "    <tr>\n",
       "      <th>231</th>\n",
       "      <td>RF_n=8_depth=10_criterion=entropy</td>\n",
       "      <td>0.802420</td>\n",
       "      <td>0.795269</td>\n",
       "      <td>0.794348</td>\n",
       "      <td>0.009245</td>\n",
       "    </tr>\n",
       "    <tr>\n",
       "      <th>210</th>\n",
       "      <td>RF_n=8_depth=None_criterion=gini</td>\n",
       "      <td>0.808693</td>\n",
       "      <td>0.795484</td>\n",
       "      <td>0.794217</td>\n",
       "      <td>0.010007</td>\n",
       "    </tr>\n",
       "    <tr>\n",
       "      <th>238</th>\n",
       "      <td>RF_n=8_depth=50_criterion=gini</td>\n",
       "      <td>0.808693</td>\n",
       "      <td>0.795484</td>\n",
       "      <td>0.794217</td>\n",
       "      <td>0.009081</td>\n",
       "    </tr>\n",
       "    <tr>\n",
       "      <th>232</th>\n",
       "      <td>RF_n=8_depth=20_criterion=gini</td>\n",
       "      <td>0.808693</td>\n",
       "      <td>0.795484</td>\n",
       "      <td>0.794217</td>\n",
       "      <td>0.009443</td>\n",
       "    </tr>\n",
       "    <tr>\n",
       "      <th>234</th>\n",
       "      <td>RF_n=8_depth=30_criterion=gini</td>\n",
       "      <td>0.808693</td>\n",
       "      <td>0.795484</td>\n",
       "      <td>0.794217</td>\n",
       "      <td>0.009192</td>\n",
       "    </tr>\n",
       "    <tr>\n",
       "      <th>236</th>\n",
       "      <td>RF_n=8_depth=40_criterion=gini</td>\n",
       "      <td>0.808693</td>\n",
       "      <td>0.795484</td>\n",
       "      <td>0.794217</td>\n",
       "      <td>0.009382</td>\n",
       "    </tr>\n",
       "    <tr>\n",
       "      <th>72</th>\n",
       "      <td>RF_n=3_depth=6_criterion=gini</td>\n",
       "      <td>0.802853</td>\n",
       "      <td>0.795054</td>\n",
       "      <td>0.793983</td>\n",
       "      <td>0.005322</td>\n",
       "    </tr>\n",
       "    <tr>\n",
       "      <th>73</th>\n",
       "      <td>RF_n=3_depth=6_criterion=entropy</td>\n",
       "      <td>0.800234</td>\n",
       "      <td>0.795484</td>\n",
       "      <td>0.793902</td>\n",
       "      <td>0.004732</td>\n",
       "    </tr>\n",
       "    <tr>\n",
       "      <th>290</th>\n",
       "      <td>RF_n=10_depth=10_criterion=gini</td>\n",
       "      <td>0.810608</td>\n",
       "      <td>0.795591</td>\n",
       "      <td>0.793839</td>\n",
       "      <td>0.014487</td>\n",
       "    </tr>\n",
       "    <tr>\n",
       "      <th>76</th>\n",
       "      <td>RF_n=3_depth=8_criterion=gini</td>\n",
       "      <td>0.805968</td>\n",
       "      <td>0.795376</td>\n",
       "      <td>0.793418</td>\n",
       "      <td>0.003878</td>\n",
       "    </tr>\n",
       "    <tr>\n",
       "      <th>168</th>\n",
       "      <td>RF_n=6_depth=9_criterion=gini</td>\n",
       "      <td>0.811271</td>\n",
       "      <td>0.795161</td>\n",
       "      <td>0.793197</td>\n",
       "      <td>0.007273</td>\n",
       "    </tr>\n",
       "    <tr>\n",
       "      <th>205</th>\n",
       "      <td>RF_n=7_depth=30_criterion=entropy</td>\n",
       "      <td>0.806623</td>\n",
       "      <td>0.795484</td>\n",
       "      <td>0.793108</td>\n",
       "      <td>0.008353</td>\n",
       "    </tr>\n",
       "    <tr>\n",
       "      <th>181</th>\n",
       "      <td>RF_n=7_depth=None_criterion=entropy</td>\n",
       "      <td>0.806623</td>\n",
       "      <td>0.795484</td>\n",
       "      <td>0.793108</td>\n",
       "      <td>0.008346</td>\n",
       "    </tr>\n",
       "    <tr>\n",
       "      <th>203</th>\n",
       "      <td>RF_n=7_depth=20_criterion=entropy</td>\n",
       "      <td>0.806623</td>\n",
       "      <td>0.795484</td>\n",
       "      <td>0.793108</td>\n",
       "      <td>0.009786</td>\n",
       "    </tr>\n",
       "    <tr>\n",
       "      <th>209</th>\n",
       "      <td>RF_n=7_depth=50_criterion=entropy</td>\n",
       "      <td>0.806623</td>\n",
       "      <td>0.795484</td>\n",
       "      <td>0.793108</td>\n",
       "      <td>0.008310</td>\n",
       "    </tr>\n",
       "    <tr>\n",
       "      <th>207</th>\n",
       "      <td>RF_n=7_depth=40_criterion=entropy</td>\n",
       "      <td>0.806623</td>\n",
       "      <td>0.795484</td>\n",
       "      <td>0.793108</td>\n",
       "      <td>0.008263</td>\n",
       "    </tr>\n",
       "    <tr>\n",
       "      <th>134</th>\n",
       "      <td>RF_n=5_depth=7_criterion=gini</td>\n",
       "      <td>0.810169</td>\n",
       "      <td>0.795914</td>\n",
       "      <td>0.792854</td>\n",
       "      <td>0.005988</td>\n",
       "    </tr>\n",
       "    <tr>\n",
       "      <th>198</th>\n",
       "      <td>RF_n=7_depth=9_criterion=gini</td>\n",
       "      <td>0.808496</td>\n",
       "      <td>0.795054</td>\n",
       "      <td>0.791946</td>\n",
       "      <td>0.008088</td>\n",
       "    </tr>\n",
       "    <tr>\n",
       "      <th>109</th>\n",
       "      <td>RF_n=4_depth=9_criterion=entropy</td>\n",
       "      <td>0.802435</td>\n",
       "      <td>0.792581</td>\n",
       "      <td>0.791610</td>\n",
       "      <td>0.005238</td>\n",
       "    </tr>\n",
       "    <tr>\n",
       "      <th>166</th>\n",
       "      <td>RF_n=6_depth=8_criterion=gini</td>\n",
       "      <td>0.801845</td>\n",
       "      <td>0.792043</td>\n",
       "      <td>0.791143</td>\n",
       "      <td>0.007082</td>\n",
       "    </tr>\n",
       "    <tr>\n",
       "      <th>15</th>\n",
       "      <td>RF_n=1_depth=7_criterion=entropy</td>\n",
       "      <td>0.802331</td>\n",
       "      <td>0.792473</td>\n",
       "      <td>0.790812</td>\n",
       "      <td>0.001887</td>\n",
       "    </tr>\n",
       "    <tr>\n",
       "      <th>39</th>\n",
       "      <td>RF_n=2_depth=4_criterion=entropy</td>\n",
       "      <td>0.803046</td>\n",
       "      <td>0.792473</td>\n",
       "      <td>0.790614</td>\n",
       "      <td>0.002751</td>\n",
       "    </tr>\n",
       "    <tr>\n",
       "      <th>95</th>\n",
       "      <td>RF_n=4_depth=2_criterion=entropy</td>\n",
       "      <td>0.803614</td>\n",
       "      <td>0.792581</td>\n",
       "      <td>0.790432</td>\n",
       "      <td>0.004589</td>\n",
       "    </tr>\n",
       "    <tr>\n",
       "      <th>129</th>\n",
       "      <td>RF_n=5_depth=4_criterion=entropy</td>\n",
       "      <td>0.801128</td>\n",
       "      <td>0.792151</td>\n",
       "      <td>0.790277</td>\n",
       "      <td>0.005981</td>\n",
       "    </tr>\n",
       "    <tr>\n",
       "      <th>80</th>\n",
       "      <td>RF_n=3_depth=10_criterion=gini</td>\n",
       "      <td>0.805667</td>\n",
       "      <td>0.791935</td>\n",
       "      <td>0.789752</td>\n",
       "      <td>0.004177</td>\n",
       "    </tr>\n",
       "    <tr>\n",
       "      <th>122</th>\n",
       "      <td>RF_n=5_depth=1_criterion=gini</td>\n",
       "      <td>0.808627</td>\n",
       "      <td>0.795054</td>\n",
       "      <td>0.789662</td>\n",
       "      <td>0.005730</td>\n",
       "    </tr>\n",
       "    <tr>\n",
       "      <th>123</th>\n",
       "      <td>RF_n=5_depth=1_criterion=entropy</td>\n",
       "      <td>0.808627</td>\n",
       "      <td>0.795054</td>\n",
       "      <td>0.789662</td>\n",
       "      <td>0.005523</td>\n",
       "    </tr>\n",
       "    <tr>\n",
       "      <th>34</th>\n",
       "      <td>RF_n=2_depth=2_criterion=gini</td>\n",
       "      <td>0.806189</td>\n",
       "      <td>0.792366</td>\n",
       "      <td>0.789641</td>\n",
       "      <td>0.002645</td>\n",
       "    </tr>\n",
       "    <tr>\n",
       "      <th>110</th>\n",
       "      <td>RF_n=4_depth=10_criterion=gini</td>\n",
       "      <td>0.812766</td>\n",
       "      <td>0.792043</td>\n",
       "      <td>0.788988</td>\n",
       "      <td>0.005207</td>\n",
       "    </tr>\n",
       "    <tr>\n",
       "      <th>1</th>\n",
       "      <td>RF_n=1_depth=None_criterion=entropy</td>\n",
       "      <td>0.793042</td>\n",
       "      <td>0.789247</td>\n",
       "      <td>0.788253</td>\n",
       "      <td>0.002576</td>\n",
       "    </tr>\n",
       "    <tr>\n",
       "      <th>25</th>\n",
       "      <td>RF_n=1_depth=30_criterion=entropy</td>\n",
       "      <td>0.793042</td>\n",
       "      <td>0.789247</td>\n",
       "      <td>0.788253</td>\n",
       "      <td>0.001762</td>\n",
       "    </tr>\n",
       "    <tr>\n",
       "      <th>23</th>\n",
       "      <td>RF_n=1_depth=20_criterion=entropy</td>\n",
       "      <td>0.793042</td>\n",
       "      <td>0.789247</td>\n",
       "      <td>0.788253</td>\n",
       "      <td>0.001832</td>\n",
       "    </tr>\n",
       "    <tr>\n",
       "      <th>27</th>\n",
       "      <td>RF_n=1_depth=40_criterion=entropy</td>\n",
       "      <td>0.793042</td>\n",
       "      <td>0.789247</td>\n",
       "      <td>0.788253</td>\n",
       "      <td>0.001806</td>\n",
       "    </tr>\n",
       "    <tr>\n",
       "      <th>29</th>\n",
       "      <td>RF_n=1_depth=50_criterion=entropy</td>\n",
       "      <td>0.793042</td>\n",
       "      <td>0.789247</td>\n",
       "      <td>0.788253</td>\n",
       "      <td>0.001753</td>\n",
       "    </tr>\n",
       "    <tr>\n",
       "      <th>36</th>\n",
       "      <td>RF_n=2_depth=3_criterion=gini</td>\n",
       "      <td>0.796783</td>\n",
       "      <td>0.789032</td>\n",
       "      <td>0.787770</td>\n",
       "      <td>0.002767</td>\n",
       "    </tr>\n",
       "    <tr>\n",
       "      <th>117</th>\n",
       "      <td>RF_n=4_depth=40_criterion=entropy</td>\n",
       "      <td>0.800914</td>\n",
       "      <td>0.788710</td>\n",
       "      <td>0.787580</td>\n",
       "      <td>0.005029</td>\n",
       "    </tr>\n",
       "    <tr>\n",
       "      <th>113</th>\n",
       "      <td>RF_n=4_depth=20_criterion=entropy</td>\n",
       "      <td>0.800914</td>\n",
       "      <td>0.788710</td>\n",
       "      <td>0.787580</td>\n",
       "      <td>0.005110</td>\n",
       "    </tr>\n",
       "    <tr>\n",
       "      <th>115</th>\n",
       "      <td>RF_n=4_depth=30_criterion=entropy</td>\n",
       "      <td>0.800914</td>\n",
       "      <td>0.788710</td>\n",
       "      <td>0.787580</td>\n",
       "      <td>0.004911</td>\n",
       "    </tr>\n",
       "    <tr>\n",
       "      <th>91</th>\n",
       "      <td>RF_n=4_depth=None_criterion=entropy</td>\n",
       "      <td>0.800914</td>\n",
       "      <td>0.788710</td>\n",
       "      <td>0.787580</td>\n",
       "      <td>0.005275</td>\n",
       "    </tr>\n",
       "    <tr>\n",
       "      <th>119</th>\n",
       "      <td>RF_n=4_depth=50_criterion=entropy</td>\n",
       "      <td>0.800914</td>\n",
       "      <td>0.788710</td>\n",
       "      <td>0.787580</td>\n",
       "      <td>0.005127</td>\n",
       "    </tr>\n",
       "    <tr>\n",
       "      <th>228</th>\n",
       "      <td>RF_n=8_depth=9_criterion=gini</td>\n",
       "      <td>0.798223</td>\n",
       "      <td>0.788602</td>\n",
       "      <td>0.787290</td>\n",
       "      <td>0.010612</td>\n",
       "    </tr>\n",
       "    <tr>\n",
       "      <th>194</th>\n",
       "      <td>RF_n=7_depth=7_criterion=gini</td>\n",
       "      <td>0.800076</td>\n",
       "      <td>0.789677</td>\n",
       "      <td>0.787167</td>\n",
       "      <td>0.008031</td>\n",
       "    </tr>\n",
       "    <tr>\n",
       "      <th>101</th>\n",
       "      <td>RF_n=4_depth=5_criterion=entropy</td>\n",
       "      <td>0.799081</td>\n",
       "      <td>0.788817</td>\n",
       "      <td>0.786282</td>\n",
       "      <td>0.005034</td>\n",
       "    </tr>\n",
       "    <tr>\n",
       "      <th>256</th>\n",
       "      <td>RF_n=9_depth=8_criterion=gini</td>\n",
       "      <td>0.799501</td>\n",
       "      <td>0.788710</td>\n",
       "      <td>0.786074</td>\n",
       "      <td>0.010663</td>\n",
       "    </tr>\n",
       "    <tr>\n",
       "      <th>21</th>\n",
       "      <td>RF_n=1_depth=10_criterion=entropy</td>\n",
       "      <td>0.789931</td>\n",
       "      <td>0.785914</td>\n",
       "      <td>0.784946</td>\n",
       "      <td>0.002045</td>\n",
       "    </tr>\n",
       "    <tr>\n",
       "      <th>126</th>\n",
       "      <td>RF_n=5_depth=3_criterion=gini</td>\n",
       "      <td>0.799349</td>\n",
       "      <td>0.788710</td>\n",
       "      <td>0.784696</td>\n",
       "      <td>0.005895</td>\n",
       "    </tr>\n",
       "    <tr>\n",
       "      <th>136</th>\n",
       "      <td>RF_n=5_depth=8_criterion=gini</td>\n",
       "      <td>0.794026</td>\n",
       "      <td>0.785806</td>\n",
       "      <td>0.784238</td>\n",
       "      <td>0.006370</td>\n",
       "    </tr>\n",
       "    <tr>\n",
       "      <th>252</th>\n",
       "      <td>RF_n=9_depth=6_criterion=gini</td>\n",
       "      <td>0.793319</td>\n",
       "      <td>0.785269</td>\n",
       "      <td>0.783749</td>\n",
       "      <td>0.010249</td>\n",
       "    </tr>\n",
       "    <tr>\n",
       "      <th>94</th>\n",
       "      <td>RF_n=4_depth=2_criterion=gini</td>\n",
       "      <td>0.800326</td>\n",
       "      <td>0.786237</td>\n",
       "      <td>0.783680</td>\n",
       "      <td>0.004471</td>\n",
       "    </tr>\n",
       "    <tr>\n",
       "      <th>222</th>\n",
       "      <td>RF_n=8_depth=6_criterion=gini</td>\n",
       "      <td>0.794268</td>\n",
       "      <td>0.785376</td>\n",
       "      <td>0.783619</td>\n",
       "      <td>0.009114</td>\n",
       "    </tr>\n",
       "    <tr>\n",
       "      <th>212</th>\n",
       "      <td>RF_n=8_depth=1_criterion=gini</td>\n",
       "      <td>0.802847</td>\n",
       "      <td>0.788602</td>\n",
       "      <td>0.782849</td>\n",
       "      <td>0.008088</td>\n",
       "    </tr>\n",
       "    <tr>\n",
       "      <th>213</th>\n",
       "      <td>RF_n=8_depth=1_criterion=entropy</td>\n",
       "      <td>0.802847</td>\n",
       "      <td>0.788602</td>\n",
       "      <td>0.782849</td>\n",
       "      <td>0.008115</td>\n",
       "    </tr>\n",
       "    <tr>\n",
       "      <th>100</th>\n",
       "      <td>RF_n=4_depth=5_criterion=gini</td>\n",
       "      <td>0.797879</td>\n",
       "      <td>0.785376</td>\n",
       "      <td>0.782807</td>\n",
       "      <td>0.005372</td>\n",
       "    </tr>\n",
       "    <tr>\n",
       "      <th>35</th>\n",
       "      <td>RF_n=2_depth=2_criterion=entropy</td>\n",
       "      <td>0.800759</td>\n",
       "      <td>0.785806</td>\n",
       "      <td>0.782375</td>\n",
       "      <td>0.002704</td>\n",
       "    </tr>\n",
       "    <tr>\n",
       "      <th>107</th>\n",
       "      <td>RF_n=4_depth=8_criterion=entropy</td>\n",
       "      <td>0.792837</td>\n",
       "      <td>0.782688</td>\n",
       "      <td>0.782111</td>\n",
       "      <td>0.005274</td>\n",
       "    </tr>\n",
       "    <tr>\n",
       "      <th>77</th>\n",
       "      <td>RF_n=3_depth=8_criterion=entropy</td>\n",
       "      <td>0.789245</td>\n",
       "      <td>0.782796</td>\n",
       "      <td>0.781393</td>\n",
       "      <td>0.003911</td>\n",
       "    </tr>\n",
       "    <tr>\n",
       "      <th>288</th>\n",
       "      <td>RF_n=10_depth=9_criterion=gini</td>\n",
       "      <td>0.792939</td>\n",
       "      <td>0.782473</td>\n",
       "      <td>0.781191</td>\n",
       "      <td>0.012227</td>\n",
       "    </tr>\n",
       "    <tr>\n",
       "      <th>37</th>\n",
       "      <td>RF_n=2_depth=3_criterion=entropy</td>\n",
       "      <td>0.790415</td>\n",
       "      <td>0.782473</td>\n",
       "      <td>0.781103</td>\n",
       "      <td>0.002658</td>\n",
       "    </tr>\n",
       "    <tr>\n",
       "      <th>226</th>\n",
       "      <td>RF_n=8_depth=8_criterion=gini</td>\n",
       "      <td>0.793677</td>\n",
       "      <td>0.782151</td>\n",
       "      <td>0.780851</td>\n",
       "      <td>0.010251</td>\n",
       "    </tr>\n",
       "    <tr>\n",
       "      <th>38</th>\n",
       "      <td>RF_n=2_depth=4_criterion=gini</td>\n",
       "      <td>0.791747</td>\n",
       "      <td>0.782151</td>\n",
       "      <td>0.780586</td>\n",
       "      <td>0.002783</td>\n",
       "    </tr>\n",
       "    <tr>\n",
       "      <th>9</th>\n",
       "      <td>RF_n=1_depth=4_criterion=entropy</td>\n",
       "      <td>0.790807</td>\n",
       "      <td>0.782258</td>\n",
       "      <td>0.780581</td>\n",
       "      <td>0.002354</td>\n",
       "    </tr>\n",
       "    <tr>\n",
       "      <th>13</th>\n",
       "      <td>RF_n=1_depth=6_criterion=entropy</td>\n",
       "      <td>0.788640</td>\n",
       "      <td>0.781935</td>\n",
       "      <td>0.780464</td>\n",
       "      <td>0.001815</td>\n",
       "    </tr>\n",
       "    <tr>\n",
       "      <th>106</th>\n",
       "      <td>RF_n=4_depth=8_criterion=gini</td>\n",
       "      <td>0.797069</td>\n",
       "      <td>0.782258</td>\n",
       "      <td>0.780324</td>\n",
       "      <td>0.005530</td>\n",
       "    </tr>\n",
       "    <tr>\n",
       "      <th>71</th>\n",
       "      <td>RF_n=3_depth=5_criterion=entropy</td>\n",
       "      <td>0.791400</td>\n",
       "      <td>0.782258</td>\n",
       "      <td>0.779992</td>\n",
       "      <td>0.004804</td>\n",
       "    </tr>\n",
       "    <tr>\n",
       "      <th>60</th>\n",
       "      <td>RF_n=3_depth=None_criterion=gini</td>\n",
       "      <td>0.795746</td>\n",
       "      <td>0.782043</td>\n",
       "      <td>0.779824</td>\n",
       "      <td>0.004430</td>\n",
       "    </tr>\n",
       "    <tr>\n",
       "      <th>88</th>\n",
       "      <td>RF_n=3_depth=50_criterion=gini</td>\n",
       "      <td>0.795746</td>\n",
       "      <td>0.782043</td>\n",
       "      <td>0.779824</td>\n",
       "      <td>0.004169</td>\n",
       "    </tr>\n",
       "    <tr>\n",
       "      <th>86</th>\n",
       "      <td>RF_n=3_depth=40_criterion=gini</td>\n",
       "      <td>0.795746</td>\n",
       "      <td>0.782043</td>\n",
       "      <td>0.779824</td>\n",
       "      <td>0.003927</td>\n",
       "    </tr>\n",
       "    <tr>\n",
       "      <th>84</th>\n",
       "      <td>RF_n=3_depth=30_criterion=gini</td>\n",
       "      <td>0.795746</td>\n",
       "      <td>0.782043</td>\n",
       "      <td>0.779824</td>\n",
       "      <td>0.003844</td>\n",
       "    </tr>\n",
       "    <tr>\n",
       "      <th>82</th>\n",
       "      <td>RF_n=3_depth=20_criterion=gini</td>\n",
       "      <td>0.795746</td>\n",
       "      <td>0.782043</td>\n",
       "      <td>0.779824</td>\n",
       "      <td>0.004205</td>\n",
       "    </tr>\n",
       "    <tr>\n",
       "      <th>183</th>\n",
       "      <td>RF_n=7_depth=1_criterion=entropy</td>\n",
       "      <td>0.802225</td>\n",
       "      <td>0.785161</td>\n",
       "      <td>0.779561</td>\n",
       "      <td>0.007208</td>\n",
       "    </tr>\n",
       "    <tr>\n",
       "      <th>182</th>\n",
       "      <td>RF_n=7_depth=1_criterion=gini</td>\n",
       "      <td>0.802225</td>\n",
       "      <td>0.785161</td>\n",
       "      <td>0.779561</td>\n",
       "      <td>0.008340</td>\n",
       "    </tr>\n",
       "    <tr>\n",
       "      <th>153</th>\n",
       "      <td>RF_n=6_depth=1_criterion=entropy</td>\n",
       "      <td>0.810819</td>\n",
       "      <td>0.788925</td>\n",
       "      <td>0.778588</td>\n",
       "      <td>0.007299</td>\n",
       "    </tr>\n",
       "    <tr>\n",
       "      <th>152</th>\n",
       "      <td>RF_n=6_depth=1_criterion=gini</td>\n",
       "      <td>0.810819</td>\n",
       "      <td>0.788925</td>\n",
       "      <td>0.778588</td>\n",
       "      <td>0.006489</td>\n",
       "    </tr>\n",
       "    <tr>\n",
       "      <th>12</th>\n",
       "      <td>RF_n=1_depth=6_criterion=gini</td>\n",
       "      <td>0.794089</td>\n",
       "      <td>0.781935</td>\n",
       "      <td>0.778469</td>\n",
       "      <td>0.001737</td>\n",
       "    </tr>\n",
       "    <tr>\n",
       "      <th>104</th>\n",
       "      <td>RF_n=4_depth=7_criterion=gini</td>\n",
       "      <td>0.793012</td>\n",
       "      <td>0.779570</td>\n",
       "      <td>0.778012</td>\n",
       "      <td>0.005187</td>\n",
       "    </tr>\n",
       "    <tr>\n",
       "      <th>14</th>\n",
       "      <td>RF_n=1_depth=7_criterion=gini</td>\n",
       "      <td>0.791782</td>\n",
       "      <td>0.779355</td>\n",
       "      <td>0.777091</td>\n",
       "      <td>0.001969</td>\n",
       "    </tr>\n",
       "    <tr>\n",
       "      <th>64</th>\n",
       "      <td>RF_n=3_depth=2_criterion=gini</td>\n",
       "      <td>0.789254</td>\n",
       "      <td>0.779355</td>\n",
       "      <td>0.776669</td>\n",
       "      <td>0.003765</td>\n",
       "    </tr>\n",
       "    <tr>\n",
       "      <th>96</th>\n",
       "      <td>RF_n=4_depth=3_criterion=gini</td>\n",
       "      <td>0.787964</td>\n",
       "      <td>0.778925</td>\n",
       "      <td>0.776519</td>\n",
       "      <td>0.004630</td>\n",
       "    </tr>\n",
       "    <tr>\n",
       "      <th>78</th>\n",
       "      <td>RF_n=3_depth=9_criterion=gini</td>\n",
       "      <td>0.791324</td>\n",
       "      <td>0.778710</td>\n",
       "      <td>0.776503</td>\n",
       "      <td>0.003936</td>\n",
       "    </tr>\n",
       "    <tr>\n",
       "      <th>114</th>\n",
       "      <td>RF_n=4_depth=30_criterion=gini</td>\n",
       "      <td>0.800670</td>\n",
       "      <td>0.778925</td>\n",
       "      <td>0.775757</td>\n",
       "      <td>0.005059</td>\n",
       "    </tr>\n",
       "    <tr>\n",
       "      <th>112</th>\n",
       "      <td>RF_n=4_depth=20_criterion=gini</td>\n",
       "      <td>0.800670</td>\n",
       "      <td>0.778925</td>\n",
       "      <td>0.775757</td>\n",
       "      <td>0.005019</td>\n",
       "    </tr>\n",
       "    <tr>\n",
       "      <th>116</th>\n",
       "      <td>RF_n=4_depth=40_criterion=gini</td>\n",
       "      <td>0.800670</td>\n",
       "      <td>0.778925</td>\n",
       "      <td>0.775757</td>\n",
       "      <td>0.004913</td>\n",
       "    </tr>\n",
       "    <tr>\n",
       "      <th>90</th>\n",
       "      <td>RF_n=4_depth=None_criterion=gini</td>\n",
       "      <td>0.800670</td>\n",
       "      <td>0.778925</td>\n",
       "      <td>0.775757</td>\n",
       "      <td>0.005145</td>\n",
       "    </tr>\n",
       "    <tr>\n",
       "      <th>118</th>\n",
       "      <td>RF_n=4_depth=50_criterion=gini</td>\n",
       "      <td>0.800670</td>\n",
       "      <td>0.778925</td>\n",
       "      <td>0.775757</td>\n",
       "      <td>0.005025</td>\n",
       "    </tr>\n",
       "    <tr>\n",
       "      <th>108</th>\n",
       "      <td>RF_n=4_depth=9_criterion=gini</td>\n",
       "      <td>0.798340</td>\n",
       "      <td>0.778602</td>\n",
       "      <td>0.775514</td>\n",
       "      <td>0.004992</td>\n",
       "    </tr>\n",
       "    <tr>\n",
       "      <th>19</th>\n",
       "      <td>RF_n=1_depth=9_criterion=entropy</td>\n",
       "      <td>0.780421</td>\n",
       "      <td>0.776022</td>\n",
       "      <td>0.775405</td>\n",
       "      <td>0.001779</td>\n",
       "    </tr>\n",
       "    <tr>\n",
       "      <th>102</th>\n",
       "      <td>RF_n=4_depth=6_criterion=gini</td>\n",
       "      <td>0.785646</td>\n",
       "      <td>0.775699</td>\n",
       "      <td>0.773963</td>\n",
       "      <td>0.005411</td>\n",
       "    </tr>\n",
       "    <tr>\n",
       "      <th>74</th>\n",
       "      <td>RF_n=3_depth=7_criterion=gini</td>\n",
       "      <td>0.788280</td>\n",
       "      <td>0.775806</td>\n",
       "      <td>0.772935</td>\n",
       "      <td>0.004262</td>\n",
       "    </tr>\n",
       "    <tr>\n",
       "      <th>7</th>\n",
       "      <td>RF_n=1_depth=3_criterion=entropy</td>\n",
       "      <td>0.777455</td>\n",
       "      <td>0.772473</td>\n",
       "      <td>0.771440</td>\n",
       "      <td>0.001685</td>\n",
       "    </tr>\n",
       "    <tr>\n",
       "      <th>59</th>\n",
       "      <td>RF_n=2_depth=50_criterion=entropy</td>\n",
       "      <td>0.797235</td>\n",
       "      <td>0.772258</td>\n",
       "      <td>0.770507</td>\n",
       "      <td>0.002892</td>\n",
       "    </tr>\n",
       "    <tr>\n",
       "      <th>57</th>\n",
       "      <td>RF_n=2_depth=40_criterion=entropy</td>\n",
       "      <td>0.797235</td>\n",
       "      <td>0.772258</td>\n",
       "      <td>0.770507</td>\n",
       "      <td>0.002900</td>\n",
       "    </tr>\n",
       "    <tr>\n",
       "      <th>55</th>\n",
       "      <td>RF_n=2_depth=30_criterion=entropy</td>\n",
       "      <td>0.797235</td>\n",
       "      <td>0.772258</td>\n",
       "      <td>0.770507</td>\n",
       "      <td>0.002909</td>\n",
       "    </tr>\n",
       "    <tr>\n",
       "      <th>53</th>\n",
       "      <td>RF_n=2_depth=20_criterion=entropy</td>\n",
       "      <td>0.797235</td>\n",
       "      <td>0.772258</td>\n",
       "      <td>0.770507</td>\n",
       "      <td>0.002913</td>\n",
       "    </tr>\n",
       "    <tr>\n",
       "      <th>31</th>\n",
       "      <td>RF_n=2_depth=None_criterion=entropy</td>\n",
       "      <td>0.797235</td>\n",
       "      <td>0.772258</td>\n",
       "      <td>0.770507</td>\n",
       "      <td>0.002944</td>\n",
       "    </tr>\n",
       "    <tr>\n",
       "      <th>51</th>\n",
       "      <td>RF_n=2_depth=10_criterion=entropy</td>\n",
       "      <td>0.802869</td>\n",
       "      <td>0.772258</td>\n",
       "      <td>0.770094</td>\n",
       "      <td>0.002896</td>\n",
       "    </tr>\n",
       "    <tr>\n",
       "      <th>65</th>\n",
       "      <td>RF_n=3_depth=2_criterion=entropy</td>\n",
       "      <td>0.787788</td>\n",
       "      <td>0.772796</td>\n",
       "      <td>0.769219</td>\n",
       "      <td>0.003608</td>\n",
       "    </tr>\n",
       "    <tr>\n",
       "      <th>8</th>\n",
       "      <td>RF_n=1_depth=4_criterion=gini</td>\n",
       "      <td>0.775571</td>\n",
       "      <td>0.769355</td>\n",
       "      <td>0.768386</td>\n",
       "      <td>0.001754</td>\n",
       "    </tr>\n",
       "    <tr>\n",
       "      <th>272</th>\n",
       "      <td>RF_n=10_depth=1_criterion=gini</td>\n",
       "      <td>0.788545</td>\n",
       "      <td>0.772366</td>\n",
       "      <td>0.766227</td>\n",
       "      <td>0.010338</td>\n",
       "    </tr>\n",
       "    <tr>\n",
       "      <th>70</th>\n",
       "      <td>RF_n=3_depth=5_criterion=gini</td>\n",
       "      <td>0.776421</td>\n",
       "      <td>0.768925</td>\n",
       "      <td>0.766120</td>\n",
       "      <td>0.004767</td>\n",
       "    </tr>\n",
       "    <tr>\n",
       "      <th>17</th>\n",
       "      <td>RF_n=1_depth=8_criterion=entropy</td>\n",
       "      <td>0.772278</td>\n",
       "      <td>0.766022</td>\n",
       "      <td>0.764879</td>\n",
       "      <td>0.001752</td>\n",
       "    </tr>\n",
       "    <tr>\n",
       "      <th>6</th>\n",
       "      <td>RF_n=1_depth=3_criterion=gini</td>\n",
       "      <td>0.771830</td>\n",
       "      <td>0.766022</td>\n",
       "      <td>0.764655</td>\n",
       "      <td>0.001657</td>\n",
       "    </tr>\n",
       "    <tr>\n",
       "      <th>242</th>\n",
       "      <td>RF_n=9_depth=1_criterion=gini</td>\n",
       "      <td>0.789688</td>\n",
       "      <td>0.772258</td>\n",
       "      <td>0.763634</td>\n",
       "      <td>0.010175</td>\n",
       "    </tr>\n",
       "    <tr>\n",
       "      <th>243</th>\n",
       "      <td>RF_n=9_depth=1_criterion=entropy</td>\n",
       "      <td>0.789688</td>\n",
       "      <td>0.772258</td>\n",
       "      <td>0.763634</td>\n",
       "      <td>0.009074</td>\n",
       "    </tr>\n",
       "    <tr>\n",
       "      <th>273</th>\n",
       "      <td>RF_n=10_depth=1_criterion=entropy</td>\n",
       "      <td>0.786514</td>\n",
       "      <td>0.769032</td>\n",
       "      <td>0.762578</td>\n",
       "      <td>0.009855</td>\n",
       "    </tr>\n",
       "    <tr>\n",
       "      <th>10</th>\n",
       "      <td>RF_n=1_depth=5_criterion=gini</td>\n",
       "      <td>0.780600</td>\n",
       "      <td>0.765914</td>\n",
       "      <td>0.761908</td>\n",
       "      <td>0.002058</td>\n",
       "    </tr>\n",
       "    <tr>\n",
       "      <th>42</th>\n",
       "      <td>RF_n=2_depth=6_criterion=gini</td>\n",
       "      <td>0.782962</td>\n",
       "      <td>0.762151</td>\n",
       "      <td>0.759039</td>\n",
       "      <td>0.002926</td>\n",
       "    </tr>\n",
       "    <tr>\n",
       "      <th>41</th>\n",
       "      <td>RF_n=2_depth=5_criterion=entropy</td>\n",
       "      <td>0.778971</td>\n",
       "      <td>0.762473</td>\n",
       "      <td>0.758709</td>\n",
       "      <td>0.003074</td>\n",
       "    </tr>\n",
       "    <tr>\n",
       "      <th>18</th>\n",
       "      <td>RF_n=1_depth=9_criterion=gini</td>\n",
       "      <td>0.766365</td>\n",
       "      <td>0.758925</td>\n",
       "      <td>0.757503</td>\n",
       "      <td>0.001846</td>\n",
       "    </tr>\n",
       "    <tr>\n",
       "      <th>11</th>\n",
       "      <td>RF_n=1_depth=5_criterion=entropy</td>\n",
       "      <td>0.773589</td>\n",
       "      <td>0.758817</td>\n",
       "      <td>0.751807</td>\n",
       "      <td>0.001761</td>\n",
       "    </tr>\n",
       "    <tr>\n",
       "      <th>20</th>\n",
       "      <td>RF_n=1_depth=10_criterion=gini</td>\n",
       "      <td>0.760845</td>\n",
       "      <td>0.752688</td>\n",
       "      <td>0.751234</td>\n",
       "      <td>0.001833</td>\n",
       "    </tr>\n",
       "    <tr>\n",
       "      <th>49</th>\n",
       "      <td>RF_n=2_depth=9_criterion=entropy</td>\n",
       "      <td>0.781941</td>\n",
       "      <td>0.753011</td>\n",
       "      <td>0.750591</td>\n",
       "      <td>0.002885</td>\n",
       "    </tr>\n",
       "    <tr>\n",
       "      <th>4</th>\n",
       "      <td>RF_n=1_depth=2_criterion=gini</td>\n",
       "      <td>0.773490</td>\n",
       "      <td>0.752581</td>\n",
       "      <td>0.750028</td>\n",
       "      <td>0.002084</td>\n",
       "    </tr>\n",
       "    <tr>\n",
       "      <th>40</th>\n",
       "      <td>RF_n=2_depth=5_criterion=gini</td>\n",
       "      <td>0.771458</td>\n",
       "      <td>0.752581</td>\n",
       "      <td>0.747796</td>\n",
       "      <td>0.002796</td>\n",
       "    </tr>\n",
       "    <tr>\n",
       "      <th>45</th>\n",
       "      <td>RF_n=2_depth=7_criterion=entropy</td>\n",
       "      <td>0.768673</td>\n",
       "      <td>0.749462</td>\n",
       "      <td>0.747550</td>\n",
       "      <td>0.003412</td>\n",
       "    </tr>\n",
       "    <tr>\n",
       "      <th>5</th>\n",
       "      <td>RF_n=1_depth=2_criterion=entropy</td>\n",
       "      <td>0.778315</td>\n",
       "      <td>0.749355</td>\n",
       "      <td>0.745365</td>\n",
       "      <td>0.001777</td>\n",
       "    </tr>\n",
       "    <tr>\n",
       "      <th>47</th>\n",
       "      <td>RF_n=2_depth=8_criterion=entropy</td>\n",
       "      <td>0.763821</td>\n",
       "      <td>0.746022</td>\n",
       "      <td>0.744984</td>\n",
       "      <td>0.002866</td>\n",
       "    </tr>\n",
       "    <tr>\n",
       "      <th>26</th>\n",
       "      <td>RF_n=1_depth=40_criterion=gini</td>\n",
       "      <td>0.755849</td>\n",
       "      <td>0.745914</td>\n",
       "      <td>0.744321</td>\n",
       "      <td>0.001712</td>\n",
       "    </tr>\n",
       "    <tr>\n",
       "      <th>28</th>\n",
       "      <td>RF_n=1_depth=50_criterion=gini</td>\n",
       "      <td>0.755849</td>\n",
       "      <td>0.745914</td>\n",
       "      <td>0.744321</td>\n",
       "      <td>0.001761</td>\n",
       "    </tr>\n",
       "    <tr>\n",
       "      <th>0</th>\n",
       "      <td>RF_n=1_depth=None_criterion=gini</td>\n",
       "      <td>0.755849</td>\n",
       "      <td>0.745914</td>\n",
       "      <td>0.744321</td>\n",
       "      <td>0.004783</td>\n",
       "    </tr>\n",
       "    <tr>\n",
       "      <th>22</th>\n",
       "      <td>RF_n=1_depth=20_criterion=gini</td>\n",
       "      <td>0.755849</td>\n",
       "      <td>0.745914</td>\n",
       "      <td>0.744321</td>\n",
       "      <td>0.002104</td>\n",
       "    </tr>\n",
       "    <tr>\n",
       "      <th>24</th>\n",
       "      <td>RF_n=1_depth=30_criterion=gini</td>\n",
       "      <td>0.755849</td>\n",
       "      <td>0.745914</td>\n",
       "      <td>0.744321</td>\n",
       "      <td>0.001806</td>\n",
       "    </tr>\n",
       "    <tr>\n",
       "      <th>44</th>\n",
       "      <td>RF_n=2_depth=7_criterion=gini</td>\n",
       "      <td>0.774513</td>\n",
       "      <td>0.743118</td>\n",
       "      <td>0.740089</td>\n",
       "      <td>0.003271</td>\n",
       "    </tr>\n",
       "    <tr>\n",
       "      <th>50</th>\n",
       "      <td>RF_n=2_depth=10_criterion=gini</td>\n",
       "      <td>0.788320</td>\n",
       "      <td>0.742903</td>\n",
       "      <td>0.737011</td>\n",
       "      <td>0.002868</td>\n",
       "    </tr>\n",
       "    <tr>\n",
       "      <th>48</th>\n",
       "      <td>RF_n=2_depth=9_criterion=gini</td>\n",
       "      <td>0.780951</td>\n",
       "      <td>0.739462</td>\n",
       "      <td>0.734031</td>\n",
       "      <td>0.002937</td>\n",
       "    </tr>\n",
       "    <tr>\n",
       "      <th>2</th>\n",
       "      <td>RF_n=1_depth=1_criterion=gini</td>\n",
       "      <td>0.741253</td>\n",
       "      <td>0.736344</td>\n",
       "      <td>0.733965</td>\n",
       "      <td>0.003743</td>\n",
       "    </tr>\n",
       "    <tr>\n",
       "      <th>3</th>\n",
       "      <td>RF_n=1_depth=1_criterion=entropy</td>\n",
       "      <td>0.741253</td>\n",
       "      <td>0.736344</td>\n",
       "      <td>0.733965</td>\n",
       "      <td>0.004707</td>\n",
       "    </tr>\n",
       "    <tr>\n",
       "      <th>33</th>\n",
       "      <td>RF_n=2_depth=1_criterion=entropy</td>\n",
       "      <td>0.741253</td>\n",
       "      <td>0.736344</td>\n",
       "      <td>0.733965</td>\n",
       "      <td>0.002612</td>\n",
       "    </tr>\n",
       "    <tr>\n",
       "      <th>63</th>\n",
       "      <td>RF_n=3_depth=1_criterion=entropy</td>\n",
       "      <td>0.741253</td>\n",
       "      <td>0.736344</td>\n",
       "      <td>0.733965</td>\n",
       "      <td>0.003598</td>\n",
       "    </tr>\n",
       "    <tr>\n",
       "      <th>62</th>\n",
       "      <td>RF_n=3_depth=1_criterion=gini</td>\n",
       "      <td>0.741253</td>\n",
       "      <td>0.736344</td>\n",
       "      <td>0.733965</td>\n",
       "      <td>0.003465</td>\n",
       "    </tr>\n",
       "    <tr>\n",
       "      <th>32</th>\n",
       "      <td>RF_n=2_depth=1_criterion=gini</td>\n",
       "      <td>0.741253</td>\n",
       "      <td>0.736344</td>\n",
       "      <td>0.733965</td>\n",
       "      <td>0.002565</td>\n",
       "    </tr>\n",
       "    <tr>\n",
       "      <th>30</th>\n",
       "      <td>RF_n=2_depth=None_criterion=gini</td>\n",
       "      <td>0.788727</td>\n",
       "      <td>0.739570</td>\n",
       "      <td>0.733525</td>\n",
       "      <td>0.002852</td>\n",
       "    </tr>\n",
       "    <tr>\n",
       "      <th>58</th>\n",
       "      <td>RF_n=2_depth=50_criterion=gini</td>\n",
       "      <td>0.788727</td>\n",
       "      <td>0.739570</td>\n",
       "      <td>0.733525</td>\n",
       "      <td>0.002926</td>\n",
       "    </tr>\n",
       "    <tr>\n",
       "      <th>54</th>\n",
       "      <td>RF_n=2_depth=30_criterion=gini</td>\n",
       "      <td>0.788727</td>\n",
       "      <td>0.739570</td>\n",
       "      <td>0.733525</td>\n",
       "      <td>0.002990</td>\n",
       "    </tr>\n",
       "    <tr>\n",
       "      <th>52</th>\n",
       "      <td>RF_n=2_depth=20_criterion=gini</td>\n",
       "      <td>0.788727</td>\n",
       "      <td>0.739570</td>\n",
       "      <td>0.733525</td>\n",
       "      <td>0.002762</td>\n",
       "    </tr>\n",
       "    <tr>\n",
       "      <th>56</th>\n",
       "      <td>RF_n=2_depth=40_criterion=gini</td>\n",
       "      <td>0.788727</td>\n",
       "      <td>0.739570</td>\n",
       "      <td>0.733525</td>\n",
       "      <td>0.002806</td>\n",
       "    </tr>\n",
       "    <tr>\n",
       "      <th>16</th>\n",
       "      <td>RF_n=1_depth=8_criterion=gini</td>\n",
       "      <td>0.722890</td>\n",
       "      <td>0.716559</td>\n",
       "      <td>0.714850</td>\n",
       "      <td>0.001811</td>\n",
       "    </tr>\n",
       "    <tr>\n",
       "      <th>46</th>\n",
       "      <td>RF_n=2_depth=8_criterion=gini</td>\n",
       "      <td>0.765757</td>\n",
       "      <td>0.719355</td>\n",
       "      <td>0.713038</td>\n",
       "      <td>0.002818</td>\n",
       "    </tr>\n",
       "    <tr>\n",
       "      <th>92</th>\n",
       "      <td>RF_n=4_depth=1_criterion=gini</td>\n",
       "      <td>0.750534</td>\n",
       "      <td>0.723118</td>\n",
       "      <td>0.710123</td>\n",
       "      <td>0.004458</td>\n",
       "    </tr>\n",
       "    <tr>\n",
       "      <th>93</th>\n",
       "      <td>RF_n=4_depth=1_criterion=entropy</td>\n",
       "      <td>0.750534</td>\n",
       "      <td>0.723118</td>\n",
       "      <td>0.710123</td>\n",
       "      <td>0.004451</td>\n",
       "    </tr>\n",
       "  </tbody>\n",
       "</table>\n",
       "</div>"
      ],
      "text/plain": [
       "                                   Modelo  Precisión    Recall  F1-score  \\\n",
       "349     RF_n=30_depth=9_criterion=entropy   0.858345  0.847957  0.846163   \n",
       "335     RF_n=30_depth=2_criterion=entropy   0.858703  0.848280  0.845859   \n",
       "419    RF_n=50_depth=50_criterion=entropy   0.855491  0.844731  0.843051   \n",
       "391  RF_n=50_depth=None_criterion=entropy   0.855491  0.844731  0.843051   \n",
       "417    RF_n=50_depth=40_criterion=entropy   0.855491  0.844731  0.843051   \n",
       "415    RF_n=50_depth=30_criterion=entropy   0.855491  0.844731  0.843051   \n",
       "413    RF_n=50_depth=20_criterion=entropy   0.855491  0.844731  0.843051   \n",
       "395     RF_n=50_depth=2_criterion=entropy   0.854198  0.844839  0.842871   \n",
       "381    RF_n=40_depth=10_criterion=entropy   0.849055  0.841290  0.840060   \n",
       "283     RF_n=10_depth=6_criterion=entropy   0.852759  0.841505  0.840010   \n",
       "336        RF_n=30_depth=3_criterion=gini   0.848921  0.841398  0.839623   \n",
       "394        RF_n=50_depth=2_criterion=gini   0.851087  0.841505  0.839563   \n",
       "365     RF_n=40_depth=2_criterion=entropy   0.852976  0.841613  0.839432   \n",
       "351    RF_n=30_depth=10_criterion=entropy   0.849437  0.841290  0.839423   \n",
       "334        RF_n=30_depth=2_criterion=gini   0.854095  0.841720  0.839154   \n",
       "165      RF_n=6_depth=7_criterion=entropy   0.845240  0.838495  0.837397   \n",
       "409     RF_n=50_depth=9_criterion=entropy   0.850832  0.838602  0.836816   \n",
       "317     RF_n=20_depth=8_criterion=entropy   0.847282  0.837957  0.836774   \n",
       "306        RF_n=20_depth=3_criterion=gini   0.845465  0.838065  0.836657   \n",
       "347     RF_n=30_depth=8_criterion=entropy   0.847871  0.838065  0.836383   \n",
       "329    RF_n=20_depth=50_criterion=entropy   0.849688  0.837957  0.836234   \n",
       "301  RF_n=20_depth=None_criterion=entropy   0.849688  0.837957  0.836234   \n",
       "323    RF_n=20_depth=20_criterion=entropy   0.849688  0.837957  0.836234   \n",
       "327    RF_n=20_depth=40_criterion=entropy   0.849688  0.837957  0.836234   \n",
       "325    RF_n=20_depth=30_criterion=entropy   0.849688  0.837957  0.836234   \n",
       "289     RF_n=10_depth=9_criterion=entropy   0.843153  0.834839  0.833915   \n",
       "307     RF_n=20_depth=3_criterion=entropy   0.842067  0.835054  0.833709   \n",
       "379     RF_n=40_depth=9_criterion=entropy   0.846356  0.835054  0.833172   \n",
       "344        RF_n=30_depth=7_criterion=gini   0.846346  0.834839  0.832789   \n",
       "343     RF_n=30_depth=6_criterion=entropy   0.846013  0.834731  0.832690   \n",
       "305     RF_n=20_depth=2_criterion=entropy   0.848725  0.835161  0.832105   \n",
       "259      RF_n=9_depth=9_criterion=entropy   0.839115  0.831828  0.830328   \n",
       "411    RF_n=50_depth=10_criterion=entropy   0.841389  0.831613  0.829975   \n",
       "319     RF_n=20_depth=9_criterion=entropy   0.846360  0.831613  0.829879   \n",
       "337     RF_n=30_depth=3_criterion=entropy   0.839869  0.831720  0.829812   \n",
       "389    RF_n=40_depth=50_criterion=entropy   0.842211  0.831505  0.829592   \n",
       "385    RF_n=40_depth=30_criterion=entropy   0.842211  0.831505  0.829592   \n",
       "361  RF_n=40_depth=None_criterion=entropy   0.842211  0.831505  0.829592   \n",
       "383    RF_n=40_depth=20_criterion=entropy   0.842211  0.831505  0.829592   \n",
       "387    RF_n=40_depth=40_criterion=entropy   0.842211  0.831505  0.829592   \n",
       "355    RF_n=30_depth=30_criterion=entropy   0.843733  0.831505  0.829552   \n",
       "357    RF_n=30_depth=40_criterion=entropy   0.843733  0.831505  0.829552   \n",
       "359    RF_n=30_depth=50_criterion=entropy   0.843733  0.831505  0.829552   \n",
       "353    RF_n=30_depth=20_criterion=entropy   0.843733  0.831505  0.829552   \n",
       "331  RF_n=30_depth=None_criterion=entropy   0.843733  0.831505  0.829552   \n",
       "163      RF_n=6_depth=6_criterion=entropy   0.842742  0.831613  0.829535   \n",
       "396        RF_n=50_depth=3_criterion=gini   0.841053  0.831505  0.829532   \n",
       "407     RF_n=50_depth=8_criterion=entropy   0.842973  0.831398  0.829365   \n",
       "364        RF_n=40_depth=2_criterion=gini   0.844791  0.831720  0.828985   \n",
       "401     RF_n=50_depth=5_criterion=entropy   0.844618  0.831290  0.828959   \n",
       "338        RF_n=30_depth=4_criterion=gini   0.846159  0.831828  0.828739   \n",
       "300     RF_n=20_depth=None_criterion=gini   0.837533  0.828387  0.827204   \n",
       "326       RF_n=20_depth=40_criterion=gini   0.837533  0.828387  0.827204   \n",
       "324       RF_n=20_depth=30_criterion=gini   0.837533  0.828387  0.827204   \n",
       "328       RF_n=20_depth=50_criterion=gini   0.837533  0.828387  0.827204   \n",
       "322       RF_n=20_depth=20_criterion=gini   0.837533  0.828387  0.827204   \n",
       "377     RF_n=40_depth=8_criterion=entropy   0.837630  0.828172  0.826178   \n",
       "366        RF_n=40_depth=3_criterion=gini   0.838173  0.828387  0.826134   \n",
       "404        RF_n=50_depth=7_criterion=gini   0.839678  0.828280  0.826060   \n",
       "341     RF_n=30_depth=5_criterion=entropy   0.841597  0.828172  0.825820   \n",
       "313     RF_n=20_depth=6_criterion=entropy   0.844414  0.828172  0.825657   \n",
       "371     RF_n=40_depth=5_criterion=entropy   0.842518  0.828065  0.825549   \n",
       "368        RF_n=40_depth=4_criterion=gini   0.840906  0.828280  0.825321   \n",
       "318        RF_n=20_depth=9_criterion=gini   0.832720  0.825054  0.823887   \n",
       "261     RF_n=9_depth=10_criterion=entropy   0.830427  0.824946  0.823532   \n",
       "253      RF_n=9_depth=6_criterion=entropy   0.835745  0.825054  0.823156   \n",
       "321    RF_n=20_depth=10_criterion=entropy   0.835052  0.824839  0.823032   \n",
       "372        RF_n=40_depth=6_criterion=gini   0.835486  0.824946  0.822888   \n",
       "314        RF_n=20_depth=7_criterion=gini   0.838366  0.825161  0.822770   \n",
       "374        RF_n=40_depth=7_criterion=gini   0.835262  0.824946  0.822745   \n",
       "375     RF_n=40_depth=7_criterion=entropy   0.841839  0.825161  0.822726   \n",
       "223      RF_n=8_depth=6_criterion=entropy   0.834184  0.824731  0.822685   \n",
       "397     RF_n=50_depth=3_criterion=entropy   0.834998  0.824946  0.822667   \n",
       "405     RF_n=50_depth=7_criterion=entropy   0.840893  0.825054  0.822654   \n",
       "133      RF_n=5_depth=6_criterion=entropy   0.837330  0.825161  0.822450   \n",
       "373     RF_n=40_depth=6_criterion=entropy   0.839753  0.824839  0.822340   \n",
       "403     RF_n=50_depth=6_criterion=entropy   0.839243  0.824946  0.822273   \n",
       "399     RF_n=50_depth=4_criterion=entropy   0.835461  0.824839  0.822163   \n",
       "304        RF_n=20_depth=2_criterion=gini   0.837369  0.824946  0.822128   \n",
       "125      RF_n=5_depth=2_criterion=entropy   0.837534  0.825376  0.821426   \n",
       "124         RF_n=5_depth=2_criterion=gini   0.837534  0.825376  0.821426   \n",
       "287     RF_n=10_depth=8_criterion=entropy   0.828722  0.821935  0.821396   \n",
       "229      RF_n=8_depth=9_criterion=entropy   0.828515  0.821935  0.821047   \n",
       "132         RF_n=5_depth=6_criterion=gini   0.831890  0.821720  0.820206   \n",
       "280        RF_n=10_depth=5_criterion=gini   0.831620  0.821828  0.819998   \n",
       "139      RF_n=5_depth=9_criterion=entropy   0.830378  0.822043  0.819931   \n",
       "346        RF_n=30_depth=8_criterion=gini   0.829709  0.821828  0.819922   \n",
       "367     RF_n=40_depth=3_criterion=entropy   0.831350  0.821828  0.819618   \n",
       "339     RF_n=30_depth=4_criterion=entropy   0.834374  0.821935  0.819119   \n",
       "216         RF_n=8_depth=3_criterion=gini   0.832658  0.821613  0.819117   \n",
       "345     RF_n=30_depth=7_criterion=entropy   0.840350  0.821828  0.819091   \n",
       "398        RF_n=50_depth=4_criterion=gini   0.834756  0.821613  0.818548   \n",
       "291    RF_n=10_depth=10_criterion=entropy   0.827635  0.818495  0.817994   \n",
       "105      RF_n=4_depth=7_criterion=entropy   0.822200  0.818602  0.817459   \n",
       "260        RF_n=9_depth=10_criterion=gini   0.828107  0.818710  0.817455   \n",
       "257      RF_n=9_depth=8_criterion=entropy   0.824457  0.818602  0.817312   \n",
       "320       RF_n=20_depth=10_criterion=gini   0.829516  0.818495  0.816926   \n",
       "348        RF_n=30_depth=9_criterion=gini   0.827633  0.818387  0.816809   \n",
       "279     RF_n=10_depth=4_criterion=entropy   0.830389  0.818280  0.816700   \n",
       "284        RF_n=10_depth=7_criterion=gini   0.830097  0.818817  0.816684   \n",
       "219      RF_n=8_depth=4_criterion=entropy   0.829263  0.818387  0.816663   \n",
       "285     RF_n=10_depth=7_criterion=entropy   0.833100  0.818710  0.816561   \n",
       "402        RF_n=50_depth=6_criterion=gini   0.828582  0.818495  0.816213   \n",
       "247      RF_n=9_depth=3_criterion=entropy   0.827603  0.818172  0.816118   \n",
       "380       RF_n=40_depth=10_criterion=gini   0.828519  0.818387  0.816116   \n",
       "214         RF_n=8_depth=2_criterion=gini   0.827168  0.818710  0.816116   \n",
       "410       RF_n=50_depth=10_criterion=gini   0.832210  0.818602  0.815960   \n",
       "311     RF_n=20_depth=5_criterion=entropy   0.832881  0.818172  0.815863   \n",
       "215      RF_n=8_depth=2_criterion=entropy   0.829101  0.818710  0.815816   \n",
       "340        RF_n=30_depth=5_criterion=gini   0.833412  0.818495  0.815610   \n",
       "369     RF_n=40_depth=4_criterion=entropy   0.829443  0.818280  0.815576   \n",
       "275     RF_n=10_depth=2_criterion=entropy   0.828700  0.818817  0.815493   \n",
       "308        RF_n=20_depth=4_criterion=gini   0.834539  0.818602  0.815276   \n",
       "278        RF_n=10_depth=4_criterion=gini   0.822040  0.815054  0.814089   \n",
       "225      RF_n=8_depth=7_criterion=entropy   0.824937  0.815269  0.813762   \n",
       "141     RF_n=5_depth=10_criterion=entropy   0.820656  0.815054  0.813595   \n",
       "218         RF_n=8_depth=4_criterion=gini   0.823122  0.814839  0.813419   \n",
       "342        RF_n=30_depth=6_criterion=gini   0.823739  0.815161  0.813352   \n",
       "201     RF_n=7_depth=10_criterion=entropy   0.823417  0.815161  0.813339   \n",
       "68          RF_n=3_depth=4_criterion=gini   0.821664  0.815054  0.813234   \n",
       "197      RF_n=7_depth=8_criterion=entropy   0.821234  0.815376  0.813208   \n",
       "350       RF_n=30_depth=10_criterion=gini   0.824534  0.815161  0.813135   \n",
       "135      RF_n=5_depth=7_criterion=entropy   0.821857  0.815161  0.813093   \n",
       "316        RF_n=20_depth=8_criterion=gini   0.824058  0.814946  0.813069   \n",
       "103      RF_n=4_depth=6_criterion=entropy   0.826674  0.815161  0.812899   \n",
       "276        RF_n=10_depth=3_criterion=gini   0.825716  0.814946  0.812730   \n",
       "161      RF_n=6_depth=5_criterion=entropy   0.827416  0.814946  0.812726   \n",
       "157      RF_n=6_depth=3_criterion=entropy   0.824339  0.815161  0.812562   \n",
       "250         RF_n=9_depth=5_criterion=gini   0.828612  0.815161  0.812541   \n",
       "156         RF_n=6_depth=3_criterion=gini   0.826022  0.815054  0.812181   \n",
       "245      RF_n=9_depth=2_criterion=entropy   0.824953  0.815376  0.811817   \n",
       "185      RF_n=7_depth=2_criterion=entropy   0.828125  0.815699  0.811734   \n",
       "333     RF_n=30_depth=1_criterion=entropy   0.827933  0.815376  0.811435   \n",
       "266        RF_n=9_depth=40_criterion=gini   0.822177  0.812258  0.811006   \n",
       "268        RF_n=9_depth=50_criterion=gini   0.822177  0.812258  0.811006   \n",
       "240      RF_n=9_depth=None_criterion=gini   0.822177  0.812258  0.811006   \n",
       "262        RF_n=9_depth=20_criterion=gini   0.822177  0.812258  0.811006   \n",
       "264        RF_n=9_depth=30_criterion=gini   0.822177  0.812258  0.811006   \n",
       "155      RF_n=6_depth=2_criterion=entropy   0.832241  0.815699  0.810978   \n",
       "227      RF_n=8_depth=8_criterion=entropy   0.819311  0.812151  0.810823   \n",
       "137      RF_n=5_depth=8_criterion=entropy   0.817480  0.812473  0.810711   \n",
       "295    RF_n=10_depth=30_criterion=entropy   0.822203  0.811505  0.810679   \n",
       "293    RF_n=10_depth=20_criterion=entropy   0.822203  0.811505  0.810679   \n",
       "297    RF_n=10_depth=40_criterion=entropy   0.822203  0.811505  0.810679   \n",
       "299    RF_n=10_depth=50_criterion=entropy   0.822203  0.811505  0.810679   \n",
       "271  RF_n=10_depth=None_criterion=entropy   0.822203  0.811505  0.810679   \n",
       "248         RF_n=9_depth=4_criterion=gini   0.819030  0.811828  0.810460   \n",
       "199      RF_n=7_depth=9_criterion=entropy   0.817507  0.812151  0.810412   \n",
       "267     RF_n=9_depth=40_criterion=entropy   0.819842  0.811828  0.810273   \n",
       "241   RF_n=9_depth=None_criterion=entropy   0.819842  0.811828  0.810273   \n",
       "265     RF_n=9_depth=30_criterion=entropy   0.819842  0.811828  0.810273   \n",
       "269     RF_n=9_depth=50_criterion=entropy   0.819842  0.811828  0.810273   \n",
       "263     RF_n=9_depth=20_criterion=entropy   0.819842  0.811828  0.810273   \n",
       "406        RF_n=50_depth=8_criterion=gini   0.821266  0.811720  0.809989   \n",
       "195      RF_n=7_depth=7_criterion=entropy   0.821412  0.812151  0.809917   \n",
       "312        RF_n=20_depth=6_criterion=gini   0.820137  0.811828  0.809911   \n",
       "255      RF_n=9_depth=7_criterion=entropy   0.825576  0.812473  0.809868   \n",
       "85      RF_n=3_depth=30_criterion=entropy   0.820584  0.811828  0.809859   \n",
       "61    RF_n=3_depth=None_criterion=entropy   0.820584  0.811828  0.809859   \n",
       "89      RF_n=3_depth=50_criterion=entropy   0.820584  0.811828  0.809859   \n",
       "87      RF_n=3_depth=40_criterion=entropy   0.820584  0.811828  0.809859   \n",
       "83      RF_n=3_depth=20_criterion=entropy   0.820584  0.811828  0.809859   \n",
       "376        RF_n=40_depth=8_criterion=gini   0.821026  0.811828  0.809791   \n",
       "384       RF_n=40_depth=30_criterion=gini   0.824207  0.811828  0.809690   \n",
       "360     RF_n=40_depth=None_criterion=gini   0.824207  0.811828  0.809690   \n",
       "388       RF_n=40_depth=50_criterion=gini   0.824207  0.811828  0.809690   \n",
       "386       RF_n=40_depth=40_criterion=gini   0.824207  0.811828  0.809690   \n",
       "382       RF_n=40_depth=20_criterion=gini   0.824207  0.811828  0.809690   \n",
       "143     RF_n=5_depth=20_criterion=entropy   0.821091  0.812043  0.809613   \n",
       "147     RF_n=5_depth=40_criterion=entropy   0.821091  0.812043  0.809613   \n",
       "121   RF_n=5_depth=None_criterion=entropy   0.821091  0.812043  0.809613   \n",
       "149     RF_n=5_depth=50_criterion=entropy   0.821091  0.812043  0.809613   \n",
       "145     RF_n=5_depth=30_criterion=entropy   0.821091  0.812043  0.809613   \n",
       "390     RF_n=50_depth=None_criterion=gini   0.823247  0.811720  0.809591   \n",
       "412       RF_n=50_depth=20_criterion=gini   0.823247  0.811720  0.809591   \n",
       "418       RF_n=50_depth=50_criterion=gini   0.823247  0.811720  0.809591   \n",
       "416       RF_n=50_depth=40_criterion=gini   0.823247  0.811720  0.809591   \n",
       "414       RF_n=50_depth=30_criterion=gini   0.823247  0.811720  0.809591   \n",
       "315     RF_n=20_depth=7_criterion=entropy   0.826003  0.812043  0.809579   \n",
       "217      RF_n=8_depth=3_criterion=entropy   0.819395  0.811613  0.809554   \n",
       "277     RF_n=10_depth=3_criterion=entropy   0.821918  0.811613  0.809537   \n",
       "193      RF_n=7_depth=6_criterion=entropy   0.823563  0.811828  0.809488   \n",
       "131      RF_n=5_depth=5_criterion=entropy   0.826005  0.811828  0.809070   \n",
       "67       RF_n=3_depth=3_criterion=entropy   0.821405  0.811613  0.809062   \n",
       "186         RF_n=7_depth=3_criterion=gini   0.821573  0.811720  0.809017   \n",
       "244         RF_n=9_depth=2_criterion=gini   0.820454  0.812151  0.808687   \n",
       "274        RF_n=10_depth=2_criterion=gini   0.822732  0.812258  0.808509   \n",
       "309     RF_n=20_depth=4_criterion=entropy   0.829071  0.811828  0.808377   \n",
       "332        RF_n=30_depth=1_criterion=gini   0.824736  0.812043  0.808068   \n",
       "192         RF_n=7_depth=6_criterion=gini   0.816572  0.808710  0.807733   \n",
       "79       RF_n=3_depth=9_criterion=entropy   0.813564  0.808817  0.807696   \n",
       "169      RF_n=6_depth=9_criterion=entropy   0.817235  0.808602  0.807353   \n",
       "167      RF_n=6_depth=8_criterion=entropy   0.821341  0.808710  0.807317   \n",
       "358       RF_n=30_depth=50_criterion=gini   0.815475  0.808495  0.806992   \n",
       "330     RF_n=30_depth=None_criterion=gini   0.815475  0.808495  0.806992   \n",
       "354       RF_n=30_depth=30_criterion=gini   0.815475  0.808495  0.806992   \n",
       "352       RF_n=30_depth=20_criterion=gini   0.815475  0.808495  0.806992   \n",
       "356       RF_n=30_depth=40_criterion=gini   0.815475  0.808495  0.806992   \n",
       "378        RF_n=40_depth=9_criterion=gini   0.817011  0.808495  0.806967   \n",
       "81      RF_n=3_depth=10_criterion=entropy   0.815689  0.808495  0.806768   \n",
       "408        RF_n=50_depth=9_criterion=gini   0.818558  0.808387  0.806693   \n",
       "249      RF_n=9_depth=4_criterion=entropy   0.819374  0.808710  0.806573   \n",
       "189      RF_n=7_depth=4_criterion=entropy   0.819790  0.808387  0.806220   \n",
       "310        RF_n=20_depth=5_criterion=gini   0.821081  0.808495  0.806064   \n",
       "128         RF_n=5_depth=4_criterion=gini   0.820226  0.808495  0.806048   \n",
       "97       RF_n=4_depth=3_criterion=entropy   0.814479  0.808495  0.806025   \n",
       "246         RF_n=9_depth=3_criterion=gini   0.819606  0.808280  0.805982   \n",
       "281     RF_n=10_depth=5_criterion=entropy   0.823917  0.808280  0.805780   \n",
       "220         RF_n=8_depth=5_criterion=gini   0.820315  0.808495  0.805685   \n",
       "190         RF_n=7_depth=5_criterion=gini   0.821900  0.808495  0.805597   \n",
       "400        RF_n=50_depth=5_criterion=gini   0.823469  0.808602  0.805547   \n",
       "393     RF_n=50_depth=1_criterion=entropy   0.818875  0.808387  0.805516   \n",
       "392        RF_n=50_depth=1_criterion=gini   0.820210  0.808387  0.805465   \n",
       "160         RF_n=6_depth=5_criterion=gini   0.820530  0.808387  0.805420   \n",
       "184         RF_n=7_depth=2_criterion=gini   0.821398  0.809032  0.805045   \n",
       "154         RF_n=6_depth=2_criterion=gini   0.824217  0.809032  0.804501   \n",
       "230        RF_n=8_depth=10_criterion=gini   0.816727  0.805376  0.804378   \n",
       "171     RF_n=6_depth=10_criterion=entropy   0.810569  0.804946  0.804102   \n",
       "170        RF_n=6_depth=10_criterion=gini   0.816169  0.805161  0.804006   \n",
       "224         RF_n=8_depth=7_criterion=gini   0.817145  0.805806  0.803871   \n",
       "138         RF_n=5_depth=9_criterion=gini   0.816059  0.805269  0.803598   \n",
       "151   RF_n=6_depth=None_criterion=entropy   0.815848  0.804946  0.803588   \n",
       "179     RF_n=6_depth=50_criterion=entropy   0.815848  0.804946  0.803588   \n",
       "177     RF_n=6_depth=40_criterion=entropy   0.815848  0.804946  0.803588   \n",
       "175     RF_n=6_depth=30_criterion=entropy   0.815848  0.804946  0.803588   \n",
       "173     RF_n=6_depth=20_criterion=entropy   0.815848  0.804946  0.803588   \n",
       "69       RF_n=3_depth=4_criterion=entropy   0.814564  0.805161  0.803425   \n",
       "98          RF_n=4_depth=4_criterion=gini   0.814129  0.805161  0.803358   \n",
       "188         RF_n=7_depth=4_criterion=gini   0.814909  0.805161  0.803180   \n",
       "66          RF_n=3_depth=3_criterion=gini   0.814300  0.805376  0.802952   \n",
       "158         RF_n=6_depth=4_criterion=gini   0.817709  0.805161  0.802784   \n",
       "187      RF_n=7_depth=3_criterion=entropy   0.814036  0.805269  0.802460   \n",
       "191      RF_n=7_depth=5_criterion=entropy   0.820837  0.805161  0.802411   \n",
       "130         RF_n=5_depth=5_criterion=gini   0.815358  0.805054  0.802340   \n",
       "251      RF_n=9_depth=5_criterion=entropy   0.823213  0.805054  0.801881   \n",
       "363     RF_n=40_depth=1_criterion=entropy   0.818580  0.805054  0.801416   \n",
       "303     RF_n=20_depth=1_criterion=entropy   0.820099  0.805591  0.801168   \n",
       "111     RF_n=4_depth=10_criterion=entropy   0.812855  0.801828  0.801124   \n",
       "162         RF_n=6_depth=6_criterion=gini   0.810327  0.802043  0.801052   \n",
       "282        RF_n=10_depth=6_criterion=gini   0.809431  0.801613  0.800498   \n",
       "180      RF_n=7_depth=None_criterion=gini   0.812200  0.802043  0.800414   \n",
       "208        RF_n=7_depth=50_criterion=gini   0.812200  0.802043  0.800414   \n",
       "206        RF_n=7_depth=40_criterion=gini   0.812200  0.802043  0.800414   \n",
       "204        RF_n=7_depth=30_criterion=gini   0.812200  0.802043  0.800414   \n",
       "202        RF_n=7_depth=20_criterion=gini   0.812200  0.802043  0.800414   \n",
       "43       RF_n=2_depth=6_criterion=entropy   0.816163  0.801935  0.800351   \n",
       "140        RF_n=5_depth=10_criterion=gini   0.811409  0.801935  0.800237   \n",
       "239     RF_n=8_depth=50_criterion=entropy   0.814848  0.801720  0.800080   \n",
       "211   RF_n=8_depth=None_criterion=entropy   0.814848  0.801720  0.800080   \n",
       "237     RF_n=8_depth=40_criterion=entropy   0.814848  0.801720  0.800080   \n",
       "235     RF_n=8_depth=30_criterion=entropy   0.814848  0.801720  0.800080   \n",
       "233     RF_n=8_depth=20_criterion=entropy   0.814848  0.801720  0.800080   \n",
       "200        RF_n=7_depth=10_criterion=gini   0.813797  0.802043  0.799991   \n",
       "254         RF_n=9_depth=7_criterion=gini   0.815766  0.802688  0.799961   \n",
       "221      RF_n=8_depth=5_criterion=entropy   0.816338  0.801720  0.799136   \n",
       "75       RF_n=3_depth=7_criterion=entropy   0.809525  0.801935  0.799046   \n",
       "127      RF_n=5_depth=3_criterion=entropy   0.809736  0.801935  0.798783   \n",
       "362        RF_n=40_depth=1_criterion=gini   0.815111  0.801720  0.798116   \n",
       "296       RF_n=10_depth=40_criterion=gini   0.809614  0.798817  0.797838   \n",
       "298       RF_n=10_depth=50_criterion=gini   0.809614  0.798817  0.797838   \n",
       "292       RF_n=10_depth=20_criterion=gini   0.809614  0.798817  0.797838   \n",
       "270     RF_n=10_depth=None_criterion=gini   0.809614  0.798817  0.797838   \n",
       "294       RF_n=10_depth=30_criterion=gini   0.809614  0.798817  0.797838   \n",
       "150      RF_n=6_depth=None_criterion=gini   0.810263  0.798710  0.797490   \n",
       "174        RF_n=6_depth=30_criterion=gini   0.810263  0.798710  0.797490   \n",
       "172        RF_n=6_depth=20_criterion=gini   0.810263  0.798710  0.797490   \n",
       "176        RF_n=6_depth=40_criterion=gini   0.810263  0.798710  0.797490   \n",
       "178        RF_n=6_depth=50_criterion=gini   0.810263  0.798710  0.797490   \n",
       "164         RF_n=6_depth=7_criterion=gini   0.811034  0.799355  0.797450   \n",
       "146        RF_n=5_depth=40_criterion=gini   0.807487  0.798710  0.797197   \n",
       "144        RF_n=5_depth=30_criterion=gini   0.807487  0.798710  0.797197   \n",
       "142        RF_n=5_depth=20_criterion=gini   0.807487  0.798710  0.797197   \n",
       "120      RF_n=5_depth=None_criterion=gini   0.807487  0.798710  0.797197   \n",
       "148        RF_n=5_depth=50_criterion=gini   0.807487  0.798710  0.797197   \n",
       "99       RF_n=4_depth=4_criterion=entropy   0.807404  0.798602  0.797008   \n",
       "196         RF_n=7_depth=8_criterion=gini   0.805108  0.798602  0.796842   \n",
       "286        RF_n=10_depth=8_criterion=gini   0.810569  0.798387  0.796813   \n",
       "258         RF_n=9_depth=9_criterion=gini   0.807939  0.798495  0.796698   \n",
       "159      RF_n=6_depth=4_criterion=entropy   0.810179  0.798817  0.796438   \n",
       "370        RF_n=40_depth=5_criterion=gini   0.813699  0.798817  0.795349   \n",
       "302        RF_n=20_depth=1_criterion=gini   0.813432  0.798925  0.794501   \n",
       "231     RF_n=8_depth=10_criterion=entropy   0.802420  0.795269  0.794348   \n",
       "210      RF_n=8_depth=None_criterion=gini   0.808693  0.795484  0.794217   \n",
       "238        RF_n=8_depth=50_criterion=gini   0.808693  0.795484  0.794217   \n",
       "232        RF_n=8_depth=20_criterion=gini   0.808693  0.795484  0.794217   \n",
       "234        RF_n=8_depth=30_criterion=gini   0.808693  0.795484  0.794217   \n",
       "236        RF_n=8_depth=40_criterion=gini   0.808693  0.795484  0.794217   \n",
       "72          RF_n=3_depth=6_criterion=gini   0.802853  0.795054  0.793983   \n",
       "73       RF_n=3_depth=6_criterion=entropy   0.800234  0.795484  0.793902   \n",
       "290       RF_n=10_depth=10_criterion=gini   0.810608  0.795591  0.793839   \n",
       "76          RF_n=3_depth=8_criterion=gini   0.805968  0.795376  0.793418   \n",
       "168         RF_n=6_depth=9_criterion=gini   0.811271  0.795161  0.793197   \n",
       "205     RF_n=7_depth=30_criterion=entropy   0.806623  0.795484  0.793108   \n",
       "181   RF_n=7_depth=None_criterion=entropy   0.806623  0.795484  0.793108   \n",
       "203     RF_n=7_depth=20_criterion=entropy   0.806623  0.795484  0.793108   \n",
       "209     RF_n=7_depth=50_criterion=entropy   0.806623  0.795484  0.793108   \n",
       "207     RF_n=7_depth=40_criterion=entropy   0.806623  0.795484  0.793108   \n",
       "134         RF_n=5_depth=7_criterion=gini   0.810169  0.795914  0.792854   \n",
       "198         RF_n=7_depth=9_criterion=gini   0.808496  0.795054  0.791946   \n",
       "109      RF_n=4_depth=9_criterion=entropy   0.802435  0.792581  0.791610   \n",
       "166         RF_n=6_depth=8_criterion=gini   0.801845  0.792043  0.791143   \n",
       "15       RF_n=1_depth=7_criterion=entropy   0.802331  0.792473  0.790812   \n",
       "39       RF_n=2_depth=4_criterion=entropy   0.803046  0.792473  0.790614   \n",
       "95       RF_n=4_depth=2_criterion=entropy   0.803614  0.792581  0.790432   \n",
       "129      RF_n=5_depth=4_criterion=entropy   0.801128  0.792151  0.790277   \n",
       "80         RF_n=3_depth=10_criterion=gini   0.805667  0.791935  0.789752   \n",
       "122         RF_n=5_depth=1_criterion=gini   0.808627  0.795054  0.789662   \n",
       "123      RF_n=5_depth=1_criterion=entropy   0.808627  0.795054  0.789662   \n",
       "34          RF_n=2_depth=2_criterion=gini   0.806189  0.792366  0.789641   \n",
       "110        RF_n=4_depth=10_criterion=gini   0.812766  0.792043  0.788988   \n",
       "1     RF_n=1_depth=None_criterion=entropy   0.793042  0.789247  0.788253   \n",
       "25      RF_n=1_depth=30_criterion=entropy   0.793042  0.789247  0.788253   \n",
       "23      RF_n=1_depth=20_criterion=entropy   0.793042  0.789247  0.788253   \n",
       "27      RF_n=1_depth=40_criterion=entropy   0.793042  0.789247  0.788253   \n",
       "29      RF_n=1_depth=50_criterion=entropy   0.793042  0.789247  0.788253   \n",
       "36          RF_n=2_depth=3_criterion=gini   0.796783  0.789032  0.787770   \n",
       "117     RF_n=4_depth=40_criterion=entropy   0.800914  0.788710  0.787580   \n",
       "113     RF_n=4_depth=20_criterion=entropy   0.800914  0.788710  0.787580   \n",
       "115     RF_n=4_depth=30_criterion=entropy   0.800914  0.788710  0.787580   \n",
       "91    RF_n=4_depth=None_criterion=entropy   0.800914  0.788710  0.787580   \n",
       "119     RF_n=4_depth=50_criterion=entropy   0.800914  0.788710  0.787580   \n",
       "228         RF_n=8_depth=9_criterion=gini   0.798223  0.788602  0.787290   \n",
       "194         RF_n=7_depth=7_criterion=gini   0.800076  0.789677  0.787167   \n",
       "101      RF_n=4_depth=5_criterion=entropy   0.799081  0.788817  0.786282   \n",
       "256         RF_n=9_depth=8_criterion=gini   0.799501  0.788710  0.786074   \n",
       "21      RF_n=1_depth=10_criterion=entropy   0.789931  0.785914  0.784946   \n",
       "126         RF_n=5_depth=3_criterion=gini   0.799349  0.788710  0.784696   \n",
       "136         RF_n=5_depth=8_criterion=gini   0.794026  0.785806  0.784238   \n",
       "252         RF_n=9_depth=6_criterion=gini   0.793319  0.785269  0.783749   \n",
       "94          RF_n=4_depth=2_criterion=gini   0.800326  0.786237  0.783680   \n",
       "222         RF_n=8_depth=6_criterion=gini   0.794268  0.785376  0.783619   \n",
       "212         RF_n=8_depth=1_criterion=gini   0.802847  0.788602  0.782849   \n",
       "213      RF_n=8_depth=1_criterion=entropy   0.802847  0.788602  0.782849   \n",
       "100         RF_n=4_depth=5_criterion=gini   0.797879  0.785376  0.782807   \n",
       "35       RF_n=2_depth=2_criterion=entropy   0.800759  0.785806  0.782375   \n",
       "107      RF_n=4_depth=8_criterion=entropy   0.792837  0.782688  0.782111   \n",
       "77       RF_n=3_depth=8_criterion=entropy   0.789245  0.782796  0.781393   \n",
       "288        RF_n=10_depth=9_criterion=gini   0.792939  0.782473  0.781191   \n",
       "37       RF_n=2_depth=3_criterion=entropy   0.790415  0.782473  0.781103   \n",
       "226         RF_n=8_depth=8_criterion=gini   0.793677  0.782151  0.780851   \n",
       "38          RF_n=2_depth=4_criterion=gini   0.791747  0.782151  0.780586   \n",
       "9        RF_n=1_depth=4_criterion=entropy   0.790807  0.782258  0.780581   \n",
       "13       RF_n=1_depth=6_criterion=entropy   0.788640  0.781935  0.780464   \n",
       "106         RF_n=4_depth=8_criterion=gini   0.797069  0.782258  0.780324   \n",
       "71       RF_n=3_depth=5_criterion=entropy   0.791400  0.782258  0.779992   \n",
       "60       RF_n=3_depth=None_criterion=gini   0.795746  0.782043  0.779824   \n",
       "88         RF_n=3_depth=50_criterion=gini   0.795746  0.782043  0.779824   \n",
       "86         RF_n=3_depth=40_criterion=gini   0.795746  0.782043  0.779824   \n",
       "84         RF_n=3_depth=30_criterion=gini   0.795746  0.782043  0.779824   \n",
       "82         RF_n=3_depth=20_criterion=gini   0.795746  0.782043  0.779824   \n",
       "183      RF_n=7_depth=1_criterion=entropy   0.802225  0.785161  0.779561   \n",
       "182         RF_n=7_depth=1_criterion=gini   0.802225  0.785161  0.779561   \n",
       "153      RF_n=6_depth=1_criterion=entropy   0.810819  0.788925  0.778588   \n",
       "152         RF_n=6_depth=1_criterion=gini   0.810819  0.788925  0.778588   \n",
       "12          RF_n=1_depth=6_criterion=gini   0.794089  0.781935  0.778469   \n",
       "104         RF_n=4_depth=7_criterion=gini   0.793012  0.779570  0.778012   \n",
       "14          RF_n=1_depth=7_criterion=gini   0.791782  0.779355  0.777091   \n",
       "64          RF_n=3_depth=2_criterion=gini   0.789254  0.779355  0.776669   \n",
       "96          RF_n=4_depth=3_criterion=gini   0.787964  0.778925  0.776519   \n",
       "78          RF_n=3_depth=9_criterion=gini   0.791324  0.778710  0.776503   \n",
       "114        RF_n=4_depth=30_criterion=gini   0.800670  0.778925  0.775757   \n",
       "112        RF_n=4_depth=20_criterion=gini   0.800670  0.778925  0.775757   \n",
       "116        RF_n=4_depth=40_criterion=gini   0.800670  0.778925  0.775757   \n",
       "90       RF_n=4_depth=None_criterion=gini   0.800670  0.778925  0.775757   \n",
       "118        RF_n=4_depth=50_criterion=gini   0.800670  0.778925  0.775757   \n",
       "108         RF_n=4_depth=9_criterion=gini   0.798340  0.778602  0.775514   \n",
       "19       RF_n=1_depth=9_criterion=entropy   0.780421  0.776022  0.775405   \n",
       "102         RF_n=4_depth=6_criterion=gini   0.785646  0.775699  0.773963   \n",
       "74          RF_n=3_depth=7_criterion=gini   0.788280  0.775806  0.772935   \n",
       "7        RF_n=1_depth=3_criterion=entropy   0.777455  0.772473  0.771440   \n",
       "59      RF_n=2_depth=50_criterion=entropy   0.797235  0.772258  0.770507   \n",
       "57      RF_n=2_depth=40_criterion=entropy   0.797235  0.772258  0.770507   \n",
       "55      RF_n=2_depth=30_criterion=entropy   0.797235  0.772258  0.770507   \n",
       "53      RF_n=2_depth=20_criterion=entropy   0.797235  0.772258  0.770507   \n",
       "31    RF_n=2_depth=None_criterion=entropy   0.797235  0.772258  0.770507   \n",
       "51      RF_n=2_depth=10_criterion=entropy   0.802869  0.772258  0.770094   \n",
       "65       RF_n=3_depth=2_criterion=entropy   0.787788  0.772796  0.769219   \n",
       "8           RF_n=1_depth=4_criterion=gini   0.775571  0.769355  0.768386   \n",
       "272        RF_n=10_depth=1_criterion=gini   0.788545  0.772366  0.766227   \n",
       "70          RF_n=3_depth=5_criterion=gini   0.776421  0.768925  0.766120   \n",
       "17       RF_n=1_depth=8_criterion=entropy   0.772278  0.766022  0.764879   \n",
       "6           RF_n=1_depth=3_criterion=gini   0.771830  0.766022  0.764655   \n",
       "242         RF_n=9_depth=1_criterion=gini   0.789688  0.772258  0.763634   \n",
       "243      RF_n=9_depth=1_criterion=entropy   0.789688  0.772258  0.763634   \n",
       "273     RF_n=10_depth=1_criterion=entropy   0.786514  0.769032  0.762578   \n",
       "10          RF_n=1_depth=5_criterion=gini   0.780600  0.765914  0.761908   \n",
       "42          RF_n=2_depth=6_criterion=gini   0.782962  0.762151  0.759039   \n",
       "41       RF_n=2_depth=5_criterion=entropy   0.778971  0.762473  0.758709   \n",
       "18          RF_n=1_depth=9_criterion=gini   0.766365  0.758925  0.757503   \n",
       "11       RF_n=1_depth=5_criterion=entropy   0.773589  0.758817  0.751807   \n",
       "20         RF_n=1_depth=10_criterion=gini   0.760845  0.752688  0.751234   \n",
       "49       RF_n=2_depth=9_criterion=entropy   0.781941  0.753011  0.750591   \n",
       "4           RF_n=1_depth=2_criterion=gini   0.773490  0.752581  0.750028   \n",
       "40          RF_n=2_depth=5_criterion=gini   0.771458  0.752581  0.747796   \n",
       "45       RF_n=2_depth=7_criterion=entropy   0.768673  0.749462  0.747550   \n",
       "5        RF_n=1_depth=2_criterion=entropy   0.778315  0.749355  0.745365   \n",
       "47       RF_n=2_depth=8_criterion=entropy   0.763821  0.746022  0.744984   \n",
       "26         RF_n=1_depth=40_criterion=gini   0.755849  0.745914  0.744321   \n",
       "28         RF_n=1_depth=50_criterion=gini   0.755849  0.745914  0.744321   \n",
       "0        RF_n=1_depth=None_criterion=gini   0.755849  0.745914  0.744321   \n",
       "22         RF_n=1_depth=20_criterion=gini   0.755849  0.745914  0.744321   \n",
       "24         RF_n=1_depth=30_criterion=gini   0.755849  0.745914  0.744321   \n",
       "44          RF_n=2_depth=7_criterion=gini   0.774513  0.743118  0.740089   \n",
       "50         RF_n=2_depth=10_criterion=gini   0.788320  0.742903  0.737011   \n",
       "48          RF_n=2_depth=9_criterion=gini   0.780951  0.739462  0.734031   \n",
       "2           RF_n=1_depth=1_criterion=gini   0.741253  0.736344  0.733965   \n",
       "3        RF_n=1_depth=1_criterion=entropy   0.741253  0.736344  0.733965   \n",
       "33       RF_n=2_depth=1_criterion=entropy   0.741253  0.736344  0.733965   \n",
       "63       RF_n=3_depth=1_criterion=entropy   0.741253  0.736344  0.733965   \n",
       "62          RF_n=3_depth=1_criterion=gini   0.741253  0.736344  0.733965   \n",
       "32          RF_n=2_depth=1_criterion=gini   0.741253  0.736344  0.733965   \n",
       "30       RF_n=2_depth=None_criterion=gini   0.788727  0.739570  0.733525   \n",
       "58         RF_n=2_depth=50_criterion=gini   0.788727  0.739570  0.733525   \n",
       "54         RF_n=2_depth=30_criterion=gini   0.788727  0.739570  0.733525   \n",
       "52         RF_n=2_depth=20_criterion=gini   0.788727  0.739570  0.733525   \n",
       "56         RF_n=2_depth=40_criterion=gini   0.788727  0.739570  0.733525   \n",
       "16          RF_n=1_depth=8_criterion=gini   0.722890  0.716559  0.714850   \n",
       "46          RF_n=2_depth=8_criterion=gini   0.765757  0.719355  0.713038   \n",
       "92          RF_n=4_depth=1_criterion=gini   0.750534  0.723118  0.710123   \n",
       "93       RF_n=4_depth=1_criterion=entropy   0.750534  0.723118  0.710123   \n",
       "\n",
       "     Tiempo de ejecución  \n",
       "349             0.033536  \n",
       "335             0.029150  \n",
       "419             0.077160  \n",
       "391             0.054466  \n",
       "417             0.080417  \n",
       "415             0.069704  \n",
       "413             0.059277  \n",
       "395             0.048506  \n",
       "381             0.047563  \n",
       "283             0.011133  \n",
       "336             0.029963  \n",
       "394             0.047617  \n",
       "365             0.043481  \n",
       "351             0.033127  \n",
       "334             0.032691  \n",
       "165             0.007092  \n",
       "409             0.055422  \n",
       "317             0.024646  \n",
       "306             0.027759  \n",
       "347             0.032772  \n",
       "329             0.027089  \n",
       "301             0.034226  \n",
       "323             0.027784  \n",
       "327             0.023744  \n",
       "325             0.024540  \n",
       "289             0.014176  \n",
       "307             0.023742  \n",
       "379             0.047786  \n",
       "344             0.035124  \n",
       "343             0.036837  \n",
       "305             0.025287  \n",
       "259             0.010669  \n",
       "411             0.055295  \n",
       "319             0.025403  \n",
       "337             0.036629  \n",
       "389             0.044343  \n",
       "385             0.044146  \n",
       "361             0.044103  \n",
       "383             0.044100  \n",
       "387             0.046470  \n",
       "355             0.033907  \n",
       "357             0.038083  \n",
       "359             0.037911  \n",
       "353             0.034377  \n",
       "331             0.033599  \n",
       "163             0.007204  \n",
       "396             0.051011  \n",
       "407             0.054957  \n",
       "364             0.040818  \n",
       "401             0.056455  \n",
       "338             0.035740  \n",
       "300             0.026511  \n",
       "326             0.025796  \n",
       "324             0.024087  \n",
       "328             0.023265  \n",
       "322             0.028545  \n",
       "377             0.043757  \n",
       "366             0.039888  \n",
       "404             0.052878  \n",
       "341             0.031996  \n",
       "313             0.022058  \n",
       "371             0.042034  \n",
       "368             0.039972  \n",
       "318             0.025141  \n",
       "261             0.011562  \n",
       "253             0.010284  \n",
       "321             0.030192  \n",
       "372             0.042393  \n",
       "314             0.025308  \n",
       "374             0.044092  \n",
       "375             0.043197  \n",
       "223             0.009184  \n",
       "397             0.054300  \n",
       "405             0.053643  \n",
       "133             0.006035  \n",
       "373             0.043200  \n",
       "403             0.053579  \n",
       "399             0.052705  \n",
       "304             0.020501  \n",
       "125             0.005827  \n",
       "124             0.005325  \n",
       "287             0.011501  \n",
       "229             0.010240  \n",
       "132             0.005737  \n",
       "280             0.011071  \n",
       "139             0.006137  \n",
       "346             0.032478  \n",
       "367             0.039592  \n",
       "339             0.040870  \n",
       "216             0.008671  \n",
       "345             0.033888  \n",
       "398             0.053477  \n",
       "291             0.014170  \n",
       "105             0.005494  \n",
       "260             0.010748  \n",
       "257             0.010402  \n",
       "320             0.026469  \n",
       "348             0.032530  \n",
       "279             0.011192  \n",
       "284             0.011722  \n",
       "219             0.008751  \n",
       "285             0.011226  \n",
       "402             0.055382  \n",
       "247             0.009821  \n",
       "380             0.050296  \n",
       "214             0.008270  \n",
       "410             0.054878  \n",
       "311             0.022292  \n",
       "215             0.008435  \n",
       "340             0.038077  \n",
       "369             0.043985  \n",
       "275             0.010246  \n",
       "308             0.027369  \n",
       "278             0.011266  \n",
       "225             0.011349  \n",
       "141             0.006153  \n",
       "218             0.008657  \n",
       "342             0.035502  \n",
       "201             0.008301  \n",
       "68              0.004825  \n",
       "197             0.008614  \n",
       "350             0.032228  \n",
       "135             0.006030  \n",
       "316             0.024488  \n",
       "103             0.005124  \n",
       "276             0.010689  \n",
       "161             0.008585  \n",
       "157             0.007471  \n",
       "250             0.009834  \n",
       "156             0.007606  \n",
       "245             0.009326  \n",
       "185             0.007310  \n",
       "333             0.029532  \n",
       "266             0.011527  \n",
       "268             0.010249  \n",
       "240             0.010528  \n",
       "262             0.010431  \n",
       "264             0.010473  \n",
       "155             0.007024  \n",
       "227             0.010622  \n",
       "137             0.006115  \n",
       "295             0.011692  \n",
       "293             0.011466  \n",
       "297             0.012750  \n",
       "299             0.013387  \n",
       "271             0.011500  \n",
       "248             0.010247  \n",
       "199             0.008335  \n",
       "267             0.010488  \n",
       "241             0.011568  \n",
       "265             0.010532  \n",
       "269             0.010359  \n",
       "263             0.010894  \n",
       "406             0.053450  \n",
       "195             0.008130  \n",
       "312             0.025269  \n",
       "255             0.013871  \n",
       "85              0.003953  \n",
       "61              0.003970  \n",
       "89              0.004026  \n",
       "87              0.004289  \n",
       "83              0.003965  \n",
       "376             0.042556  \n",
       "384             0.042798  \n",
       "360             0.055640  \n",
       "388             0.044786  \n",
       "386             0.043697  \n",
       "382             0.042750  \n",
       "143             0.006193  \n",
       "147             0.006114  \n",
       "121             0.006234  \n",
       "149             0.006663  \n",
       "145             0.006267  \n",
       "390             0.054094  \n",
       "412             0.061696  \n",
       "418             0.059055  \n",
       "416             0.063133  \n",
       "414             0.067144  \n",
       "315             0.029821  \n",
       "217             0.008787  \n",
       "277             0.011742  \n",
       "193             0.008089  \n",
       "131             0.005859  \n",
       "67              0.003580  \n",
       "186             0.007871  \n",
       "244             0.009154  \n",
       "274             0.010115  \n",
       "309             0.024808  \n",
       "332             0.034070  \n",
       "192             0.007942  \n",
       "79              0.003979  \n",
       "169             0.007112  \n",
       "167             0.007327  \n",
       "358             0.040920  \n",
       "330             0.033653  \n",
       "354             0.032242  \n",
       "352             0.032912  \n",
       "356             0.035317  \n",
       "378             0.042955  \n",
       "81              0.003922  \n",
       "408             0.055965  \n",
       "249             0.010032  \n",
       "189             0.008386  \n",
       "310             0.024869  \n",
       "128             0.005908  \n",
       "97              0.004641  \n",
       "246             0.009587  \n",
       "281             0.011345  \n",
       "220             0.008960  \n",
       "190             0.007996  \n",
       "400             0.052567  \n",
       "393             0.046667  \n",
       "392             0.046857  \n",
       "160             0.009190  \n",
       "184             0.007300  \n",
       "154             0.008201  \n",
       "230             0.011834  \n",
       "171             0.007289  \n",
       "170             0.007092  \n",
       "224             0.009720  \n",
       "138             0.005961  \n",
       "151             0.007304  \n",
       "179             0.007208  \n",
       "177             0.007235  \n",
       "175             0.008821  \n",
       "173             0.007285  \n",
       "69              0.004511  \n",
       "98              0.004742  \n",
       "188             0.008137  \n",
       "66              0.003676  \n",
       "158             0.008068  \n",
       "187             0.008048  \n",
       "191             0.008131  \n",
       "130             0.006248  \n",
       "251             0.010450  \n",
       "363             0.039760  \n",
       "303             0.023177  \n",
       "111             0.005017  \n",
       "162             0.007862  \n",
       "282             0.010955  \n",
       "180             0.008044  \n",
       "208             0.008094  \n",
       "206             0.008099  \n",
       "204             0.007977  \n",
       "202             0.008898  \n",
       "43              0.002842  \n",
       "140             0.005914  \n",
       "239             0.009386  \n",
       "211             0.009648  \n",
       "237             0.009616  \n",
       "235             0.009286  \n",
       "233             0.009318  \n",
       "200             0.008133  \n",
       "254             0.010198  \n",
       "221             0.008896  \n",
       "75              0.003944  \n",
       "127             0.006696  \n",
       "362             0.039186  \n",
       "296             0.011742  \n",
       "298             0.016473  \n",
       "292             0.011398  \n",
       "270             0.011059  \n",
       "294             0.011355  \n",
       "150             0.007359  \n",
       "174             0.007242  \n",
       "172             0.007124  \n",
       "176             0.007129  \n",
       "178             0.007113  \n",
       "164             0.006968  \n",
       "146             0.005823  \n",
       "144             0.006164  \n",
       "142             0.005910  \n",
       "120             0.006447  \n",
       "148             0.006039  \n",
       "99              0.004720  \n",
       "196             0.008370  \n",
       "286             0.011252  \n",
       "258             0.010787  \n",
       "159             0.008190  \n",
       "370             0.049599  \n",
       "302             0.023085  \n",
       "231             0.009245  \n",
       "210             0.010007  \n",
       "238             0.009081  \n",
       "232             0.009443  \n",
       "234             0.009192  \n",
       "236             0.009382  \n",
       "72              0.005322  \n",
       "73              0.004732  \n",
       "290             0.014487  \n",
       "76              0.003878  \n",
       "168             0.007273  \n",
       "205             0.008353  \n",
       "181             0.008346  \n",
       "203             0.009786  \n",
       "209             0.008310  \n",
       "207             0.008263  \n",
       "134             0.005988  \n",
       "198             0.008088  \n",
       "109             0.005238  \n",
       "166             0.007082  \n",
       "15              0.001887  \n",
       "39              0.002751  \n",
       "95              0.004589  \n",
       "129             0.005981  \n",
       "80              0.004177  \n",
       "122             0.005730  \n",
       "123             0.005523  \n",
       "34              0.002645  \n",
       "110             0.005207  \n",
       "1               0.002576  \n",
       "25              0.001762  \n",
       "23              0.001832  \n",
       "27              0.001806  \n",
       "29              0.001753  \n",
       "36              0.002767  \n",
       "117             0.005029  \n",
       "113             0.005110  \n",
       "115             0.004911  \n",
       "91              0.005275  \n",
       "119             0.005127  \n",
       "228             0.010612  \n",
       "194             0.008031  \n",
       "101             0.005034  \n",
       "256             0.010663  \n",
       "21              0.002045  \n",
       "126             0.005895  \n",
       "136             0.006370  \n",
       "252             0.010249  \n",
       "94              0.004471  \n",
       "222             0.009114  \n",
       "212             0.008088  \n",
       "213             0.008115  \n",
       "100             0.005372  \n",
       "35              0.002704  \n",
       "107             0.005274  \n",
       "77              0.003911  \n",
       "288             0.012227  \n",
       "37              0.002658  \n",
       "226             0.010251  \n",
       "38              0.002783  \n",
       "9               0.002354  \n",
       "13              0.001815  \n",
       "106             0.005530  \n",
       "71              0.004804  \n",
       "60              0.004430  \n",
       "88              0.004169  \n",
       "86              0.003927  \n",
       "84              0.003844  \n",
       "82              0.004205  \n",
       "183             0.007208  \n",
       "182             0.008340  \n",
       "153             0.007299  \n",
       "152             0.006489  \n",
       "12              0.001737  \n",
       "104             0.005187  \n",
       "14              0.001969  \n",
       "64              0.003765  \n",
       "96              0.004630  \n",
       "78              0.003936  \n",
       "114             0.005059  \n",
       "112             0.005019  \n",
       "116             0.004913  \n",
       "90              0.005145  \n",
       "118             0.005025  \n",
       "108             0.004992  \n",
       "19              0.001779  \n",
       "102             0.005411  \n",
       "74              0.004262  \n",
       "7               0.001685  \n",
       "59              0.002892  \n",
       "57              0.002900  \n",
       "55              0.002909  \n",
       "53              0.002913  \n",
       "31              0.002944  \n",
       "51              0.002896  \n",
       "65              0.003608  \n",
       "8               0.001754  \n",
       "272             0.010338  \n",
       "70              0.004767  \n",
       "17              0.001752  \n",
       "6               0.001657  \n",
       "242             0.010175  \n",
       "243             0.009074  \n",
       "273             0.009855  \n",
       "10              0.002058  \n",
       "42              0.002926  \n",
       "41              0.003074  \n",
       "18              0.001846  \n",
       "11              0.001761  \n",
       "20              0.001833  \n",
       "49              0.002885  \n",
       "4               0.002084  \n",
       "40              0.002796  \n",
       "45              0.003412  \n",
       "5               0.001777  \n",
       "47              0.002866  \n",
       "26              0.001712  \n",
       "28              0.001761  \n",
       "0               0.004783  \n",
       "22              0.002104  \n",
       "24              0.001806  \n",
       "44              0.003271  \n",
       "50              0.002868  \n",
       "48              0.002937  \n",
       "2               0.003743  \n",
       "3               0.004707  \n",
       "33              0.002612  \n",
       "63              0.003598  \n",
       "62              0.003465  \n",
       "32              0.002565  \n",
       "30              0.002852  \n",
       "58              0.002926  \n",
       "54              0.002990  \n",
       "52              0.002762  \n",
       "56              0.002806  \n",
       "16              0.001811  \n",
       "46              0.002818  \n",
       "92              0.004458  \n",
       "93              0.004451  "
      ]
     },
     "execution_count": 134,
     "metadata": {},
     "output_type": "execute_result"
    }
   ],
   "source": [
    "# Lista de configuraciones de hiperparámetros\n",
    "n_estimators_list = [1, 2, 3, 4, 5, 6, 7, 8, 9, 10, 20, 30, 40, 50]\n",
    "max_depth_list = [None,1, 2, 3, 4, 5, 6, 7, 8, 9, 10, 20, 30, 40, 50]\n",
    "criterion_list = [\"gini\", \"entropy\"]\n",
    "\n",
    "# Lista para almacenar los resultados\n",
    "results = []\n",
    "\n",
    "# Probar diferentes configuraciones\n",
    "for n_estimators in n_estimators_list:\n",
    "    for max_depth in max_depth_list:\n",
    "        for criterion in criterion_list:\n",
    "            # Crear el modelo Random Forest con la configuración actual\n",
    "            model = RandomForestClassifier(n_estimators=n_estimators, max_depth=max_depth, criterion=criterion, random_state=42)\n",
    "            # Evaluar el modelo\n",
    "            model_name = f\"RF_n={n_estimators}_depth={max_depth}_criterion={criterion}\"\n",
    "            model_results = evaluate_model(model, model_name, X, y)\n",
    "            results.append(model_results)\n",
    "\n",
    "results_df = pd.DataFrame(results)\n",
    "\n",
    "# Ordenar el DataFrame por F1-score en orden descendente para ver la mejor combinación al principio\n",
    "best_result = results_df.sort_values(by='F1-score', ascending=False)\n",
    "best_result\n",
    "\n"
   ]
  },
  {
   "cell_type": "code",
   "execution_count": 135,
   "id": "ee1ad28c-12c4-45f1-94ef-f8485fa9e725",
   "metadata": {
    "tags": []
   },
   "outputs": [
    {
     "name": "stdout",
     "output_type": "stream",
     "text": [
      "La mejor combinación de parámetros es:\n"
     ]
    },
    {
     "data": {
      "text/html": [
       "<div>\n",
       "<style scoped>\n",
       "    .dataframe tbody tr th:only-of-type {\n",
       "        vertical-align: middle;\n",
       "    }\n",
       "\n",
       "    .dataframe tbody tr th {\n",
       "        vertical-align: top;\n",
       "    }\n",
       "\n",
       "    .dataframe thead th {\n",
       "        text-align: right;\n",
       "    }\n",
       "</style>\n",
       "<table border=\"1\" class=\"dataframe\">\n",
       "  <thead>\n",
       "    <tr style=\"text-align: right;\">\n",
       "      <th></th>\n",
       "      <th>Modelo</th>\n",
       "      <th>Precisión</th>\n",
       "      <th>Recall</th>\n",
       "      <th>F1-score</th>\n",
       "      <th>Tiempo de ejecución</th>\n",
       "    </tr>\n",
       "  </thead>\n",
       "  <tbody>\n",
       "    <tr>\n",
       "      <th>349</th>\n",
       "      <td>RF_n=30_depth=9_criterion=entropy</td>\n",
       "      <td>0.858345</td>\n",
       "      <td>0.847957</td>\n",
       "      <td>0.846163</td>\n",
       "      <td>0.033536</td>\n",
       "    </tr>\n",
       "  </tbody>\n",
       "</table>\n",
       "</div>"
      ],
      "text/plain": [
       "                                Modelo  Precisión    Recall  F1-score  \\\n",
       "349  RF_n=30_depth=9_criterion=entropy   0.858345  0.847957  0.846163   \n",
       "\n",
       "     Tiempo de ejecución  \n",
       "349             0.033536  "
      ]
     },
     "execution_count": 135,
     "metadata": {},
     "output_type": "execute_result"
    }
   ],
   "source": [
    "# Mostrar la combinación con el mejor F1-score\n",
    "print(\"La mejor combinación de parámetros es:\")\n",
    "best_result.head(1)"
   ]
  },
  {
   "cell_type": "markdown",
   "id": "788fdd2f-eec1-4c68-9787-e4cff79ff963",
   "metadata": {
    "tags": []
   },
   "source": [
    "### 3.4 Feed-Forward Neural Networks\n",
    "En esta subsección, evaluaremos el rendimiento de las Redes Neuronales Feedforward, también conocidas como Redes Neuronales Artificiales (ANN) o Perceptrones Multicapa (MLP, por sus siglas en inglés Multilayer Perceptron). Este tipo de arquitectura de red neuronal es ampliamente utilizada en problemas de clasificación y regresión debido a su capacidad para modelar relaciones complejas y no lineales entre las características y la variable objetivo."
   ]
  },
  {
   "cell_type": "markdown",
   "id": "237baa83-b1bc-46e7-956d-3a3cc8620a68",
   "metadata": {},
   "source": [
    "#### 3.4.1 Con Una Neurona en La Capa de Salida"
   ]
  },
  {
   "cell_type": "code",
   "execution_count": 146,
   "id": "63159026-6018-40a3-96aa-a49bad41a39f",
   "metadata": {
    "tags": []
   },
   "outputs": [
    {
     "name": "stderr",
     "output_type": "stream",
     "text": [
      "/Users/lauramos/anaconda3/lib/python3.11/site-packages/keras/src/layers/core/dense.py:86: UserWarning: Do not pass an `input_shape`/`input_dim` argument to a layer. When using Sequential models, prefer using an `Input(shape)` object as the first layer in the model instead.\n",
      "  super().__init__(activity_regularizer=activity_regularizer, **kwargs)\n"
     ]
    },
    {
     "name": "stdout",
     "output_type": "stream",
     "text": [
      "\u001b[1m1/1\u001b[0m \u001b[32m━━━━━━━━━━━━━━━━━━━━\u001b[0m\u001b[37m\u001b[0m \u001b[1m0s\u001b[0m 41ms/step\n"
     ]
    },
    {
     "name": "stderr",
     "output_type": "stream",
     "text": [
      "/Users/lauramos/anaconda3/lib/python3.11/site-packages/keras/src/layers/core/dense.py:86: UserWarning: Do not pass an `input_shape`/`input_dim` argument to a layer. When using Sequential models, prefer using an `Input(shape)` object as the first layer in the model instead.\n",
      "  super().__init__(activity_regularizer=activity_regularizer, **kwargs)\n"
     ]
    },
    {
     "name": "stdout",
     "output_type": "stream",
     "text": [
      "\u001b[1m1/1\u001b[0m \u001b[32m━━━━━━━━━━━━━━━━━━━━\u001b[0m\u001b[37m\u001b[0m \u001b[1m0s\u001b[0m 33ms/step\n"
     ]
    },
    {
     "name": "stderr",
     "output_type": "stream",
     "text": [
      "/Users/lauramos/anaconda3/lib/python3.11/site-packages/keras/src/layers/core/dense.py:86: UserWarning: Do not pass an `input_shape`/`input_dim` argument to a layer. When using Sequential models, prefer using an `Input(shape)` object as the first layer in the model instead.\n",
      "  super().__init__(activity_regularizer=activity_regularizer, **kwargs)\n"
     ]
    },
    {
     "name": "stdout",
     "output_type": "stream",
     "text": [
      "\u001b[1m1/1\u001b[0m \u001b[32m━━━━━━━━━━━━━━━━━━━━\u001b[0m\u001b[37m\u001b[0m \u001b[1m0s\u001b[0m 33ms/step\n"
     ]
    },
    {
     "name": "stderr",
     "output_type": "stream",
     "text": [
      "/Users/lauramos/anaconda3/lib/python3.11/site-packages/keras/src/layers/core/dense.py:86: UserWarning: Do not pass an `input_shape`/`input_dim` argument to a layer. When using Sequential models, prefer using an `Input(shape)` object as the first layer in the model instead.\n",
      "  super().__init__(activity_regularizer=activity_regularizer, **kwargs)\n"
     ]
    },
    {
     "name": "stdout",
     "output_type": "stream",
     "text": [
      "\u001b[1m1/1\u001b[0m \u001b[32m━━━━━━━━━━━━━━━━━━━━\u001b[0m\u001b[37m\u001b[0m \u001b[1m0s\u001b[0m 43ms/step\n"
     ]
    },
    {
     "name": "stderr",
     "output_type": "stream",
     "text": [
      "/Users/lauramos/anaconda3/lib/python3.11/site-packages/keras/src/layers/core/dense.py:86: UserWarning: Do not pass an `input_shape`/`input_dim` argument to a layer. When using Sequential models, prefer using an `Input(shape)` object as the first layer in the model instead.\n",
      "  super().__init__(activity_regularizer=activity_regularizer, **kwargs)\n"
     ]
    },
    {
     "name": "stdout",
     "output_type": "stream",
     "text": [
      "\u001b[1m1/1\u001b[0m \u001b[32m━━━━━━━━━━━━━━━━━━━━\u001b[0m\u001b[37m\u001b[0m \u001b[1m0s\u001b[0m 36ms/step\n"
     ]
    },
    {
     "name": "stderr",
     "output_type": "stream",
     "text": [
      "/Users/lauramos/anaconda3/lib/python3.11/site-packages/keras/src/layers/core/dense.py:86: UserWarning: Do not pass an `input_shape`/`input_dim` argument to a layer. When using Sequential models, prefer using an `Input(shape)` object as the first layer in the model instead.\n",
      "  super().__init__(activity_regularizer=activity_regularizer, **kwargs)\n"
     ]
    },
    {
     "name": "stdout",
     "output_type": "stream",
     "text": [
      "\u001b[1m1/1\u001b[0m \u001b[32m━━━━━━━━━━━━━━━━━━━━\u001b[0m\u001b[37m\u001b[0m \u001b[1m0s\u001b[0m 32ms/step\n"
     ]
    },
    {
     "name": "stderr",
     "output_type": "stream",
     "text": [
      "/Users/lauramos/anaconda3/lib/python3.11/site-packages/keras/src/layers/core/dense.py:86: UserWarning: Do not pass an `input_shape`/`input_dim` argument to a layer. When using Sequential models, prefer using an `Input(shape)` object as the first layer in the model instead.\n",
      "  super().__init__(activity_regularizer=activity_regularizer, **kwargs)\n"
     ]
    },
    {
     "name": "stdout",
     "output_type": "stream",
     "text": [
      "\u001b[1m1/1\u001b[0m \u001b[32m━━━━━━━━━━━━━━━━━━━━\u001b[0m\u001b[37m\u001b[0m \u001b[1m0s\u001b[0m 32ms/step\n"
     ]
    },
    {
     "name": "stderr",
     "output_type": "stream",
     "text": [
      "/Users/lauramos/anaconda3/lib/python3.11/site-packages/keras/src/layers/core/dense.py:86: UserWarning: Do not pass an `input_shape`/`input_dim` argument to a layer. When using Sequential models, prefer using an `Input(shape)` object as the first layer in the model instead.\n",
      "  super().__init__(activity_regularizer=activity_regularizer, **kwargs)\n"
     ]
    },
    {
     "name": "stdout",
     "output_type": "stream",
     "text": [
      "\u001b[1m1/1\u001b[0m \u001b[32m━━━━━━━━━━━━━━━━━━━━\u001b[0m\u001b[37m\u001b[0m \u001b[1m0s\u001b[0m 34ms/step\n"
     ]
    },
    {
     "name": "stderr",
     "output_type": "stream",
     "text": [
      "/Users/lauramos/anaconda3/lib/python3.11/site-packages/keras/src/layers/core/dense.py:86: UserWarning: Do not pass an `input_shape`/`input_dim` argument to a layer. When using Sequential models, prefer using an `Input(shape)` object as the first layer in the model instead.\n",
      "  super().__init__(activity_regularizer=activity_regularizer, **kwargs)\n"
     ]
    },
    {
     "name": "stdout",
     "output_type": "stream",
     "text": [
      "\u001b[1m1/1\u001b[0m \u001b[32m━━━━━━━━━━━━━━━━━━━━\u001b[0m\u001b[37m\u001b[0m \u001b[1m0s\u001b[0m 32ms/step\n"
     ]
    },
    {
     "name": "stderr",
     "output_type": "stream",
     "text": [
      "/Users/lauramos/anaconda3/lib/python3.11/site-packages/keras/src/layers/core/dense.py:86: UserWarning: Do not pass an `input_shape`/`input_dim` argument to a layer. When using Sequential models, prefer using an `Input(shape)` object as the first layer in the model instead.\n",
      "  super().__init__(activity_regularizer=activity_regularizer, **kwargs)\n"
     ]
    },
    {
     "name": "stdout",
     "output_type": "stream",
     "text": [
      "\u001b[1m1/1\u001b[0m \u001b[32m━━━━━━━━━━━━━━━━━━━━\u001b[0m\u001b[37m\u001b[0m \u001b[1m0s\u001b[0m 39ms/step\n"
     ]
    },
    {
     "name": "stderr",
     "output_type": "stream",
     "text": [
      "/Users/lauramos/anaconda3/lib/python3.11/site-packages/keras/src/layers/core/dense.py:86: UserWarning: Do not pass an `input_shape`/`input_dim` argument to a layer. When using Sequential models, prefer using an `Input(shape)` object as the first layer in the model instead.\n",
      "  super().__init__(activity_regularizer=activity_regularizer, **kwargs)\n"
     ]
    },
    {
     "name": "stdout",
     "output_type": "stream",
     "text": [
      "\u001b[1m1/1\u001b[0m \u001b[32m━━━━━━━━━━━━━━━━━━━━\u001b[0m\u001b[37m\u001b[0m \u001b[1m0s\u001b[0m 32ms/step\n"
     ]
    },
    {
     "name": "stderr",
     "output_type": "stream",
     "text": [
      "/Users/lauramos/anaconda3/lib/python3.11/site-packages/keras/src/layers/core/dense.py:86: UserWarning: Do not pass an `input_shape`/`input_dim` argument to a layer. When using Sequential models, prefer using an `Input(shape)` object as the first layer in the model instead.\n",
      "  super().__init__(activity_regularizer=activity_regularizer, **kwargs)\n"
     ]
    },
    {
     "name": "stdout",
     "output_type": "stream",
     "text": [
      "\u001b[1m1/1\u001b[0m \u001b[32m━━━━━━━━━━━━━━━━━━━━\u001b[0m\u001b[37m\u001b[0m \u001b[1m0s\u001b[0m 33ms/step\n"
     ]
    },
    {
     "name": "stderr",
     "output_type": "stream",
     "text": [
      "/Users/lauramos/anaconda3/lib/python3.11/site-packages/keras/src/layers/core/dense.py:86: UserWarning: Do not pass an `input_shape`/`input_dim` argument to a layer. When using Sequential models, prefer using an `Input(shape)` object as the first layer in the model instead.\n",
      "  super().__init__(activity_regularizer=activity_regularizer, **kwargs)\n"
     ]
    },
    {
     "name": "stdout",
     "output_type": "stream",
     "text": [
      "\u001b[1m1/1\u001b[0m \u001b[32m━━━━━━━━━━━━━━━━━━━━\u001b[0m\u001b[37m\u001b[0m \u001b[1m0s\u001b[0m 38ms/step\n"
     ]
    },
    {
     "name": "stderr",
     "output_type": "stream",
     "text": [
      "/Users/lauramos/anaconda3/lib/python3.11/site-packages/keras/src/layers/core/dense.py:86: UserWarning: Do not pass an `input_shape`/`input_dim` argument to a layer. When using Sequential models, prefer using an `Input(shape)` object as the first layer in the model instead.\n",
      "  super().__init__(activity_regularizer=activity_regularizer, **kwargs)\n"
     ]
    },
    {
     "name": "stdout",
     "output_type": "stream",
     "text": [
      "\u001b[1m1/1\u001b[0m \u001b[32m━━━━━━━━━━━━━━━━━━━━\u001b[0m\u001b[37m\u001b[0m \u001b[1m0s\u001b[0m 33ms/step\n"
     ]
    },
    {
     "name": "stderr",
     "output_type": "stream",
     "text": [
      "/Users/lauramos/anaconda3/lib/python3.11/site-packages/keras/src/layers/core/dense.py:86: UserWarning: Do not pass an `input_shape`/`input_dim` argument to a layer. When using Sequential models, prefer using an `Input(shape)` object as the first layer in the model instead.\n",
      "  super().__init__(activity_regularizer=activity_regularizer, **kwargs)\n"
     ]
    },
    {
     "name": "stdout",
     "output_type": "stream",
     "text": [
      "\u001b[1m1/1\u001b[0m \u001b[32m━━━━━━━━━━━━━━━━━━━━\u001b[0m\u001b[37m\u001b[0m \u001b[1m0s\u001b[0m 32ms/step\n"
     ]
    },
    {
     "name": "stderr",
     "output_type": "stream",
     "text": [
      "/Users/lauramos/anaconda3/lib/python3.11/site-packages/keras/src/layers/core/dense.py:86: UserWarning: Do not pass an `input_shape`/`input_dim` argument to a layer. When using Sequential models, prefer using an `Input(shape)` object as the first layer in the model instead.\n",
      "  super().__init__(activity_regularizer=activity_regularizer, **kwargs)\n"
     ]
    },
    {
     "name": "stdout",
     "output_type": "stream",
     "text": [
      "\u001b[1m1/1\u001b[0m \u001b[32m━━━━━━━━━━━━━━━━━━━━\u001b[0m\u001b[37m\u001b[0m \u001b[1m0s\u001b[0m 33ms/step\n"
     ]
    },
    {
     "name": "stderr",
     "output_type": "stream",
     "text": [
      "/Users/lauramos/anaconda3/lib/python3.11/site-packages/keras/src/layers/core/dense.py:86: UserWarning: Do not pass an `input_shape`/`input_dim` argument to a layer. When using Sequential models, prefer using an `Input(shape)` object as the first layer in the model instead.\n",
      "  super().__init__(activity_regularizer=activity_regularizer, **kwargs)\n"
     ]
    },
    {
     "name": "stdout",
     "output_type": "stream",
     "text": [
      "\u001b[1m1/1\u001b[0m \u001b[32m━━━━━━━━━━━━━━━━━━━━\u001b[0m\u001b[37m\u001b[0m \u001b[1m0s\u001b[0m 32ms/step\n"
     ]
    },
    {
     "name": "stderr",
     "output_type": "stream",
     "text": [
      "/Users/lauramos/anaconda3/lib/python3.11/site-packages/keras/src/layers/core/dense.py:86: UserWarning: Do not pass an `input_shape`/`input_dim` argument to a layer. When using Sequential models, prefer using an `Input(shape)` object as the first layer in the model instead.\n",
      "  super().__init__(activity_regularizer=activity_regularizer, **kwargs)\n"
     ]
    },
    {
     "name": "stdout",
     "output_type": "stream",
     "text": [
      "\u001b[1m1/1\u001b[0m \u001b[32m━━━━━━━━━━━━━━━━━━━━\u001b[0m\u001b[37m\u001b[0m \u001b[1m0s\u001b[0m 32ms/step\n"
     ]
    },
    {
     "name": "stderr",
     "output_type": "stream",
     "text": [
      "/Users/lauramos/anaconda3/lib/python3.11/site-packages/keras/src/layers/core/dense.py:86: UserWarning: Do not pass an `input_shape`/`input_dim` argument to a layer. When using Sequential models, prefer using an `Input(shape)` object as the first layer in the model instead.\n",
      "  super().__init__(activity_regularizer=activity_regularizer, **kwargs)\n"
     ]
    },
    {
     "name": "stdout",
     "output_type": "stream",
     "text": [
      "\u001b[1m1/1\u001b[0m \u001b[32m━━━━━━━━━━━━━━━━━━━━\u001b[0m\u001b[37m\u001b[0m \u001b[1m0s\u001b[0m 33ms/step\n"
     ]
    },
    {
     "name": "stderr",
     "output_type": "stream",
     "text": [
      "/Users/lauramos/anaconda3/lib/python3.11/site-packages/keras/src/layers/core/dense.py:86: UserWarning: Do not pass an `input_shape`/`input_dim` argument to a layer. When using Sequential models, prefer using an `Input(shape)` object as the first layer in the model instead.\n",
      "  super().__init__(activity_regularizer=activity_regularizer, **kwargs)\n"
     ]
    },
    {
     "name": "stdout",
     "output_type": "stream",
     "text": [
      "\u001b[1m1/1\u001b[0m \u001b[32m━━━━━━━━━━━━━━━━━━━━\u001b[0m\u001b[37m\u001b[0m \u001b[1m0s\u001b[0m 32ms/step\n"
     ]
    },
    {
     "name": "stderr",
     "output_type": "stream",
     "text": [
      "/Users/lauramos/anaconda3/lib/python3.11/site-packages/keras/src/layers/core/dense.py:86: UserWarning: Do not pass an `input_shape`/`input_dim` argument to a layer. When using Sequential models, prefer using an `Input(shape)` object as the first layer in the model instead.\n",
      "  super().__init__(activity_regularizer=activity_regularizer, **kwargs)\n"
     ]
    },
    {
     "name": "stdout",
     "output_type": "stream",
     "text": [
      "\u001b[1m1/1\u001b[0m \u001b[32m━━━━━━━━━━━━━━━━━━━━\u001b[0m\u001b[37m\u001b[0m \u001b[1m0s\u001b[0m 34ms/step\n"
     ]
    },
    {
     "name": "stderr",
     "output_type": "stream",
     "text": [
      "/Users/lauramos/anaconda3/lib/python3.11/site-packages/keras/src/layers/core/dense.py:86: UserWarning: Do not pass an `input_shape`/`input_dim` argument to a layer. When using Sequential models, prefer using an `Input(shape)` object as the first layer in the model instead.\n",
      "  super().__init__(activity_regularizer=activity_regularizer, **kwargs)\n"
     ]
    },
    {
     "name": "stdout",
     "output_type": "stream",
     "text": [
      "\u001b[1m1/1\u001b[0m \u001b[32m━━━━━━━━━━━━━━━━━━━━\u001b[0m\u001b[37m\u001b[0m \u001b[1m0s\u001b[0m 32ms/step\n"
     ]
    },
    {
     "name": "stderr",
     "output_type": "stream",
     "text": [
      "/Users/lauramos/anaconda3/lib/python3.11/site-packages/keras/src/layers/core/dense.py:86: UserWarning: Do not pass an `input_shape`/`input_dim` argument to a layer. When using Sequential models, prefer using an `Input(shape)` object as the first layer in the model instead.\n",
      "  super().__init__(activity_regularizer=activity_regularizer, **kwargs)\n"
     ]
    },
    {
     "name": "stdout",
     "output_type": "stream",
     "text": [
      "\u001b[1m1/1\u001b[0m \u001b[32m━━━━━━━━━━━━━━━━━━━━\u001b[0m\u001b[37m\u001b[0m \u001b[1m0s\u001b[0m 33ms/step\n"
     ]
    },
    {
     "name": "stderr",
     "output_type": "stream",
     "text": [
      "/Users/lauramos/anaconda3/lib/python3.11/site-packages/keras/src/layers/core/dense.py:86: UserWarning: Do not pass an `input_shape`/`input_dim` argument to a layer. When using Sequential models, prefer using an `Input(shape)` object as the first layer in the model instead.\n",
      "  super().__init__(activity_regularizer=activity_regularizer, **kwargs)\n"
     ]
    },
    {
     "name": "stdout",
     "output_type": "stream",
     "text": [
      "\u001b[1m1/1\u001b[0m \u001b[32m━━━━━━━━━━━━━━━━━━━━\u001b[0m\u001b[37m\u001b[0m \u001b[1m0s\u001b[0m 33ms/step\n"
     ]
    },
    {
     "name": "stderr",
     "output_type": "stream",
     "text": [
      "/Users/lauramos/anaconda3/lib/python3.11/site-packages/keras/src/layers/core/dense.py:86: UserWarning: Do not pass an `input_shape`/`input_dim` argument to a layer. When using Sequential models, prefer using an `Input(shape)` object as the first layer in the model instead.\n",
      "  super().__init__(activity_regularizer=activity_regularizer, **kwargs)\n"
     ]
    },
    {
     "name": "stdout",
     "output_type": "stream",
     "text": [
      "\u001b[1m1/1\u001b[0m \u001b[32m━━━━━━━━━━━━━━━━━━━━\u001b[0m\u001b[37m\u001b[0m \u001b[1m0s\u001b[0m 40ms/step\n"
     ]
    },
    {
     "name": "stderr",
     "output_type": "stream",
     "text": [
      "/Users/lauramos/anaconda3/lib/python3.11/site-packages/keras/src/layers/core/dense.py:86: UserWarning: Do not pass an `input_shape`/`input_dim` argument to a layer. When using Sequential models, prefer using an `Input(shape)` object as the first layer in the model instead.\n",
      "  super().__init__(activity_regularizer=activity_regularizer, **kwargs)\n"
     ]
    },
    {
     "name": "stdout",
     "output_type": "stream",
     "text": [
      "\u001b[1m1/1\u001b[0m \u001b[32m━━━━━━━━━━━━━━━━━━━━\u001b[0m\u001b[37m\u001b[0m \u001b[1m0s\u001b[0m 42ms/step\n"
     ]
    },
    {
     "name": "stderr",
     "output_type": "stream",
     "text": [
      "/Users/lauramos/anaconda3/lib/python3.11/site-packages/keras/src/layers/core/dense.py:86: UserWarning: Do not pass an `input_shape`/`input_dim` argument to a layer. When using Sequential models, prefer using an `Input(shape)` object as the first layer in the model instead.\n",
      "  super().__init__(activity_regularizer=activity_regularizer, **kwargs)\n"
     ]
    },
    {
     "name": "stdout",
     "output_type": "stream",
     "text": [
      "\u001b[1m1/1\u001b[0m \u001b[32m━━━━━━━━━━━━━━━━━━━━\u001b[0m\u001b[37m\u001b[0m \u001b[1m0s\u001b[0m 37ms/step\n"
     ]
    },
    {
     "name": "stderr",
     "output_type": "stream",
     "text": [
      "/Users/lauramos/anaconda3/lib/python3.11/site-packages/keras/src/layers/core/dense.py:86: UserWarning: Do not pass an `input_shape`/`input_dim` argument to a layer. When using Sequential models, prefer using an `Input(shape)` object as the first layer in the model instead.\n",
      "  super().__init__(activity_regularizer=activity_regularizer, **kwargs)\n"
     ]
    },
    {
     "name": "stdout",
     "output_type": "stream",
     "text": [
      "\u001b[1m1/1\u001b[0m \u001b[32m━━━━━━━━━━━━━━━━━━━━\u001b[0m\u001b[37m\u001b[0m \u001b[1m0s\u001b[0m 33ms/step\n"
     ]
    },
    {
     "name": "stderr",
     "output_type": "stream",
     "text": [
      "/Users/lauramos/anaconda3/lib/python3.11/site-packages/keras/src/layers/core/dense.py:86: UserWarning: Do not pass an `input_shape`/`input_dim` argument to a layer. When using Sequential models, prefer using an `Input(shape)` object as the first layer in the model instead.\n",
      "  super().__init__(activity_regularizer=activity_regularizer, **kwargs)\n"
     ]
    },
    {
     "name": "stdout",
     "output_type": "stream",
     "text": [
      "\u001b[1m1/1\u001b[0m \u001b[32m━━━━━━━━━━━━━━━━━━━━\u001b[0m\u001b[37m\u001b[0m \u001b[1m0s\u001b[0m 42ms/step\n"
     ]
    },
    {
     "name": "stderr",
     "output_type": "stream",
     "text": [
      "/Users/lauramos/anaconda3/lib/python3.11/site-packages/keras/src/layers/core/dense.py:86: UserWarning: Do not pass an `input_shape`/`input_dim` argument to a layer. When using Sequential models, prefer using an `Input(shape)` object as the first layer in the model instead.\n",
      "  super().__init__(activity_regularizer=activity_regularizer, **kwargs)\n"
     ]
    },
    {
     "name": "stdout",
     "output_type": "stream",
     "text": [
      "\u001b[1m1/1\u001b[0m \u001b[32m━━━━━━━━━━━━━━━━━━━━\u001b[0m\u001b[37m\u001b[0m \u001b[1m0s\u001b[0m 35ms/step\n"
     ]
    },
    {
     "name": "stderr",
     "output_type": "stream",
     "text": [
      "/Users/lauramos/anaconda3/lib/python3.11/site-packages/keras/src/layers/core/dense.py:86: UserWarning: Do not pass an `input_shape`/`input_dim` argument to a layer. When using Sequential models, prefer using an `Input(shape)` object as the first layer in the model instead.\n",
      "  super().__init__(activity_regularizer=activity_regularizer, **kwargs)\n"
     ]
    },
    {
     "name": "stdout",
     "output_type": "stream",
     "text": [
      "\u001b[1m1/1\u001b[0m \u001b[32m━━━━━━━━━━━━━━━━━━━━\u001b[0m\u001b[37m\u001b[0m \u001b[1m0s\u001b[0m 42ms/step\n"
     ]
    },
    {
     "name": "stderr",
     "output_type": "stream",
     "text": [
      "/Users/lauramos/anaconda3/lib/python3.11/site-packages/keras/src/layers/core/dense.py:86: UserWarning: Do not pass an `input_shape`/`input_dim` argument to a layer. When using Sequential models, prefer using an `Input(shape)` object as the first layer in the model instead.\n",
      "  super().__init__(activity_regularizer=activity_regularizer, **kwargs)\n"
     ]
    },
    {
     "name": "stdout",
     "output_type": "stream",
     "text": [
      "\u001b[1m1/1\u001b[0m \u001b[32m━━━━━━━━━━━━━━━━━━━━\u001b[0m\u001b[37m\u001b[0m \u001b[1m0s\u001b[0m 34ms/step\n"
     ]
    },
    {
     "name": "stderr",
     "output_type": "stream",
     "text": [
      "/Users/lauramos/anaconda3/lib/python3.11/site-packages/keras/src/layers/core/dense.py:86: UserWarning: Do not pass an `input_shape`/`input_dim` argument to a layer. When using Sequential models, prefer using an `Input(shape)` object as the first layer in the model instead.\n",
      "  super().__init__(activity_regularizer=activity_regularizer, **kwargs)\n"
     ]
    },
    {
     "name": "stdout",
     "output_type": "stream",
     "text": [
      "\u001b[1m1/1\u001b[0m \u001b[32m━━━━━━━━━━━━━━━━━━━━\u001b[0m\u001b[37m\u001b[0m \u001b[1m0s\u001b[0m 34ms/step\n"
     ]
    },
    {
     "name": "stderr",
     "output_type": "stream",
     "text": [
      "/Users/lauramos/anaconda3/lib/python3.11/site-packages/keras/src/layers/core/dense.py:86: UserWarning: Do not pass an `input_shape`/`input_dim` argument to a layer. When using Sequential models, prefer using an `Input(shape)` object as the first layer in the model instead.\n",
      "  super().__init__(activity_regularizer=activity_regularizer, **kwargs)\n"
     ]
    },
    {
     "name": "stdout",
     "output_type": "stream",
     "text": [
      "\u001b[1m1/1\u001b[0m \u001b[32m━━━━━━━━━━━━━━━━━━━━\u001b[0m\u001b[37m\u001b[0m \u001b[1m0s\u001b[0m 33ms/step\n"
     ]
    },
    {
     "name": "stderr",
     "output_type": "stream",
     "text": [
      "/Users/lauramos/anaconda3/lib/python3.11/site-packages/keras/src/layers/core/dense.py:86: UserWarning: Do not pass an `input_shape`/`input_dim` argument to a layer. When using Sequential models, prefer using an `Input(shape)` object as the first layer in the model instead.\n",
      "  super().__init__(activity_regularizer=activity_regularizer, **kwargs)\n"
     ]
    },
    {
     "name": "stdout",
     "output_type": "stream",
     "text": [
      "\u001b[1m1/1\u001b[0m \u001b[32m━━━━━━━━━━━━━━━━━━━━\u001b[0m\u001b[37m\u001b[0m \u001b[1m0s\u001b[0m 32ms/step\n"
     ]
    },
    {
     "name": "stderr",
     "output_type": "stream",
     "text": [
      "/Users/lauramos/anaconda3/lib/python3.11/site-packages/keras/src/layers/core/dense.py:86: UserWarning: Do not pass an `input_shape`/`input_dim` argument to a layer. When using Sequential models, prefer using an `Input(shape)` object as the first layer in the model instead.\n",
      "  super().__init__(activity_regularizer=activity_regularizer, **kwargs)\n"
     ]
    },
    {
     "name": "stdout",
     "output_type": "stream",
     "text": [
      "\u001b[1m1/1\u001b[0m \u001b[32m━━━━━━━━━━━━━━━━━━━━\u001b[0m\u001b[37m\u001b[0m \u001b[1m0s\u001b[0m 34ms/step\n"
     ]
    },
    {
     "name": "stderr",
     "output_type": "stream",
     "text": [
      "/Users/lauramos/anaconda3/lib/python3.11/site-packages/keras/src/layers/core/dense.py:86: UserWarning: Do not pass an `input_shape`/`input_dim` argument to a layer. When using Sequential models, prefer using an `Input(shape)` object as the first layer in the model instead.\n",
      "  super().__init__(activity_regularizer=activity_regularizer, **kwargs)\n"
     ]
    },
    {
     "name": "stdout",
     "output_type": "stream",
     "text": [
      "\u001b[1m1/1\u001b[0m \u001b[32m━━━━━━━━━━━━━━━━━━━━\u001b[0m\u001b[37m\u001b[0m \u001b[1m0s\u001b[0m 33ms/step\n"
     ]
    },
    {
     "name": "stderr",
     "output_type": "stream",
     "text": [
      "/Users/lauramos/anaconda3/lib/python3.11/site-packages/keras/src/layers/core/dense.py:86: UserWarning: Do not pass an `input_shape`/`input_dim` argument to a layer. When using Sequential models, prefer using an `Input(shape)` object as the first layer in the model instead.\n",
      "  super().__init__(activity_regularizer=activity_regularizer, **kwargs)\n"
     ]
    },
    {
     "name": "stdout",
     "output_type": "stream",
     "text": [
      "\u001b[1m1/1\u001b[0m \u001b[32m━━━━━━━━━━━━━━━━━━━━\u001b[0m\u001b[37m\u001b[0m \u001b[1m0s\u001b[0m 34ms/step\n"
     ]
    },
    {
     "name": "stderr",
     "output_type": "stream",
     "text": [
      "/Users/lauramos/anaconda3/lib/python3.11/site-packages/keras/src/layers/core/dense.py:86: UserWarning: Do not pass an `input_shape`/`input_dim` argument to a layer. When using Sequential models, prefer using an `Input(shape)` object as the first layer in the model instead.\n",
      "  super().__init__(activity_regularizer=activity_regularizer, **kwargs)\n"
     ]
    },
    {
     "name": "stdout",
     "output_type": "stream",
     "text": [
      "\u001b[1m1/1\u001b[0m \u001b[32m━━━━━━━━━━━━━━━━━━━━\u001b[0m\u001b[37m\u001b[0m \u001b[1m0s\u001b[0m 33ms/step\n"
     ]
    },
    {
     "name": "stderr",
     "output_type": "stream",
     "text": [
      "/Users/lauramos/anaconda3/lib/python3.11/site-packages/keras/src/layers/core/dense.py:86: UserWarning: Do not pass an `input_shape`/`input_dim` argument to a layer. When using Sequential models, prefer using an `Input(shape)` object as the first layer in the model instead.\n",
      "  super().__init__(activity_regularizer=activity_regularizer, **kwargs)\n"
     ]
    },
    {
     "name": "stdout",
     "output_type": "stream",
     "text": [
      "\u001b[1m1/1\u001b[0m \u001b[32m━━━━━━━━━━━━━━━━━━━━\u001b[0m\u001b[37m\u001b[0m \u001b[1m0s\u001b[0m 33ms/step\n"
     ]
    },
    {
     "name": "stderr",
     "output_type": "stream",
     "text": [
      "/Users/lauramos/anaconda3/lib/python3.11/site-packages/keras/src/layers/core/dense.py:86: UserWarning: Do not pass an `input_shape`/`input_dim` argument to a layer. When using Sequential models, prefer using an `Input(shape)` object as the first layer in the model instead.\n",
      "  super().__init__(activity_regularizer=activity_regularizer, **kwargs)\n"
     ]
    },
    {
     "name": "stdout",
     "output_type": "stream",
     "text": [
      "\u001b[1m1/1\u001b[0m \u001b[32m━━━━━━━━━━━━━━━━━━━━\u001b[0m\u001b[37m\u001b[0m \u001b[1m0s\u001b[0m 33ms/step\n"
     ]
    },
    {
     "name": "stderr",
     "output_type": "stream",
     "text": [
      "/Users/lauramos/anaconda3/lib/python3.11/site-packages/keras/src/layers/core/dense.py:86: UserWarning: Do not pass an `input_shape`/`input_dim` argument to a layer. When using Sequential models, prefer using an `Input(shape)` object as the first layer in the model instead.\n",
      "  super().__init__(activity_regularizer=activity_regularizer, **kwargs)\n"
     ]
    },
    {
     "name": "stdout",
     "output_type": "stream",
     "text": [
      "\u001b[1m1/1\u001b[0m \u001b[32m━━━━━━━━━━━━━━━━━━━━\u001b[0m\u001b[37m\u001b[0m \u001b[1m0s\u001b[0m 33ms/step\n"
     ]
    },
    {
     "name": "stderr",
     "output_type": "stream",
     "text": [
      "/Users/lauramos/anaconda3/lib/python3.11/site-packages/keras/src/layers/core/dense.py:86: UserWarning: Do not pass an `input_shape`/`input_dim` argument to a layer. When using Sequential models, prefer using an `Input(shape)` object as the first layer in the model instead.\n",
      "  super().__init__(activity_regularizer=activity_regularizer, **kwargs)\n"
     ]
    },
    {
     "name": "stdout",
     "output_type": "stream",
     "text": [
      "\u001b[1m1/1\u001b[0m \u001b[32m━━━━━━━━━━━━━━━━━━━━\u001b[0m\u001b[37m\u001b[0m \u001b[1m0s\u001b[0m 38ms/step\n"
     ]
    },
    {
     "name": "stderr",
     "output_type": "stream",
     "text": [
      "/Users/lauramos/anaconda3/lib/python3.11/site-packages/keras/src/layers/core/dense.py:86: UserWarning: Do not pass an `input_shape`/`input_dim` argument to a layer. When using Sequential models, prefer using an `Input(shape)` object as the first layer in the model instead.\n",
      "  super().__init__(activity_regularizer=activity_regularizer, **kwargs)\n"
     ]
    },
    {
     "name": "stdout",
     "output_type": "stream",
     "text": [
      "\u001b[1m1/1\u001b[0m \u001b[32m━━━━━━━━━━━━━━━━━━━━\u001b[0m\u001b[37m\u001b[0m \u001b[1m0s\u001b[0m 33ms/step\n"
     ]
    },
    {
     "name": "stderr",
     "output_type": "stream",
     "text": [
      "/Users/lauramos/anaconda3/lib/python3.11/site-packages/keras/src/layers/core/dense.py:86: UserWarning: Do not pass an `input_shape`/`input_dim` argument to a layer. When using Sequential models, prefer using an `Input(shape)` object as the first layer in the model instead.\n",
      "  super().__init__(activity_regularizer=activity_regularizer, **kwargs)\n"
     ]
    },
    {
     "name": "stdout",
     "output_type": "stream",
     "text": [
      "\u001b[1m1/1\u001b[0m \u001b[32m━━━━━━━━━━━━━━━━━━━━\u001b[0m\u001b[37m\u001b[0m \u001b[1m0s\u001b[0m 34ms/step\n"
     ]
    },
    {
     "name": "stderr",
     "output_type": "stream",
     "text": [
      "/Users/lauramos/anaconda3/lib/python3.11/site-packages/keras/src/layers/core/dense.py:86: UserWarning: Do not pass an `input_shape`/`input_dim` argument to a layer. When using Sequential models, prefer using an `Input(shape)` object as the first layer in the model instead.\n",
      "  super().__init__(activity_regularizer=activity_regularizer, **kwargs)\n"
     ]
    },
    {
     "name": "stdout",
     "output_type": "stream",
     "text": [
      "\u001b[1m1/1\u001b[0m \u001b[32m━━━━━━━━━━━━━━━━━━━━\u001b[0m\u001b[37m\u001b[0m \u001b[1m0s\u001b[0m 33ms/step\n"
     ]
    },
    {
     "name": "stderr",
     "output_type": "stream",
     "text": [
      "/Users/lauramos/anaconda3/lib/python3.11/site-packages/keras/src/layers/core/dense.py:86: UserWarning: Do not pass an `input_shape`/`input_dim` argument to a layer. When using Sequential models, prefer using an `Input(shape)` object as the first layer in the model instead.\n",
      "  super().__init__(activity_regularizer=activity_regularizer, **kwargs)\n"
     ]
    },
    {
     "name": "stdout",
     "output_type": "stream",
     "text": [
      "\u001b[1m1/1\u001b[0m \u001b[32m━━━━━━━━━━━━━━━━━━━━\u001b[0m\u001b[37m\u001b[0m \u001b[1m0s\u001b[0m 34ms/step\n"
     ]
    },
    {
     "name": "stderr",
     "output_type": "stream",
     "text": [
      "/Users/lauramos/anaconda3/lib/python3.11/site-packages/keras/src/layers/core/dense.py:86: UserWarning: Do not pass an `input_shape`/`input_dim` argument to a layer. When using Sequential models, prefer using an `Input(shape)` object as the first layer in the model instead.\n",
      "  super().__init__(activity_regularizer=activity_regularizer, **kwargs)\n"
     ]
    },
    {
     "name": "stdout",
     "output_type": "stream",
     "text": [
      "\u001b[1m1/1\u001b[0m \u001b[32m━━━━━━━━━━━━━━━━━━━━\u001b[0m\u001b[37m\u001b[0m \u001b[1m0s\u001b[0m 35ms/step\n"
     ]
    },
    {
     "name": "stderr",
     "output_type": "stream",
     "text": [
      "/Users/lauramos/anaconda3/lib/python3.11/site-packages/keras/src/layers/core/dense.py:86: UserWarning: Do not pass an `input_shape`/`input_dim` argument to a layer. When using Sequential models, prefer using an `Input(shape)` object as the first layer in the model instead.\n",
      "  super().__init__(activity_regularizer=activity_regularizer, **kwargs)\n"
     ]
    },
    {
     "name": "stdout",
     "output_type": "stream",
     "text": [
      "\u001b[1m1/1\u001b[0m \u001b[32m━━━━━━━━━━━━━━━━━━━━\u001b[0m\u001b[37m\u001b[0m \u001b[1m0s\u001b[0m 34ms/step\n"
     ]
    },
    {
     "name": "stderr",
     "output_type": "stream",
     "text": [
      "/Users/lauramos/anaconda3/lib/python3.11/site-packages/keras/src/layers/core/dense.py:86: UserWarning: Do not pass an `input_shape`/`input_dim` argument to a layer. When using Sequential models, prefer using an `Input(shape)` object as the first layer in the model instead.\n",
      "  super().__init__(activity_regularizer=activity_regularizer, **kwargs)\n"
     ]
    },
    {
     "name": "stdout",
     "output_type": "stream",
     "text": [
      "\u001b[1m1/1\u001b[0m \u001b[32m━━━━━━━━━━━━━━━━━━━━\u001b[0m\u001b[37m\u001b[0m \u001b[1m0s\u001b[0m 33ms/step\n"
     ]
    },
    {
     "name": "stderr",
     "output_type": "stream",
     "text": [
      "/Users/lauramos/anaconda3/lib/python3.11/site-packages/keras/src/layers/core/dense.py:86: UserWarning: Do not pass an `input_shape`/`input_dim` argument to a layer. When using Sequential models, prefer using an `Input(shape)` object as the first layer in the model instead.\n",
      "  super().__init__(activity_regularizer=activity_regularizer, **kwargs)\n"
     ]
    },
    {
     "name": "stdout",
     "output_type": "stream",
     "text": [
      "\u001b[1m1/1\u001b[0m \u001b[32m━━━━━━━━━━━━━━━━━━━━\u001b[0m\u001b[37m\u001b[0m \u001b[1m0s\u001b[0m 40ms/step\n"
     ]
    },
    {
     "name": "stderr",
     "output_type": "stream",
     "text": [
      "/Users/lauramos/anaconda3/lib/python3.11/site-packages/keras/src/layers/core/dense.py:86: UserWarning: Do not pass an `input_shape`/`input_dim` argument to a layer. When using Sequential models, prefer using an `Input(shape)` object as the first layer in the model instead.\n",
      "  super().__init__(activity_regularizer=activity_regularizer, **kwargs)\n"
     ]
    },
    {
     "name": "stdout",
     "output_type": "stream",
     "text": [
      "\u001b[1m1/1\u001b[0m \u001b[32m━━━━━━━━━━━━━━━━━━━━\u001b[0m\u001b[37m\u001b[0m \u001b[1m0s\u001b[0m 35ms/step\n"
     ]
    },
    {
     "name": "stderr",
     "output_type": "stream",
     "text": [
      "/Users/lauramos/anaconda3/lib/python3.11/site-packages/keras/src/layers/core/dense.py:86: UserWarning: Do not pass an `input_shape`/`input_dim` argument to a layer. When using Sequential models, prefer using an `Input(shape)` object as the first layer in the model instead.\n",
      "  super().__init__(activity_regularizer=activity_regularizer, **kwargs)\n"
     ]
    },
    {
     "name": "stdout",
     "output_type": "stream",
     "text": [
      "\u001b[1m1/1\u001b[0m \u001b[32m━━━━━━━━━━━━━━━━━━━━\u001b[0m\u001b[37m\u001b[0m \u001b[1m0s\u001b[0m 34ms/step\n"
     ]
    },
    {
     "name": "stderr",
     "output_type": "stream",
     "text": [
      "/Users/lauramos/anaconda3/lib/python3.11/site-packages/keras/src/layers/core/dense.py:86: UserWarning: Do not pass an `input_shape`/`input_dim` argument to a layer. When using Sequential models, prefer using an `Input(shape)` object as the first layer in the model instead.\n",
      "  super().__init__(activity_regularizer=activity_regularizer, **kwargs)\n"
     ]
    },
    {
     "name": "stdout",
     "output_type": "stream",
     "text": [
      "\u001b[1m1/1\u001b[0m \u001b[32m━━━━━━━━━━━━━━━━━━━━\u001b[0m\u001b[37m\u001b[0m \u001b[1m0s\u001b[0m 34ms/step\n"
     ]
    },
    {
     "name": "stderr",
     "output_type": "stream",
     "text": [
      "/Users/lauramos/anaconda3/lib/python3.11/site-packages/keras/src/layers/core/dense.py:86: UserWarning: Do not pass an `input_shape`/`input_dim` argument to a layer. When using Sequential models, prefer using an `Input(shape)` object as the first layer in the model instead.\n",
      "  super().__init__(activity_regularizer=activity_regularizer, **kwargs)\n"
     ]
    },
    {
     "name": "stdout",
     "output_type": "stream",
     "text": [
      "\u001b[1m1/1\u001b[0m \u001b[32m━━━━━━━━━━━━━━━━━━━━\u001b[0m\u001b[37m\u001b[0m \u001b[1m0s\u001b[0m 39ms/step\n"
     ]
    },
    {
     "name": "stderr",
     "output_type": "stream",
     "text": [
      "/Users/lauramos/anaconda3/lib/python3.11/site-packages/keras/src/layers/core/dense.py:86: UserWarning: Do not pass an `input_shape`/`input_dim` argument to a layer. When using Sequential models, prefer using an `Input(shape)` object as the first layer in the model instead.\n",
      "  super().__init__(activity_regularizer=activity_regularizer, **kwargs)\n"
     ]
    },
    {
     "name": "stdout",
     "output_type": "stream",
     "text": [
      "\u001b[1m1/1\u001b[0m \u001b[32m━━━━━━━━━━━━━━━━━━━━\u001b[0m\u001b[37m\u001b[0m \u001b[1m0s\u001b[0m 36ms/step\n"
     ]
    },
    {
     "name": "stderr",
     "output_type": "stream",
     "text": [
      "/Users/lauramos/anaconda3/lib/python3.11/site-packages/keras/src/layers/core/dense.py:86: UserWarning: Do not pass an `input_shape`/`input_dim` argument to a layer. When using Sequential models, prefer using an `Input(shape)` object as the first layer in the model instead.\n",
      "  super().__init__(activity_regularizer=activity_regularizer, **kwargs)\n"
     ]
    },
    {
     "name": "stdout",
     "output_type": "stream",
     "text": [
      "\u001b[1m1/1\u001b[0m \u001b[32m━━━━━━━━━━━━━━━━━━━━\u001b[0m\u001b[37m\u001b[0m \u001b[1m0s\u001b[0m 36ms/step\n"
     ]
    },
    {
     "name": "stderr",
     "output_type": "stream",
     "text": [
      "/Users/lauramos/anaconda3/lib/python3.11/site-packages/keras/src/layers/core/dense.py:86: UserWarning: Do not pass an `input_shape`/`input_dim` argument to a layer. When using Sequential models, prefer using an `Input(shape)` object as the first layer in the model instead.\n",
      "  super().__init__(activity_regularizer=activity_regularizer, **kwargs)\n"
     ]
    },
    {
     "name": "stdout",
     "output_type": "stream",
     "text": [
      "\u001b[1m1/1\u001b[0m \u001b[32m━━━━━━━━━━━━━━━━━━━━\u001b[0m\u001b[37m\u001b[0m \u001b[1m0s\u001b[0m 34ms/step\n"
     ]
    },
    {
     "name": "stderr",
     "output_type": "stream",
     "text": [
      "/Users/lauramos/anaconda3/lib/python3.11/site-packages/keras/src/layers/core/dense.py:86: UserWarning: Do not pass an `input_shape`/`input_dim` argument to a layer. When using Sequential models, prefer using an `Input(shape)` object as the first layer in the model instead.\n",
      "  super().__init__(activity_regularizer=activity_regularizer, **kwargs)\n"
     ]
    },
    {
     "name": "stdout",
     "output_type": "stream",
     "text": [
      "\u001b[1m1/1\u001b[0m \u001b[32m━━━━━━━━━━━━━━━━━━━━\u001b[0m\u001b[37m\u001b[0m \u001b[1m0s\u001b[0m 34ms/step\n"
     ]
    },
    {
     "name": "stderr",
     "output_type": "stream",
     "text": [
      "/Users/lauramos/anaconda3/lib/python3.11/site-packages/keras/src/layers/core/dense.py:86: UserWarning: Do not pass an `input_shape`/`input_dim` argument to a layer. When using Sequential models, prefer using an `Input(shape)` object as the first layer in the model instead.\n",
      "  super().__init__(activity_regularizer=activity_regularizer, **kwargs)\n"
     ]
    },
    {
     "name": "stdout",
     "output_type": "stream",
     "text": [
      "\u001b[1m1/1\u001b[0m \u001b[32m━━━━━━━━━━━━━━━━━━━━\u001b[0m\u001b[37m\u001b[0m \u001b[1m0s\u001b[0m 38ms/step\n"
     ]
    },
    {
     "name": "stderr",
     "output_type": "stream",
     "text": [
      "/Users/lauramos/anaconda3/lib/python3.11/site-packages/keras/src/layers/core/dense.py:86: UserWarning: Do not pass an `input_shape`/`input_dim` argument to a layer. When using Sequential models, prefer using an `Input(shape)` object as the first layer in the model instead.\n",
      "  super().__init__(activity_regularizer=activity_regularizer, **kwargs)\n"
     ]
    },
    {
     "name": "stdout",
     "output_type": "stream",
     "text": [
      "\u001b[1m1/1\u001b[0m \u001b[32m━━━━━━━━━━━━━━━━━━━━\u001b[0m\u001b[37m\u001b[0m \u001b[1m0s\u001b[0m 43ms/step\n"
     ]
    },
    {
     "name": "stderr",
     "output_type": "stream",
     "text": [
      "/Users/lauramos/anaconda3/lib/python3.11/site-packages/keras/src/layers/core/dense.py:86: UserWarning: Do not pass an `input_shape`/`input_dim` argument to a layer. When using Sequential models, prefer using an `Input(shape)` object as the first layer in the model instead.\n",
      "  super().__init__(activity_regularizer=activity_regularizer, **kwargs)\n"
     ]
    },
    {
     "name": "stdout",
     "output_type": "stream",
     "text": [
      "\u001b[1m1/1\u001b[0m \u001b[32m━━━━━━━━━━━━━━━━━━━━\u001b[0m\u001b[37m\u001b[0m \u001b[1m0s\u001b[0m 33ms/step\n"
     ]
    },
    {
     "name": "stderr",
     "output_type": "stream",
     "text": [
      "/Users/lauramos/anaconda3/lib/python3.11/site-packages/keras/src/layers/core/dense.py:86: UserWarning: Do not pass an `input_shape`/`input_dim` argument to a layer. When using Sequential models, prefer using an `Input(shape)` object as the first layer in the model instead.\n",
      "  super().__init__(activity_regularizer=activity_regularizer, **kwargs)\n"
     ]
    },
    {
     "name": "stdout",
     "output_type": "stream",
     "text": [
      "\u001b[1m1/1\u001b[0m \u001b[32m━━━━━━━━━━━━━━━━━━━━\u001b[0m\u001b[37m\u001b[0m \u001b[1m0s\u001b[0m 38ms/step\n"
     ]
    },
    {
     "name": "stderr",
     "output_type": "stream",
     "text": [
      "/Users/lauramos/anaconda3/lib/python3.11/site-packages/keras/src/layers/core/dense.py:86: UserWarning: Do not pass an `input_shape`/`input_dim` argument to a layer. When using Sequential models, prefer using an `Input(shape)` object as the first layer in the model instead.\n",
      "  super().__init__(activity_regularizer=activity_regularizer, **kwargs)\n"
     ]
    },
    {
     "name": "stdout",
     "output_type": "stream",
     "text": [
      "\u001b[1m1/1\u001b[0m \u001b[32m━━━━━━━━━━━━━━━━━━━━\u001b[0m\u001b[37m\u001b[0m \u001b[1m0s\u001b[0m 33ms/step\n"
     ]
    },
    {
     "name": "stderr",
     "output_type": "stream",
     "text": [
      "/Users/lauramos/anaconda3/lib/python3.11/site-packages/keras/src/layers/core/dense.py:86: UserWarning: Do not pass an `input_shape`/`input_dim` argument to a layer. When using Sequential models, prefer using an `Input(shape)` object as the first layer in the model instead.\n",
      "  super().__init__(activity_regularizer=activity_regularizer, **kwargs)\n"
     ]
    },
    {
     "name": "stdout",
     "output_type": "stream",
     "text": [
      "\u001b[1m1/1\u001b[0m \u001b[32m━━━━━━━━━━━━━━━━━━━━\u001b[0m\u001b[37m\u001b[0m \u001b[1m0s\u001b[0m 35ms/step\n"
     ]
    },
    {
     "name": "stderr",
     "output_type": "stream",
     "text": [
      "/Users/lauramos/anaconda3/lib/python3.11/site-packages/keras/src/layers/core/dense.py:86: UserWarning: Do not pass an `input_shape`/`input_dim` argument to a layer. When using Sequential models, prefer using an `Input(shape)` object as the first layer in the model instead.\n",
      "  super().__init__(activity_regularizer=activity_regularizer, **kwargs)\n"
     ]
    },
    {
     "name": "stdout",
     "output_type": "stream",
     "text": [
      "\u001b[1m1/1\u001b[0m \u001b[32m━━━━━━━━━━━━━━━━━━━━\u001b[0m\u001b[37m\u001b[0m \u001b[1m0s\u001b[0m 34ms/step\n"
     ]
    },
    {
     "name": "stderr",
     "output_type": "stream",
     "text": [
      "/Users/lauramos/anaconda3/lib/python3.11/site-packages/keras/src/layers/core/dense.py:86: UserWarning: Do not pass an `input_shape`/`input_dim` argument to a layer. When using Sequential models, prefer using an `Input(shape)` object as the first layer in the model instead.\n",
      "  super().__init__(activity_regularizer=activity_regularizer, **kwargs)\n"
     ]
    },
    {
     "name": "stdout",
     "output_type": "stream",
     "text": [
      "\u001b[1m1/1\u001b[0m \u001b[32m━━━━━━━━━━━━━━━━━━━━\u001b[0m\u001b[37m\u001b[0m \u001b[1m0s\u001b[0m 34ms/step\n"
     ]
    },
    {
     "name": "stderr",
     "output_type": "stream",
     "text": [
      "/Users/lauramos/anaconda3/lib/python3.11/site-packages/keras/src/layers/core/dense.py:86: UserWarning: Do not pass an `input_shape`/`input_dim` argument to a layer. When using Sequential models, prefer using an `Input(shape)` object as the first layer in the model instead.\n",
      "  super().__init__(activity_regularizer=activity_regularizer, **kwargs)\n"
     ]
    },
    {
     "name": "stdout",
     "output_type": "stream",
     "text": [
      "\u001b[1m1/1\u001b[0m \u001b[32m━━━━━━━━━━━━━━━━━━━━\u001b[0m\u001b[37m\u001b[0m \u001b[1m0s\u001b[0m 34ms/step\n"
     ]
    },
    {
     "name": "stderr",
     "output_type": "stream",
     "text": [
      "/Users/lauramos/anaconda3/lib/python3.11/site-packages/keras/src/layers/core/dense.py:86: UserWarning: Do not pass an `input_shape`/`input_dim` argument to a layer. When using Sequential models, prefer using an `Input(shape)` object as the first layer in the model instead.\n",
      "  super().__init__(activity_regularizer=activity_regularizer, **kwargs)\n"
     ]
    },
    {
     "name": "stdout",
     "output_type": "stream",
     "text": [
      "\u001b[1m1/1\u001b[0m \u001b[32m━━━━━━━━━━━━━━━━━━━━\u001b[0m\u001b[37m\u001b[0m \u001b[1m0s\u001b[0m 34ms/step\n"
     ]
    },
    {
     "name": "stderr",
     "output_type": "stream",
     "text": [
      "/Users/lauramos/anaconda3/lib/python3.11/site-packages/keras/src/layers/core/dense.py:86: UserWarning: Do not pass an `input_shape`/`input_dim` argument to a layer. When using Sequential models, prefer using an `Input(shape)` object as the first layer in the model instead.\n",
      "  super().__init__(activity_regularizer=activity_regularizer, **kwargs)\n"
     ]
    },
    {
     "name": "stdout",
     "output_type": "stream",
     "text": [
      "\u001b[1m1/1\u001b[0m \u001b[32m━━━━━━━━━━━━━━━━━━━━\u001b[0m\u001b[37m\u001b[0m \u001b[1m0s\u001b[0m 34ms/step\n"
     ]
    },
    {
     "name": "stderr",
     "output_type": "stream",
     "text": [
      "/Users/lauramos/anaconda3/lib/python3.11/site-packages/keras/src/layers/core/dense.py:86: UserWarning: Do not pass an `input_shape`/`input_dim` argument to a layer. When using Sequential models, prefer using an `Input(shape)` object as the first layer in the model instead.\n",
      "  super().__init__(activity_regularizer=activity_regularizer, **kwargs)\n"
     ]
    },
    {
     "name": "stdout",
     "output_type": "stream",
     "text": [
      "\u001b[1m1/1\u001b[0m \u001b[32m━━━━━━━━━━━━━━━━━━━━\u001b[0m\u001b[37m\u001b[0m \u001b[1m0s\u001b[0m 40ms/step\n"
     ]
    },
    {
     "name": "stderr",
     "output_type": "stream",
     "text": [
      "/Users/lauramos/anaconda3/lib/python3.11/site-packages/keras/src/layers/core/dense.py:86: UserWarning: Do not pass an `input_shape`/`input_dim` argument to a layer. When using Sequential models, prefer using an `Input(shape)` object as the first layer in the model instead.\n",
      "  super().__init__(activity_regularizer=activity_regularizer, **kwargs)\n"
     ]
    },
    {
     "name": "stdout",
     "output_type": "stream",
     "text": [
      "\u001b[1m1/1\u001b[0m \u001b[32m━━━━━━━━━━━━━━━━━━━━\u001b[0m\u001b[37m\u001b[0m \u001b[1m0s\u001b[0m 32ms/step\n"
     ]
    },
    {
     "name": "stderr",
     "output_type": "stream",
     "text": [
      "/Users/lauramos/anaconda3/lib/python3.11/site-packages/keras/src/layers/core/dense.py:86: UserWarning: Do not pass an `input_shape`/`input_dim` argument to a layer. When using Sequential models, prefer using an `Input(shape)` object as the first layer in the model instead.\n",
      "  super().__init__(activity_regularizer=activity_regularizer, **kwargs)\n"
     ]
    },
    {
     "name": "stdout",
     "output_type": "stream",
     "text": [
      "\u001b[1m1/1\u001b[0m \u001b[32m━━━━━━━━━━━━━━━━━━━━\u001b[0m\u001b[37m\u001b[0m \u001b[1m0s\u001b[0m 34ms/step\n"
     ]
    },
    {
     "name": "stderr",
     "output_type": "stream",
     "text": [
      "/Users/lauramos/anaconda3/lib/python3.11/site-packages/keras/src/layers/core/dense.py:86: UserWarning: Do not pass an `input_shape`/`input_dim` argument to a layer. When using Sequential models, prefer using an `Input(shape)` object as the first layer in the model instead.\n",
      "  super().__init__(activity_regularizer=activity_regularizer, **kwargs)\n"
     ]
    },
    {
     "name": "stdout",
     "output_type": "stream",
     "text": [
      "\u001b[1m1/1\u001b[0m \u001b[32m━━━━━━━━━━━━━━━━━━━━\u001b[0m\u001b[37m\u001b[0m \u001b[1m0s\u001b[0m 34ms/step\n"
     ]
    },
    {
     "name": "stderr",
     "output_type": "stream",
     "text": [
      "/Users/lauramos/anaconda3/lib/python3.11/site-packages/keras/src/layers/core/dense.py:86: UserWarning: Do not pass an `input_shape`/`input_dim` argument to a layer. When using Sequential models, prefer using an `Input(shape)` object as the first layer in the model instead.\n",
      "  super().__init__(activity_regularizer=activity_regularizer, **kwargs)\n"
     ]
    },
    {
     "name": "stdout",
     "output_type": "stream",
     "text": [
      "\u001b[1m1/1\u001b[0m \u001b[32m━━━━━━━━━━━━━━━━━━━━\u001b[0m\u001b[37m\u001b[0m \u001b[1m0s\u001b[0m 41ms/step\n"
     ]
    },
    {
     "name": "stderr",
     "output_type": "stream",
     "text": [
      "/Users/lauramos/anaconda3/lib/python3.11/site-packages/keras/src/layers/core/dense.py:86: UserWarning: Do not pass an `input_shape`/`input_dim` argument to a layer. When using Sequential models, prefer using an `Input(shape)` object as the first layer in the model instead.\n",
      "  super().__init__(activity_regularizer=activity_regularizer, **kwargs)\n"
     ]
    },
    {
     "name": "stdout",
     "output_type": "stream",
     "text": [
      "\u001b[1m1/1\u001b[0m \u001b[32m━━━━━━━━━━━━━━━━━━━━\u001b[0m\u001b[37m\u001b[0m \u001b[1m0s\u001b[0m 39ms/step\n"
     ]
    },
    {
     "name": "stderr",
     "output_type": "stream",
     "text": [
      "/Users/lauramos/anaconda3/lib/python3.11/site-packages/keras/src/layers/core/dense.py:86: UserWarning: Do not pass an `input_shape`/`input_dim` argument to a layer. When using Sequential models, prefer using an `Input(shape)` object as the first layer in the model instead.\n",
      "  super().__init__(activity_regularizer=activity_regularizer, **kwargs)\n"
     ]
    },
    {
     "name": "stdout",
     "output_type": "stream",
     "text": [
      "\u001b[1m1/1\u001b[0m \u001b[32m━━━━━━━━━━━━━━━━━━━━\u001b[0m\u001b[37m\u001b[0m \u001b[1m0s\u001b[0m 37ms/step\n"
     ]
    },
    {
     "name": "stderr",
     "output_type": "stream",
     "text": [
      "/Users/lauramos/anaconda3/lib/python3.11/site-packages/keras/src/layers/core/dense.py:86: UserWarning: Do not pass an `input_shape`/`input_dim` argument to a layer. When using Sequential models, prefer using an `Input(shape)` object as the first layer in the model instead.\n",
      "  super().__init__(activity_regularizer=activity_regularizer, **kwargs)\n"
     ]
    },
    {
     "name": "stdout",
     "output_type": "stream",
     "text": [
      "\u001b[1m1/1\u001b[0m \u001b[32m━━━━━━━━━━━━━━━━━━━━\u001b[0m\u001b[37m\u001b[0m \u001b[1m0s\u001b[0m 34ms/step\n"
     ]
    },
    {
     "name": "stderr",
     "output_type": "stream",
     "text": [
      "/Users/lauramos/anaconda3/lib/python3.11/site-packages/keras/src/layers/core/dense.py:86: UserWarning: Do not pass an `input_shape`/`input_dim` argument to a layer. When using Sequential models, prefer using an `Input(shape)` object as the first layer in the model instead.\n",
      "  super().__init__(activity_regularizer=activity_regularizer, **kwargs)\n"
     ]
    },
    {
     "name": "stdout",
     "output_type": "stream",
     "text": [
      "\u001b[1m1/1\u001b[0m \u001b[32m━━━━━━━━━━━━━━━━━━━━\u001b[0m\u001b[37m\u001b[0m \u001b[1m0s\u001b[0m 39ms/step\n"
     ]
    },
    {
     "name": "stderr",
     "output_type": "stream",
     "text": [
      "/Users/lauramos/anaconda3/lib/python3.11/site-packages/keras/src/layers/core/dense.py:86: UserWarning: Do not pass an `input_shape`/`input_dim` argument to a layer. When using Sequential models, prefer using an `Input(shape)` object as the first layer in the model instead.\n",
      "  super().__init__(activity_regularizer=activity_regularizer, **kwargs)\n"
     ]
    },
    {
     "name": "stdout",
     "output_type": "stream",
     "text": [
      "\u001b[1m1/1\u001b[0m \u001b[32m━━━━━━━━━━━━━━━━━━━━\u001b[0m\u001b[37m\u001b[0m \u001b[1m0s\u001b[0m 37ms/step\n"
     ]
    },
    {
     "name": "stderr",
     "output_type": "stream",
     "text": [
      "/Users/lauramos/anaconda3/lib/python3.11/site-packages/keras/src/layers/core/dense.py:86: UserWarning: Do not pass an `input_shape`/`input_dim` argument to a layer. When using Sequential models, prefer using an `Input(shape)` object as the first layer in the model instead.\n",
      "  super().__init__(activity_regularizer=activity_regularizer, **kwargs)\n"
     ]
    },
    {
     "name": "stdout",
     "output_type": "stream",
     "text": [
      "\u001b[1m1/1\u001b[0m \u001b[32m━━━━━━━━━━━━━━━━━━━━\u001b[0m\u001b[37m\u001b[0m \u001b[1m0s\u001b[0m 40ms/step\n"
     ]
    },
    {
     "name": "stderr",
     "output_type": "stream",
     "text": [
      "/Users/lauramos/anaconda3/lib/python3.11/site-packages/keras/src/layers/core/dense.py:86: UserWarning: Do not pass an `input_shape`/`input_dim` argument to a layer. When using Sequential models, prefer using an `Input(shape)` object as the first layer in the model instead.\n",
      "  super().__init__(activity_regularizer=activity_regularizer, **kwargs)\n"
     ]
    },
    {
     "name": "stdout",
     "output_type": "stream",
     "text": [
      "\u001b[1m1/1\u001b[0m \u001b[32m━━━━━━━━━━━━━━━━━━━━\u001b[0m\u001b[37m\u001b[0m \u001b[1m0s\u001b[0m 40ms/step\n"
     ]
    },
    {
     "name": "stderr",
     "output_type": "stream",
     "text": [
      "/Users/lauramos/anaconda3/lib/python3.11/site-packages/keras/src/layers/core/dense.py:86: UserWarning: Do not pass an `input_shape`/`input_dim` argument to a layer. When using Sequential models, prefer using an `Input(shape)` object as the first layer in the model instead.\n",
      "  super().__init__(activity_regularizer=activity_regularizer, **kwargs)\n"
     ]
    },
    {
     "name": "stdout",
     "output_type": "stream",
     "text": [
      "\u001b[1m1/1\u001b[0m \u001b[32m━━━━━━━━━━━━━━━━━━━━\u001b[0m\u001b[37m\u001b[0m \u001b[1m0s\u001b[0m 40ms/step\n"
     ]
    },
    {
     "name": "stderr",
     "output_type": "stream",
     "text": [
      "/Users/lauramos/anaconda3/lib/python3.11/site-packages/keras/src/layers/core/dense.py:86: UserWarning: Do not pass an `input_shape`/`input_dim` argument to a layer. When using Sequential models, prefer using an `Input(shape)` object as the first layer in the model instead.\n",
      "  super().__init__(activity_regularizer=activity_regularizer, **kwargs)\n"
     ]
    },
    {
     "name": "stdout",
     "output_type": "stream",
     "text": [
      "\u001b[1m1/1\u001b[0m \u001b[32m━━━━━━━━━━━━━━━━━━━━\u001b[0m\u001b[37m\u001b[0m \u001b[1m0s\u001b[0m 40ms/step\n"
     ]
    },
    {
     "name": "stderr",
     "output_type": "stream",
     "text": [
      "/Users/lauramos/anaconda3/lib/python3.11/site-packages/keras/src/layers/core/dense.py:86: UserWarning: Do not pass an `input_shape`/`input_dim` argument to a layer. When using Sequential models, prefer using an `Input(shape)` object as the first layer in the model instead.\n",
      "  super().__init__(activity_regularizer=activity_regularizer, **kwargs)\n"
     ]
    },
    {
     "name": "stdout",
     "output_type": "stream",
     "text": [
      "\u001b[1m1/1\u001b[0m \u001b[32m━━━━━━━━━━━━━━━━━━━━\u001b[0m\u001b[37m\u001b[0m \u001b[1m0s\u001b[0m 44ms/step\n"
     ]
    },
    {
     "name": "stderr",
     "output_type": "stream",
     "text": [
      "/Users/lauramos/anaconda3/lib/python3.11/site-packages/keras/src/layers/core/dense.py:86: UserWarning: Do not pass an `input_shape`/`input_dim` argument to a layer. When using Sequential models, prefer using an `Input(shape)` object as the first layer in the model instead.\n",
      "  super().__init__(activity_regularizer=activity_regularizer, **kwargs)\n"
     ]
    },
    {
     "name": "stdout",
     "output_type": "stream",
     "text": [
      "\u001b[1m1/1\u001b[0m \u001b[32m━━━━━━━━━━━━━━━━━━━━\u001b[0m\u001b[37m\u001b[0m \u001b[1m0s\u001b[0m 45ms/step\n"
     ]
    },
    {
     "name": "stderr",
     "output_type": "stream",
     "text": [
      "/Users/lauramos/anaconda3/lib/python3.11/site-packages/keras/src/layers/core/dense.py:86: UserWarning: Do not pass an `input_shape`/`input_dim` argument to a layer. When using Sequential models, prefer using an `Input(shape)` object as the first layer in the model instead.\n",
      "  super().__init__(activity_regularizer=activity_regularizer, **kwargs)\n"
     ]
    },
    {
     "name": "stdout",
     "output_type": "stream",
     "text": [
      "\u001b[1m1/1\u001b[0m \u001b[32m━━━━━━━━━━━━━━━━━━━━\u001b[0m\u001b[37m\u001b[0m \u001b[1m0s\u001b[0m 45ms/step\n"
     ]
    },
    {
     "name": "stderr",
     "output_type": "stream",
     "text": [
      "/Users/lauramos/anaconda3/lib/python3.11/site-packages/keras/src/layers/core/dense.py:86: UserWarning: Do not pass an `input_shape`/`input_dim` argument to a layer. When using Sequential models, prefer using an `Input(shape)` object as the first layer in the model instead.\n",
      "  super().__init__(activity_regularizer=activity_regularizer, **kwargs)\n"
     ]
    },
    {
     "name": "stdout",
     "output_type": "stream",
     "text": [
      "\u001b[1m1/1\u001b[0m \u001b[32m━━━━━━━━━━━━━━━━━━━━\u001b[0m\u001b[37m\u001b[0m \u001b[1m0s\u001b[0m 51ms/step\n"
     ]
    },
    {
     "name": "stderr",
     "output_type": "stream",
     "text": [
      "/Users/lauramos/anaconda3/lib/python3.11/site-packages/keras/src/layers/core/dense.py:86: UserWarning: Do not pass an `input_shape`/`input_dim` argument to a layer. When using Sequential models, prefer using an `Input(shape)` object as the first layer in the model instead.\n",
      "  super().__init__(activity_regularizer=activity_regularizer, **kwargs)\n"
     ]
    },
    {
     "name": "stdout",
     "output_type": "stream",
     "text": [
      "\u001b[1m1/1\u001b[0m \u001b[32m━━━━━━━━━━━━━━━━━━━━\u001b[0m\u001b[37m\u001b[0m \u001b[1m0s\u001b[0m 60ms/step\n"
     ]
    },
    {
     "name": "stderr",
     "output_type": "stream",
     "text": [
      "/Users/lauramos/anaconda3/lib/python3.11/site-packages/keras/src/layers/core/dense.py:86: UserWarning: Do not pass an `input_shape`/`input_dim` argument to a layer. When using Sequential models, prefer using an `Input(shape)` object as the first layer in the model instead.\n",
      "  super().__init__(activity_regularizer=activity_regularizer, **kwargs)\n"
     ]
    },
    {
     "name": "stdout",
     "output_type": "stream",
     "text": [
      "\u001b[1m1/1\u001b[0m \u001b[32m━━━━━━━━━━━━━━━━━━━━\u001b[0m\u001b[37m\u001b[0m \u001b[1m0s\u001b[0m 73ms/step\n"
     ]
    },
    {
     "data": {
      "text/html": [
       "<div>\n",
       "<style scoped>\n",
       "    .dataframe tbody tr th:only-of-type {\n",
       "        vertical-align: middle;\n",
       "    }\n",
       "\n",
       "    .dataframe tbody tr th {\n",
       "        vertical-align: top;\n",
       "    }\n",
       "\n",
       "    .dataframe thead th {\n",
       "        text-align: right;\n",
       "    }\n",
       "</style>\n",
       "<table border=\"1\" class=\"dataframe\">\n",
       "  <thead>\n",
       "    <tr style=\"text-align: right;\">\n",
       "      <th></th>\n",
       "      <th>Neurons</th>\n",
       "      <th>Epochs</th>\n",
       "      <th>Precision</th>\n",
       "      <th>Recall</th>\n",
       "      <th>F1-Score</th>\n",
       "      <th>Average Time</th>\n",
       "    </tr>\n",
       "  </thead>\n",
       "  <tbody>\n",
       "    <tr>\n",
       "      <th>1</th>\n",
       "      <td>10</td>\n",
       "      <td>30</td>\n",
       "      <td>0.847504</td>\n",
       "      <td>0.841398</td>\n",
       "      <td>0.839946</td>\n",
       "      <td>1.775288</td>\n",
       "    </tr>\n",
       "    <tr>\n",
       "      <th>6</th>\n",
       "      <td>50</td>\n",
       "      <td>10</td>\n",
       "      <td>0.849752</td>\n",
       "      <td>0.841398</td>\n",
       "      <td>0.839575</td>\n",
       "      <td>1.171429</td>\n",
       "    </tr>\n",
       "    <tr>\n",
       "      <th>4</th>\n",
       "      <td>20</td>\n",
       "      <td>30</td>\n",
       "      <td>0.846087</td>\n",
       "      <td>0.837849</td>\n",
       "      <td>0.835947</td>\n",
       "      <td>1.774375</td>\n",
       "    </tr>\n",
       "    <tr>\n",
       "      <th>8</th>\n",
       "      <td>50</td>\n",
       "      <td>50</td>\n",
       "      <td>0.841052</td>\n",
       "      <td>0.834731</td>\n",
       "      <td>0.833666</td>\n",
       "      <td>3.967645</td>\n",
       "    </tr>\n",
       "    <tr>\n",
       "      <th>5</th>\n",
       "      <td>20</td>\n",
       "      <td>50</td>\n",
       "      <td>0.844103</td>\n",
       "      <td>0.834731</td>\n",
       "      <td>0.833110</td>\n",
       "      <td>2.876412</td>\n",
       "    </tr>\n",
       "    <tr>\n",
       "      <th>7</th>\n",
       "      <td>50</td>\n",
       "      <td>30</td>\n",
       "      <td>0.838289</td>\n",
       "      <td>0.831505</td>\n",
       "      <td>0.830145</td>\n",
       "      <td>2.084879</td>\n",
       "    </tr>\n",
       "    <tr>\n",
       "      <th>2</th>\n",
       "      <td>10</td>\n",
       "      <td>50</td>\n",
       "      <td>0.827514</td>\n",
       "      <td>0.821398</td>\n",
       "      <td>0.819914</td>\n",
       "      <td>2.652928</td>\n",
       "    </tr>\n",
       "    <tr>\n",
       "      <th>3</th>\n",
       "      <td>20</td>\n",
       "      <td>10</td>\n",
       "      <td>0.826290</td>\n",
       "      <td>0.821290</td>\n",
       "      <td>0.819783</td>\n",
       "      <td>1.409872</td>\n",
       "    </tr>\n",
       "    <tr>\n",
       "      <th>0</th>\n",
       "      <td>10</td>\n",
       "      <td>10</td>\n",
       "      <td>0.816458</td>\n",
       "      <td>0.811720</td>\n",
       "      <td>0.810972</td>\n",
       "      <td>1.160498</td>\n",
       "    </tr>\n",
       "  </tbody>\n",
       "</table>\n",
       "</div>"
      ],
      "text/plain": [
       "   Neurons  Epochs  Precision    Recall  F1-Score  Average Time\n",
       "1       10      30   0.847504  0.841398  0.839946      1.775288\n",
       "6       50      10   0.849752  0.841398  0.839575      1.171429\n",
       "4       20      30   0.846087  0.837849  0.835947      1.774375\n",
       "8       50      50   0.841052  0.834731  0.833666      3.967645\n",
       "5       20      50   0.844103  0.834731  0.833110      2.876412\n",
       "7       50      30   0.838289  0.831505  0.830145      2.084879\n",
       "2       10      50   0.827514  0.821398  0.819914      2.652928\n",
       "3       20      10   0.826290  0.821290  0.819783      1.409872\n",
       "0       10      10   0.816458  0.811720  0.810972      1.160498"
      ]
     },
     "execution_count": 146,
     "metadata": {},
     "output_type": "execute_result"
    }
   ],
   "source": [
    "from tensorflow.keras.models import Sequential\n",
    "from tensorflow.keras.layers import Dense\n",
    "from sklearn.model_selection import StratifiedKFold\n",
    "from sklearn.metrics import precision_recall_fscore_support\n",
    "import time\n",
    "\n",
    "# Function to create the model with sigmoid output\n",
    "def create_sigmoid_model(num_neurons, input_shape):\n",
    "    model = Sequential([\n",
    "        Dense(num_neurons, activation='relu', input_shape=(input_shape,)),\n",
    "        Dense(1, activation='sigmoid')\n",
    "    ])\n",
    "    model.compile(optimizer='adam', loss='binary_crossentropy', metrics=['accuracy'])\n",
    "    return model\n",
    "\n",
    "# Function to evaluate the neural network\n",
    "def evaluate_sigmoid_network(X, y, neurons_list, epochs_list, n_splits=10):\n",
    "    skf = StratifiedKFold(n_splits=n_splits, shuffle=True, random_state=42)\n",
    "    results = []\n",
    "\n",
    "    for neurons in neurons_list:\n",
    "        for epochs in epochs_list:\n",
    "            result_dict = {'neurons': neurons, 'epochs': epochs, 'precision': [], 'recall': [], 'f1_score': [], 'time': []}\n",
    "            for train_index, test_index in skf.split(X, y):\n",
    "                X_train, X_test = X[train_index], X[test_index]\n",
    "                y_train, y_test = y[train_index], y[test_index]\n",
    "\n",
    "                model = create_sigmoid_model(neurons, X_train.shape[1])\n",
    "                start_time = time.time()\n",
    "                model.fit(X_train, y_train, epochs=epochs, batch_size=10, verbose=0)\n",
    "                training_time = time.time() - start_time\n",
    "\n",
    "                y_pred = model.predict(X_test)\n",
    "                y_pred = (y_pred > 0.5).astype(int)\n",
    "\n",
    "                precision, recall, f1, _ = precision_recall_fscore_support(y_test, y_pred, average='weighted')\n",
    "                result_dict['precision'].append(precision)\n",
    "                result_dict['recall'].append(recall)\n",
    "                result_dict['f1_score'].append(f1)\n",
    "                result_dict['time'].append(training_time)\n",
    "\n",
    "            results.append({\n",
    "                'Neurons': neurons,\n",
    "                'Epochs': epochs,\n",
    "                'Precision': np.mean(result_dict['precision']),\n",
    "                'Recall': np.mean(result_dict['recall']),\n",
    "                'F1-Score': np.mean(result_dict['f1_score']),\n",
    "                'Average Time': np.mean(result_dict['time'])\n",
    "            })\n",
    "\n",
    "    # Convert results to DataFrame and sort by F1-Score\n",
    "    results_df = pd.DataFrame(results)\n",
    "    results_df_sorted = results_df.sort_values(by='F1-Score', ascending=False)\n",
    "    return results_df_sorted\n",
    "\n",
    "# Neurons and epochs configurations\n",
    "neurons_list = [10, 20, 50]\n",
    "epochs_list = [10, 30, 50]\n",
    "\n",
    "# Evaluate the network with the given configurations\n",
    "results_df = evaluate_sigmoid_network(X, y, neurons_list, epochs_list)\n",
    "results_df\n"
   ]
  },
  {
   "cell_type": "markdown",
   "id": "f2743cd9-8bf8-482d-a353-8e3d48888cd1",
   "metadata": {},
   "source": [
    "#### 3.4.2 Con Dos Neurona en la Capa de Salida"
   ]
  },
  {
   "cell_type": "code",
   "execution_count": 147,
   "id": "6ce5a160-a177-4738-ad74-88d8c3b9eeaf",
   "metadata": {
    "tags": []
   },
   "outputs": [
    {
     "name": "stderr",
     "output_type": "stream",
     "text": [
      "/Users/lauramos/anaconda3/lib/python3.11/site-packages/keras/src/layers/core/dense.py:86: UserWarning: Do not pass an `input_shape`/`input_dim` argument to a layer. When using Sequential models, prefer using an `Input(shape)` object as the first layer in the model instead.\n",
      "  super().__init__(activity_regularizer=activity_regularizer, **kwargs)\n"
     ]
    },
    {
     "name": "stdout",
     "output_type": "stream",
     "text": [
      "\u001b[1m1/1\u001b[0m \u001b[32m━━━━━━━━━━━━━━━━━━━━\u001b[0m\u001b[37m\u001b[0m \u001b[1m0s\u001b[0m 32ms/step\n"
     ]
    },
    {
     "name": "stderr",
     "output_type": "stream",
     "text": [
      "/Users/lauramos/anaconda3/lib/python3.11/site-packages/keras/src/layers/core/dense.py:86: UserWarning: Do not pass an `input_shape`/`input_dim` argument to a layer. When using Sequential models, prefer using an `Input(shape)` object as the first layer in the model instead.\n",
      "  super().__init__(activity_regularizer=activity_regularizer, **kwargs)\n"
     ]
    },
    {
     "name": "stdout",
     "output_type": "stream",
     "text": [
      "\u001b[1m1/1\u001b[0m \u001b[32m━━━━━━━━━━━━━━━━━━━━\u001b[0m\u001b[37m\u001b[0m \u001b[1m0s\u001b[0m 33ms/step\n"
     ]
    },
    {
     "name": "stderr",
     "output_type": "stream",
     "text": [
      "/Users/lauramos/anaconda3/lib/python3.11/site-packages/keras/src/layers/core/dense.py:86: UserWarning: Do not pass an `input_shape`/`input_dim` argument to a layer. When using Sequential models, prefer using an `Input(shape)` object as the first layer in the model instead.\n",
      "  super().__init__(activity_regularizer=activity_regularizer, **kwargs)\n"
     ]
    },
    {
     "name": "stdout",
     "output_type": "stream",
     "text": [
      "\u001b[1m1/1\u001b[0m \u001b[32m━━━━━━━━━━━━━━━━━━━━\u001b[0m\u001b[37m\u001b[0m \u001b[1m0s\u001b[0m 37ms/step\n"
     ]
    },
    {
     "name": "stderr",
     "output_type": "stream",
     "text": [
      "/Users/lauramos/anaconda3/lib/python3.11/site-packages/keras/src/layers/core/dense.py:86: UserWarning: Do not pass an `input_shape`/`input_dim` argument to a layer. When using Sequential models, prefer using an `Input(shape)` object as the first layer in the model instead.\n",
      "  super().__init__(activity_regularizer=activity_regularizer, **kwargs)\n"
     ]
    },
    {
     "name": "stdout",
     "output_type": "stream",
     "text": [
      "\u001b[1m1/1\u001b[0m \u001b[32m━━━━━━━━━━━━━━━━━━━━\u001b[0m\u001b[37m\u001b[0m \u001b[1m0s\u001b[0m 35ms/step\n"
     ]
    },
    {
     "name": "stderr",
     "output_type": "stream",
     "text": [
      "/Users/lauramos/anaconda3/lib/python3.11/site-packages/keras/src/layers/core/dense.py:86: UserWarning: Do not pass an `input_shape`/`input_dim` argument to a layer. When using Sequential models, prefer using an `Input(shape)` object as the first layer in the model instead.\n",
      "  super().__init__(activity_regularizer=activity_regularizer, **kwargs)\n"
     ]
    },
    {
     "name": "stdout",
     "output_type": "stream",
     "text": [
      "\u001b[1m1/1\u001b[0m \u001b[32m━━━━━━━━━━━━━━━━━━━━\u001b[0m\u001b[37m\u001b[0m \u001b[1m0s\u001b[0m 34ms/step\n"
     ]
    },
    {
     "name": "stderr",
     "output_type": "stream",
     "text": [
      "/Users/lauramos/anaconda3/lib/python3.11/site-packages/keras/src/layers/core/dense.py:86: UserWarning: Do not pass an `input_shape`/`input_dim` argument to a layer. When using Sequential models, prefer using an `Input(shape)` object as the first layer in the model instead.\n",
      "  super().__init__(activity_regularizer=activity_regularizer, **kwargs)\n"
     ]
    },
    {
     "name": "stdout",
     "output_type": "stream",
     "text": [
      "\u001b[1m1/1\u001b[0m \u001b[32m━━━━━━━━━━━━━━━━━━━━\u001b[0m\u001b[37m\u001b[0m \u001b[1m0s\u001b[0m 36ms/step\n"
     ]
    },
    {
     "name": "stderr",
     "output_type": "stream",
     "text": [
      "/Users/lauramos/anaconda3/lib/python3.11/site-packages/keras/src/layers/core/dense.py:86: UserWarning: Do not pass an `input_shape`/`input_dim` argument to a layer. When using Sequential models, prefer using an `Input(shape)` object as the first layer in the model instead.\n",
      "  super().__init__(activity_regularizer=activity_regularizer, **kwargs)\n"
     ]
    },
    {
     "name": "stdout",
     "output_type": "stream",
     "text": [
      "\u001b[1m1/1\u001b[0m \u001b[32m━━━━━━━━━━━━━━━━━━━━\u001b[0m\u001b[37m\u001b[0m \u001b[1m0s\u001b[0m 33ms/step\n"
     ]
    },
    {
     "name": "stderr",
     "output_type": "stream",
     "text": [
      "/Users/lauramos/anaconda3/lib/python3.11/site-packages/keras/src/layers/core/dense.py:86: UserWarning: Do not pass an `input_shape`/`input_dim` argument to a layer. When using Sequential models, prefer using an `Input(shape)` object as the first layer in the model instead.\n",
      "  super().__init__(activity_regularizer=activity_regularizer, **kwargs)\n"
     ]
    },
    {
     "name": "stdout",
     "output_type": "stream",
     "text": [
      "\u001b[1m1/1\u001b[0m \u001b[32m━━━━━━━━━━━━━━━━━━━━\u001b[0m\u001b[37m\u001b[0m \u001b[1m0s\u001b[0m 34ms/step\n"
     ]
    },
    {
     "name": "stderr",
     "output_type": "stream",
     "text": [
      "/Users/lauramos/anaconda3/lib/python3.11/site-packages/keras/src/layers/core/dense.py:86: UserWarning: Do not pass an `input_shape`/`input_dim` argument to a layer. When using Sequential models, prefer using an `Input(shape)` object as the first layer in the model instead.\n",
      "  super().__init__(activity_regularizer=activity_regularizer, **kwargs)\n"
     ]
    },
    {
     "name": "stdout",
     "output_type": "stream",
     "text": [
      "\u001b[1m1/1\u001b[0m \u001b[32m━━━━━━━━━━━━━━━━━━━━\u001b[0m\u001b[37m\u001b[0m \u001b[1m0s\u001b[0m 33ms/step\n"
     ]
    },
    {
     "name": "stderr",
     "output_type": "stream",
     "text": [
      "/Users/lauramos/anaconda3/lib/python3.11/site-packages/keras/src/layers/core/dense.py:86: UserWarning: Do not pass an `input_shape`/`input_dim` argument to a layer. When using Sequential models, prefer using an `Input(shape)` object as the first layer in the model instead.\n",
      "  super().__init__(activity_regularizer=activity_regularizer, **kwargs)\n"
     ]
    },
    {
     "name": "stdout",
     "output_type": "stream",
     "text": [
      "\u001b[1m1/1\u001b[0m \u001b[32m━━━━━━━━━━━━━━━━━━━━\u001b[0m\u001b[37m\u001b[0m \u001b[1m0s\u001b[0m 33ms/step\n"
     ]
    },
    {
     "name": "stderr",
     "output_type": "stream",
     "text": [
      "/Users/lauramos/anaconda3/lib/python3.11/site-packages/keras/src/layers/core/dense.py:86: UserWarning: Do not pass an `input_shape`/`input_dim` argument to a layer. When using Sequential models, prefer using an `Input(shape)` object as the first layer in the model instead.\n",
      "  super().__init__(activity_regularizer=activity_regularizer, **kwargs)\n"
     ]
    },
    {
     "name": "stdout",
     "output_type": "stream",
     "text": [
      "\u001b[1m1/1\u001b[0m \u001b[32m━━━━━━━━━━━━━━━━━━━━\u001b[0m\u001b[37m\u001b[0m \u001b[1m0s\u001b[0m 34ms/step\n"
     ]
    },
    {
     "name": "stderr",
     "output_type": "stream",
     "text": [
      "/Users/lauramos/anaconda3/lib/python3.11/site-packages/keras/src/layers/core/dense.py:86: UserWarning: Do not pass an `input_shape`/`input_dim` argument to a layer. When using Sequential models, prefer using an `Input(shape)` object as the first layer in the model instead.\n",
      "  super().__init__(activity_regularizer=activity_regularizer, **kwargs)\n"
     ]
    },
    {
     "name": "stdout",
     "output_type": "stream",
     "text": [
      "\u001b[1m1/1\u001b[0m \u001b[32m━━━━━━━━━━━━━━━━━━━━\u001b[0m\u001b[37m\u001b[0m \u001b[1m0s\u001b[0m 33ms/step\n"
     ]
    },
    {
     "name": "stderr",
     "output_type": "stream",
     "text": [
      "/Users/lauramos/anaconda3/lib/python3.11/site-packages/keras/src/layers/core/dense.py:86: UserWarning: Do not pass an `input_shape`/`input_dim` argument to a layer. When using Sequential models, prefer using an `Input(shape)` object as the first layer in the model instead.\n",
      "  super().__init__(activity_regularizer=activity_regularizer, **kwargs)\n"
     ]
    },
    {
     "name": "stdout",
     "output_type": "stream",
     "text": [
      "\u001b[1m1/1\u001b[0m \u001b[32m━━━━━━━━━━━━━━━━━━━━\u001b[0m\u001b[37m\u001b[0m \u001b[1m0s\u001b[0m 33ms/step\n"
     ]
    },
    {
     "name": "stderr",
     "output_type": "stream",
     "text": [
      "/Users/lauramos/anaconda3/lib/python3.11/site-packages/keras/src/layers/core/dense.py:86: UserWarning: Do not pass an `input_shape`/`input_dim` argument to a layer. When using Sequential models, prefer using an `Input(shape)` object as the first layer in the model instead.\n",
      "  super().__init__(activity_regularizer=activity_regularizer, **kwargs)\n"
     ]
    },
    {
     "name": "stdout",
     "output_type": "stream",
     "text": [
      "\u001b[1m1/1\u001b[0m \u001b[32m━━━━━━━━━━━━━━━━━━━━\u001b[0m\u001b[37m\u001b[0m \u001b[1m0s\u001b[0m 33ms/step\n"
     ]
    },
    {
     "name": "stderr",
     "output_type": "stream",
     "text": [
      "/Users/lauramos/anaconda3/lib/python3.11/site-packages/keras/src/layers/core/dense.py:86: UserWarning: Do not pass an `input_shape`/`input_dim` argument to a layer. When using Sequential models, prefer using an `Input(shape)` object as the first layer in the model instead.\n",
      "  super().__init__(activity_regularizer=activity_regularizer, **kwargs)\n"
     ]
    },
    {
     "name": "stdout",
     "output_type": "stream",
     "text": [
      "\u001b[1m1/1\u001b[0m \u001b[32m━━━━━━━━━━━━━━━━━━━━\u001b[0m\u001b[37m\u001b[0m \u001b[1m0s\u001b[0m 33ms/step\n"
     ]
    },
    {
     "name": "stderr",
     "output_type": "stream",
     "text": [
      "/Users/lauramos/anaconda3/lib/python3.11/site-packages/keras/src/layers/core/dense.py:86: UserWarning: Do not pass an `input_shape`/`input_dim` argument to a layer. When using Sequential models, prefer using an `Input(shape)` object as the first layer in the model instead.\n",
      "  super().__init__(activity_regularizer=activity_regularizer, **kwargs)\n"
     ]
    },
    {
     "name": "stdout",
     "output_type": "stream",
     "text": [
      "\u001b[1m1/1\u001b[0m \u001b[32m━━━━━━━━━━━━━━━━━━━━\u001b[0m\u001b[37m\u001b[0m \u001b[1m0s\u001b[0m 34ms/step\n"
     ]
    },
    {
     "name": "stderr",
     "output_type": "stream",
     "text": [
      "/Users/lauramos/anaconda3/lib/python3.11/site-packages/keras/src/layers/core/dense.py:86: UserWarning: Do not pass an `input_shape`/`input_dim` argument to a layer. When using Sequential models, prefer using an `Input(shape)` object as the first layer in the model instead.\n",
      "  super().__init__(activity_regularizer=activity_regularizer, **kwargs)\n"
     ]
    },
    {
     "name": "stdout",
     "output_type": "stream",
     "text": [
      "\u001b[1m1/1\u001b[0m \u001b[32m━━━━━━━━━━━━━━━━━━━━\u001b[0m\u001b[37m\u001b[0m \u001b[1m0s\u001b[0m 32ms/step\n"
     ]
    },
    {
     "name": "stderr",
     "output_type": "stream",
     "text": [
      "/Users/lauramos/anaconda3/lib/python3.11/site-packages/keras/src/layers/core/dense.py:86: UserWarning: Do not pass an `input_shape`/`input_dim` argument to a layer. When using Sequential models, prefer using an `Input(shape)` object as the first layer in the model instead.\n",
      "  super().__init__(activity_regularizer=activity_regularizer, **kwargs)\n"
     ]
    },
    {
     "name": "stdout",
     "output_type": "stream",
     "text": [
      "\u001b[1m1/1\u001b[0m \u001b[32m━━━━━━━━━━━━━━━━━━━━\u001b[0m\u001b[37m\u001b[0m \u001b[1m0s\u001b[0m 33ms/step\n"
     ]
    },
    {
     "name": "stderr",
     "output_type": "stream",
     "text": [
      "/Users/lauramos/anaconda3/lib/python3.11/site-packages/keras/src/layers/core/dense.py:86: UserWarning: Do not pass an `input_shape`/`input_dim` argument to a layer. When using Sequential models, prefer using an `Input(shape)` object as the first layer in the model instead.\n",
      "  super().__init__(activity_regularizer=activity_regularizer, **kwargs)\n"
     ]
    },
    {
     "name": "stdout",
     "output_type": "stream",
     "text": [
      "\u001b[1m1/1\u001b[0m \u001b[32m━━━━━━━━━━━━━━━━━━━━\u001b[0m\u001b[37m\u001b[0m \u001b[1m0s\u001b[0m 32ms/step\n"
     ]
    },
    {
     "name": "stderr",
     "output_type": "stream",
     "text": [
      "/Users/lauramos/anaconda3/lib/python3.11/site-packages/keras/src/layers/core/dense.py:86: UserWarning: Do not pass an `input_shape`/`input_dim` argument to a layer. When using Sequential models, prefer using an `Input(shape)` object as the first layer in the model instead.\n",
      "  super().__init__(activity_regularizer=activity_regularizer, **kwargs)\n"
     ]
    },
    {
     "name": "stdout",
     "output_type": "stream",
     "text": [
      "\u001b[1m1/1\u001b[0m \u001b[32m━━━━━━━━━━━━━━━━━━━━\u001b[0m\u001b[37m\u001b[0m \u001b[1m0s\u001b[0m 33ms/step\n"
     ]
    },
    {
     "name": "stderr",
     "output_type": "stream",
     "text": [
      "/Users/lauramos/anaconda3/lib/python3.11/site-packages/keras/src/layers/core/dense.py:86: UserWarning: Do not pass an `input_shape`/`input_dim` argument to a layer. When using Sequential models, prefer using an `Input(shape)` object as the first layer in the model instead.\n",
      "  super().__init__(activity_regularizer=activity_regularizer, **kwargs)\n"
     ]
    },
    {
     "name": "stdout",
     "output_type": "stream",
     "text": [
      "\u001b[1m1/1\u001b[0m \u001b[32m━━━━━━━━━━━━━━━━━━━━\u001b[0m\u001b[37m\u001b[0m \u001b[1m0s\u001b[0m 32ms/step\n"
     ]
    },
    {
     "name": "stderr",
     "output_type": "stream",
     "text": [
      "/Users/lauramos/anaconda3/lib/python3.11/site-packages/keras/src/layers/core/dense.py:86: UserWarning: Do not pass an `input_shape`/`input_dim` argument to a layer. When using Sequential models, prefer using an `Input(shape)` object as the first layer in the model instead.\n",
      "  super().__init__(activity_regularizer=activity_regularizer, **kwargs)\n"
     ]
    },
    {
     "name": "stdout",
     "output_type": "stream",
     "text": [
      "\u001b[1m1/1\u001b[0m \u001b[32m━━━━━━━━━━━━━━━━━━━━\u001b[0m\u001b[37m\u001b[0m \u001b[1m0s\u001b[0m 33ms/step\n"
     ]
    },
    {
     "name": "stderr",
     "output_type": "stream",
     "text": [
      "/Users/lauramos/anaconda3/lib/python3.11/site-packages/keras/src/layers/core/dense.py:86: UserWarning: Do not pass an `input_shape`/`input_dim` argument to a layer. When using Sequential models, prefer using an `Input(shape)` object as the first layer in the model instead.\n",
      "  super().__init__(activity_regularizer=activity_regularizer, **kwargs)\n"
     ]
    },
    {
     "name": "stdout",
     "output_type": "stream",
     "text": [
      "\u001b[1m1/1\u001b[0m \u001b[32m━━━━━━━━━━━━━━━━━━━━\u001b[0m\u001b[37m\u001b[0m \u001b[1m0s\u001b[0m 33ms/step\n"
     ]
    },
    {
     "name": "stderr",
     "output_type": "stream",
     "text": [
      "/Users/lauramos/anaconda3/lib/python3.11/site-packages/keras/src/layers/core/dense.py:86: UserWarning: Do not pass an `input_shape`/`input_dim` argument to a layer. When using Sequential models, prefer using an `Input(shape)` object as the first layer in the model instead.\n",
      "  super().__init__(activity_regularizer=activity_regularizer, **kwargs)\n"
     ]
    },
    {
     "name": "stdout",
     "output_type": "stream",
     "text": [
      "\u001b[1m1/1\u001b[0m \u001b[32m━━━━━━━━━━━━━━━━━━━━\u001b[0m\u001b[37m\u001b[0m \u001b[1m0s\u001b[0m 33ms/step\n"
     ]
    },
    {
     "name": "stderr",
     "output_type": "stream",
     "text": [
      "/Users/lauramos/anaconda3/lib/python3.11/site-packages/keras/src/layers/core/dense.py:86: UserWarning: Do not pass an `input_shape`/`input_dim` argument to a layer. When using Sequential models, prefer using an `Input(shape)` object as the first layer in the model instead.\n",
      "  super().__init__(activity_regularizer=activity_regularizer, **kwargs)\n"
     ]
    },
    {
     "name": "stdout",
     "output_type": "stream",
     "text": [
      "\u001b[1m1/1\u001b[0m \u001b[32m━━━━━━━━━━━━━━━━━━━━\u001b[0m\u001b[37m\u001b[0m \u001b[1m0s\u001b[0m 34ms/step\n"
     ]
    },
    {
     "name": "stderr",
     "output_type": "stream",
     "text": [
      "/Users/lauramos/anaconda3/lib/python3.11/site-packages/keras/src/layers/core/dense.py:86: UserWarning: Do not pass an `input_shape`/`input_dim` argument to a layer. When using Sequential models, prefer using an `Input(shape)` object as the first layer in the model instead.\n",
      "  super().__init__(activity_regularizer=activity_regularizer, **kwargs)\n"
     ]
    },
    {
     "name": "stdout",
     "output_type": "stream",
     "text": [
      "\u001b[1m1/1\u001b[0m \u001b[32m━━━━━━━━━━━━━━━━━━━━\u001b[0m\u001b[37m\u001b[0m \u001b[1m0s\u001b[0m 32ms/step\n"
     ]
    },
    {
     "name": "stderr",
     "output_type": "stream",
     "text": [
      "/Users/lauramos/anaconda3/lib/python3.11/site-packages/keras/src/layers/core/dense.py:86: UserWarning: Do not pass an `input_shape`/`input_dim` argument to a layer. When using Sequential models, prefer using an `Input(shape)` object as the first layer in the model instead.\n",
      "  super().__init__(activity_regularizer=activity_regularizer, **kwargs)\n"
     ]
    },
    {
     "name": "stdout",
     "output_type": "stream",
     "text": [
      "\u001b[1m1/1\u001b[0m \u001b[32m━━━━━━━━━━━━━━━━━━━━\u001b[0m\u001b[37m\u001b[0m \u001b[1m0s\u001b[0m 32ms/step\n"
     ]
    },
    {
     "name": "stderr",
     "output_type": "stream",
     "text": [
      "/Users/lauramos/anaconda3/lib/python3.11/site-packages/keras/src/layers/core/dense.py:86: UserWarning: Do not pass an `input_shape`/`input_dim` argument to a layer. When using Sequential models, prefer using an `Input(shape)` object as the first layer in the model instead.\n",
      "  super().__init__(activity_regularizer=activity_regularizer, **kwargs)\n"
     ]
    },
    {
     "name": "stdout",
     "output_type": "stream",
     "text": [
      "\u001b[1m1/1\u001b[0m \u001b[32m━━━━━━━━━━━━━━━━━━━━\u001b[0m\u001b[37m\u001b[0m \u001b[1m0s\u001b[0m 34ms/step\n"
     ]
    },
    {
     "name": "stderr",
     "output_type": "stream",
     "text": [
      "/Users/lauramos/anaconda3/lib/python3.11/site-packages/keras/src/layers/core/dense.py:86: UserWarning: Do not pass an `input_shape`/`input_dim` argument to a layer. When using Sequential models, prefer using an `Input(shape)` object as the first layer in the model instead.\n",
      "  super().__init__(activity_regularizer=activity_regularizer, **kwargs)\n"
     ]
    },
    {
     "name": "stdout",
     "output_type": "stream",
     "text": [
      "\u001b[1m1/1\u001b[0m \u001b[32m━━━━━━━━━━━━━━━━━━━━\u001b[0m\u001b[37m\u001b[0m \u001b[1m0s\u001b[0m 34ms/step\n"
     ]
    },
    {
     "name": "stderr",
     "output_type": "stream",
     "text": [
      "/Users/lauramos/anaconda3/lib/python3.11/site-packages/keras/src/layers/core/dense.py:86: UserWarning: Do not pass an `input_shape`/`input_dim` argument to a layer. When using Sequential models, prefer using an `Input(shape)` object as the first layer in the model instead.\n",
      "  super().__init__(activity_regularizer=activity_regularizer, **kwargs)\n"
     ]
    },
    {
     "name": "stdout",
     "output_type": "stream",
     "text": [
      "\u001b[1m1/1\u001b[0m \u001b[32m━━━━━━━━━━━━━━━━━━━━\u001b[0m\u001b[37m\u001b[0m \u001b[1m0s\u001b[0m 34ms/step\n"
     ]
    },
    {
     "name": "stderr",
     "output_type": "stream",
     "text": [
      "/Users/lauramos/anaconda3/lib/python3.11/site-packages/keras/src/layers/core/dense.py:86: UserWarning: Do not pass an `input_shape`/`input_dim` argument to a layer. When using Sequential models, prefer using an `Input(shape)` object as the first layer in the model instead.\n",
      "  super().__init__(activity_regularizer=activity_regularizer, **kwargs)\n"
     ]
    },
    {
     "name": "stdout",
     "output_type": "stream",
     "text": [
      "\u001b[1m1/1\u001b[0m \u001b[32m━━━━━━━━━━━━━━━━━━━━\u001b[0m\u001b[37m\u001b[0m \u001b[1m0s\u001b[0m 32ms/step\n"
     ]
    },
    {
     "name": "stderr",
     "output_type": "stream",
     "text": [
      "/Users/lauramos/anaconda3/lib/python3.11/site-packages/keras/src/layers/core/dense.py:86: UserWarning: Do not pass an `input_shape`/`input_dim` argument to a layer. When using Sequential models, prefer using an `Input(shape)` object as the first layer in the model instead.\n",
      "  super().__init__(activity_regularizer=activity_regularizer, **kwargs)\n"
     ]
    },
    {
     "name": "stdout",
     "output_type": "stream",
     "text": [
      "\u001b[1m1/1\u001b[0m \u001b[32m━━━━━━━━━━━━━━━━━━━━\u001b[0m\u001b[37m\u001b[0m \u001b[1m0s\u001b[0m 41ms/step\n"
     ]
    },
    {
     "name": "stderr",
     "output_type": "stream",
     "text": [
      "/Users/lauramos/anaconda3/lib/python3.11/site-packages/keras/src/layers/core/dense.py:86: UserWarning: Do not pass an `input_shape`/`input_dim` argument to a layer. When using Sequential models, prefer using an `Input(shape)` object as the first layer in the model instead.\n",
      "  super().__init__(activity_regularizer=activity_regularizer, **kwargs)\n"
     ]
    },
    {
     "name": "stdout",
     "output_type": "stream",
     "text": [
      "\u001b[1m1/1\u001b[0m \u001b[32m━━━━━━━━━━━━━━━━━━━━\u001b[0m\u001b[37m\u001b[0m \u001b[1m0s\u001b[0m 33ms/step\n"
     ]
    },
    {
     "name": "stderr",
     "output_type": "stream",
     "text": [
      "/Users/lauramos/anaconda3/lib/python3.11/site-packages/keras/src/layers/core/dense.py:86: UserWarning: Do not pass an `input_shape`/`input_dim` argument to a layer. When using Sequential models, prefer using an `Input(shape)` object as the first layer in the model instead.\n",
      "  super().__init__(activity_regularizer=activity_regularizer, **kwargs)\n"
     ]
    },
    {
     "name": "stdout",
     "output_type": "stream",
     "text": [
      "\u001b[1m1/1\u001b[0m \u001b[32m━━━━━━━━━━━━━━━━━━━━\u001b[0m\u001b[37m\u001b[0m \u001b[1m0s\u001b[0m 33ms/step\n"
     ]
    },
    {
     "name": "stderr",
     "output_type": "stream",
     "text": [
      "/Users/lauramos/anaconda3/lib/python3.11/site-packages/keras/src/layers/core/dense.py:86: UserWarning: Do not pass an `input_shape`/`input_dim` argument to a layer. When using Sequential models, prefer using an `Input(shape)` object as the first layer in the model instead.\n",
      "  super().__init__(activity_regularizer=activity_regularizer, **kwargs)\n"
     ]
    },
    {
     "name": "stdout",
     "output_type": "stream",
     "text": [
      "\u001b[1m1/1\u001b[0m \u001b[32m━━━━━━━━━━━━━━━━━━━━\u001b[0m\u001b[37m\u001b[0m \u001b[1m0s\u001b[0m 35ms/step\n"
     ]
    },
    {
     "name": "stderr",
     "output_type": "stream",
     "text": [
      "/Users/lauramos/anaconda3/lib/python3.11/site-packages/keras/src/layers/core/dense.py:86: UserWarning: Do not pass an `input_shape`/`input_dim` argument to a layer. When using Sequential models, prefer using an `Input(shape)` object as the first layer in the model instead.\n",
      "  super().__init__(activity_regularizer=activity_regularizer, **kwargs)\n"
     ]
    },
    {
     "name": "stdout",
     "output_type": "stream",
     "text": [
      "\u001b[1m1/1\u001b[0m \u001b[32m━━━━━━━━━━━━━━━━━━━━\u001b[0m\u001b[37m\u001b[0m \u001b[1m0s\u001b[0m 35ms/step\n"
     ]
    },
    {
     "name": "stderr",
     "output_type": "stream",
     "text": [
      "/Users/lauramos/anaconda3/lib/python3.11/site-packages/keras/src/layers/core/dense.py:86: UserWarning: Do not pass an `input_shape`/`input_dim` argument to a layer. When using Sequential models, prefer using an `Input(shape)` object as the first layer in the model instead.\n",
      "  super().__init__(activity_regularizer=activity_regularizer, **kwargs)\n"
     ]
    },
    {
     "name": "stdout",
     "output_type": "stream",
     "text": [
      "\u001b[1m1/1\u001b[0m \u001b[32m━━━━━━━━━━━━━━━━━━━━\u001b[0m\u001b[37m\u001b[0m \u001b[1m0s\u001b[0m 35ms/step\n"
     ]
    },
    {
     "name": "stderr",
     "output_type": "stream",
     "text": [
      "/Users/lauramos/anaconda3/lib/python3.11/site-packages/keras/src/layers/core/dense.py:86: UserWarning: Do not pass an `input_shape`/`input_dim` argument to a layer. When using Sequential models, prefer using an `Input(shape)` object as the first layer in the model instead.\n",
      "  super().__init__(activity_regularizer=activity_regularizer, **kwargs)\n"
     ]
    },
    {
     "name": "stdout",
     "output_type": "stream",
     "text": [
      "\u001b[1m1/1\u001b[0m \u001b[32m━━━━━━━━━━━━━━━━━━━━\u001b[0m\u001b[37m\u001b[0m \u001b[1m0s\u001b[0m 36ms/step\n"
     ]
    },
    {
     "name": "stderr",
     "output_type": "stream",
     "text": [
      "/Users/lauramos/anaconda3/lib/python3.11/site-packages/keras/src/layers/core/dense.py:86: UserWarning: Do not pass an `input_shape`/`input_dim` argument to a layer. When using Sequential models, prefer using an `Input(shape)` object as the first layer in the model instead.\n",
      "  super().__init__(activity_regularizer=activity_regularizer, **kwargs)\n"
     ]
    },
    {
     "name": "stdout",
     "output_type": "stream",
     "text": [
      "\u001b[1m1/1\u001b[0m \u001b[32m━━━━━━━━━━━━━━━━━━━━\u001b[0m\u001b[37m\u001b[0m \u001b[1m0s\u001b[0m 35ms/step\n"
     ]
    },
    {
     "name": "stderr",
     "output_type": "stream",
     "text": [
      "/Users/lauramos/anaconda3/lib/python3.11/site-packages/keras/src/layers/core/dense.py:86: UserWarning: Do not pass an `input_shape`/`input_dim` argument to a layer. When using Sequential models, prefer using an `Input(shape)` object as the first layer in the model instead.\n",
      "  super().__init__(activity_regularizer=activity_regularizer, **kwargs)\n"
     ]
    },
    {
     "name": "stdout",
     "output_type": "stream",
     "text": [
      "\u001b[1m1/1\u001b[0m \u001b[32m━━━━━━━━━━━━━━━━━━━━\u001b[0m\u001b[37m\u001b[0m \u001b[1m0s\u001b[0m 36ms/step\n"
     ]
    },
    {
     "name": "stderr",
     "output_type": "stream",
     "text": [
      "/Users/lauramos/anaconda3/lib/python3.11/site-packages/keras/src/layers/core/dense.py:86: UserWarning: Do not pass an `input_shape`/`input_dim` argument to a layer. When using Sequential models, prefer using an `Input(shape)` object as the first layer in the model instead.\n",
      "  super().__init__(activity_regularizer=activity_regularizer, **kwargs)\n"
     ]
    },
    {
     "name": "stdout",
     "output_type": "stream",
     "text": [
      "\u001b[1m1/1\u001b[0m \u001b[32m━━━━━━━━━━━━━━━━━━━━\u001b[0m\u001b[37m\u001b[0m \u001b[1m0s\u001b[0m 36ms/step\n"
     ]
    },
    {
     "name": "stderr",
     "output_type": "stream",
     "text": [
      "/Users/lauramos/anaconda3/lib/python3.11/site-packages/keras/src/layers/core/dense.py:86: UserWarning: Do not pass an `input_shape`/`input_dim` argument to a layer. When using Sequential models, prefer using an `Input(shape)` object as the first layer in the model instead.\n",
      "  super().__init__(activity_regularizer=activity_regularizer, **kwargs)\n"
     ]
    },
    {
     "name": "stdout",
     "output_type": "stream",
     "text": [
      "\u001b[1m1/1\u001b[0m \u001b[32m━━━━━━━━━━━━━━━━━━━━\u001b[0m\u001b[37m\u001b[0m \u001b[1m0s\u001b[0m 37ms/step\n"
     ]
    },
    {
     "name": "stderr",
     "output_type": "stream",
     "text": [
      "/Users/lauramos/anaconda3/lib/python3.11/site-packages/keras/src/layers/core/dense.py:86: UserWarning: Do not pass an `input_shape`/`input_dim` argument to a layer. When using Sequential models, prefer using an `Input(shape)` object as the first layer in the model instead.\n",
      "  super().__init__(activity_regularizer=activity_regularizer, **kwargs)\n"
     ]
    },
    {
     "name": "stdout",
     "output_type": "stream",
     "text": [
      "\u001b[1m1/1\u001b[0m \u001b[32m━━━━━━━━━━━━━━━━━━━━\u001b[0m\u001b[37m\u001b[0m \u001b[1m0s\u001b[0m 37ms/step\n"
     ]
    },
    {
     "name": "stderr",
     "output_type": "stream",
     "text": [
      "/Users/lauramos/anaconda3/lib/python3.11/site-packages/keras/src/layers/core/dense.py:86: UserWarning: Do not pass an `input_shape`/`input_dim` argument to a layer. When using Sequential models, prefer using an `Input(shape)` object as the first layer in the model instead.\n",
      "  super().__init__(activity_regularizer=activity_regularizer, **kwargs)\n"
     ]
    },
    {
     "name": "stdout",
     "output_type": "stream",
     "text": [
      "\u001b[1m1/1\u001b[0m \u001b[32m━━━━━━━━━━━━━━━━━━━━\u001b[0m\u001b[37m\u001b[0m \u001b[1m0s\u001b[0m 38ms/step\n"
     ]
    },
    {
     "name": "stderr",
     "output_type": "stream",
     "text": [
      "/Users/lauramos/anaconda3/lib/python3.11/site-packages/keras/src/layers/core/dense.py:86: UserWarning: Do not pass an `input_shape`/`input_dim` argument to a layer. When using Sequential models, prefer using an `Input(shape)` object as the first layer in the model instead.\n",
      "  super().__init__(activity_regularizer=activity_regularizer, **kwargs)\n"
     ]
    },
    {
     "name": "stdout",
     "output_type": "stream",
     "text": [
      "\u001b[1m1/1\u001b[0m \u001b[32m━━━━━━━━━━━━━━━━━━━━\u001b[0m\u001b[37m\u001b[0m \u001b[1m0s\u001b[0m 40ms/step\n"
     ]
    },
    {
     "name": "stderr",
     "output_type": "stream",
     "text": [
      "/Users/lauramos/anaconda3/lib/python3.11/site-packages/keras/src/layers/core/dense.py:86: UserWarning: Do not pass an `input_shape`/`input_dim` argument to a layer. When using Sequential models, prefer using an `Input(shape)` object as the first layer in the model instead.\n",
      "  super().__init__(activity_regularizer=activity_regularizer, **kwargs)\n"
     ]
    },
    {
     "name": "stdout",
     "output_type": "stream",
     "text": [
      "\u001b[1m1/1\u001b[0m \u001b[32m━━━━━━━━━━━━━━━━━━━━\u001b[0m\u001b[37m\u001b[0m \u001b[1m0s\u001b[0m 38ms/step\n"
     ]
    },
    {
     "name": "stderr",
     "output_type": "stream",
     "text": [
      "/Users/lauramos/anaconda3/lib/python3.11/site-packages/keras/src/layers/core/dense.py:86: UserWarning: Do not pass an `input_shape`/`input_dim` argument to a layer. When using Sequential models, prefer using an `Input(shape)` object as the first layer in the model instead.\n",
      "  super().__init__(activity_regularizer=activity_regularizer, **kwargs)\n"
     ]
    },
    {
     "name": "stdout",
     "output_type": "stream",
     "text": [
      "\u001b[1m1/1\u001b[0m \u001b[32m━━━━━━━━━━━━━━━━━━━━\u001b[0m\u001b[37m\u001b[0m \u001b[1m0s\u001b[0m 39ms/step\n"
     ]
    },
    {
     "name": "stderr",
     "output_type": "stream",
     "text": [
      "/Users/lauramos/anaconda3/lib/python3.11/site-packages/keras/src/layers/core/dense.py:86: UserWarning: Do not pass an `input_shape`/`input_dim` argument to a layer. When using Sequential models, prefer using an `Input(shape)` object as the first layer in the model instead.\n",
      "  super().__init__(activity_regularizer=activity_regularizer, **kwargs)\n"
     ]
    },
    {
     "name": "stdout",
     "output_type": "stream",
     "text": [
      "\u001b[1m1/1\u001b[0m \u001b[32m━━━━━━━━━━━━━━━━━━━━\u001b[0m\u001b[37m\u001b[0m \u001b[1m0s\u001b[0m 41ms/step\n"
     ]
    },
    {
     "name": "stderr",
     "output_type": "stream",
     "text": [
      "/Users/lauramos/anaconda3/lib/python3.11/site-packages/keras/src/layers/core/dense.py:86: UserWarning: Do not pass an `input_shape`/`input_dim` argument to a layer. When using Sequential models, prefer using an `Input(shape)` object as the first layer in the model instead.\n",
      "  super().__init__(activity_regularizer=activity_regularizer, **kwargs)\n"
     ]
    },
    {
     "name": "stdout",
     "output_type": "stream",
     "text": [
      "\u001b[1m1/1\u001b[0m \u001b[32m━━━━━━━━━━━━━━━━━━━━\u001b[0m\u001b[37m\u001b[0m \u001b[1m0s\u001b[0m 41ms/step\n"
     ]
    },
    {
     "name": "stderr",
     "output_type": "stream",
     "text": [
      "/Users/lauramos/anaconda3/lib/python3.11/site-packages/keras/src/layers/core/dense.py:86: UserWarning: Do not pass an `input_shape`/`input_dim` argument to a layer. When using Sequential models, prefer using an `Input(shape)` object as the first layer in the model instead.\n",
      "  super().__init__(activity_regularizer=activity_regularizer, **kwargs)\n"
     ]
    },
    {
     "name": "stdout",
     "output_type": "stream",
     "text": [
      "\u001b[1m1/1\u001b[0m \u001b[32m━━━━━━━━━━━━━━━━━━━━\u001b[0m\u001b[37m\u001b[0m \u001b[1m0s\u001b[0m 42ms/step\n"
     ]
    },
    {
     "name": "stderr",
     "output_type": "stream",
     "text": [
      "/Users/lauramos/anaconda3/lib/python3.11/site-packages/keras/src/layers/core/dense.py:86: UserWarning: Do not pass an `input_shape`/`input_dim` argument to a layer. When using Sequential models, prefer using an `Input(shape)` object as the first layer in the model instead.\n",
      "  super().__init__(activity_regularizer=activity_regularizer, **kwargs)\n"
     ]
    },
    {
     "name": "stdout",
     "output_type": "stream",
     "text": [
      "\u001b[1m1/1\u001b[0m \u001b[32m━━━━━━━━━━━━━━━━━━━━\u001b[0m\u001b[37m\u001b[0m \u001b[1m0s\u001b[0m 42ms/step\n"
     ]
    },
    {
     "name": "stderr",
     "output_type": "stream",
     "text": [
      "/Users/lauramos/anaconda3/lib/python3.11/site-packages/keras/src/layers/core/dense.py:86: UserWarning: Do not pass an `input_shape`/`input_dim` argument to a layer. When using Sequential models, prefer using an `Input(shape)` object as the first layer in the model instead.\n",
      "  super().__init__(activity_regularizer=activity_regularizer, **kwargs)\n"
     ]
    },
    {
     "name": "stdout",
     "output_type": "stream",
     "text": [
      "\u001b[1m1/1\u001b[0m \u001b[32m━━━━━━━━━━━━━━━━━━━━\u001b[0m\u001b[37m\u001b[0m \u001b[1m0s\u001b[0m 41ms/step\n"
     ]
    },
    {
     "name": "stderr",
     "output_type": "stream",
     "text": [
      "/Users/lauramos/anaconda3/lib/python3.11/site-packages/keras/src/layers/core/dense.py:86: UserWarning: Do not pass an `input_shape`/`input_dim` argument to a layer. When using Sequential models, prefer using an `Input(shape)` object as the first layer in the model instead.\n",
      "  super().__init__(activity_regularizer=activity_regularizer, **kwargs)\n"
     ]
    },
    {
     "name": "stdout",
     "output_type": "stream",
     "text": [
      "\u001b[1m1/1\u001b[0m \u001b[32m━━━━━━━━━━━━━━━━━━━━\u001b[0m\u001b[37m\u001b[0m \u001b[1m0s\u001b[0m 41ms/step\n"
     ]
    },
    {
     "name": "stderr",
     "output_type": "stream",
     "text": [
      "/Users/lauramos/anaconda3/lib/python3.11/site-packages/keras/src/layers/core/dense.py:86: UserWarning: Do not pass an `input_shape`/`input_dim` argument to a layer. When using Sequential models, prefer using an `Input(shape)` object as the first layer in the model instead.\n",
      "  super().__init__(activity_regularizer=activity_regularizer, **kwargs)\n"
     ]
    },
    {
     "name": "stdout",
     "output_type": "stream",
     "text": [
      "\u001b[1m1/1\u001b[0m \u001b[32m━━━━━━━━━━━━━━━━━━━━\u001b[0m\u001b[37m\u001b[0m \u001b[1m0s\u001b[0m 41ms/step\n"
     ]
    },
    {
     "name": "stderr",
     "output_type": "stream",
     "text": [
      "/Users/lauramos/anaconda3/lib/python3.11/site-packages/keras/src/layers/core/dense.py:86: UserWarning: Do not pass an `input_shape`/`input_dim` argument to a layer. When using Sequential models, prefer using an `Input(shape)` object as the first layer in the model instead.\n",
      "  super().__init__(activity_regularizer=activity_regularizer, **kwargs)\n"
     ]
    },
    {
     "name": "stdout",
     "output_type": "stream",
     "text": [
      "\u001b[1m1/1\u001b[0m \u001b[32m━━━━━━━━━━━━━━━━━━━━\u001b[0m\u001b[37m\u001b[0m \u001b[1m0s\u001b[0m 46ms/step\n"
     ]
    },
    {
     "name": "stderr",
     "output_type": "stream",
     "text": [
      "/Users/lauramos/anaconda3/lib/python3.11/site-packages/keras/src/layers/core/dense.py:86: UserWarning: Do not pass an `input_shape`/`input_dim` argument to a layer. When using Sequential models, prefer using an `Input(shape)` object as the first layer in the model instead.\n",
      "  super().__init__(activity_regularizer=activity_regularizer, **kwargs)\n"
     ]
    },
    {
     "name": "stdout",
     "output_type": "stream",
     "text": [
      "\u001b[1m1/1\u001b[0m \u001b[32m━━━━━━━━━━━━━━━━━━━━\u001b[0m\u001b[37m\u001b[0m \u001b[1m0s\u001b[0m 45ms/step\n"
     ]
    },
    {
     "name": "stderr",
     "output_type": "stream",
     "text": [
      "/Users/lauramos/anaconda3/lib/python3.11/site-packages/keras/src/layers/core/dense.py:86: UserWarning: Do not pass an `input_shape`/`input_dim` argument to a layer. When using Sequential models, prefer using an `Input(shape)` object as the first layer in the model instead.\n",
      "  super().__init__(activity_regularizer=activity_regularizer, **kwargs)\n"
     ]
    },
    {
     "name": "stdout",
     "output_type": "stream",
     "text": [
      "\u001b[1m1/1\u001b[0m \u001b[32m━━━━━━━━━━━━━━━━━━━━\u001b[0m\u001b[37m\u001b[0m \u001b[1m0s\u001b[0m 45ms/step\n"
     ]
    },
    {
     "name": "stderr",
     "output_type": "stream",
     "text": [
      "/Users/lauramos/anaconda3/lib/python3.11/site-packages/keras/src/layers/core/dense.py:86: UserWarning: Do not pass an `input_shape`/`input_dim` argument to a layer. When using Sequential models, prefer using an `Input(shape)` object as the first layer in the model instead.\n",
      "  super().__init__(activity_regularizer=activity_regularizer, **kwargs)\n"
     ]
    },
    {
     "name": "stdout",
     "output_type": "stream",
     "text": [
      "\u001b[1m1/1\u001b[0m \u001b[32m━━━━━━━━━━━━━━━━━━━━\u001b[0m\u001b[37m\u001b[0m \u001b[1m0s\u001b[0m 47ms/step\n"
     ]
    },
    {
     "name": "stderr",
     "output_type": "stream",
     "text": [
      "/Users/lauramos/anaconda3/lib/python3.11/site-packages/keras/src/layers/core/dense.py:86: UserWarning: Do not pass an `input_shape`/`input_dim` argument to a layer. When using Sequential models, prefer using an `Input(shape)` object as the first layer in the model instead.\n",
      "  super().__init__(activity_regularizer=activity_regularizer, **kwargs)\n"
     ]
    },
    {
     "name": "stdout",
     "output_type": "stream",
     "text": [
      "\u001b[1m1/1\u001b[0m \u001b[32m━━━━━━━━━━━━━━━━━━━━\u001b[0m\u001b[37m\u001b[0m \u001b[1m0s\u001b[0m 45ms/step\n"
     ]
    },
    {
     "name": "stderr",
     "output_type": "stream",
     "text": [
      "/Users/lauramos/anaconda3/lib/python3.11/site-packages/keras/src/layers/core/dense.py:86: UserWarning: Do not pass an `input_shape`/`input_dim` argument to a layer. When using Sequential models, prefer using an `Input(shape)` object as the first layer in the model instead.\n",
      "  super().__init__(activity_regularizer=activity_regularizer, **kwargs)\n"
     ]
    },
    {
     "name": "stdout",
     "output_type": "stream",
     "text": [
      "\u001b[1m1/1\u001b[0m \u001b[32m━━━━━━━━━━━━━━━━━━━━\u001b[0m\u001b[37m\u001b[0m \u001b[1m0s\u001b[0m 47ms/step\n"
     ]
    },
    {
     "name": "stderr",
     "output_type": "stream",
     "text": [
      "/Users/lauramos/anaconda3/lib/python3.11/site-packages/keras/src/layers/core/dense.py:86: UserWarning: Do not pass an `input_shape`/`input_dim` argument to a layer. When using Sequential models, prefer using an `Input(shape)` object as the first layer in the model instead.\n",
      "  super().__init__(activity_regularizer=activity_regularizer, **kwargs)\n"
     ]
    },
    {
     "name": "stdout",
     "output_type": "stream",
     "text": [
      "\u001b[1m1/1\u001b[0m \u001b[32m━━━━━━━━━━━━━━━━━━━━\u001b[0m\u001b[37m\u001b[0m \u001b[1m0s\u001b[0m 44ms/step\n"
     ]
    },
    {
     "name": "stderr",
     "output_type": "stream",
     "text": [
      "/Users/lauramos/anaconda3/lib/python3.11/site-packages/keras/src/layers/core/dense.py:86: UserWarning: Do not pass an `input_shape`/`input_dim` argument to a layer. When using Sequential models, prefer using an `Input(shape)` object as the first layer in the model instead.\n",
      "  super().__init__(activity_regularizer=activity_regularizer, **kwargs)\n"
     ]
    },
    {
     "name": "stdout",
     "output_type": "stream",
     "text": [
      "\u001b[1m1/1\u001b[0m \u001b[32m━━━━━━━━━━━━━━━━━━━━\u001b[0m\u001b[37m\u001b[0m \u001b[1m0s\u001b[0m 47ms/step\n"
     ]
    },
    {
     "name": "stderr",
     "output_type": "stream",
     "text": [
      "/Users/lauramos/anaconda3/lib/python3.11/site-packages/keras/src/layers/core/dense.py:86: UserWarning: Do not pass an `input_shape`/`input_dim` argument to a layer. When using Sequential models, prefer using an `Input(shape)` object as the first layer in the model instead.\n",
      "  super().__init__(activity_regularizer=activity_regularizer, **kwargs)\n"
     ]
    },
    {
     "name": "stdout",
     "output_type": "stream",
     "text": [
      "\u001b[1m1/1\u001b[0m \u001b[32m━━━━━━━━━━━━━━━━━━━━\u001b[0m\u001b[37m\u001b[0m \u001b[1m0s\u001b[0m 48ms/step\n"
     ]
    },
    {
     "name": "stderr",
     "output_type": "stream",
     "text": [
      "/Users/lauramos/anaconda3/lib/python3.11/site-packages/keras/src/layers/core/dense.py:86: UserWarning: Do not pass an `input_shape`/`input_dim` argument to a layer. When using Sequential models, prefer using an `Input(shape)` object as the first layer in the model instead.\n",
      "  super().__init__(activity_regularizer=activity_regularizer, **kwargs)\n"
     ]
    },
    {
     "name": "stdout",
     "output_type": "stream",
     "text": [
      "\u001b[1m1/1\u001b[0m \u001b[32m━━━━━━━━━━━━━━━━━━━━\u001b[0m\u001b[37m\u001b[0m \u001b[1m0s\u001b[0m 39ms/step\n"
     ]
    },
    {
     "name": "stderr",
     "output_type": "stream",
     "text": [
      "/Users/lauramos/anaconda3/lib/python3.11/site-packages/keras/src/layers/core/dense.py:86: UserWarning: Do not pass an `input_shape`/`input_dim` argument to a layer. When using Sequential models, prefer using an `Input(shape)` object as the first layer in the model instead.\n",
      "  super().__init__(activity_regularizer=activity_regularizer, **kwargs)\n"
     ]
    },
    {
     "name": "stdout",
     "output_type": "stream",
     "text": [
      "\u001b[1m1/1\u001b[0m \u001b[32m━━━━━━━━━━━━━━━━━━━━\u001b[0m\u001b[37m\u001b[0m \u001b[1m0s\u001b[0m 39ms/step\n"
     ]
    },
    {
     "name": "stderr",
     "output_type": "stream",
     "text": [
      "/Users/lauramos/anaconda3/lib/python3.11/site-packages/keras/src/layers/core/dense.py:86: UserWarning: Do not pass an `input_shape`/`input_dim` argument to a layer. When using Sequential models, prefer using an `Input(shape)` object as the first layer in the model instead.\n",
      "  super().__init__(activity_regularizer=activity_regularizer, **kwargs)\n"
     ]
    },
    {
     "name": "stdout",
     "output_type": "stream",
     "text": [
      "\u001b[1m1/1\u001b[0m \u001b[32m━━━━━━━━━━━━━━━━━━━━\u001b[0m\u001b[37m\u001b[0m \u001b[1m0s\u001b[0m 38ms/step\n"
     ]
    },
    {
     "name": "stderr",
     "output_type": "stream",
     "text": [
      "/Users/lauramos/anaconda3/lib/python3.11/site-packages/keras/src/layers/core/dense.py:86: UserWarning: Do not pass an `input_shape`/`input_dim` argument to a layer. When using Sequential models, prefer using an `Input(shape)` object as the first layer in the model instead.\n",
      "  super().__init__(activity_regularizer=activity_regularizer, **kwargs)\n"
     ]
    },
    {
     "name": "stdout",
     "output_type": "stream",
     "text": [
      "\u001b[1m1/1\u001b[0m \u001b[32m━━━━━━━━━━━━━━━━━━━━\u001b[0m\u001b[37m\u001b[0m \u001b[1m0s\u001b[0m 40ms/step\n"
     ]
    },
    {
     "name": "stderr",
     "output_type": "stream",
     "text": [
      "/Users/lauramos/anaconda3/lib/python3.11/site-packages/keras/src/layers/core/dense.py:86: UserWarning: Do not pass an `input_shape`/`input_dim` argument to a layer. When using Sequential models, prefer using an `Input(shape)` object as the first layer in the model instead.\n",
      "  super().__init__(activity_regularizer=activity_regularizer, **kwargs)\n"
     ]
    },
    {
     "name": "stdout",
     "output_type": "stream",
     "text": [
      "\u001b[1m1/1\u001b[0m \u001b[32m━━━━━━━━━━━━━━━━━━━━\u001b[0m\u001b[37m\u001b[0m \u001b[1m0s\u001b[0m 40ms/step\n"
     ]
    },
    {
     "name": "stderr",
     "output_type": "stream",
     "text": [
      "/Users/lauramos/anaconda3/lib/python3.11/site-packages/keras/src/layers/core/dense.py:86: UserWarning: Do not pass an `input_shape`/`input_dim` argument to a layer. When using Sequential models, prefer using an `Input(shape)` object as the first layer in the model instead.\n",
      "  super().__init__(activity_regularizer=activity_regularizer, **kwargs)\n"
     ]
    },
    {
     "name": "stdout",
     "output_type": "stream",
     "text": [
      "\u001b[1m1/1\u001b[0m \u001b[32m━━━━━━━━━━━━━━━━━━━━\u001b[0m\u001b[37m\u001b[0m \u001b[1m0s\u001b[0m 38ms/step\n"
     ]
    },
    {
     "name": "stderr",
     "output_type": "stream",
     "text": [
      "/Users/lauramos/anaconda3/lib/python3.11/site-packages/keras/src/layers/core/dense.py:86: UserWarning: Do not pass an `input_shape`/`input_dim` argument to a layer. When using Sequential models, prefer using an `Input(shape)` object as the first layer in the model instead.\n",
      "  super().__init__(activity_regularizer=activity_regularizer, **kwargs)\n"
     ]
    },
    {
     "name": "stdout",
     "output_type": "stream",
     "text": [
      "\u001b[1m1/1\u001b[0m \u001b[32m━━━━━━━━━━━━━━━━━━━━\u001b[0m\u001b[37m\u001b[0m \u001b[1m0s\u001b[0m 39ms/step\n"
     ]
    },
    {
     "name": "stderr",
     "output_type": "stream",
     "text": [
      "/Users/lauramos/anaconda3/lib/python3.11/site-packages/keras/src/layers/core/dense.py:86: UserWarning: Do not pass an `input_shape`/`input_dim` argument to a layer. When using Sequential models, prefer using an `Input(shape)` object as the first layer in the model instead.\n",
      "  super().__init__(activity_regularizer=activity_regularizer, **kwargs)\n"
     ]
    },
    {
     "name": "stdout",
     "output_type": "stream",
     "text": [
      "\u001b[1m1/1\u001b[0m \u001b[32m━━━━━━━━━━━━━━━━━━━━\u001b[0m\u001b[37m\u001b[0m \u001b[1m0s\u001b[0m 39ms/step\n"
     ]
    },
    {
     "name": "stderr",
     "output_type": "stream",
     "text": [
      "/Users/lauramos/anaconda3/lib/python3.11/site-packages/keras/src/layers/core/dense.py:86: UserWarning: Do not pass an `input_shape`/`input_dim` argument to a layer. When using Sequential models, prefer using an `Input(shape)` object as the first layer in the model instead.\n",
      "  super().__init__(activity_regularizer=activity_regularizer, **kwargs)\n"
     ]
    },
    {
     "name": "stdout",
     "output_type": "stream",
     "text": [
      "\u001b[1m1/1\u001b[0m \u001b[32m━━━━━━━━━━━━━━━━━━━━\u001b[0m\u001b[37m\u001b[0m \u001b[1m0s\u001b[0m 38ms/step\n"
     ]
    },
    {
     "name": "stderr",
     "output_type": "stream",
     "text": [
      "/Users/lauramos/anaconda3/lib/python3.11/site-packages/keras/src/layers/core/dense.py:86: UserWarning: Do not pass an `input_shape`/`input_dim` argument to a layer. When using Sequential models, prefer using an `Input(shape)` object as the first layer in the model instead.\n",
      "  super().__init__(activity_regularizer=activity_regularizer, **kwargs)\n"
     ]
    },
    {
     "name": "stdout",
     "output_type": "stream",
     "text": [
      "\u001b[1m1/1\u001b[0m \u001b[32m━━━━━━━━━━━━━━━━━━━━\u001b[0m\u001b[37m\u001b[0m \u001b[1m0s\u001b[0m 38ms/step\n"
     ]
    },
    {
     "name": "stderr",
     "output_type": "stream",
     "text": [
      "/Users/lauramos/anaconda3/lib/python3.11/site-packages/keras/src/layers/core/dense.py:86: UserWarning: Do not pass an `input_shape`/`input_dim` argument to a layer. When using Sequential models, prefer using an `Input(shape)` object as the first layer in the model instead.\n",
      "  super().__init__(activity_regularizer=activity_regularizer, **kwargs)\n"
     ]
    },
    {
     "name": "stdout",
     "output_type": "stream",
     "text": [
      "\u001b[1m1/1\u001b[0m \u001b[32m━━━━━━━━━━━━━━━━━━━━\u001b[0m\u001b[37m\u001b[0m \u001b[1m0s\u001b[0m 37ms/step\n"
     ]
    },
    {
     "name": "stderr",
     "output_type": "stream",
     "text": [
      "/Users/lauramos/anaconda3/lib/python3.11/site-packages/keras/src/layers/core/dense.py:86: UserWarning: Do not pass an `input_shape`/`input_dim` argument to a layer. When using Sequential models, prefer using an `Input(shape)` object as the first layer in the model instead.\n",
      "  super().__init__(activity_regularizer=activity_regularizer, **kwargs)\n"
     ]
    },
    {
     "name": "stdout",
     "output_type": "stream",
     "text": [
      "\u001b[1m1/1\u001b[0m \u001b[32m━━━━━━━━━━━━━━━━━━━━\u001b[0m\u001b[37m\u001b[0m \u001b[1m0s\u001b[0m 37ms/step\n"
     ]
    },
    {
     "name": "stderr",
     "output_type": "stream",
     "text": [
      "/Users/lauramos/anaconda3/lib/python3.11/site-packages/keras/src/layers/core/dense.py:86: UserWarning: Do not pass an `input_shape`/`input_dim` argument to a layer. When using Sequential models, prefer using an `Input(shape)` object as the first layer in the model instead.\n",
      "  super().__init__(activity_regularizer=activity_regularizer, **kwargs)\n"
     ]
    },
    {
     "name": "stdout",
     "output_type": "stream",
     "text": [
      "\u001b[1m1/1\u001b[0m \u001b[32m━━━━━━━━━━━━━━━━━━━━\u001b[0m\u001b[37m\u001b[0m \u001b[1m0s\u001b[0m 53ms/step\n"
     ]
    },
    {
     "name": "stderr",
     "output_type": "stream",
     "text": [
      "/Users/lauramos/anaconda3/lib/python3.11/site-packages/keras/src/layers/core/dense.py:86: UserWarning: Do not pass an `input_shape`/`input_dim` argument to a layer. When using Sequential models, prefer using an `Input(shape)` object as the first layer in the model instead.\n",
      "  super().__init__(activity_regularizer=activity_regularizer, **kwargs)\n"
     ]
    },
    {
     "name": "stdout",
     "output_type": "stream",
     "text": [
      "\u001b[1m1/1\u001b[0m \u001b[32m━━━━━━━━━━━━━━━━━━━━\u001b[0m\u001b[37m\u001b[0m \u001b[1m0s\u001b[0m 36ms/step\n"
     ]
    },
    {
     "name": "stderr",
     "output_type": "stream",
     "text": [
      "/Users/lauramos/anaconda3/lib/python3.11/site-packages/keras/src/layers/core/dense.py:86: UserWarning: Do not pass an `input_shape`/`input_dim` argument to a layer. When using Sequential models, prefer using an `Input(shape)` object as the first layer in the model instead.\n",
      "  super().__init__(activity_regularizer=activity_regularizer, **kwargs)\n"
     ]
    },
    {
     "name": "stdout",
     "output_type": "stream",
     "text": [
      "\u001b[1m1/1\u001b[0m \u001b[32m━━━━━━━━━━━━━━━━━━━━\u001b[0m\u001b[37m\u001b[0m \u001b[1m0s\u001b[0m 36ms/step\n"
     ]
    },
    {
     "name": "stderr",
     "output_type": "stream",
     "text": [
      "/Users/lauramos/anaconda3/lib/python3.11/site-packages/keras/src/layers/core/dense.py:86: UserWarning: Do not pass an `input_shape`/`input_dim` argument to a layer. When using Sequential models, prefer using an `Input(shape)` object as the first layer in the model instead.\n",
      "  super().__init__(activity_regularizer=activity_regularizer, **kwargs)\n"
     ]
    },
    {
     "name": "stdout",
     "output_type": "stream",
     "text": [
      "\u001b[1m1/1\u001b[0m \u001b[32m━━━━━━━━━━━━━━━━━━━━\u001b[0m\u001b[37m\u001b[0m \u001b[1m0s\u001b[0m 38ms/step\n"
     ]
    },
    {
     "name": "stderr",
     "output_type": "stream",
     "text": [
      "/Users/lauramos/anaconda3/lib/python3.11/site-packages/keras/src/layers/core/dense.py:86: UserWarning: Do not pass an `input_shape`/`input_dim` argument to a layer. When using Sequential models, prefer using an `Input(shape)` object as the first layer in the model instead.\n",
      "  super().__init__(activity_regularizer=activity_regularizer, **kwargs)\n"
     ]
    },
    {
     "name": "stdout",
     "output_type": "stream",
     "text": [
      "\u001b[1m1/1\u001b[0m \u001b[32m━━━━━━━━━━━━━━━━━━━━\u001b[0m\u001b[37m\u001b[0m \u001b[1m0s\u001b[0m 37ms/step\n"
     ]
    },
    {
     "name": "stderr",
     "output_type": "stream",
     "text": [
      "/Users/lauramos/anaconda3/lib/python3.11/site-packages/keras/src/layers/core/dense.py:86: UserWarning: Do not pass an `input_shape`/`input_dim` argument to a layer. When using Sequential models, prefer using an `Input(shape)` object as the first layer in the model instead.\n",
      "  super().__init__(activity_regularizer=activity_regularizer, **kwargs)\n"
     ]
    },
    {
     "name": "stdout",
     "output_type": "stream",
     "text": [
      "\u001b[1m1/1\u001b[0m \u001b[32m━━━━━━━━━━━━━━━━━━━━\u001b[0m\u001b[37m\u001b[0m \u001b[1m0s\u001b[0m 37ms/step\n"
     ]
    },
    {
     "name": "stderr",
     "output_type": "stream",
     "text": [
      "/Users/lauramos/anaconda3/lib/python3.11/site-packages/keras/src/layers/core/dense.py:86: UserWarning: Do not pass an `input_shape`/`input_dim` argument to a layer. When using Sequential models, prefer using an `Input(shape)` object as the first layer in the model instead.\n",
      "  super().__init__(activity_regularizer=activity_regularizer, **kwargs)\n"
     ]
    },
    {
     "name": "stdout",
     "output_type": "stream",
     "text": [
      "\u001b[1m1/1\u001b[0m \u001b[32m━━━━━━━━━━━━━━━━━━━━\u001b[0m\u001b[37m\u001b[0m \u001b[1m0s\u001b[0m 37ms/step\n"
     ]
    },
    {
     "name": "stderr",
     "output_type": "stream",
     "text": [
      "/Users/lauramos/anaconda3/lib/python3.11/site-packages/keras/src/layers/core/dense.py:86: UserWarning: Do not pass an `input_shape`/`input_dim` argument to a layer. When using Sequential models, prefer using an `Input(shape)` object as the first layer in the model instead.\n",
      "  super().__init__(activity_regularizer=activity_regularizer, **kwargs)\n"
     ]
    },
    {
     "name": "stdout",
     "output_type": "stream",
     "text": [
      "\u001b[1m1/1\u001b[0m \u001b[32m━━━━━━━━━━━━━━━━━━━━\u001b[0m\u001b[37m\u001b[0m \u001b[1m0s\u001b[0m 39ms/step\n"
     ]
    },
    {
     "name": "stderr",
     "output_type": "stream",
     "text": [
      "/Users/lauramos/anaconda3/lib/python3.11/site-packages/keras/src/layers/core/dense.py:86: UserWarning: Do not pass an `input_shape`/`input_dim` argument to a layer. When using Sequential models, prefer using an `Input(shape)` object as the first layer in the model instead.\n",
      "  super().__init__(activity_regularizer=activity_regularizer, **kwargs)\n"
     ]
    },
    {
     "name": "stdout",
     "output_type": "stream",
     "text": [
      "\u001b[1m1/1\u001b[0m \u001b[32m━━━━━━━━━━━━━━━━━━━━\u001b[0m\u001b[37m\u001b[0m \u001b[1m0s\u001b[0m 42ms/step\n"
     ]
    },
    {
     "name": "stderr",
     "output_type": "stream",
     "text": [
      "/Users/lauramos/anaconda3/lib/python3.11/site-packages/keras/src/layers/core/dense.py:86: UserWarning: Do not pass an `input_shape`/`input_dim` argument to a layer. When using Sequential models, prefer using an `Input(shape)` object as the first layer in the model instead.\n",
      "  super().__init__(activity_regularizer=activity_regularizer, **kwargs)\n"
     ]
    },
    {
     "name": "stdout",
     "output_type": "stream",
     "text": [
      "\u001b[1m1/1\u001b[0m \u001b[32m━━━━━━━━━━━━━━━━━━━━\u001b[0m\u001b[37m\u001b[0m \u001b[1m0s\u001b[0m 38ms/step\n"
     ]
    },
    {
     "name": "stderr",
     "output_type": "stream",
     "text": [
      "/Users/lauramos/anaconda3/lib/python3.11/site-packages/keras/src/layers/core/dense.py:86: UserWarning: Do not pass an `input_shape`/`input_dim` argument to a layer. When using Sequential models, prefer using an `Input(shape)` object as the first layer in the model instead.\n",
      "  super().__init__(activity_regularizer=activity_regularizer, **kwargs)\n"
     ]
    },
    {
     "name": "stdout",
     "output_type": "stream",
     "text": [
      "\u001b[1m1/1\u001b[0m \u001b[32m━━━━━━━━━━━━━━━━━━━━\u001b[0m\u001b[37m\u001b[0m \u001b[1m0s\u001b[0m 39ms/step\n"
     ]
    },
    {
     "name": "stderr",
     "output_type": "stream",
     "text": [
      "/Users/lauramos/anaconda3/lib/python3.11/site-packages/keras/src/layers/core/dense.py:86: UserWarning: Do not pass an `input_shape`/`input_dim` argument to a layer. When using Sequential models, prefer using an `Input(shape)` object as the first layer in the model instead.\n",
      "  super().__init__(activity_regularizer=activity_regularizer, **kwargs)\n"
     ]
    },
    {
     "name": "stdout",
     "output_type": "stream",
     "text": [
      "\u001b[1m1/1\u001b[0m \u001b[32m━━━━━━━━━━━━━━━━━━━━\u001b[0m\u001b[37m\u001b[0m \u001b[1m0s\u001b[0m 43ms/step\n"
     ]
    },
    {
     "name": "stderr",
     "output_type": "stream",
     "text": [
      "/Users/lauramos/anaconda3/lib/python3.11/site-packages/keras/src/layers/core/dense.py:86: UserWarning: Do not pass an `input_shape`/`input_dim` argument to a layer. When using Sequential models, prefer using an `Input(shape)` object as the first layer in the model instead.\n",
      "  super().__init__(activity_regularizer=activity_regularizer, **kwargs)\n"
     ]
    },
    {
     "name": "stdout",
     "output_type": "stream",
     "text": [
      "\u001b[1m1/1\u001b[0m \u001b[32m━━━━━━━━━━━━━━━━━━━━\u001b[0m\u001b[37m\u001b[0m \u001b[1m0s\u001b[0m 40ms/step\n"
     ]
    },
    {
     "name": "stderr",
     "output_type": "stream",
     "text": [
      "/Users/lauramos/anaconda3/lib/python3.11/site-packages/keras/src/layers/core/dense.py:86: UserWarning: Do not pass an `input_shape`/`input_dim` argument to a layer. When using Sequential models, prefer using an `Input(shape)` object as the first layer in the model instead.\n",
      "  super().__init__(activity_regularizer=activity_regularizer, **kwargs)\n"
     ]
    },
    {
     "name": "stdout",
     "output_type": "stream",
     "text": [
      "\u001b[1m1/1\u001b[0m \u001b[32m━━━━━━━━━━━━━━━━━━━━\u001b[0m\u001b[37m\u001b[0m \u001b[1m0s\u001b[0m 43ms/step\n"
     ]
    },
    {
     "name": "stderr",
     "output_type": "stream",
     "text": [
      "/Users/lauramos/anaconda3/lib/python3.11/site-packages/keras/src/layers/core/dense.py:86: UserWarning: Do not pass an `input_shape`/`input_dim` argument to a layer. When using Sequential models, prefer using an `Input(shape)` object as the first layer in the model instead.\n",
      "  super().__init__(activity_regularizer=activity_regularizer, **kwargs)\n"
     ]
    },
    {
     "name": "stdout",
     "output_type": "stream",
     "text": [
      "\u001b[1m1/1\u001b[0m \u001b[32m━━━━━━━━━━━━━━━━━━━━\u001b[0m\u001b[37m\u001b[0m \u001b[1m0s\u001b[0m 39ms/step\n"
     ]
    },
    {
     "data": {
      "text/html": [
       "<div>\n",
       "<style scoped>\n",
       "    .dataframe tbody tr th:only-of-type {\n",
       "        vertical-align: middle;\n",
       "    }\n",
       "\n",
       "    .dataframe tbody tr th {\n",
       "        vertical-align: top;\n",
       "    }\n",
       "\n",
       "    .dataframe thead th {\n",
       "        text-align: right;\n",
       "    }\n",
       "</style>\n",
       "<table border=\"1\" class=\"dataframe\">\n",
       "  <thead>\n",
       "    <tr style=\"text-align: right;\">\n",
       "      <th></th>\n",
       "      <th>Neurons</th>\n",
       "      <th>Epochs</th>\n",
       "      <th>Precision</th>\n",
       "      <th>Recall</th>\n",
       "      <th>F1-Score</th>\n",
       "      <th>Average Time</th>\n",
       "    </tr>\n",
       "  </thead>\n",
       "  <tbody>\n",
       "    <tr>\n",
       "      <th>6</th>\n",
       "      <td>50</td>\n",
       "      <td>10</td>\n",
       "      <td>0.847912</td>\n",
       "      <td>0.838065</td>\n",
       "      <td>0.836216</td>\n",
       "      <td>1.712431</td>\n",
       "    </tr>\n",
       "    <tr>\n",
       "      <th>7</th>\n",
       "      <td>50</td>\n",
       "      <td>30</td>\n",
       "      <td>0.839365</td>\n",
       "      <td>0.834731</td>\n",
       "      <td>0.833383</td>\n",
       "      <td>2.101617</td>\n",
       "    </tr>\n",
       "    <tr>\n",
       "      <th>5</th>\n",
       "      <td>20</td>\n",
       "      <td>50</td>\n",
       "      <td>0.835641</td>\n",
       "      <td>0.831183</td>\n",
       "      <td>0.830412</td>\n",
       "      <td>3.360874</td>\n",
       "    </tr>\n",
       "    <tr>\n",
       "      <th>4</th>\n",
       "      <td>20</td>\n",
       "      <td>30</td>\n",
       "      <td>0.835421</td>\n",
       "      <td>0.828172</td>\n",
       "      <td>0.826530</td>\n",
       "      <td>2.070739</td>\n",
       "    </tr>\n",
       "    <tr>\n",
       "      <th>1</th>\n",
       "      <td>10</td>\n",
       "      <td>30</td>\n",
       "      <td>0.832365</td>\n",
       "      <td>0.824624</td>\n",
       "      <td>0.822930</td>\n",
       "      <td>1.706691</td>\n",
       "    </tr>\n",
       "    <tr>\n",
       "      <th>8</th>\n",
       "      <td>50</td>\n",
       "      <td>50</td>\n",
       "      <td>0.828682</td>\n",
       "      <td>0.821828</td>\n",
       "      <td>0.820519</td>\n",
       "      <td>2.925104</td>\n",
       "    </tr>\n",
       "    <tr>\n",
       "      <th>2</th>\n",
       "      <td>10</td>\n",
       "      <td>50</td>\n",
       "      <td>0.824398</td>\n",
       "      <td>0.818172</td>\n",
       "      <td>0.817101</td>\n",
       "      <td>2.416097</td>\n",
       "    </tr>\n",
       "    <tr>\n",
       "      <th>3</th>\n",
       "      <td>20</td>\n",
       "      <td>10</td>\n",
       "      <td>0.788216</td>\n",
       "      <td>0.781290</td>\n",
       "      <td>0.778531</td>\n",
       "      <td>1.082019</td>\n",
       "    </tr>\n",
       "    <tr>\n",
       "      <th>0</th>\n",
       "      <td>10</td>\n",
       "      <td>10</td>\n",
       "      <td>0.789534</td>\n",
       "      <td>0.778495</td>\n",
       "      <td>0.776016</td>\n",
       "      <td>1.068244</td>\n",
       "    </tr>\n",
       "  </tbody>\n",
       "</table>\n",
       "</div>"
      ],
      "text/plain": [
       "   Neurons  Epochs  Precision    Recall  F1-Score  Average Time\n",
       "6       50      10   0.847912  0.838065  0.836216      1.712431\n",
       "7       50      30   0.839365  0.834731  0.833383      2.101617\n",
       "5       20      50   0.835641  0.831183  0.830412      3.360874\n",
       "4       20      30   0.835421  0.828172  0.826530      2.070739\n",
       "1       10      30   0.832365  0.824624  0.822930      1.706691\n",
       "8       50      50   0.828682  0.821828  0.820519      2.925104\n",
       "2       10      50   0.824398  0.818172  0.817101      2.416097\n",
       "3       20      10   0.788216  0.781290  0.778531      1.082019\n",
       "0       10      10   0.789534  0.778495  0.776016      1.068244"
      ]
     },
     "execution_count": 147,
     "metadata": {},
     "output_type": "execute_result"
    }
   ],
   "source": [
    "from tensorflow.keras.models import Sequential\n",
    "from tensorflow.keras.layers import Dense\n",
    "from sklearn.model_selection import StratifiedKFold\n",
    "from sklearn.metrics import precision_recall_fscore_support\n",
    "from tensorflow.keras.utils import to_categorical\n",
    "import time\n",
    "\n",
    "\n",
    "def create_softmax_model(num_neurons, input_shape):\n",
    "    model = Sequential([\n",
    "        Dense(num_neurons, activation='relu', input_shape=(input_shape,)),\n",
    "        Dense(2, activation='softmax')  # Two output neurons for softmax\n",
    "    ])\n",
    "    model.compile(optimizer='adam', loss='categorical_crossentropy', metrics=['accuracy'])\n",
    "    return model\n",
    "\n",
    "def evaluate_softmax_network(X, y, neurons_list, epochs_list, n_splits=10):\n",
    "    skf = StratifiedKFold(n_splits=n_splits, shuffle=True, random_state=42)\n",
    "    results = []\n",
    "    y_cat = to_categorical(y)  # Convert labels to categorical\n",
    "\n",
    "    for neurons in neurons_list:\n",
    "        for epochs in epochs_list:\n",
    "            result_dict = {'neurons': neurons, 'epochs': epochs, 'precision': [], 'recall': [], 'f1_score': [], 'time': []}\n",
    "            for train_index, test_index in skf.split(X, y):\n",
    "                X_train, X_test = X[train_index], X[test_index]\n",
    "                y_train, y_test = y_cat[train_index], y_cat[test_index]\n",
    "\n",
    "                model = create_softmax_model(neurons, X_train.shape[1])\n",
    "                start_time = time.time()\n",
    "                model.fit(X_train, y_train, epochs=epochs, batch_size=10, verbose=0)\n",
    "                training_time = time.time() - start_time\n",
    "\n",
    "                y_pred = model.predict(X_test)\n",
    "                y_pred = np.argmax(y_pred, axis=1)\n",
    "\n",
    "                precision, recall, f1, _ = precision_recall_fscore_support(np.argmax(y_test, axis=1), y_pred, average='weighted')\n",
    "                result_dict['precision'].append(precision)\n",
    "                result_dict['recall'].append(recall)\n",
    "                result_dict['f1_score'].append(f1)\n",
    "                result_dict['time'].append(training_time)\n",
    "\n",
    "            results.append({\n",
    "                'Neurons': neurons,\n",
    "                'Epochs': epochs,\n",
    "                'Precision': np.mean(result_dict['precision']),\n",
    "                'Recall': np.mean(result_dict['recall']),\n",
    "                'F1-Score': np.mean(result_dict['f1_score']),\n",
    "                'Average Time': np.mean(result_dict['time'])\n",
    "            })\n",
    "\n",
    "    \n",
    "    results_df = pd.DataFrame(results)\n",
    "    results_df_sorted = results_df.sort_values(by='F1-Score', ascending=False)\n",
    "    return results_df_sorted\n",
    "\n",
    "\n",
    "neurons_list = [10, 20, 50]\n",
    "epochs_list = [10, 30, 50]\n",
    "\n",
    "results_df = evaluate_softmax_network(X, y, neurons_list, epochs_list)\n",
    "results_df\n"
   ]
  },
  {
   "cell_type": "markdown",
   "id": "bfb399af-92de-42cf-b826-c0de2efb09aa",
   "metadata": {
    "tags": []
   },
   "source": [
    "### 3.5 Modelo Support Vector Machine"
   ]
  },
  {
   "cell_type": "code",
   "execution_count": 202,
   "id": "c801f225-ee38-4f81-b883-f7b6401bb9c5",
   "metadata": {
    "tags": []
   },
   "outputs": [
    {
     "name": "stderr",
     "output_type": "stream",
     "text": [
      "/Users/lauramos/anaconda3/lib/python3.11/site-packages/sklearn/metrics/_classification.py:1469: UndefinedMetricWarning: Precision and F-score are ill-defined and being set to 0.0 in labels with no predicted samples. Use `zero_division` parameter to control this behavior.\n",
      "  _warn_prf(average, modifier, msg_start, len(result))\n",
      "/Users/lauramos/anaconda3/lib/python3.11/site-packages/sklearn/metrics/_classification.py:1469: UndefinedMetricWarning: Precision and F-score are ill-defined and being set to 0.0 in labels with no predicted samples. Use `zero_division` parameter to control this behavior.\n",
      "  _warn_prf(average, modifier, msg_start, len(result))\n",
      "/Users/lauramos/anaconda3/lib/python3.11/site-packages/sklearn/metrics/_classification.py:1469: UndefinedMetricWarning: Precision and F-score are ill-defined and being set to 0.0 in labels with no predicted samples. Use `zero_division` parameter to control this behavior.\n",
      "  _warn_prf(average, modifier, msg_start, len(result))\n",
      "/Users/lauramos/anaconda3/lib/python3.11/site-packages/sklearn/metrics/_classification.py:1469: UndefinedMetricWarning: Precision and F-score are ill-defined and being set to 0.0 in labels with no predicted samples. Use `zero_division` parameter to control this behavior.\n",
      "  _warn_prf(average, modifier, msg_start, len(result))\n",
      "/Users/lauramos/anaconda3/lib/python3.11/site-packages/sklearn/metrics/_classification.py:1469: UndefinedMetricWarning: Precision and F-score are ill-defined and being set to 0.0 in labels with no predicted samples. Use `zero_division` parameter to control this behavior.\n",
      "  _warn_prf(average, modifier, msg_start, len(result))\n",
      "/Users/lauramos/anaconda3/lib/python3.11/site-packages/sklearn/metrics/_classification.py:1469: UndefinedMetricWarning: Precision and F-score are ill-defined and being set to 0.0 in labels with no predicted samples. Use `zero_division` parameter to control this behavior.\n",
      "  _warn_prf(average, modifier, msg_start, len(result))\n",
      "/Users/lauramos/anaconda3/lib/python3.11/site-packages/sklearn/metrics/_classification.py:1469: UndefinedMetricWarning: Precision and F-score are ill-defined and being set to 0.0 in labels with no predicted samples. Use `zero_division` parameter to control this behavior.\n",
      "  _warn_prf(average, modifier, msg_start, len(result))\n",
      "/Users/lauramos/anaconda3/lib/python3.11/site-packages/sklearn/metrics/_classification.py:1469: UndefinedMetricWarning: Precision and F-score are ill-defined and being set to 0.0 in labels with no predicted samples. Use `zero_division` parameter to control this behavior.\n",
      "  _warn_prf(average, modifier, msg_start, len(result))\n",
      "/Users/lauramos/anaconda3/lib/python3.11/site-packages/sklearn/metrics/_classification.py:1469: UndefinedMetricWarning: Precision and F-score are ill-defined and being set to 0.0 in labels with no predicted samples. Use `zero_division` parameter to control this behavior.\n",
      "  _warn_prf(average, modifier, msg_start, len(result))\n",
      "/Users/lauramos/anaconda3/lib/python3.11/site-packages/sklearn/metrics/_classification.py:1469: UndefinedMetricWarning: Precision and F-score are ill-defined and being set to 0.0 in labels with no predicted samples. Use `zero_division` parameter to control this behavior.\n",
      "  _warn_prf(average, modifier, msg_start, len(result))\n",
      "/Users/lauramos/anaconda3/lib/python3.11/site-packages/sklearn/metrics/_classification.py:1469: UndefinedMetricWarning: Precision and F-score are ill-defined and being set to 0.0 in labels with no predicted samples. Use `zero_division` parameter to control this behavior.\n",
      "  _warn_prf(average, modifier, msg_start, len(result))\n",
      "/Users/lauramos/anaconda3/lib/python3.11/site-packages/sklearn/metrics/_classification.py:1469: UndefinedMetricWarning: Precision and F-score are ill-defined and being set to 0.0 in labels with no predicted samples. Use `zero_division` parameter to control this behavior.\n",
      "  _warn_prf(average, modifier, msg_start, len(result))\n",
      "/Users/lauramos/anaconda3/lib/python3.11/site-packages/sklearn/metrics/_classification.py:1469: UndefinedMetricWarning: Precision and F-score are ill-defined and being set to 0.0 in labels with no predicted samples. Use `zero_division` parameter to control this behavior.\n",
      "  _warn_prf(average, modifier, msg_start, len(result))\n",
      "/Users/lauramos/anaconda3/lib/python3.11/site-packages/sklearn/metrics/_classification.py:1469: UndefinedMetricWarning: Precision and F-score are ill-defined and being set to 0.0 in labels with no predicted samples. Use `zero_division` parameter to control this behavior.\n",
      "  _warn_prf(average, modifier, msg_start, len(result))\n",
      "/Users/lauramos/anaconda3/lib/python3.11/site-packages/sklearn/metrics/_classification.py:1469: UndefinedMetricWarning: Precision and F-score are ill-defined and being set to 0.0 in labels with no predicted samples. Use `zero_division` parameter to control this behavior.\n",
      "  _warn_prf(average, modifier, msg_start, len(result))\n",
      "/Users/lauramos/anaconda3/lib/python3.11/site-packages/sklearn/metrics/_classification.py:1469: UndefinedMetricWarning: Precision and F-score are ill-defined and being set to 0.0 in labels with no predicted samples. Use `zero_division` parameter to control this behavior.\n",
      "  _warn_prf(average, modifier, msg_start, len(result))\n",
      "/Users/lauramos/anaconda3/lib/python3.11/site-packages/sklearn/metrics/_classification.py:1469: UndefinedMetricWarning: Precision and F-score are ill-defined and being set to 0.0 in labels with no predicted samples. Use `zero_division` parameter to control this behavior.\n",
      "  _warn_prf(average, modifier, msg_start, len(result))\n",
      "/Users/lauramos/anaconda3/lib/python3.11/site-packages/sklearn/metrics/_classification.py:1469: UndefinedMetricWarning: Precision and F-score are ill-defined and being set to 0.0 in labels with no predicted samples. Use `zero_division` parameter to control this behavior.\n",
      "  _warn_prf(average, modifier, msg_start, len(result))\n",
      "/Users/lauramos/anaconda3/lib/python3.11/site-packages/sklearn/metrics/_classification.py:1469: UndefinedMetricWarning: Precision and F-score are ill-defined and being set to 0.0 in labels with no predicted samples. Use `zero_division` parameter to control this behavior.\n",
      "  _warn_prf(average, modifier, msg_start, len(result))\n",
      "/Users/lauramos/anaconda3/lib/python3.11/site-packages/sklearn/metrics/_classification.py:1469: UndefinedMetricWarning: Precision and F-score are ill-defined and being set to 0.0 in labels with no predicted samples. Use `zero_division` parameter to control this behavior.\n",
      "  _warn_prf(average, modifier, msg_start, len(result))\n",
      "/Users/lauramos/anaconda3/lib/python3.11/site-packages/sklearn/metrics/_classification.py:1469: UndefinedMetricWarning: Precision and F-score are ill-defined and being set to 0.0 in labels with no predicted samples. Use `zero_division` parameter to control this behavior.\n",
      "  _warn_prf(average, modifier, msg_start, len(result))\n",
      "/Users/lauramos/anaconda3/lib/python3.11/site-packages/sklearn/metrics/_classification.py:1469: UndefinedMetricWarning: Precision and F-score are ill-defined and being set to 0.0 in labels with no predicted samples. Use `zero_division` parameter to control this behavior.\n",
      "  _warn_prf(average, modifier, msg_start, len(result))\n",
      "/Users/lauramos/anaconda3/lib/python3.11/site-packages/sklearn/metrics/_classification.py:1469: UndefinedMetricWarning: Precision and F-score are ill-defined and being set to 0.0 in labels with no predicted samples. Use `zero_division` parameter to control this behavior.\n",
      "  _warn_prf(average, modifier, msg_start, len(result))\n",
      "/Users/lauramos/anaconda3/lib/python3.11/site-packages/sklearn/metrics/_classification.py:1469: UndefinedMetricWarning: Precision and F-score are ill-defined and being set to 0.0 in labels with no predicted samples. Use `zero_division` parameter to control this behavior.\n",
      "  _warn_prf(average, modifier, msg_start, len(result))\n",
      "/Users/lauramos/anaconda3/lib/python3.11/site-packages/sklearn/metrics/_classification.py:1469: UndefinedMetricWarning: Precision and F-score are ill-defined and being set to 0.0 in labels with no predicted samples. Use `zero_division` parameter to control this behavior.\n",
      "  _warn_prf(average, modifier, msg_start, len(result))\n",
      "/Users/lauramos/anaconda3/lib/python3.11/site-packages/sklearn/metrics/_classification.py:1469: UndefinedMetricWarning: Precision and F-score are ill-defined and being set to 0.0 in labels with no predicted samples. Use `zero_division` parameter to control this behavior.\n",
      "  _warn_prf(average, modifier, msg_start, len(result))\n",
      "/Users/lauramos/anaconda3/lib/python3.11/site-packages/sklearn/metrics/_classification.py:1469: UndefinedMetricWarning: Precision and F-score are ill-defined and being set to 0.0 in labels with no predicted samples. Use `zero_division` parameter to control this behavior.\n",
      "  _warn_prf(average, modifier, msg_start, len(result))\n",
      "/Users/lauramos/anaconda3/lib/python3.11/site-packages/sklearn/metrics/_classification.py:1469: UndefinedMetricWarning: Precision and F-score are ill-defined and being set to 0.0 in labels with no predicted samples. Use `zero_division` parameter to control this behavior.\n",
      "  _warn_prf(average, modifier, msg_start, len(result))\n",
      "/Users/lauramos/anaconda3/lib/python3.11/site-packages/sklearn/metrics/_classification.py:1469: UndefinedMetricWarning: Precision and F-score are ill-defined and being set to 0.0 in labels with no predicted samples. Use `zero_division` parameter to control this behavior.\n",
      "  _warn_prf(average, modifier, msg_start, len(result))\n",
      "/Users/lauramos/anaconda3/lib/python3.11/site-packages/sklearn/metrics/_classification.py:1469: UndefinedMetricWarning: Precision and F-score are ill-defined and being set to 0.0 in labels with no predicted samples. Use `zero_division` parameter to control this behavior.\n",
      "  _warn_prf(average, modifier, msg_start, len(result))\n",
      "/Users/lauramos/anaconda3/lib/python3.11/site-packages/sklearn/metrics/_classification.py:1469: UndefinedMetricWarning: Precision and F-score are ill-defined and being set to 0.0 in labels with no predicted samples. Use `zero_division` parameter to control this behavior.\n",
      "  _warn_prf(average, modifier, msg_start, len(result))\n",
      "/Users/lauramos/anaconda3/lib/python3.11/site-packages/sklearn/metrics/_classification.py:1469: UndefinedMetricWarning: Precision and F-score are ill-defined and being set to 0.0 in labels with no predicted samples. Use `zero_division` parameter to control this behavior.\n",
      "  _warn_prf(average, modifier, msg_start, len(result))\n",
      "/Users/lauramos/anaconda3/lib/python3.11/site-packages/sklearn/metrics/_classification.py:1469: UndefinedMetricWarning: Precision and F-score are ill-defined and being set to 0.0 in labels with no predicted samples. Use `zero_division` parameter to control this behavior.\n",
      "  _warn_prf(average, modifier, msg_start, len(result))\n",
      "/Users/lauramos/anaconda3/lib/python3.11/site-packages/sklearn/metrics/_classification.py:1469: UndefinedMetricWarning: Precision and F-score are ill-defined and being set to 0.0 in labels with no predicted samples. Use `zero_division` parameter to control this behavior.\n",
      "  _warn_prf(average, modifier, msg_start, len(result))\n",
      "/Users/lauramos/anaconda3/lib/python3.11/site-packages/sklearn/metrics/_classification.py:1469: UndefinedMetricWarning: Precision and F-score are ill-defined and being set to 0.0 in labels with no predicted samples. Use `zero_division` parameter to control this behavior.\n",
      "  _warn_prf(average, modifier, msg_start, len(result))\n",
      "/Users/lauramos/anaconda3/lib/python3.11/site-packages/sklearn/metrics/_classification.py:1469: UndefinedMetricWarning: Precision and F-score are ill-defined and being set to 0.0 in labels with no predicted samples. Use `zero_division` parameter to control this behavior.\n",
      "  _warn_prf(average, modifier, msg_start, len(result))\n",
      "/Users/lauramos/anaconda3/lib/python3.11/site-packages/sklearn/metrics/_classification.py:1469: UndefinedMetricWarning: Precision and F-score are ill-defined and being set to 0.0 in labels with no predicted samples. Use `zero_division` parameter to control this behavior.\n",
      "  _warn_prf(average, modifier, msg_start, len(result))\n",
      "/Users/lauramos/anaconda3/lib/python3.11/site-packages/sklearn/metrics/_classification.py:1469: UndefinedMetricWarning: Precision and F-score are ill-defined and being set to 0.0 in labels with no predicted samples. Use `zero_division` parameter to control this behavior.\n",
      "  _warn_prf(average, modifier, msg_start, len(result))\n",
      "/Users/lauramos/anaconda3/lib/python3.11/site-packages/sklearn/metrics/_classification.py:1469: UndefinedMetricWarning: Precision and F-score are ill-defined and being set to 0.0 in labels with no predicted samples. Use `zero_division` parameter to control this behavior.\n",
      "  _warn_prf(average, modifier, msg_start, len(result))\n",
      "/Users/lauramos/anaconda3/lib/python3.11/site-packages/sklearn/metrics/_classification.py:1469: UndefinedMetricWarning: Precision and F-score are ill-defined and being set to 0.0 in labels with no predicted samples. Use `zero_division` parameter to control this behavior.\n",
      "  _warn_prf(average, modifier, msg_start, len(result))\n",
      "/Users/lauramos/anaconda3/lib/python3.11/site-packages/sklearn/metrics/_classification.py:1469: UndefinedMetricWarning: Precision and F-score are ill-defined and being set to 0.0 in labels with no predicted samples. Use `zero_division` parameter to control this behavior.\n",
      "  _warn_prf(average, modifier, msg_start, len(result))\n",
      "/Users/lauramos/anaconda3/lib/python3.11/site-packages/sklearn/metrics/_classification.py:1469: UndefinedMetricWarning: Precision and F-score are ill-defined and being set to 0.0 in labels with no predicted samples. Use `zero_division` parameter to control this behavior.\n",
      "  _warn_prf(average, modifier, msg_start, len(result))\n",
      "/Users/lauramos/anaconda3/lib/python3.11/site-packages/sklearn/metrics/_classification.py:1469: UndefinedMetricWarning: Precision and F-score are ill-defined and being set to 0.0 in labels with no predicted samples. Use `zero_division` parameter to control this behavior.\n",
      "  _warn_prf(average, modifier, msg_start, len(result))\n",
      "/Users/lauramos/anaconda3/lib/python3.11/site-packages/sklearn/metrics/_classification.py:1469: UndefinedMetricWarning: Precision and F-score are ill-defined and being set to 0.0 in labels with no predicted samples. Use `zero_division` parameter to control this behavior.\n",
      "  _warn_prf(average, modifier, msg_start, len(result))\n",
      "/Users/lauramos/anaconda3/lib/python3.11/site-packages/sklearn/metrics/_classification.py:1469: UndefinedMetricWarning: Precision and F-score are ill-defined and being set to 0.0 in labels with no predicted samples. Use `zero_division` parameter to control this behavior.\n",
      "  _warn_prf(average, modifier, msg_start, len(result))\n",
      "/Users/lauramos/anaconda3/lib/python3.11/site-packages/sklearn/metrics/_classification.py:1469: UndefinedMetricWarning: Precision and F-score are ill-defined and being set to 0.0 in labels with no predicted samples. Use `zero_division` parameter to control this behavior.\n",
      "  _warn_prf(average, modifier, msg_start, len(result))\n",
      "/Users/lauramos/anaconda3/lib/python3.11/site-packages/sklearn/metrics/_classification.py:1469: UndefinedMetricWarning: Precision and F-score are ill-defined and being set to 0.0 in labels with no predicted samples. Use `zero_division` parameter to control this behavior.\n",
      "  _warn_prf(average, modifier, msg_start, len(result))\n",
      "/Users/lauramos/anaconda3/lib/python3.11/site-packages/sklearn/metrics/_classification.py:1469: UndefinedMetricWarning: Precision and F-score are ill-defined and being set to 0.0 in labels with no predicted samples. Use `zero_division` parameter to control this behavior.\n",
      "  _warn_prf(average, modifier, msg_start, len(result))\n",
      "/Users/lauramos/anaconda3/lib/python3.11/site-packages/sklearn/metrics/_classification.py:1469: UndefinedMetricWarning: Precision and F-score are ill-defined and being set to 0.0 in labels with no predicted samples. Use `zero_division` parameter to control this behavior.\n",
      "  _warn_prf(average, modifier, msg_start, len(result))\n",
      "/Users/lauramos/anaconda3/lib/python3.11/site-packages/sklearn/metrics/_classification.py:1469: UndefinedMetricWarning: Precision and F-score are ill-defined and being set to 0.0 in labels with no predicted samples. Use `zero_division` parameter to control this behavior.\n",
      "  _warn_prf(average, modifier, msg_start, len(result))\n",
      "/Users/lauramos/anaconda3/lib/python3.11/site-packages/sklearn/metrics/_classification.py:1469: UndefinedMetricWarning: Precision and F-score are ill-defined and being set to 0.0 in labels with no predicted samples. Use `zero_division` parameter to control this behavior.\n",
      "  _warn_prf(average, modifier, msg_start, len(result))\n",
      "/Users/lauramos/anaconda3/lib/python3.11/site-packages/sklearn/metrics/_classification.py:1469: UndefinedMetricWarning: Precision and F-score are ill-defined and being set to 0.0 in labels with no predicted samples. Use `zero_division` parameter to control this behavior.\n",
      "  _warn_prf(average, modifier, msg_start, len(result))\n",
      "/Users/lauramos/anaconda3/lib/python3.11/site-packages/sklearn/metrics/_classification.py:1469: UndefinedMetricWarning: Precision and F-score are ill-defined and being set to 0.0 in labels with no predicted samples. Use `zero_division` parameter to control this behavior.\n",
      "  _warn_prf(average, modifier, msg_start, len(result))\n",
      "/Users/lauramos/anaconda3/lib/python3.11/site-packages/sklearn/metrics/_classification.py:1469: UndefinedMetricWarning: Precision and F-score are ill-defined and being set to 0.0 in labels with no predicted samples. Use `zero_division` parameter to control this behavior.\n",
      "  _warn_prf(average, modifier, msg_start, len(result))\n",
      "/Users/lauramos/anaconda3/lib/python3.11/site-packages/sklearn/metrics/_classification.py:1469: UndefinedMetricWarning: Precision and F-score are ill-defined and being set to 0.0 in labels with no predicted samples. Use `zero_division` parameter to control this behavior.\n",
      "  _warn_prf(average, modifier, msg_start, len(result))\n",
      "/Users/lauramos/anaconda3/lib/python3.11/site-packages/sklearn/metrics/_classification.py:1469: UndefinedMetricWarning: Precision and F-score are ill-defined and being set to 0.0 in labels with no predicted samples. Use `zero_division` parameter to control this behavior.\n",
      "  _warn_prf(average, modifier, msg_start, len(result))\n",
      "/Users/lauramos/anaconda3/lib/python3.11/site-packages/sklearn/metrics/_classification.py:1469: UndefinedMetricWarning: Precision and F-score are ill-defined and being set to 0.0 in labels with no predicted samples. Use `zero_division` parameter to control this behavior.\n",
      "  _warn_prf(average, modifier, msg_start, len(result))\n",
      "/Users/lauramos/anaconda3/lib/python3.11/site-packages/sklearn/metrics/_classification.py:1469: UndefinedMetricWarning: Precision and F-score are ill-defined and being set to 0.0 in labels with no predicted samples. Use `zero_division` parameter to control this behavior.\n",
      "  _warn_prf(average, modifier, msg_start, len(result))\n",
      "/Users/lauramos/anaconda3/lib/python3.11/site-packages/sklearn/metrics/_classification.py:1469: UndefinedMetricWarning: Precision and F-score are ill-defined and being set to 0.0 in labels with no predicted samples. Use `zero_division` parameter to control this behavior.\n",
      "  _warn_prf(average, modifier, msg_start, len(result))\n",
      "/Users/lauramos/anaconda3/lib/python3.11/site-packages/sklearn/metrics/_classification.py:1469: UndefinedMetricWarning: Precision and F-score are ill-defined and being set to 0.0 in labels with no predicted samples. Use `zero_division` parameter to control this behavior.\n",
      "  _warn_prf(average, modifier, msg_start, len(result))\n",
      "/Users/lauramos/anaconda3/lib/python3.11/site-packages/sklearn/metrics/_classification.py:1469: UndefinedMetricWarning: Precision and F-score are ill-defined and being set to 0.0 in labels with no predicted samples. Use `zero_division` parameter to control this behavior.\n",
      "  _warn_prf(average, modifier, msg_start, len(result))\n",
      "/Users/lauramos/anaconda3/lib/python3.11/site-packages/sklearn/metrics/_classification.py:1469: UndefinedMetricWarning: Precision and F-score are ill-defined and being set to 0.0 in labels with no predicted samples. Use `zero_division` parameter to control this behavior.\n",
      "  _warn_prf(average, modifier, msg_start, len(result))\n",
      "/Users/lauramos/anaconda3/lib/python3.11/site-packages/sklearn/metrics/_classification.py:1469: UndefinedMetricWarning: Precision and F-score are ill-defined and being set to 0.0 in labels with no predicted samples. Use `zero_division` parameter to control this behavior.\n",
      "  _warn_prf(average, modifier, msg_start, len(result))\n",
      "/Users/lauramos/anaconda3/lib/python3.11/site-packages/sklearn/metrics/_classification.py:1469: UndefinedMetricWarning: Precision and F-score are ill-defined and being set to 0.0 in labels with no predicted samples. Use `zero_division` parameter to control this behavior.\n",
      "  _warn_prf(average, modifier, msg_start, len(result))\n",
      "/Users/lauramos/anaconda3/lib/python3.11/site-packages/sklearn/metrics/_classification.py:1469: UndefinedMetricWarning: Precision and F-score are ill-defined and being set to 0.0 in labels with no predicted samples. Use `zero_division` parameter to control this behavior.\n",
      "  _warn_prf(average, modifier, msg_start, len(result))\n",
      "/Users/lauramos/anaconda3/lib/python3.11/site-packages/sklearn/metrics/_classification.py:1469: UndefinedMetricWarning: Precision and F-score are ill-defined and being set to 0.0 in labels with no predicted samples. Use `zero_division` parameter to control this behavior.\n",
      "  _warn_prf(average, modifier, msg_start, len(result))\n",
      "/Users/lauramos/anaconda3/lib/python3.11/site-packages/sklearn/metrics/_classification.py:1469: UndefinedMetricWarning: Precision and F-score are ill-defined and being set to 0.0 in labels with no predicted samples. Use `zero_division` parameter to control this behavior.\n",
      "  _warn_prf(average, modifier, msg_start, len(result))\n",
      "/Users/lauramos/anaconda3/lib/python3.11/site-packages/sklearn/metrics/_classification.py:1469: UndefinedMetricWarning: Precision and F-score are ill-defined and being set to 0.0 in labels with no predicted samples. Use `zero_division` parameter to control this behavior.\n",
      "  _warn_prf(average, modifier, msg_start, len(result))\n",
      "/Users/lauramos/anaconda3/lib/python3.11/site-packages/sklearn/metrics/_classification.py:1469: UndefinedMetricWarning: Precision and F-score are ill-defined and being set to 0.0 in labels with no predicted samples. Use `zero_division` parameter to control this behavior.\n",
      "  _warn_prf(average, modifier, msg_start, len(result))\n",
      "/Users/lauramos/anaconda3/lib/python3.11/site-packages/sklearn/metrics/_classification.py:1469: UndefinedMetricWarning: Precision and F-score are ill-defined and being set to 0.0 in labels with no predicted samples. Use `zero_division` parameter to control this behavior.\n",
      "  _warn_prf(average, modifier, msg_start, len(result))\n",
      "/Users/lauramos/anaconda3/lib/python3.11/site-packages/sklearn/metrics/_classification.py:1469: UndefinedMetricWarning: Precision and F-score are ill-defined and being set to 0.0 in labels with no predicted samples. Use `zero_division` parameter to control this behavior.\n",
      "  _warn_prf(average, modifier, msg_start, len(result))\n",
      "/Users/lauramos/anaconda3/lib/python3.11/site-packages/sklearn/metrics/_classification.py:1469: UndefinedMetricWarning: Precision and F-score are ill-defined and being set to 0.0 in labels with no predicted samples. Use `zero_division` parameter to control this behavior.\n",
      "  _warn_prf(average, modifier, msg_start, len(result))\n",
      "/Users/lauramos/anaconda3/lib/python3.11/site-packages/sklearn/metrics/_classification.py:1469: UndefinedMetricWarning: Precision and F-score are ill-defined and being set to 0.0 in labels with no predicted samples. Use `zero_division` parameter to control this behavior.\n",
      "  _warn_prf(average, modifier, msg_start, len(result))\n",
      "/Users/lauramos/anaconda3/lib/python3.11/site-packages/sklearn/metrics/_classification.py:1469: UndefinedMetricWarning: Precision and F-score are ill-defined and being set to 0.0 in labels with no predicted samples. Use `zero_division` parameter to control this behavior.\n",
      "  _warn_prf(average, modifier, msg_start, len(result))\n",
      "/Users/lauramos/anaconda3/lib/python3.11/site-packages/sklearn/metrics/_classification.py:1469: UndefinedMetricWarning: Precision and F-score are ill-defined and being set to 0.0 in labels with no predicted samples. Use `zero_division` parameter to control this behavior.\n",
      "  _warn_prf(average, modifier, msg_start, len(result))\n",
      "/Users/lauramos/anaconda3/lib/python3.11/site-packages/sklearn/metrics/_classification.py:1469: UndefinedMetricWarning: Precision and F-score are ill-defined and being set to 0.0 in labels with no predicted samples. Use `zero_division` parameter to control this behavior.\n",
      "  _warn_prf(average, modifier, msg_start, len(result))\n",
      "/Users/lauramos/anaconda3/lib/python3.11/site-packages/sklearn/metrics/_classification.py:1469: UndefinedMetricWarning: Precision and F-score are ill-defined and being set to 0.0 in labels with no predicted samples. Use `zero_division` parameter to control this behavior.\n",
      "  _warn_prf(average, modifier, msg_start, len(result))\n",
      "/Users/lauramos/anaconda3/lib/python3.11/site-packages/sklearn/metrics/_classification.py:1469: UndefinedMetricWarning: Precision and F-score are ill-defined and being set to 0.0 in labels with no predicted samples. Use `zero_division` parameter to control this behavior.\n",
      "  _warn_prf(average, modifier, msg_start, len(result))\n",
      "/Users/lauramos/anaconda3/lib/python3.11/site-packages/sklearn/metrics/_classification.py:1469: UndefinedMetricWarning: Precision and F-score are ill-defined and being set to 0.0 in labels with no predicted samples. Use `zero_division` parameter to control this behavior.\n",
      "  _warn_prf(average, modifier, msg_start, len(result))\n",
      "/Users/lauramos/anaconda3/lib/python3.11/site-packages/sklearn/metrics/_classification.py:1469: UndefinedMetricWarning: Precision and F-score are ill-defined and being set to 0.0 in labels with no predicted samples. Use `zero_division` parameter to control this behavior.\n",
      "  _warn_prf(average, modifier, msg_start, len(result))\n",
      "/Users/lauramos/anaconda3/lib/python3.11/site-packages/sklearn/metrics/_classification.py:1469: UndefinedMetricWarning: Precision and F-score are ill-defined and being set to 0.0 in labels with no predicted samples. Use `zero_division` parameter to control this behavior.\n",
      "  _warn_prf(average, modifier, msg_start, len(result))\n",
      "/Users/lauramos/anaconda3/lib/python3.11/site-packages/sklearn/metrics/_classification.py:1469: UndefinedMetricWarning: Precision and F-score are ill-defined and being set to 0.0 in labels with no predicted samples. Use `zero_division` parameter to control this behavior.\n",
      "  _warn_prf(average, modifier, msg_start, len(result))\n",
      "/Users/lauramos/anaconda3/lib/python3.11/site-packages/sklearn/metrics/_classification.py:1469: UndefinedMetricWarning: Precision and F-score are ill-defined and being set to 0.0 in labels with no predicted samples. Use `zero_division` parameter to control this behavior.\n",
      "  _warn_prf(average, modifier, msg_start, len(result))\n",
      "/Users/lauramos/anaconda3/lib/python3.11/site-packages/sklearn/metrics/_classification.py:1469: UndefinedMetricWarning: Precision and F-score are ill-defined and being set to 0.0 in labels with no predicted samples. Use `zero_division` parameter to control this behavior.\n",
      "  _warn_prf(average, modifier, msg_start, len(result))\n",
      "/Users/lauramos/anaconda3/lib/python3.11/site-packages/sklearn/metrics/_classification.py:1469: UndefinedMetricWarning: Precision and F-score are ill-defined and being set to 0.0 in labels with no predicted samples. Use `zero_division` parameter to control this behavior.\n",
      "  _warn_prf(average, modifier, msg_start, len(result))\n",
      "/Users/lauramos/anaconda3/lib/python3.11/site-packages/sklearn/metrics/_classification.py:1469: UndefinedMetricWarning: Precision and F-score are ill-defined and being set to 0.0 in labels with no predicted samples. Use `zero_division` parameter to control this behavior.\n",
      "  _warn_prf(average, modifier, msg_start, len(result))\n",
      "/Users/lauramos/anaconda3/lib/python3.11/site-packages/sklearn/metrics/_classification.py:1469: UndefinedMetricWarning: Precision and F-score are ill-defined and being set to 0.0 in labels with no predicted samples. Use `zero_division` parameter to control this behavior.\n",
      "  _warn_prf(average, modifier, msg_start, len(result))\n",
      "/Users/lauramos/anaconda3/lib/python3.11/site-packages/sklearn/metrics/_classification.py:1469: UndefinedMetricWarning: Precision and F-score are ill-defined and being set to 0.0 in labels with no predicted samples. Use `zero_division` parameter to control this behavior.\n",
      "  _warn_prf(average, modifier, msg_start, len(result))\n",
      "/Users/lauramos/anaconda3/lib/python3.11/site-packages/sklearn/metrics/_classification.py:1469: UndefinedMetricWarning: Precision and F-score are ill-defined and being set to 0.0 in labels with no predicted samples. Use `zero_division` parameter to control this behavior.\n",
      "  _warn_prf(average, modifier, msg_start, len(result))\n",
      "/Users/lauramos/anaconda3/lib/python3.11/site-packages/sklearn/metrics/_classification.py:1469: UndefinedMetricWarning: Precision and F-score are ill-defined and being set to 0.0 in labels with no predicted samples. Use `zero_division` parameter to control this behavior.\n",
      "  _warn_prf(average, modifier, msg_start, len(result))\n"
     ]
    },
    {
     "data": {
      "text/html": [
       "<div>\n",
       "<style scoped>\n",
       "    .dataframe tbody tr th:only-of-type {\n",
       "        vertical-align: middle;\n",
       "    }\n",
       "\n",
       "    .dataframe tbody tr th {\n",
       "        vertical-align: top;\n",
       "    }\n",
       "\n",
       "    .dataframe thead th {\n",
       "        text-align: right;\n",
       "    }\n",
       "</style>\n",
       "<table border=\"1\" class=\"dataframe\">\n",
       "  <thead>\n",
       "    <tr style=\"text-align: right;\">\n",
       "      <th></th>\n",
       "      <th>Modelo</th>\n",
       "      <th>Precisión</th>\n",
       "      <th>Recall</th>\n",
       "      <th>F1-score</th>\n",
       "      <th>Tiempo de ejecución</th>\n",
       "    </tr>\n",
       "  </thead>\n",
       "  <tbody>\n",
       "    <tr>\n",
       "      <th>21</th>\n",
       "      <td>SVM_C=300_gamma=0.001</td>\n",
       "      <td>0.855171</td>\n",
       "      <td>0.841613</td>\n",
       "      <td>0.838212</td>\n",
       "      <td>0.003508</td>\n",
       "    </tr>\n",
       "    <tr>\n",
       "      <th>6</th>\n",
       "      <td>SVM_C=1_gamma=0.01</td>\n",
       "      <td>0.854675</td>\n",
       "      <td>0.838495</td>\n",
       "      <td>0.834368</td>\n",
       "      <td>0.003104</td>\n",
       "    </tr>\n",
       "    <tr>\n",
       "      <th>24</th>\n",
       "      <td>SVM_C=900_gamma=0.0001</td>\n",
       "      <td>0.850092</td>\n",
       "      <td>0.835054</td>\n",
       "      <td>0.831500</td>\n",
       "      <td>0.003014</td>\n",
       "    </tr>\n",
       "    <tr>\n",
       "      <th>28</th>\n",
       "      <td>SVM_C=1000_gamma=0.0001</td>\n",
       "      <td>0.850092</td>\n",
       "      <td>0.835054</td>\n",
       "      <td>0.831500</td>\n",
       "      <td>0.012895</td>\n",
       "    </tr>\n",
       "    <tr>\n",
       "      <th>13</th>\n",
       "      <td>SVM_C=100_gamma=0.001</td>\n",
       "      <td>0.850092</td>\n",
       "      <td>0.835054</td>\n",
       "      <td>0.831500</td>\n",
       "      <td>0.003027</td>\n",
       "    </tr>\n",
       "    <tr>\n",
       "      <th>17</th>\n",
       "      <td>SVM_C=200_gamma=0.001</td>\n",
       "      <td>0.850546</td>\n",
       "      <td>0.835054</td>\n",
       "      <td>0.831184</td>\n",
       "      <td>0.003378</td>\n",
       "    </tr>\n",
       "    <tr>\n",
       "      <th>9</th>\n",
       "      <td>SVM_C=10_gamma=0.001</td>\n",
       "      <td>0.850751</td>\n",
       "      <td>0.835161</td>\n",
       "      <td>0.831031</td>\n",
       "      <td>0.003058</td>\n",
       "    </tr>\n",
       "    <tr>\n",
       "      <th>20</th>\n",
       "      <td>SVM_C=300_gamma=0.0001</td>\n",
       "      <td>0.852687</td>\n",
       "      <td>0.835161</td>\n",
       "      <td>0.830851</td>\n",
       "      <td>0.003185</td>\n",
       "    </tr>\n",
       "    <tr>\n",
       "      <th>12</th>\n",
       "      <td>SVM_C=100_gamma=0.0001</td>\n",
       "      <td>0.848350</td>\n",
       "      <td>0.831935</td>\n",
       "      <td>0.827393</td>\n",
       "      <td>0.003192</td>\n",
       "    </tr>\n",
       "    <tr>\n",
       "      <th>16</th>\n",
       "      <td>SVM_C=200_gamma=0.0001</td>\n",
       "      <td>0.845608</td>\n",
       "      <td>0.828602</td>\n",
       "      <td>0.824093</td>\n",
       "      <td>0.003143</td>\n",
       "    </tr>\n",
       "    <tr>\n",
       "      <th>3</th>\n",
       "      <td>SVM_C=0.1_gamma=0.1</td>\n",
       "      <td>0.848545</td>\n",
       "      <td>0.828602</td>\n",
       "      <td>0.823641</td>\n",
       "      <td>0.004284</td>\n",
       "    </tr>\n",
       "    <tr>\n",
       "      <th>10</th>\n",
       "      <td>SVM_C=10_gamma=0.01</td>\n",
       "      <td>0.833152</td>\n",
       "      <td>0.818602</td>\n",
       "      <td>0.814617</td>\n",
       "      <td>0.002974</td>\n",
       "    </tr>\n",
       "    <tr>\n",
       "      <th>7</th>\n",
       "      <td>SVM_C=1_gamma=0.1</td>\n",
       "      <td>0.825557</td>\n",
       "      <td>0.815054</td>\n",
       "      <td>0.812939</td>\n",
       "      <td>0.003480</td>\n",
       "    </tr>\n",
       "    <tr>\n",
       "      <th>25</th>\n",
       "      <td>SVM_C=900_gamma=0.001</td>\n",
       "      <td>0.830629</td>\n",
       "      <td>0.815269</td>\n",
       "      <td>0.811228</td>\n",
       "      <td>0.005094</td>\n",
       "    </tr>\n",
       "    <tr>\n",
       "      <th>29</th>\n",
       "      <td>SVM_C=1000_gamma=0.001</td>\n",
       "      <td>0.830629</td>\n",
       "      <td>0.815269</td>\n",
       "      <td>0.811228</td>\n",
       "      <td>0.005425</td>\n",
       "    </tr>\n",
       "    <tr>\n",
       "      <th>8</th>\n",
       "      <td>SVM_C=10_gamma=0.0001</td>\n",
       "      <td>0.838874</td>\n",
       "      <td>0.815376</td>\n",
       "      <td>0.808660</td>\n",
       "      <td>0.003916</td>\n",
       "    </tr>\n",
       "    <tr>\n",
       "      <th>5</th>\n",
       "      <td>SVM_C=1_gamma=0.001</td>\n",
       "      <td>0.835540</td>\n",
       "      <td>0.812043</td>\n",
       "      <td>0.805422</td>\n",
       "      <td>0.003953</td>\n",
       "    </tr>\n",
       "    <tr>\n",
       "      <th>2</th>\n",
       "      <td>SVM_C=0.1_gamma=0.01</td>\n",
       "      <td>0.837565</td>\n",
       "      <td>0.812043</td>\n",
       "      <td>0.805155</td>\n",
       "      <td>0.006682</td>\n",
       "    </tr>\n",
       "    <tr>\n",
       "      <th>14</th>\n",
       "      <td>SVM_C=100_gamma=0.01</td>\n",
       "      <td>0.804708</td>\n",
       "      <td>0.798817</td>\n",
       "      <td>0.797854</td>\n",
       "      <td>0.004906</td>\n",
       "    </tr>\n",
       "    <tr>\n",
       "      <th>11</th>\n",
       "      <td>SVM_C=10_gamma=0.1</td>\n",
       "      <td>0.779981</td>\n",
       "      <td>0.772366</td>\n",
       "      <td>0.771003</td>\n",
       "      <td>0.004926</td>\n",
       "    </tr>\n",
       "    <tr>\n",
       "      <th>30</th>\n",
       "      <td>SVM_C=1000_gamma=0.01</td>\n",
       "      <td>0.776614</td>\n",
       "      <td>0.768602</td>\n",
       "      <td>0.767215</td>\n",
       "      <td>0.012103</td>\n",
       "    </tr>\n",
       "    <tr>\n",
       "      <th>26</th>\n",
       "      <td>SVM_C=900_gamma=0.01</td>\n",
       "      <td>0.776593</td>\n",
       "      <td>0.768602</td>\n",
       "      <td>0.766945</td>\n",
       "      <td>0.010811</td>\n",
       "    </tr>\n",
       "    <tr>\n",
       "      <th>22</th>\n",
       "      <td>SVM_C=300_gamma=0.01</td>\n",
       "      <td>0.771315</td>\n",
       "      <td>0.765806</td>\n",
       "      <td>0.764401</td>\n",
       "      <td>0.007365</td>\n",
       "    </tr>\n",
       "    <tr>\n",
       "      <th>18</th>\n",
       "      <td>SVM_C=200_gamma=0.01</td>\n",
       "      <td>0.768806</td>\n",
       "      <td>0.762581</td>\n",
       "      <td>0.760991</td>\n",
       "      <td>0.006110</td>\n",
       "    </tr>\n",
       "    <tr>\n",
       "      <th>27</th>\n",
       "      <td>SVM_C=900_gamma=0.1</td>\n",
       "      <td>0.766104</td>\n",
       "      <td>0.759355</td>\n",
       "      <td>0.758225</td>\n",
       "      <td>0.005231</td>\n",
       "    </tr>\n",
       "    <tr>\n",
       "      <th>31</th>\n",
       "      <td>SVM_C=1000_gamma=0.1</td>\n",
       "      <td>0.766104</td>\n",
       "      <td>0.759355</td>\n",
       "      <td>0.758225</td>\n",
       "      <td>0.005529</td>\n",
       "    </tr>\n",
       "    <tr>\n",
       "      <th>23</th>\n",
       "      <td>SVM_C=300_gamma=0.1</td>\n",
       "      <td>0.766104</td>\n",
       "      <td>0.759355</td>\n",
       "      <td>0.758225</td>\n",
       "      <td>0.005033</td>\n",
       "    </tr>\n",
       "    <tr>\n",
       "      <th>19</th>\n",
       "      <td>SVM_C=200_gamma=0.1</td>\n",
       "      <td>0.766104</td>\n",
       "      <td>0.759355</td>\n",
       "      <td>0.758225</td>\n",
       "      <td>0.005052</td>\n",
       "    </tr>\n",
       "    <tr>\n",
       "      <th>15</th>\n",
       "      <td>SVM_C=100_gamma=0.1</td>\n",
       "      <td>0.766104</td>\n",
       "      <td>0.759355</td>\n",
       "      <td>0.758225</td>\n",
       "      <td>0.005031</td>\n",
       "    </tr>\n",
       "    <tr>\n",
       "      <th>1</th>\n",
       "      <td>SVM_C=0.1_gamma=0.001</td>\n",
       "      <td>0.296663</td>\n",
       "      <td>0.544516</td>\n",
       "      <td>0.384025</td>\n",
       "      <td>0.005428</td>\n",
       "    </tr>\n",
       "    <tr>\n",
       "      <th>4</th>\n",
       "      <td>SVM_C=1_gamma=0.0001</td>\n",
       "      <td>0.296663</td>\n",
       "      <td>0.544516</td>\n",
       "      <td>0.384025</td>\n",
       "      <td>0.004134</td>\n",
       "    </tr>\n",
       "    <tr>\n",
       "      <th>0</th>\n",
       "      <td>SVM_C=0.1_gamma=0.0001</td>\n",
       "      <td>0.296663</td>\n",
       "      <td>0.544516</td>\n",
       "      <td>0.384025</td>\n",
       "      <td>0.006608</td>\n",
       "    </tr>\n",
       "  </tbody>\n",
       "</table>\n",
       "</div>"
      ],
      "text/plain": [
       "                     Modelo  Precisión    Recall  F1-score  \\\n",
       "21    SVM_C=300_gamma=0.001   0.855171  0.841613  0.838212   \n",
       "6        SVM_C=1_gamma=0.01   0.854675  0.838495  0.834368   \n",
       "24   SVM_C=900_gamma=0.0001   0.850092  0.835054  0.831500   \n",
       "28  SVM_C=1000_gamma=0.0001   0.850092  0.835054  0.831500   \n",
       "13    SVM_C=100_gamma=0.001   0.850092  0.835054  0.831500   \n",
       "17    SVM_C=200_gamma=0.001   0.850546  0.835054  0.831184   \n",
       "9      SVM_C=10_gamma=0.001   0.850751  0.835161  0.831031   \n",
       "20   SVM_C=300_gamma=0.0001   0.852687  0.835161  0.830851   \n",
       "12   SVM_C=100_gamma=0.0001   0.848350  0.831935  0.827393   \n",
       "16   SVM_C=200_gamma=0.0001   0.845608  0.828602  0.824093   \n",
       "3       SVM_C=0.1_gamma=0.1   0.848545  0.828602  0.823641   \n",
       "10      SVM_C=10_gamma=0.01   0.833152  0.818602  0.814617   \n",
       "7         SVM_C=1_gamma=0.1   0.825557  0.815054  0.812939   \n",
       "25    SVM_C=900_gamma=0.001   0.830629  0.815269  0.811228   \n",
       "29   SVM_C=1000_gamma=0.001   0.830629  0.815269  0.811228   \n",
       "8     SVM_C=10_gamma=0.0001   0.838874  0.815376  0.808660   \n",
       "5       SVM_C=1_gamma=0.001   0.835540  0.812043  0.805422   \n",
       "2      SVM_C=0.1_gamma=0.01   0.837565  0.812043  0.805155   \n",
       "14     SVM_C=100_gamma=0.01   0.804708  0.798817  0.797854   \n",
       "11       SVM_C=10_gamma=0.1   0.779981  0.772366  0.771003   \n",
       "30    SVM_C=1000_gamma=0.01   0.776614  0.768602  0.767215   \n",
       "26     SVM_C=900_gamma=0.01   0.776593  0.768602  0.766945   \n",
       "22     SVM_C=300_gamma=0.01   0.771315  0.765806  0.764401   \n",
       "18     SVM_C=200_gamma=0.01   0.768806  0.762581  0.760991   \n",
       "27      SVM_C=900_gamma=0.1   0.766104  0.759355  0.758225   \n",
       "31     SVM_C=1000_gamma=0.1   0.766104  0.759355  0.758225   \n",
       "23      SVM_C=300_gamma=0.1   0.766104  0.759355  0.758225   \n",
       "19      SVM_C=200_gamma=0.1   0.766104  0.759355  0.758225   \n",
       "15      SVM_C=100_gamma=0.1   0.766104  0.759355  0.758225   \n",
       "1     SVM_C=0.1_gamma=0.001   0.296663  0.544516  0.384025   \n",
       "4      SVM_C=1_gamma=0.0001   0.296663  0.544516  0.384025   \n",
       "0    SVM_C=0.1_gamma=0.0001   0.296663  0.544516  0.384025   \n",
       "\n",
       "    Tiempo de ejecución  \n",
       "21             0.003508  \n",
       "6              0.003104  \n",
       "24             0.003014  \n",
       "28             0.012895  \n",
       "13             0.003027  \n",
       "17             0.003378  \n",
       "9              0.003058  \n",
       "20             0.003185  \n",
       "12             0.003192  \n",
       "16             0.003143  \n",
       "3              0.004284  \n",
       "10             0.002974  \n",
       "7              0.003480  \n",
       "25             0.005094  \n",
       "29             0.005425  \n",
       "8              0.003916  \n",
       "5              0.003953  \n",
       "2              0.006682  \n",
       "14             0.004906  \n",
       "11             0.004926  \n",
       "30             0.012103  \n",
       "26             0.010811  \n",
       "22             0.007365  \n",
       "18             0.006110  \n",
       "27             0.005231  \n",
       "31             0.005529  \n",
       "23             0.005033  \n",
       "19             0.005052  \n",
       "15             0.005031  \n",
       "1              0.005428  \n",
       "4              0.004134  \n",
       "0              0.006608  "
      ]
     },
     "execution_count": 202,
     "metadata": {},
     "output_type": "execute_result"
    }
   ],
   "source": [
    "import pandas as pd\n",
    "from sklearn.svm import SVC\n",
    "from sklearn.metrics import classification_report\n",
    "from sklearn.model_selection import StratifiedKFold\n",
    "\n",
    "# Valores de C y gamma a probar\n",
    "C_values = [0.1, 1, 10, 100,200,300,900,1000]\n",
    "gamma_values = [0.0001, 0.001, 0.01, 0.1]\n",
    "\n",
    "# Lista para almacenar los resultados\n",
    "results = []\n",
    "\n",
    "# Probar diferentes valores de C y gamma\n",
    "for C in C_values:\n",
    "    for gamma in gamma_values:\n",
    "        model = SVC(C=C, gamma=gamma, kernel='rbf')\n",
    "        model_name = f\"SVM_C={C}_gamma={gamma}\"\n",
    "        result = evaluate_model(model, model_name, X, y)\n",
    "        results.append(result)\n",
    "\n",
    "# Crear DataFrame para mostrar los resultados en una tabla\n",
    "results_df = pd.DataFrame(results)\n",
    "\n",
    "# Ordenar los resultados por F1-score en orden descendente\n",
    "results_df = results_df.sort_values(by='F1-score', ascending=False)\n",
    "\n",
    "results_df\n"
   ]
  },
  {
   "cell_type": "markdown",
   "id": "88df11bd-2b8c-45bc-a1b8-6bba08106e9f",
   "metadata": {},
   "source": [
    "## 4. Selección de Características"
   ]
  },
  {
   "cell_type": "code",
   "execution_count": 164,
   "id": "a0768012-0de8-439c-9e42-4901bab8b011",
   "metadata": {
    "tags": []
   },
   "outputs": [
    {
     "name": "stderr",
     "output_type": "stream",
     "text": [
      "[Parallel(n_jobs=1)]: Using backend SequentialBackend with 1 concurrent workers.\n",
      "[Parallel(n_jobs=1)]: Done   1 out of   1 | elapsed:    0.0s remaining:    0.0s\n",
      "[Parallel(n_jobs=1)]: Done  13 out of  13 | elapsed:    0.3s finished\n",
      "\n",
      "[2024-05-21 20:29:13] Features: 1/13 -- score: 0.7534299516908213[Parallel(n_jobs=1)]: Using backend SequentialBackend with 1 concurrent workers.\n",
      "[Parallel(n_jobs=1)]: Done   1 out of   1 | elapsed:    0.0s remaining:    0.0s\n",
      "[Parallel(n_jobs=1)]: Done  12 out of  12 | elapsed:    0.3s finished\n",
      "\n",
      "[2024-05-21 20:29:13] Features: 2/13 -- score: 0.7663768115942029[Parallel(n_jobs=1)]: Using backend SequentialBackend with 1 concurrent workers.\n",
      "[Parallel(n_jobs=1)]: Done   1 out of   1 | elapsed:    0.0s remaining:    0.0s\n",
      "[Parallel(n_jobs=1)]: Done  11 out of  11 | elapsed:    0.2s finished\n",
      "\n",
      "[2024-05-21 20:29:14] Features: 3/13 -- score: 0.8018357487922707[Parallel(n_jobs=1)]: Using backend SequentialBackend with 1 concurrent workers.\n",
      "[Parallel(n_jobs=1)]: Done   1 out of   1 | elapsed:    0.0s remaining:    0.0s\n",
      "[Parallel(n_jobs=1)]: Done  10 out of  10 | elapsed:    0.3s finished\n",
      "\n",
      "[2024-05-21 20:29:14] Features: 4/13 -- score: 0.8064734299516907[Parallel(n_jobs=1)]: Using backend SequentialBackend with 1 concurrent workers.\n",
      "[Parallel(n_jobs=1)]: Done   1 out of   1 | elapsed:    0.0s remaining:    0.0s\n",
      "[Parallel(n_jobs=1)]: Done   9 out of   9 | elapsed:    0.2s finished\n",
      "\n",
      "[2024-05-21 20:29:14] Features: 5/13 -- score: 0.8282125603864735[Parallel(n_jobs=1)]: Using backend SequentialBackend with 1 concurrent workers.\n",
      "[Parallel(n_jobs=1)]: Done   1 out of   1 | elapsed:    0.0s remaining:    0.0s\n",
      "[Parallel(n_jobs=1)]: Done   8 out of   8 | elapsed:    0.2s finished\n",
      "\n",
      "[2024-05-21 20:29:14] Features: 6/13 -- score: 0.8192270531400965[Parallel(n_jobs=1)]: Using backend SequentialBackend with 1 concurrent workers.\n",
      "[Parallel(n_jobs=1)]: Done   1 out of   1 | elapsed:    0.0s remaining:    0.0s\n",
      "[Parallel(n_jobs=1)]: Done   7 out of   7 | elapsed:    0.2s finished\n",
      "\n",
      "[2024-05-21 20:29:14] Features: 7/13 -- score: 0.814975845410628[Parallel(n_jobs=1)]: Using backend SequentialBackend with 1 concurrent workers.\n",
      "[Parallel(n_jobs=1)]: Done   1 out of   1 | elapsed:    0.0s remaining:    0.0s\n",
      "[Parallel(n_jobs=1)]: Done   6 out of   6 | elapsed:    0.1s finished\n",
      "\n",
      "[2024-05-21 20:29:15] Features: 8/13 -- score: 0.8235748792270531[Parallel(n_jobs=1)]: Using backend SequentialBackend with 1 concurrent workers.\n",
      "[Parallel(n_jobs=1)]: Done   1 out of   1 | elapsed:    0.0s remaining:    0.0s\n",
      "[Parallel(n_jobs=1)]: Done   5 out of   5 | elapsed:    0.1s finished\n",
      "\n",
      "[2024-05-21 20:29:15] Features: 9/13 -- score: 0.8235748792270531[Parallel(n_jobs=1)]: Using backend SequentialBackend with 1 concurrent workers.\n",
      "[Parallel(n_jobs=1)]: Done   1 out of   1 | elapsed:    0.0s remaining:    0.0s\n",
      "[Parallel(n_jobs=1)]: Done   4 out of   4 | elapsed:    0.1s finished\n",
      "\n",
      "[2024-05-21 20:29:15] Features: 10/13 -- score: 0.8194202898550724[Parallel(n_jobs=1)]: Using backend SequentialBackend with 1 concurrent workers.\n",
      "[Parallel(n_jobs=1)]: Done   1 out of   1 | elapsed:    0.0s remaining:    0.0s\n",
      "[Parallel(n_jobs=1)]: Done   3 out of   3 | elapsed:    0.1s finished\n",
      "\n",
      "[2024-05-21 20:29:15] Features: 11/13 -- score: 0.8191304347826087[Parallel(n_jobs=1)]: Using backend SequentialBackend with 1 concurrent workers.\n",
      "[Parallel(n_jobs=1)]: Done   1 out of   1 | elapsed:    0.0s remaining:    0.0s\n",
      "[Parallel(n_jobs=1)]: Done   2 out of   2 | elapsed:    0.0s finished\n",
      "\n",
      "[2024-05-21 20:29:15] Features: 12/13 -- score: 0.8281159420289853[Parallel(n_jobs=1)]: Using backend SequentialBackend with 1 concurrent workers.\n",
      "[Parallel(n_jobs=1)]: Done   1 out of   1 | elapsed:    0.0s remaining:    0.0s\n",
      "[Parallel(n_jobs=1)]: Done   1 out of   1 | elapsed:    0.0s finished\n",
      "\n",
      "[2024-05-21 20:29:15] Features: 13/13 -- score: 0.8016425120772948"
     ]
    },
    {
     "data": {
      "text/html": [
       "<div>\n",
       "<style scoped>\n",
       "    .dataframe tbody tr th:only-of-type {\n",
       "        vertical-align: middle;\n",
       "    }\n",
       "\n",
       "    .dataframe tbody tr th {\n",
       "        vertical-align: top;\n",
       "    }\n",
       "\n",
       "    .dataframe thead th {\n",
       "        text-align: right;\n",
       "    }\n",
       "</style>\n",
       "<table border=\"1\" class=\"dataframe\">\n",
       "  <thead>\n",
       "    <tr style=\"text-align: right;\">\n",
       "      <th></th>\n",
       "      <th>feature_idx</th>\n",
       "      <th>cv_scores</th>\n",
       "      <th>avg_score</th>\n",
       "      <th>feature_names</th>\n",
       "      <th>ci_bound</th>\n",
       "      <th>std_dev</th>\n",
       "      <th>std_err</th>\n",
       "    </tr>\n",
       "  </thead>\n",
       "  <tbody>\n",
       "    <tr>\n",
       "      <th>5</th>\n",
       "      <td>(2, 8, 9, 10, 11)</td>\n",
       "      <td>[0.8260869565217391, 0.8260869565217391, 0.8, ...</td>\n",
       "      <td>0.828213</td>\n",
       "      <td>(2, 8, 9, 10, 11)</td>\n",
       "      <td>0.027684</td>\n",
       "      <td>0.021539</td>\n",
       "      <td>0.010769</td>\n",
       "    </tr>\n",
       "    <tr>\n",
       "      <th>12</th>\n",
       "      <td>(0, 1, 2, 3, 5, 6, 7, 8, 9, 10, 11, 12)</td>\n",
       "      <td>[0.8260869565217391, 0.8478260869565217, 0.8, ...</td>\n",
       "      <td>0.828116</td>\n",
       "      <td>(0, 1, 2, 3, 5, 6, 7, 8, 9, 10, 11, 12)</td>\n",
       "      <td>0.022146</td>\n",
       "      <td>0.017231</td>\n",
       "      <td>0.008615</td>\n",
       "    </tr>\n",
       "    <tr>\n",
       "      <th>8</th>\n",
       "      <td>(1, 2, 3, 7, 8, 9, 10, 11)</td>\n",
       "      <td>[0.8478260869565217, 0.8478260869565217, 0.777...</td>\n",
       "      <td>0.823575</td>\n",
       "      <td>(1, 2, 3, 7, 8, 9, 10, 11)</td>\n",
       "      <td>0.032906</td>\n",
       "      <td>0.025602</td>\n",
       "      <td>0.012801</td>\n",
       "    </tr>\n",
       "    <tr>\n",
       "      <th>9</th>\n",
       "      <td>(1, 2, 3, 6, 7, 8, 9, 10, 11)</td>\n",
       "      <td>[0.8695652173913043, 0.8260869565217391, 0.777...</td>\n",
       "      <td>0.823575</td>\n",
       "      <td>(1, 2, 3, 6, 7, 8, 9, 10, 11)</td>\n",
       "      <td>0.037351</td>\n",
       "      <td>0.02906</td>\n",
       "      <td>0.01453</td>\n",
       "    </tr>\n",
       "    <tr>\n",
       "      <th>10</th>\n",
       "      <td>(1, 2, 3, 5, 6, 7, 8, 9, 10, 11)</td>\n",
       "      <td>[0.8043478260869565, 0.8260869565217391, 0.755...</td>\n",
       "      <td>0.81942</td>\n",
       "      <td>(1, 2, 3, 5, 6, 7, 8, 9, 10, 11)</td>\n",
       "      <td>0.048803</td>\n",
       "      <td>0.03797</td>\n",
       "      <td>0.018985</td>\n",
       "    </tr>\n",
       "    <tr>\n",
       "      <th>6</th>\n",
       "      <td>(1, 2, 8, 9, 10, 11)</td>\n",
       "      <td>[0.8478260869565217, 0.8260869565217391, 0.8, ...</td>\n",
       "      <td>0.819227</td>\n",
       "      <td>(1, 2, 8, 9, 10, 11)</td>\n",
       "      <td>0.023087</td>\n",
       "      <td>0.017963</td>\n",
       "      <td>0.008981</td>\n",
       "    </tr>\n",
       "    <tr>\n",
       "      <th>11</th>\n",
       "      <td>(1, 2, 3, 5, 6, 7, 8, 9, 10, 11, 12)</td>\n",
       "      <td>[0.8260869565217391, 0.8695652173913043, 0.777...</td>\n",
       "      <td>0.81913</td>\n",
       "      <td>(1, 2, 3, 5, 6, 7, 8, 9, 10, 11, 12)</td>\n",
       "      <td>0.039312</td>\n",
       "      <td>0.030586</td>\n",
       "      <td>0.015293</td>\n",
       "    </tr>\n",
       "    <tr>\n",
       "      <th>7</th>\n",
       "      <td>(1, 2, 7, 8, 9, 10, 11)</td>\n",
       "      <td>[0.8260869565217391, 0.8043478260869565, 0.844...</td>\n",
       "      <td>0.814976</td>\n",
       "      <td>(1, 2, 7, 8, 9, 10, 11)</td>\n",
       "      <td>0.022654</td>\n",
       "      <td>0.017626</td>\n",
       "      <td>0.008813</td>\n",
       "    </tr>\n",
       "    <tr>\n",
       "      <th>4</th>\n",
       "      <td>(2, 8, 9, 11)</td>\n",
       "      <td>[0.7608695652173914, 0.782608695652174, 0.8, 0...</td>\n",
       "      <td>0.806473</td>\n",
       "      <td>(2, 8, 9, 11)</td>\n",
       "      <td>0.046564</td>\n",
       "      <td>0.036228</td>\n",
       "      <td>0.018114</td>\n",
       "    </tr>\n",
       "    <tr>\n",
       "      <th>3</th>\n",
       "      <td>(8, 9, 11)</td>\n",
       "      <td>[0.8043478260869565, 0.782608695652174, 0.8, 0...</td>\n",
       "      <td>0.801836</td>\n",
       "      <td>(8, 9, 11)</td>\n",
       "      <td>0.047134</td>\n",
       "      <td>0.036672</td>\n",
       "      <td>0.018336</td>\n",
       "    </tr>\n",
       "    <tr>\n",
       "      <th>13</th>\n",
       "      <td>(0, 1, 2, 3, 4, 5, 6, 7, 8, 9, 10, 11, 12)</td>\n",
       "      <td>[0.782608695652174, 0.8478260869565217, 0.7555...</td>\n",
       "      <td>0.801643</td>\n",
       "      <td>(0, 1, 2, 3, 4, 5, 6, 7, 8, 9, 10, 11, 12)</td>\n",
       "      <td>0.040829</td>\n",
       "      <td>0.031766</td>\n",
       "      <td>0.015883</td>\n",
       "    </tr>\n",
       "    <tr>\n",
       "      <th>2</th>\n",
       "      <td>(9, 11)</td>\n",
       "      <td>[0.8043478260869565, 0.7608695652173914, 0.711...</td>\n",
       "      <td>0.766377</td>\n",
       "      <td>(9, 11)</td>\n",
       "      <td>0.067218</td>\n",
       "      <td>0.052298</td>\n",
       "      <td>0.026149</td>\n",
       "    </tr>\n",
       "    <tr>\n",
       "      <th>1</th>\n",
       "      <td>(11,)</td>\n",
       "      <td>[0.8043478260869565, 0.6739130434782609, 0.755...</td>\n",
       "      <td>0.75343</td>\n",
       "      <td>(11,)</td>\n",
       "      <td>0.071431</td>\n",
       "      <td>0.055576</td>\n",
       "      <td>0.027788</td>\n",
       "    </tr>\n",
       "  </tbody>\n",
       "</table>\n",
       "</div>"
      ],
      "text/plain": [
       "                                   feature_idx  \\\n",
       "5                            (2, 8, 9, 10, 11)   \n",
       "12     (0, 1, 2, 3, 5, 6, 7, 8, 9, 10, 11, 12)   \n",
       "8                   (1, 2, 3, 7, 8, 9, 10, 11)   \n",
       "9                (1, 2, 3, 6, 7, 8, 9, 10, 11)   \n",
       "10            (1, 2, 3, 5, 6, 7, 8, 9, 10, 11)   \n",
       "6                         (1, 2, 8, 9, 10, 11)   \n",
       "11        (1, 2, 3, 5, 6, 7, 8, 9, 10, 11, 12)   \n",
       "7                      (1, 2, 7, 8, 9, 10, 11)   \n",
       "4                                (2, 8, 9, 11)   \n",
       "3                                   (8, 9, 11)   \n",
       "13  (0, 1, 2, 3, 4, 5, 6, 7, 8, 9, 10, 11, 12)   \n",
       "2                                      (9, 11)   \n",
       "1                                        (11,)   \n",
       "\n",
       "                                            cv_scores avg_score  \\\n",
       "5   [0.8260869565217391, 0.8260869565217391, 0.8, ...  0.828213   \n",
       "12  [0.8260869565217391, 0.8478260869565217, 0.8, ...  0.828116   \n",
       "8   [0.8478260869565217, 0.8478260869565217, 0.777...  0.823575   \n",
       "9   [0.8695652173913043, 0.8260869565217391, 0.777...  0.823575   \n",
       "10  [0.8043478260869565, 0.8260869565217391, 0.755...   0.81942   \n",
       "6   [0.8478260869565217, 0.8260869565217391, 0.8, ...  0.819227   \n",
       "11  [0.8260869565217391, 0.8695652173913043, 0.777...   0.81913   \n",
       "7   [0.8260869565217391, 0.8043478260869565, 0.844...  0.814976   \n",
       "4   [0.7608695652173914, 0.782608695652174, 0.8, 0...  0.806473   \n",
       "3   [0.8043478260869565, 0.782608695652174, 0.8, 0...  0.801836   \n",
       "13  [0.782608695652174, 0.8478260869565217, 0.7555...  0.801643   \n",
       "2   [0.8043478260869565, 0.7608695652173914, 0.711...  0.766377   \n",
       "1   [0.8043478260869565, 0.6739130434782609, 0.755...   0.75343   \n",
       "\n",
       "                                 feature_names  ci_bound   std_dev   std_err  \n",
       "5                            (2, 8, 9, 10, 11)  0.027684  0.021539  0.010769  \n",
       "12     (0, 1, 2, 3, 5, 6, 7, 8, 9, 10, 11, 12)  0.022146  0.017231  0.008615  \n",
       "8                   (1, 2, 3, 7, 8, 9, 10, 11)  0.032906  0.025602  0.012801  \n",
       "9                (1, 2, 3, 6, 7, 8, 9, 10, 11)  0.037351   0.02906   0.01453  \n",
       "10            (1, 2, 3, 5, 6, 7, 8, 9, 10, 11)  0.048803   0.03797  0.018985  \n",
       "6                         (1, 2, 8, 9, 10, 11)  0.023087  0.017963  0.008981  \n",
       "11        (1, 2, 3, 5, 6, 7, 8, 9, 10, 11, 12)  0.039312  0.030586  0.015293  \n",
       "7                      (1, 2, 7, 8, 9, 10, 11)  0.022654  0.017626  0.008813  \n",
       "4                                (2, 8, 9, 11)  0.046564  0.036228  0.018114  \n",
       "3                                   (8, 9, 11)  0.047134  0.036672  0.018336  \n",
       "13  (0, 1, 2, 3, 4, 5, 6, 7, 8, 9, 10, 11, 12)  0.040829  0.031766  0.015883  \n",
       "2                                      (9, 11)  0.067218  0.052298  0.026149  \n",
       "1                                        (11,)  0.071431  0.055576  0.027788  "
      ]
     },
     "execution_count": 164,
     "metadata": {},
     "output_type": "execute_result"
    }
   ],
   "source": [
    "from sklearn.neighbors import KNeighborsClassifier\n",
    "from mlxtend.feature_selection import SequentialFeatureSelector as SFS\n",
    "from sklearn.model_selection import train_test_split\n",
    "\n",
    "X_train, X_test, y_train, y_test = train_test_split(X, y, test_size=0.25, random_state=42)\n",
    "\n",
    "# Definir el modelo base\n",
    "knn = KNeighborsClassifier(n_neighbors=11)\n",
    "\n",
    "sfs = SFS(knn,\n",
    "          k_features=(1, 13),  \n",
    "          forward=True,\n",
    "          floating=False,\n",
    "          verbose=2,\n",
    "          scoring='f1_weighted',  \n",
    "          cv=10)\n",
    "\n",
    "# Ajustar el SFS\n",
    "sfs = sfs.fit(X_train, y_train)\n",
    "\n",
    "# Mostrar los resultados\n",
    "pd.DataFrame.from_dict(sfs.get_metric_dict()).T.sort_values('avg_score', ascending=False)\n",
    "\n"
   ]
  },
  {
   "cell_type": "code",
   "execution_count": 175,
   "id": "4f9df8db-abf8-496f-a755-b26eb14239a9",
   "metadata": {
    "tags": []
   },
   "outputs": [],
   "source": [
    "selected_features = [2, 8, 9, 10, 11] \n",
    "\n",
    "# Subconjunto de X con las características seleccionadas\n",
    "X_selected = X[:, selected_features]\n"
   ]
  },
  {
   "cell_type": "markdown",
   "id": "bba4a36b-8112-46d1-b710-f212e627a405",
   "metadata": {},
   "source": [
    "### 4.1 Random Forest con subconjunto de características"
   ]
  },
  {
   "cell_type": "code",
   "execution_count": 176,
   "id": "3b5af19b-1c4d-4876-b856-42d0dcdd6f3d",
   "metadata": {
    "tags": []
   },
   "outputs": [
    {
     "data": {
      "text/html": [
       "<div>\n",
       "<style scoped>\n",
       "    .dataframe tbody tr th:only-of-type {\n",
       "        vertical-align: middle;\n",
       "    }\n",
       "\n",
       "    .dataframe tbody tr th {\n",
       "        vertical-align: top;\n",
       "    }\n",
       "\n",
       "    .dataframe thead th {\n",
       "        text-align: right;\n",
       "    }\n",
       "</style>\n",
       "<table border=\"1\" class=\"dataframe\">\n",
       "  <thead>\n",
       "    <tr style=\"text-align: right;\">\n",
       "      <th></th>\n",
       "      <th>Modelo</th>\n",
       "      <th>Precisión</th>\n",
       "      <th>Recall</th>\n",
       "      <th>F1-score</th>\n",
       "      <th>Tiempo de ejecución</th>\n",
       "    </tr>\n",
       "  </thead>\n",
       "  <tbody>\n",
       "    <tr>\n",
       "      <th>0</th>\n",
       "      <td>RandomForest Selected Features</td>\n",
       "      <td>0.858703</td>\n",
       "      <td>0.84828</td>\n",
       "      <td>0.845859</td>\n",
       "      <td>0.038297</td>\n",
       "    </tr>\n",
       "  </tbody>\n",
       "</table>\n",
       "</div>"
      ],
      "text/plain": [
       "                           Modelo  Precisión   Recall  F1-score  \\\n",
       "0  RandomForest Selected Features   0.858703  0.84828  0.845859   \n",
       "\n",
       "   Tiempo de ejecución  \n",
       "0             0.038297  "
      ]
     },
     "execution_count": 176,
     "metadata": {},
     "output_type": "execute_result"
    }
   ],
   "source": [
    "# Crear el modelo Random Forest con los parámetros especificados\n",
    "model_rf = RandomForestClassifier(n_estimators=30, max_depth=2, criterion='entropy', random_state=42)\n",
    "\n",
    "# Evaluar el modelo utilizando la función de evaluación proporcionada\n",
    "result_rf = evaluate_model(model_rf, \"RandomForest Selected Features\", X_selected, y)\n",
    "\n",
    "# Convertir el resultado a DataFrame para visualización en forma de tabla\n",
    "result_df = pd.DataFrame([result_rf])\n",
    "result_df"
   ]
  },
  {
   "cell_type": "markdown",
   "id": "cf4da280-a71d-49e1-91a2-034475b7ff90",
   "metadata": {
    "tags": []
   },
   "source": [
    "### 4.2 SVM con subconjunto de características"
   ]
  },
  {
   "cell_type": "code",
   "execution_count": 185,
   "id": "5e14577a-d082-4e72-b159-026462d9c345",
   "metadata": {
    "tags": []
   },
   "outputs": [
    {
     "data": {
      "text/html": [
       "<div>\n",
       "<style scoped>\n",
       "    .dataframe tbody tr th:only-of-type {\n",
       "        vertical-align: middle;\n",
       "    }\n",
       "\n",
       "    .dataframe tbody tr th {\n",
       "        vertical-align: top;\n",
       "    }\n",
       "\n",
       "    .dataframe thead th {\n",
       "        text-align: right;\n",
       "    }\n",
       "</style>\n",
       "<table border=\"1\" class=\"dataframe\">\n",
       "  <thead>\n",
       "    <tr style=\"text-align: right;\">\n",
       "      <th></th>\n",
       "      <th>Modelo</th>\n",
       "      <th>Precisión</th>\n",
       "      <th>Recall</th>\n",
       "      <th>F1-score</th>\n",
       "      <th>Tiempo de ejecución</th>\n",
       "    </tr>\n",
       "  </thead>\n",
       "  <tbody>\n",
       "    <tr>\n",
       "      <th>0</th>\n",
       "      <td>SVM_C=300_gamma=0.001</td>\n",
       "      <td>0.855171</td>\n",
       "      <td>0.841613</td>\n",
       "      <td>0.838212</td>\n",
       "      <td>0.004298</td>\n",
       "    </tr>\n",
       "  </tbody>\n",
       "</table>\n",
       "</div>"
      ],
      "text/plain": [
       "                  Modelo  Precisión    Recall  F1-score  Tiempo de ejecución\n",
       "0  SVM_C=300_gamma=0.001   0.855171  0.841613  0.838212             0.004298"
      ]
     },
     "execution_count": 185,
     "metadata": {},
     "output_type": "execute_result"
    }
   ],
   "source": [
    "from sklearn.svm import SVC\n",
    "\n",
    "# Configuración del modelo SVC\n",
    "model = SVC(C=300, gamma=0.001, kernel='rbf')\n",
    "\n",
    "# Llamar a evaluate_model para evaluar el modelo\n",
    "result = evaluate_model(model, \"SVM_C=300_gamma=0.001\", X_selected, y)\n",
    "\n",
    "# Convertir el resultado a DataFrame para una mejor visualización\n",
    "result_df = pd.DataFrame([result])\n",
    "result_df\n"
   ]
  },
  {
   "cell_type": "markdown",
   "id": "b340479b-1940-4041-a02e-051498e29085",
   "metadata": {
    "tags": []
   },
   "source": [
    "### 4.3 RNA con subconjunto de características"
   ]
  },
  {
   "cell_type": "code",
   "execution_count": 187,
   "id": "857f7877-f083-4b1b-907f-c54618d82827",
   "metadata": {
    "tags": []
   },
   "outputs": [
    {
     "name": "stderr",
     "output_type": "stream",
     "text": [
      "/Users/lauramos/anaconda3/lib/python3.11/site-packages/keras/src/layers/core/dense.py:86: UserWarning: Do not pass an `input_shape`/`input_dim` argument to a layer. When using Sequential models, prefer using an `Input(shape)` object as the first layer in the model instead.\n",
      "  super().__init__(activity_regularizer=activity_regularizer, **kwargs)\n"
     ]
    },
    {
     "name": "stdout",
     "output_type": "stream",
     "text": [
      "\u001b[1m1/1\u001b[0m \u001b[32m━━━━━━━━━━━━━━━━━━━━\u001b[0m\u001b[37m\u001b[0m \u001b[1m0s\u001b[0m 43ms/step\n"
     ]
    },
    {
     "name": "stderr",
     "output_type": "stream",
     "text": [
      "/Users/lauramos/anaconda3/lib/python3.11/site-packages/keras/src/layers/core/dense.py:86: UserWarning: Do not pass an `input_shape`/`input_dim` argument to a layer. When using Sequential models, prefer using an `Input(shape)` object as the first layer in the model instead.\n",
      "  super().__init__(activity_regularizer=activity_regularizer, **kwargs)\n"
     ]
    },
    {
     "name": "stdout",
     "output_type": "stream",
     "text": [
      "\u001b[1m1/1\u001b[0m \u001b[32m━━━━━━━━━━━━━━━━━━━━\u001b[0m\u001b[37m\u001b[0m \u001b[1m0s\u001b[0m 47ms/step\n"
     ]
    },
    {
     "name": "stderr",
     "output_type": "stream",
     "text": [
      "/Users/lauramos/anaconda3/lib/python3.11/site-packages/keras/src/layers/core/dense.py:86: UserWarning: Do not pass an `input_shape`/`input_dim` argument to a layer. When using Sequential models, prefer using an `Input(shape)` object as the first layer in the model instead.\n",
      "  super().__init__(activity_regularizer=activity_regularizer, **kwargs)\n"
     ]
    },
    {
     "name": "stdout",
     "output_type": "stream",
     "text": [
      "\u001b[1m1/1\u001b[0m \u001b[32m━━━━━━━━━━━━━━━━━━━━\u001b[0m\u001b[37m\u001b[0m \u001b[1m0s\u001b[0m 38ms/step\n"
     ]
    },
    {
     "name": "stderr",
     "output_type": "stream",
     "text": [
      "/Users/lauramos/anaconda3/lib/python3.11/site-packages/keras/src/layers/core/dense.py:86: UserWarning: Do not pass an `input_shape`/`input_dim` argument to a layer. When using Sequential models, prefer using an `Input(shape)` object as the first layer in the model instead.\n",
      "  super().__init__(activity_regularizer=activity_regularizer, **kwargs)\n"
     ]
    },
    {
     "name": "stdout",
     "output_type": "stream",
     "text": [
      "\u001b[1m1/1\u001b[0m \u001b[32m━━━━━━━━━━━━━━━━━━━━\u001b[0m\u001b[37m\u001b[0m \u001b[1m0s\u001b[0m 39ms/step\n"
     ]
    },
    {
     "name": "stderr",
     "output_type": "stream",
     "text": [
      "/Users/lauramos/anaconda3/lib/python3.11/site-packages/keras/src/layers/core/dense.py:86: UserWarning: Do not pass an `input_shape`/`input_dim` argument to a layer. When using Sequential models, prefer using an `Input(shape)` object as the first layer in the model instead.\n",
      "  super().__init__(activity_regularizer=activity_regularizer, **kwargs)\n"
     ]
    },
    {
     "name": "stdout",
     "output_type": "stream",
     "text": [
      "\u001b[1m1/1\u001b[0m \u001b[32m━━━━━━━━━━━━━━━━━━━━\u001b[0m\u001b[37m\u001b[0m \u001b[1m0s\u001b[0m 41ms/step\n"
     ]
    },
    {
     "name": "stderr",
     "output_type": "stream",
     "text": [
      "/Users/lauramos/anaconda3/lib/python3.11/site-packages/keras/src/layers/core/dense.py:86: UserWarning: Do not pass an `input_shape`/`input_dim` argument to a layer. When using Sequential models, prefer using an `Input(shape)` object as the first layer in the model instead.\n",
      "  super().__init__(activity_regularizer=activity_regularizer, **kwargs)\n"
     ]
    },
    {
     "name": "stdout",
     "output_type": "stream",
     "text": [
      "\u001b[1m1/1\u001b[0m \u001b[32m━━━━━━━━━━━━━━━━━━━━\u001b[0m\u001b[37m\u001b[0m \u001b[1m0s\u001b[0m 41ms/step\n"
     ]
    },
    {
     "name": "stderr",
     "output_type": "stream",
     "text": [
      "/Users/lauramos/anaconda3/lib/python3.11/site-packages/keras/src/layers/core/dense.py:86: UserWarning: Do not pass an `input_shape`/`input_dim` argument to a layer. When using Sequential models, prefer using an `Input(shape)` object as the first layer in the model instead.\n",
      "  super().__init__(activity_regularizer=activity_regularizer, **kwargs)\n"
     ]
    },
    {
     "name": "stdout",
     "output_type": "stream",
     "text": [
      "\u001b[1m1/1\u001b[0m \u001b[32m━━━━━━━━━━━━━━━━━━━━\u001b[0m\u001b[37m\u001b[0m \u001b[1m0s\u001b[0m 37ms/step\n"
     ]
    },
    {
     "name": "stderr",
     "output_type": "stream",
     "text": [
      "/Users/lauramos/anaconda3/lib/python3.11/site-packages/keras/src/layers/core/dense.py:86: UserWarning: Do not pass an `input_shape`/`input_dim` argument to a layer. When using Sequential models, prefer using an `Input(shape)` object as the first layer in the model instead.\n",
      "  super().__init__(activity_regularizer=activity_regularizer, **kwargs)\n"
     ]
    },
    {
     "name": "stdout",
     "output_type": "stream",
     "text": [
      "\u001b[1m1/1\u001b[0m \u001b[32m━━━━━━━━━━━━━━━━━━━━\u001b[0m\u001b[37m\u001b[0m \u001b[1m0s\u001b[0m 40ms/step\n"
     ]
    },
    {
     "name": "stderr",
     "output_type": "stream",
     "text": [
      "/Users/lauramos/anaconda3/lib/python3.11/site-packages/keras/src/layers/core/dense.py:86: UserWarning: Do not pass an `input_shape`/`input_dim` argument to a layer. When using Sequential models, prefer using an `Input(shape)` object as the first layer in the model instead.\n",
      "  super().__init__(activity_regularizer=activity_regularizer, **kwargs)\n"
     ]
    },
    {
     "name": "stdout",
     "output_type": "stream",
     "text": [
      "\u001b[1m1/1\u001b[0m \u001b[32m━━━━━━━━━━━━━━━━━━━━\u001b[0m\u001b[37m\u001b[0m \u001b[1m0s\u001b[0m 35ms/step\n"
     ]
    },
    {
     "name": "stderr",
     "output_type": "stream",
     "text": [
      "/Users/lauramos/anaconda3/lib/python3.11/site-packages/keras/src/layers/core/dense.py:86: UserWarning: Do not pass an `input_shape`/`input_dim` argument to a layer. When using Sequential models, prefer using an `Input(shape)` object as the first layer in the model instead.\n",
      "  super().__init__(activity_regularizer=activity_regularizer, **kwargs)\n"
     ]
    },
    {
     "name": "stdout",
     "output_type": "stream",
     "text": [
      "\u001b[1m1/1\u001b[0m \u001b[32m━━━━━━━━━━━━━━━━━━━━\u001b[0m\u001b[37m\u001b[0m \u001b[1m0s\u001b[0m 44ms/step\n"
     ]
    },
    {
     "data": {
      "text/html": [
       "<div>\n",
       "<style scoped>\n",
       "    .dataframe tbody tr th:only-of-type {\n",
       "        vertical-align: middle;\n",
       "    }\n",
       "\n",
       "    .dataframe tbody tr th {\n",
       "        vertical-align: top;\n",
       "    }\n",
       "\n",
       "    .dataframe thead th {\n",
       "        text-align: right;\n",
       "    }\n",
       "</style>\n",
       "<table border=\"1\" class=\"dataframe\">\n",
       "  <thead>\n",
       "    <tr style=\"text-align: right;\">\n",
       "      <th></th>\n",
       "      <th>Neurons</th>\n",
       "      <th>Epochs</th>\n",
       "      <th>Precision</th>\n",
       "      <th>Recall</th>\n",
       "      <th>F1-Score</th>\n",
       "      <th>Average Time</th>\n",
       "    </tr>\n",
       "  </thead>\n",
       "  <tbody>\n",
       "    <tr>\n",
       "      <th>0</th>\n",
       "      <td>10</td>\n",
       "      <td>30</td>\n",
       "      <td>0.81675</td>\n",
       "      <td>0.810753</td>\n",
       "      <td>0.807886</td>\n",
       "      <td>2.003435</td>\n",
       "    </tr>\n",
       "  </tbody>\n",
       "</table>\n",
       "</div>"
      ],
      "text/plain": [
       "   Neurons  Epochs  Precision    Recall  F1-Score  Average Time\n",
       "0       10      30    0.81675  0.810753  0.807886      2.003435"
      ]
     },
     "execution_count": 187,
     "metadata": {},
     "output_type": "execute_result"
    }
   ],
   "source": [
    "\n",
    "results_df_sigmoid_network = evaluate_sigmoid_network(X_selected, y, [10], [30])\n",
    "results_df_sigmoid_network"
   ]
  },
  {
   "cell_type": "markdown",
   "id": "ff596176-7493-46db-9170-ac8cc4d5fe05",
   "metadata": {
    "tags": []
   },
   "source": [
    "## 5 Extracción de características"
   ]
  },
  {
   "cell_type": "markdown",
   "id": "86588228-6669-4302-970f-dd6e2508c78d",
   "metadata": {
    "tags": []
   },
   "source": [
    "### 5.1 SVM con extracción de características"
   ]
  },
  {
   "cell_type": "code",
   "execution_count": 10,
   "id": "079b2d5c-72fe-44d1-998c-04cdd5e86533",
   "metadata": {
    "tags": []
   },
   "outputs": [
    {
     "data": {
      "text/html": [
       "<div>\n",
       "<style scoped>\n",
       "    .dataframe tbody tr th:only-of-type {\n",
       "        vertical-align: middle;\n",
       "    }\n",
       "\n",
       "    .dataframe tbody tr th {\n",
       "        vertical-align: top;\n",
       "    }\n",
       "\n",
       "    .dataframe thead th {\n",
       "        text-align: right;\n",
       "    }\n",
       "</style>\n",
       "<table border=\"1\" class=\"dataframe\">\n",
       "  <thead>\n",
       "    <tr style=\"text-align: right;\">\n",
       "      <th></th>\n",
       "      <th>PCA Components</th>\n",
       "      <th>Precision</th>\n",
       "      <th>Recall</th>\n",
       "      <th>F1-Score</th>\n",
       "      <th>Average Execution Time</th>\n",
       "    </tr>\n",
       "  </thead>\n",
       "  <tbody>\n",
       "    <tr>\n",
       "      <th>11</th>\n",
       "      <td>12</td>\n",
       "      <td>0.848628</td>\n",
       "      <td>0.840968</td>\n",
       "      <td>0.838692</td>\n",
       "      <td>0.004197</td>\n",
       "    </tr>\n",
       "    <tr>\n",
       "      <th>5</th>\n",
       "      <td>6</td>\n",
       "      <td>0.845256</td>\n",
       "      <td>0.837742</td>\n",
       "      <td>0.835881</td>\n",
       "      <td>0.003653</td>\n",
       "    </tr>\n",
       "    <tr>\n",
       "      <th>10</th>\n",
       "      <td>11</td>\n",
       "      <td>0.846019</td>\n",
       "      <td>0.837634</td>\n",
       "      <td>0.835359</td>\n",
       "      <td>0.003522</td>\n",
       "    </tr>\n",
       "    <tr>\n",
       "      <th>4</th>\n",
       "      <td>5</td>\n",
       "      <td>0.841642</td>\n",
       "      <td>0.834409</td>\n",
       "      <td>0.832689</td>\n",
       "      <td>0.003299</td>\n",
       "    </tr>\n",
       "    <tr>\n",
       "      <th>7</th>\n",
       "      <td>8</td>\n",
       "      <td>0.838512</td>\n",
       "      <td>0.831290</td>\n",
       "      <td>0.829765</td>\n",
       "      <td>0.003700</td>\n",
       "    </tr>\n",
       "    <tr>\n",
       "      <th>6</th>\n",
       "      <td>7</td>\n",
       "      <td>0.839550</td>\n",
       "      <td>0.831290</td>\n",
       "      <td>0.829635</td>\n",
       "      <td>0.003637</td>\n",
       "    </tr>\n",
       "    <tr>\n",
       "      <th>12</th>\n",
       "      <td>13</td>\n",
       "      <td>0.839530</td>\n",
       "      <td>0.830968</td>\n",
       "      <td>0.828433</td>\n",
       "      <td>0.004289</td>\n",
       "    </tr>\n",
       "    <tr>\n",
       "      <th>8</th>\n",
       "      <td>9</td>\n",
       "      <td>0.837613</td>\n",
       "      <td>0.828065</td>\n",
       "      <td>0.825574</td>\n",
       "      <td>0.003535</td>\n",
       "    </tr>\n",
       "    <tr>\n",
       "      <th>3</th>\n",
       "      <td>4</td>\n",
       "      <td>0.831035</td>\n",
       "      <td>0.824409</td>\n",
       "      <td>0.822304</td>\n",
       "      <td>0.003517</td>\n",
       "    </tr>\n",
       "    <tr>\n",
       "      <th>9</th>\n",
       "      <td>10</td>\n",
       "      <td>0.834723</td>\n",
       "      <td>0.824731</td>\n",
       "      <td>0.822022</td>\n",
       "      <td>0.003730</td>\n",
       "    </tr>\n",
       "    <tr>\n",
       "      <th>1</th>\n",
       "      <td>2</td>\n",
       "      <td>0.821038</td>\n",
       "      <td>0.814409</td>\n",
       "      <td>0.812253</td>\n",
       "      <td>0.003527</td>\n",
       "    </tr>\n",
       "    <tr>\n",
       "      <th>2</th>\n",
       "      <td>3</td>\n",
       "      <td>0.815715</td>\n",
       "      <td>0.807957</td>\n",
       "      <td>0.805683</td>\n",
       "      <td>0.003637</td>\n",
       "    </tr>\n",
       "    <tr>\n",
       "      <th>0</th>\n",
       "      <td>1</td>\n",
       "      <td>0.804914</td>\n",
       "      <td>0.794516</td>\n",
       "      <td>0.789980</td>\n",
       "      <td>0.004762</td>\n",
       "    </tr>\n",
       "  </tbody>\n",
       "</table>\n",
       "</div>"
      ],
      "text/plain": [
       "    PCA Components  Precision    Recall  F1-Score  Average Execution Time\n",
       "11              12   0.848628  0.840968  0.838692                0.004197\n",
       "5                6   0.845256  0.837742  0.835881                0.003653\n",
       "10              11   0.846019  0.837634  0.835359                0.003522\n",
       "4                5   0.841642  0.834409  0.832689                0.003299\n",
       "7                8   0.838512  0.831290  0.829765                0.003700\n",
       "6                7   0.839550  0.831290  0.829635                0.003637\n",
       "12              13   0.839530  0.830968  0.828433                0.004289\n",
       "8                9   0.837613  0.828065  0.825574                0.003535\n",
       "3                4   0.831035  0.824409  0.822304                0.003517\n",
       "9               10   0.834723  0.824731  0.822022                0.003730\n",
       "1                2   0.821038  0.814409  0.812253                0.003527\n",
       "2                3   0.815715  0.807957  0.805683                0.003637\n",
       "0                1   0.804914  0.794516  0.789980                0.004762"
      ]
     },
     "execution_count": 10,
     "metadata": {},
     "output_type": "execute_result"
    }
   ],
   "source": [
    "from sklearn.decomposition import PCA\n",
    "from sklearn.svm import SVC\n",
    "from sklearn.pipeline import make_pipeline\n",
    "from sklearn.model_selection import StratifiedKFold\n",
    "from sklearn.metrics import classification_report\n",
    "import time\n",
    "\n",
    "# Configuración inicial\n",
    "n_components_list = range(1, 14)\n",
    "C = 300\n",
    "gamma = 0.001\n",
    "kernel = 'rbf'\n",
    "\n",
    "# Función para evaluar el modelo\n",
    "def evaluate_svc_pca(X, y, n_splits=10):\n",
    "    results = []\n",
    "    skf = StratifiedKFold(n_splits=n_splits, shuffle=True, random_state=42)\n",
    "\n",
    "    for n_components in n_components_list:\n",
    "        # Crear un pipeline con PCA y SVC\n",
    "        pca = PCA(n_components=n_components)\n",
    "        svm = SVC(C=C, gamma=gamma, kernel=kernel)\n",
    "        model = make_pipeline(pca, svm)\n",
    "\n",
    "        f1_scores = []\n",
    "        precisions = []\n",
    "        recalls = []\n",
    "        execution_times = []\n",
    "        \n",
    "        for train_index, test_index in skf.split(X, y):\n",
    "            X_train, X_test = X[train_index], X[test_index]\n",
    "            y_train, y_test = y[train_index], y[test_index]\n",
    "\n",
    "            start_time = time.time()\n",
    "            model.fit(X_train, y_train)\n",
    "            y_pred = model.predict(X_test)\n",
    "            end_time = time.time()\n",
    "\n",
    "            report = classification_report(y_test, y_pred, output_dict=True, zero_division=0)\n",
    "            f1_scores.append(report['weighted avg']['f1-score'])\n",
    "            precisions.append(report['weighted avg']['precision'])\n",
    "            recalls.append(report['weighted avg']['recall'])\n",
    "            execution_times.append(end_time - start_time)\n",
    "\n",
    "        # Almacenar resultados para esta configuración\n",
    "        results.append({\n",
    "            'PCA Components': n_components,\n",
    "            'Precision': np.mean(precisions),\n",
    "            'Recall': np.mean(recalls),\n",
    "            'F1-Score': np.mean(f1_scores),\n",
    "            'Average Execution Time': np.mean(execution_times)\n",
    "        })\n",
    "\n",
    "    return pd.DataFrame(results)\n",
    "\n",
    "# Evaluar el modelo\n",
    "results_df = evaluate_svc_pca(X, y)\n",
    "results_df.sort_values(by='F1-Score', ascending=False)"
   ]
  },
  {
   "cell_type": "markdown",
   "id": "7ca760f4-b877-4a9d-b5e5-77863b1fa831",
   "metadata": {
    "tags": []
   },
   "source": [
    "### 5.2 RNA con extracción de características"
   ]
  },
  {
   "cell_type": "code",
   "execution_count": 12,
   "id": "eace4b9b-b840-420b-b69f-70e483755cf7",
   "metadata": {
    "tags": []
   },
   "outputs": [
    {
     "name": "stderr",
     "output_type": "stream",
     "text": [
      "/Users/lauramos/anaconda3/lib/python3.11/site-packages/keras/src/layers/core/dense.py:86: UserWarning: Do not pass an `input_shape`/`input_dim` argument to a layer. When using Sequential models, prefer using an `Input(shape)` object as the first layer in the model instead.\n",
      "  super().__init__(activity_regularizer=activity_regularizer, **kwargs)\n"
     ]
    },
    {
     "name": "stdout",
     "output_type": "stream",
     "text": [
      "\u001b[1m1/1\u001b[0m \u001b[32m━━━━━━━━━━━━━━━━━━━━\u001b[0m\u001b[37m\u001b[0m \u001b[1m0s\u001b[0m 35ms/step\n"
     ]
    },
    {
     "name": "stderr",
     "output_type": "stream",
     "text": [
      "/Users/lauramos/anaconda3/lib/python3.11/site-packages/keras/src/layers/core/dense.py:86: UserWarning: Do not pass an `input_shape`/`input_dim` argument to a layer. When using Sequential models, prefer using an `Input(shape)` object as the first layer in the model instead.\n",
      "  super().__init__(activity_regularizer=activity_regularizer, **kwargs)\n"
     ]
    },
    {
     "name": "stdout",
     "output_type": "stream",
     "text": [
      "\u001b[1m1/1\u001b[0m \u001b[32m━━━━━━━━━━━━━━━━━━━━\u001b[0m\u001b[37m\u001b[0m \u001b[1m0s\u001b[0m 35ms/step\n"
     ]
    },
    {
     "name": "stderr",
     "output_type": "stream",
     "text": [
      "/Users/lauramos/anaconda3/lib/python3.11/site-packages/keras/src/layers/core/dense.py:86: UserWarning: Do not pass an `input_shape`/`input_dim` argument to a layer. When using Sequential models, prefer using an `Input(shape)` object as the first layer in the model instead.\n",
      "  super().__init__(activity_regularizer=activity_regularizer, **kwargs)\n"
     ]
    },
    {
     "name": "stdout",
     "output_type": "stream",
     "text": [
      "\u001b[1m1/1\u001b[0m \u001b[32m━━━━━━━━━━━━━━━━━━━━\u001b[0m\u001b[37m\u001b[0m \u001b[1m0s\u001b[0m 35ms/step\n"
     ]
    },
    {
     "name": "stderr",
     "output_type": "stream",
     "text": [
      "/Users/lauramos/anaconda3/lib/python3.11/site-packages/keras/src/layers/core/dense.py:86: UserWarning: Do not pass an `input_shape`/`input_dim` argument to a layer. When using Sequential models, prefer using an `Input(shape)` object as the first layer in the model instead.\n",
      "  super().__init__(activity_regularizer=activity_regularizer, **kwargs)\n"
     ]
    },
    {
     "name": "stdout",
     "output_type": "stream",
     "text": [
      "\u001b[1m1/1\u001b[0m \u001b[32m━━━━━━━━━━━━━━━━━━━━\u001b[0m\u001b[37m\u001b[0m \u001b[1m0s\u001b[0m 34ms/step\n"
     ]
    },
    {
     "name": "stderr",
     "output_type": "stream",
     "text": [
      "/Users/lauramos/anaconda3/lib/python3.11/site-packages/keras/src/layers/core/dense.py:86: UserWarning: Do not pass an `input_shape`/`input_dim` argument to a layer. When using Sequential models, prefer using an `Input(shape)` object as the first layer in the model instead.\n",
      "  super().__init__(activity_regularizer=activity_regularizer, **kwargs)\n"
     ]
    },
    {
     "name": "stdout",
     "output_type": "stream",
     "text": [
      "\u001b[1m1/1\u001b[0m \u001b[32m━━━━━━━━━━━━━━━━━━━━\u001b[0m\u001b[37m\u001b[0m \u001b[1m0s\u001b[0m 35ms/step\n"
     ]
    },
    {
     "name": "stderr",
     "output_type": "stream",
     "text": [
      "/Users/lauramos/anaconda3/lib/python3.11/site-packages/keras/src/layers/core/dense.py:86: UserWarning: Do not pass an `input_shape`/`input_dim` argument to a layer. When using Sequential models, prefer using an `Input(shape)` object as the first layer in the model instead.\n",
      "  super().__init__(activity_regularizer=activity_regularizer, **kwargs)\n"
     ]
    },
    {
     "name": "stdout",
     "output_type": "stream",
     "text": [
      "\u001b[1m1/1\u001b[0m \u001b[32m━━━━━━━━━━━━━━━━━━━━\u001b[0m\u001b[37m\u001b[0m \u001b[1m0s\u001b[0m 36ms/step\n"
     ]
    },
    {
     "name": "stderr",
     "output_type": "stream",
     "text": [
      "/Users/lauramos/anaconda3/lib/python3.11/site-packages/keras/src/layers/core/dense.py:86: UserWarning: Do not pass an `input_shape`/`input_dim` argument to a layer. When using Sequential models, prefer using an `Input(shape)` object as the first layer in the model instead.\n",
      "  super().__init__(activity_regularizer=activity_regularizer, **kwargs)\n"
     ]
    },
    {
     "name": "stdout",
     "output_type": "stream",
     "text": [
      "\u001b[1m1/1\u001b[0m \u001b[32m━━━━━━━━━━━━━━━━━━━━\u001b[0m\u001b[37m\u001b[0m \u001b[1m0s\u001b[0m 40ms/step\n"
     ]
    },
    {
     "name": "stderr",
     "output_type": "stream",
     "text": [
      "/Users/lauramos/anaconda3/lib/python3.11/site-packages/keras/src/layers/core/dense.py:86: UserWarning: Do not pass an `input_shape`/`input_dim` argument to a layer. When using Sequential models, prefer using an `Input(shape)` object as the first layer in the model instead.\n",
      "  super().__init__(activity_regularizer=activity_regularizer, **kwargs)\n"
     ]
    },
    {
     "name": "stdout",
     "output_type": "stream",
     "text": [
      "\u001b[1m1/1\u001b[0m \u001b[32m━━━━━━━━━━━━━━━━━━━━\u001b[0m\u001b[37m\u001b[0m \u001b[1m0s\u001b[0m 36ms/step\n"
     ]
    },
    {
     "name": "stderr",
     "output_type": "stream",
     "text": [
      "/Users/lauramos/anaconda3/lib/python3.11/site-packages/keras/src/layers/core/dense.py:86: UserWarning: Do not pass an `input_shape`/`input_dim` argument to a layer. When using Sequential models, prefer using an `Input(shape)` object as the first layer in the model instead.\n",
      "  super().__init__(activity_regularizer=activity_regularizer, **kwargs)\n"
     ]
    },
    {
     "name": "stdout",
     "output_type": "stream",
     "text": [
      "\u001b[1m1/1\u001b[0m \u001b[32m━━━━━━━━━━━━━━━━━━━━\u001b[0m\u001b[37m\u001b[0m \u001b[1m0s\u001b[0m 35ms/step\n"
     ]
    },
    {
     "name": "stderr",
     "output_type": "stream",
     "text": [
      "/Users/lauramos/anaconda3/lib/python3.11/site-packages/keras/src/layers/core/dense.py:86: UserWarning: Do not pass an `input_shape`/`input_dim` argument to a layer. When using Sequential models, prefer using an `Input(shape)` object as the first layer in the model instead.\n",
      "  super().__init__(activity_regularizer=activity_regularizer, **kwargs)\n"
     ]
    },
    {
     "name": "stdout",
     "output_type": "stream",
     "text": [
      "\u001b[1m1/1\u001b[0m \u001b[32m━━━━━━━━━━━━━━━━━━━━\u001b[0m\u001b[37m\u001b[0m \u001b[1m0s\u001b[0m 33ms/step\n"
     ]
    },
    {
     "name": "stderr",
     "output_type": "stream",
     "text": [
      "/Users/lauramos/anaconda3/lib/python3.11/site-packages/keras/src/layers/core/dense.py:86: UserWarning: Do not pass an `input_shape`/`input_dim` argument to a layer. When using Sequential models, prefer using an `Input(shape)` object as the first layer in the model instead.\n",
      "  super().__init__(activity_regularizer=activity_regularizer, **kwargs)\n"
     ]
    },
    {
     "name": "stdout",
     "output_type": "stream",
     "text": [
      "\u001b[1m1/1\u001b[0m \u001b[32m━━━━━━━━━━━━━━━━━━━━\u001b[0m\u001b[37m\u001b[0m \u001b[1m0s\u001b[0m 35ms/step\n"
     ]
    },
    {
     "name": "stderr",
     "output_type": "stream",
     "text": [
      "/Users/lauramos/anaconda3/lib/python3.11/site-packages/keras/src/layers/core/dense.py:86: UserWarning: Do not pass an `input_shape`/`input_dim` argument to a layer. When using Sequential models, prefer using an `Input(shape)` object as the first layer in the model instead.\n",
      "  super().__init__(activity_regularizer=activity_regularizer, **kwargs)\n"
     ]
    },
    {
     "name": "stdout",
     "output_type": "stream",
     "text": [
      "\u001b[1m1/1\u001b[0m \u001b[32m━━━━━━━━━━━━━━━━━━━━\u001b[0m\u001b[37m\u001b[0m \u001b[1m0s\u001b[0m 38ms/step\n"
     ]
    },
    {
     "name": "stderr",
     "output_type": "stream",
     "text": [
      "/Users/lauramos/anaconda3/lib/python3.11/site-packages/keras/src/layers/core/dense.py:86: UserWarning: Do not pass an `input_shape`/`input_dim` argument to a layer. When using Sequential models, prefer using an `Input(shape)` object as the first layer in the model instead.\n",
      "  super().__init__(activity_regularizer=activity_regularizer, **kwargs)\n"
     ]
    },
    {
     "name": "stdout",
     "output_type": "stream",
     "text": [
      "\u001b[1m1/1\u001b[0m \u001b[32m━━━━━━━━━━━━━━━━━━━━\u001b[0m\u001b[37m\u001b[0m \u001b[1m0s\u001b[0m 36ms/step\n"
     ]
    },
    {
     "name": "stderr",
     "output_type": "stream",
     "text": [
      "/Users/lauramos/anaconda3/lib/python3.11/site-packages/keras/src/layers/core/dense.py:86: UserWarning: Do not pass an `input_shape`/`input_dim` argument to a layer. When using Sequential models, prefer using an `Input(shape)` object as the first layer in the model instead.\n",
      "  super().__init__(activity_regularizer=activity_regularizer, **kwargs)\n"
     ]
    },
    {
     "name": "stdout",
     "output_type": "stream",
     "text": [
      "\u001b[1m1/1\u001b[0m \u001b[32m━━━━━━━━━━━━━━━━━━━━\u001b[0m\u001b[37m\u001b[0m \u001b[1m0s\u001b[0m 61ms/step\n"
     ]
    },
    {
     "name": "stderr",
     "output_type": "stream",
     "text": [
      "/Users/lauramos/anaconda3/lib/python3.11/site-packages/keras/src/layers/core/dense.py:86: UserWarning: Do not pass an `input_shape`/`input_dim` argument to a layer. When using Sequential models, prefer using an `Input(shape)` object as the first layer in the model instead.\n",
      "  super().__init__(activity_regularizer=activity_regularizer, **kwargs)\n"
     ]
    },
    {
     "name": "stdout",
     "output_type": "stream",
     "text": [
      "\u001b[1m1/1\u001b[0m \u001b[32m━━━━━━━━━━━━━━━━━━━━\u001b[0m\u001b[37m\u001b[0m \u001b[1m0s\u001b[0m 35ms/step\n"
     ]
    },
    {
     "name": "stderr",
     "output_type": "stream",
     "text": [
      "/Users/lauramos/anaconda3/lib/python3.11/site-packages/keras/src/layers/core/dense.py:86: UserWarning: Do not pass an `input_shape`/`input_dim` argument to a layer. When using Sequential models, prefer using an `Input(shape)` object as the first layer in the model instead.\n",
      "  super().__init__(activity_regularizer=activity_regularizer, **kwargs)\n"
     ]
    },
    {
     "name": "stdout",
     "output_type": "stream",
     "text": [
      "\u001b[1m1/1\u001b[0m \u001b[32m━━━━━━━━━━━━━━━━━━━━\u001b[0m\u001b[37m\u001b[0m \u001b[1m0s\u001b[0m 38ms/step\n"
     ]
    },
    {
     "name": "stderr",
     "output_type": "stream",
     "text": [
      "/Users/lauramos/anaconda3/lib/python3.11/site-packages/keras/src/layers/core/dense.py:86: UserWarning: Do not pass an `input_shape`/`input_dim` argument to a layer. When using Sequential models, prefer using an `Input(shape)` object as the first layer in the model instead.\n",
      "  super().__init__(activity_regularizer=activity_regularizer, **kwargs)\n"
     ]
    },
    {
     "name": "stdout",
     "output_type": "stream",
     "text": [
      "\u001b[1m1/1\u001b[0m \u001b[32m━━━━━━━━━━━━━━━━━━━━\u001b[0m\u001b[37m\u001b[0m \u001b[1m0s\u001b[0m 41ms/step\n"
     ]
    },
    {
     "name": "stderr",
     "output_type": "stream",
     "text": [
      "/Users/lauramos/anaconda3/lib/python3.11/site-packages/keras/src/layers/core/dense.py:86: UserWarning: Do not pass an `input_shape`/`input_dim` argument to a layer. When using Sequential models, prefer using an `Input(shape)` object as the first layer in the model instead.\n",
      "  super().__init__(activity_regularizer=activity_regularizer, **kwargs)\n"
     ]
    },
    {
     "name": "stdout",
     "output_type": "stream",
     "text": [
      "\u001b[1m1/1\u001b[0m \u001b[32m━━━━━━━━━━━━━━━━━━━━\u001b[0m\u001b[37m\u001b[0m \u001b[1m0s\u001b[0m 48ms/step\n"
     ]
    },
    {
     "name": "stderr",
     "output_type": "stream",
     "text": [
      "/Users/lauramos/anaconda3/lib/python3.11/site-packages/keras/src/layers/core/dense.py:86: UserWarning: Do not pass an `input_shape`/`input_dim` argument to a layer. When using Sequential models, prefer using an `Input(shape)` object as the first layer in the model instead.\n",
      "  super().__init__(activity_regularizer=activity_regularizer, **kwargs)\n"
     ]
    },
    {
     "name": "stdout",
     "output_type": "stream",
     "text": [
      "\u001b[1m1/1\u001b[0m \u001b[32m━━━━━━━━━━━━━━━━━━━━\u001b[0m\u001b[37m\u001b[0m \u001b[1m0s\u001b[0m 54ms/step\n"
     ]
    },
    {
     "name": "stderr",
     "output_type": "stream",
     "text": [
      "/Users/lauramos/anaconda3/lib/python3.11/site-packages/keras/src/layers/core/dense.py:86: UserWarning: Do not pass an `input_shape`/`input_dim` argument to a layer. When using Sequential models, prefer using an `Input(shape)` object as the first layer in the model instead.\n",
      "  super().__init__(activity_regularizer=activity_regularizer, **kwargs)\n"
     ]
    },
    {
     "name": "stdout",
     "output_type": "stream",
     "text": [
      "\u001b[1m1/1\u001b[0m \u001b[32m━━━━━━━━━━━━━━━━━━━━\u001b[0m\u001b[37m\u001b[0m \u001b[1m0s\u001b[0m 56ms/step\n"
     ]
    },
    {
     "name": "stderr",
     "output_type": "stream",
     "text": [
      "/Users/lauramos/anaconda3/lib/python3.11/site-packages/keras/src/layers/core/dense.py:86: UserWarning: Do not pass an `input_shape`/`input_dim` argument to a layer. When using Sequential models, prefer using an `Input(shape)` object as the first layer in the model instead.\n",
      "  super().__init__(activity_regularizer=activity_regularizer, **kwargs)\n"
     ]
    },
    {
     "name": "stdout",
     "output_type": "stream",
     "text": [
      "\u001b[1m1/1\u001b[0m \u001b[32m━━━━━━━━━━━━━━━━━━━━\u001b[0m\u001b[37m\u001b[0m \u001b[1m0s\u001b[0m 64ms/step\n"
     ]
    },
    {
     "name": "stderr",
     "output_type": "stream",
     "text": [
      "/Users/lauramos/anaconda3/lib/python3.11/site-packages/keras/src/layers/core/dense.py:86: UserWarning: Do not pass an `input_shape`/`input_dim` argument to a layer. When using Sequential models, prefer using an `Input(shape)` object as the first layer in the model instead.\n",
      "  super().__init__(activity_regularizer=activity_regularizer, **kwargs)\n"
     ]
    },
    {
     "name": "stdout",
     "output_type": "stream",
     "text": [
      "\u001b[1m1/1\u001b[0m \u001b[32m━━━━━━━━━━━━━━━━━━━━\u001b[0m\u001b[37m\u001b[0m \u001b[1m0s\u001b[0m 123ms/step\n"
     ]
    },
    {
     "name": "stderr",
     "output_type": "stream",
     "text": [
      "/Users/lauramos/anaconda3/lib/python3.11/site-packages/keras/src/layers/core/dense.py:86: UserWarning: Do not pass an `input_shape`/`input_dim` argument to a layer. When using Sequential models, prefer using an `Input(shape)` object as the first layer in the model instead.\n",
      "  super().__init__(activity_regularizer=activity_regularizer, **kwargs)\n"
     ]
    },
    {
     "name": "stdout",
     "output_type": "stream",
     "text": [
      "\u001b[1m1/1\u001b[0m \u001b[32m━━━━━━━━━━━━━━━━━━━━\u001b[0m\u001b[37m\u001b[0m \u001b[1m0s\u001b[0m 209ms/step\n"
     ]
    },
    {
     "name": "stderr",
     "output_type": "stream",
     "text": [
      "/Users/lauramos/anaconda3/lib/python3.11/site-packages/keras/src/layers/core/dense.py:86: UserWarning: Do not pass an `input_shape`/`input_dim` argument to a layer. When using Sequential models, prefer using an `Input(shape)` object as the first layer in the model instead.\n",
      "  super().__init__(activity_regularizer=activity_regularizer, **kwargs)\n"
     ]
    },
    {
     "name": "stdout",
     "output_type": "stream",
     "text": [
      "\u001b[1m1/1\u001b[0m \u001b[32m━━━━━━━━━━━━━━━━━━━━\u001b[0m\u001b[37m\u001b[0m \u001b[1m0s\u001b[0m 149ms/step\n"
     ]
    },
    {
     "name": "stderr",
     "output_type": "stream",
     "text": [
      "/Users/lauramos/anaconda3/lib/python3.11/site-packages/keras/src/layers/core/dense.py:86: UserWarning: Do not pass an `input_shape`/`input_dim` argument to a layer. When using Sequential models, prefer using an `Input(shape)` object as the first layer in the model instead.\n",
      "  super().__init__(activity_regularizer=activity_regularizer, **kwargs)\n"
     ]
    },
    {
     "name": "stdout",
     "output_type": "stream",
     "text": [
      "\u001b[1m1/1\u001b[0m \u001b[32m━━━━━━━━━━━━━━━━━━━━\u001b[0m\u001b[37m\u001b[0m \u001b[1m0s\u001b[0m 170ms/step\n"
     ]
    },
    {
     "name": "stderr",
     "output_type": "stream",
     "text": [
      "/Users/lauramos/anaconda3/lib/python3.11/site-packages/keras/src/layers/core/dense.py:86: UserWarning: Do not pass an `input_shape`/`input_dim` argument to a layer. When using Sequential models, prefer using an `Input(shape)` object as the first layer in the model instead.\n",
      "  super().__init__(activity_regularizer=activity_regularizer, **kwargs)\n"
     ]
    },
    {
     "name": "stdout",
     "output_type": "stream",
     "text": [
      "\u001b[1m1/1\u001b[0m \u001b[32m━━━━━━━━━━━━━━━━━━━━\u001b[0m\u001b[37m\u001b[0m \u001b[1m0s\u001b[0m 206ms/step\n"
     ]
    },
    {
     "name": "stderr",
     "output_type": "stream",
     "text": [
      "/Users/lauramos/anaconda3/lib/python3.11/site-packages/keras/src/layers/core/dense.py:86: UserWarning: Do not pass an `input_shape`/`input_dim` argument to a layer. When using Sequential models, prefer using an `Input(shape)` object as the first layer in the model instead.\n",
      "  super().__init__(activity_regularizer=activity_regularizer, **kwargs)\n"
     ]
    },
    {
     "name": "stdout",
     "output_type": "stream",
     "text": [
      "\u001b[1m1/1\u001b[0m \u001b[32m━━━━━━━━━━━━━━━━━━━━\u001b[0m\u001b[37m\u001b[0m \u001b[1m0s\u001b[0m 114ms/step\n"
     ]
    },
    {
     "name": "stderr",
     "output_type": "stream",
     "text": [
      "/Users/lauramos/anaconda3/lib/python3.11/site-packages/keras/src/layers/core/dense.py:86: UserWarning: Do not pass an `input_shape`/`input_dim` argument to a layer. When using Sequential models, prefer using an `Input(shape)` object as the first layer in the model instead.\n",
      "  super().__init__(activity_regularizer=activity_regularizer, **kwargs)\n"
     ]
    },
    {
     "name": "stdout",
     "output_type": "stream",
     "text": [
      "\u001b[1m1/1\u001b[0m \u001b[32m━━━━━━━━━━━━━━━━━━━━\u001b[0m\u001b[37m\u001b[0m \u001b[1m0s\u001b[0m 82ms/step\n"
     ]
    },
    {
     "name": "stderr",
     "output_type": "stream",
     "text": [
      "/Users/lauramos/anaconda3/lib/python3.11/site-packages/keras/src/layers/core/dense.py:86: UserWarning: Do not pass an `input_shape`/`input_dim` argument to a layer. When using Sequential models, prefer using an `Input(shape)` object as the first layer in the model instead.\n",
      "  super().__init__(activity_regularizer=activity_regularizer, **kwargs)\n"
     ]
    },
    {
     "name": "stdout",
     "output_type": "stream",
     "text": [
      "\u001b[1m1/1\u001b[0m \u001b[32m━━━━━━━━━━━━━━━━━━━━\u001b[0m\u001b[37m\u001b[0m \u001b[1m0s\u001b[0m 107ms/step\n"
     ]
    },
    {
     "name": "stderr",
     "output_type": "stream",
     "text": [
      "/Users/lauramos/anaconda3/lib/python3.11/site-packages/keras/src/layers/core/dense.py:86: UserWarning: Do not pass an `input_shape`/`input_dim` argument to a layer. When using Sequential models, prefer using an `Input(shape)` object as the first layer in the model instead.\n",
      "  super().__init__(activity_regularizer=activity_regularizer, **kwargs)\n"
     ]
    },
    {
     "name": "stdout",
     "output_type": "stream",
     "text": [
      "\u001b[1m1/1\u001b[0m \u001b[32m━━━━━━━━━━━━━━━━━━━━\u001b[0m\u001b[37m\u001b[0m \u001b[1m0s\u001b[0m 67ms/step\n"
     ]
    },
    {
     "name": "stderr",
     "output_type": "stream",
     "text": [
      "/Users/lauramos/anaconda3/lib/python3.11/site-packages/keras/src/layers/core/dense.py:86: UserWarning: Do not pass an `input_shape`/`input_dim` argument to a layer. When using Sequential models, prefer using an `Input(shape)` object as the first layer in the model instead.\n",
      "  super().__init__(activity_regularizer=activity_regularizer, **kwargs)\n"
     ]
    },
    {
     "name": "stdout",
     "output_type": "stream",
     "text": [
      "\u001b[1m1/1\u001b[0m \u001b[32m━━━━━━━━━━━━━━━━━━━━\u001b[0m\u001b[37m\u001b[0m \u001b[1m0s\u001b[0m 61ms/step\n"
     ]
    },
    {
     "name": "stderr",
     "output_type": "stream",
     "text": [
      "/Users/lauramos/anaconda3/lib/python3.11/site-packages/keras/src/layers/core/dense.py:86: UserWarning: Do not pass an `input_shape`/`input_dim` argument to a layer. When using Sequential models, prefer using an `Input(shape)` object as the first layer in the model instead.\n",
      "  super().__init__(activity_regularizer=activity_regularizer, **kwargs)\n"
     ]
    },
    {
     "name": "stdout",
     "output_type": "stream",
     "text": [
      "\u001b[1m1/1\u001b[0m \u001b[32m━━━━━━━━━━━━━━━━━━━━\u001b[0m\u001b[37m\u001b[0m \u001b[1m0s\u001b[0m 57ms/step\n"
     ]
    },
    {
     "name": "stderr",
     "output_type": "stream",
     "text": [
      "/Users/lauramos/anaconda3/lib/python3.11/site-packages/keras/src/layers/core/dense.py:86: UserWarning: Do not pass an `input_shape`/`input_dim` argument to a layer. When using Sequential models, prefer using an `Input(shape)` object as the first layer in the model instead.\n",
      "  super().__init__(activity_regularizer=activity_regularizer, **kwargs)\n"
     ]
    },
    {
     "name": "stdout",
     "output_type": "stream",
     "text": [
      "\u001b[1m1/1\u001b[0m \u001b[32m━━━━━━━━━━━━━━━━━━━━\u001b[0m\u001b[37m\u001b[0m \u001b[1m0s\u001b[0m 57ms/step\n"
     ]
    },
    {
     "name": "stderr",
     "output_type": "stream",
     "text": [
      "/Users/lauramos/anaconda3/lib/python3.11/site-packages/keras/src/layers/core/dense.py:86: UserWarning: Do not pass an `input_shape`/`input_dim` argument to a layer. When using Sequential models, prefer using an `Input(shape)` object as the first layer in the model instead.\n",
      "  super().__init__(activity_regularizer=activity_regularizer, **kwargs)\n"
     ]
    },
    {
     "name": "stdout",
     "output_type": "stream",
     "text": [
      "\u001b[1m1/1\u001b[0m \u001b[32m━━━━━━━━━━━━━━━━━━━━\u001b[0m\u001b[37m\u001b[0m \u001b[1m0s\u001b[0m 51ms/step\n"
     ]
    },
    {
     "name": "stderr",
     "output_type": "stream",
     "text": [
      "/Users/lauramos/anaconda3/lib/python3.11/site-packages/keras/src/layers/core/dense.py:86: UserWarning: Do not pass an `input_shape`/`input_dim` argument to a layer. When using Sequential models, prefer using an `Input(shape)` object as the first layer in the model instead.\n",
      "  super().__init__(activity_regularizer=activity_regularizer, **kwargs)\n"
     ]
    },
    {
     "name": "stdout",
     "output_type": "stream",
     "text": [
      "\u001b[1m1/1\u001b[0m \u001b[32m━━━━━━━━━━━━━━━━━━━━\u001b[0m\u001b[37m\u001b[0m \u001b[1m0s\u001b[0m 50ms/step\n"
     ]
    },
    {
     "name": "stderr",
     "output_type": "stream",
     "text": [
      "/Users/lauramos/anaconda3/lib/python3.11/site-packages/keras/src/layers/core/dense.py:86: UserWarning: Do not pass an `input_shape`/`input_dim` argument to a layer. When using Sequential models, prefer using an `Input(shape)` object as the first layer in the model instead.\n",
      "  super().__init__(activity_regularizer=activity_regularizer, **kwargs)\n"
     ]
    },
    {
     "name": "stdout",
     "output_type": "stream",
     "text": [
      "\u001b[1m1/1\u001b[0m \u001b[32m━━━━━━━━━━━━━━━━━━━━\u001b[0m\u001b[37m\u001b[0m \u001b[1m0s\u001b[0m 48ms/step\n"
     ]
    },
    {
     "name": "stderr",
     "output_type": "stream",
     "text": [
      "/Users/lauramos/anaconda3/lib/python3.11/site-packages/keras/src/layers/core/dense.py:86: UserWarning: Do not pass an `input_shape`/`input_dim` argument to a layer. When using Sequential models, prefer using an `Input(shape)` object as the first layer in the model instead.\n",
      "  super().__init__(activity_regularizer=activity_regularizer, **kwargs)\n"
     ]
    },
    {
     "name": "stdout",
     "output_type": "stream",
     "text": [
      "\u001b[1m1/1\u001b[0m \u001b[32m━━━━━━━━━━━━━━━━━━━━\u001b[0m\u001b[37m\u001b[0m \u001b[1m0s\u001b[0m 47ms/step\n"
     ]
    },
    {
     "name": "stderr",
     "output_type": "stream",
     "text": [
      "/Users/lauramos/anaconda3/lib/python3.11/site-packages/keras/src/layers/core/dense.py:86: UserWarning: Do not pass an `input_shape`/`input_dim` argument to a layer. When using Sequential models, prefer using an `Input(shape)` object as the first layer in the model instead.\n",
      "  super().__init__(activity_regularizer=activity_regularizer, **kwargs)\n"
     ]
    },
    {
     "name": "stdout",
     "output_type": "stream",
     "text": [
      "\u001b[1m1/1\u001b[0m \u001b[32m━━━━━━━━━━━━━━━━━━━━\u001b[0m\u001b[37m\u001b[0m \u001b[1m0s\u001b[0m 45ms/step\n"
     ]
    },
    {
     "name": "stderr",
     "output_type": "stream",
     "text": [
      "/Users/lauramos/anaconda3/lib/python3.11/site-packages/keras/src/layers/core/dense.py:86: UserWarning: Do not pass an `input_shape`/`input_dim` argument to a layer. When using Sequential models, prefer using an `Input(shape)` object as the first layer in the model instead.\n",
      "  super().__init__(activity_regularizer=activity_regularizer, **kwargs)\n"
     ]
    },
    {
     "name": "stdout",
     "output_type": "stream",
     "text": [
      "\u001b[1m1/1\u001b[0m \u001b[32m━━━━━━━━━━━━━━━━━━━━\u001b[0m\u001b[37m\u001b[0m \u001b[1m0s\u001b[0m 44ms/step\n"
     ]
    },
    {
     "name": "stderr",
     "output_type": "stream",
     "text": [
      "/Users/lauramos/anaconda3/lib/python3.11/site-packages/keras/src/layers/core/dense.py:86: UserWarning: Do not pass an `input_shape`/`input_dim` argument to a layer. When using Sequential models, prefer using an `Input(shape)` object as the first layer in the model instead.\n",
      "  super().__init__(activity_regularizer=activity_regularizer, **kwargs)\n"
     ]
    },
    {
     "name": "stdout",
     "output_type": "stream",
     "text": [
      "\u001b[1m1/1\u001b[0m \u001b[32m━━━━━━━━━━━━━━━━━━━━\u001b[0m\u001b[37m\u001b[0m \u001b[1m0s\u001b[0m 54ms/step\n"
     ]
    },
    {
     "name": "stderr",
     "output_type": "stream",
     "text": [
      "/Users/lauramos/anaconda3/lib/python3.11/site-packages/keras/src/layers/core/dense.py:86: UserWarning: Do not pass an `input_shape`/`input_dim` argument to a layer. When using Sequential models, prefer using an `Input(shape)` object as the first layer in the model instead.\n",
      "  super().__init__(activity_regularizer=activity_regularizer, **kwargs)\n"
     ]
    },
    {
     "name": "stdout",
     "output_type": "stream",
     "text": [
      "\u001b[1m1/1\u001b[0m \u001b[32m━━━━━━━━━━━━━━━━━━━━\u001b[0m\u001b[37m\u001b[0m \u001b[1m0s\u001b[0m 69ms/step\n"
     ]
    },
    {
     "name": "stderr",
     "output_type": "stream",
     "text": [
      "/Users/lauramos/anaconda3/lib/python3.11/site-packages/keras/src/layers/core/dense.py:86: UserWarning: Do not pass an `input_shape`/`input_dim` argument to a layer. When using Sequential models, prefer using an `Input(shape)` object as the first layer in the model instead.\n",
      "  super().__init__(activity_regularizer=activity_regularizer, **kwargs)\n"
     ]
    },
    {
     "name": "stdout",
     "output_type": "stream",
     "text": [
      "\u001b[1m1/1\u001b[0m \u001b[32m━━━━━━━━━━━━━━━━━━━━\u001b[0m\u001b[37m\u001b[0m \u001b[1m0s\u001b[0m 48ms/step\n"
     ]
    },
    {
     "name": "stderr",
     "output_type": "stream",
     "text": [
      "/Users/lauramos/anaconda3/lib/python3.11/site-packages/keras/src/layers/core/dense.py:86: UserWarning: Do not pass an `input_shape`/`input_dim` argument to a layer. When using Sequential models, prefer using an `Input(shape)` object as the first layer in the model instead.\n",
      "  super().__init__(activity_regularizer=activity_regularizer, **kwargs)\n"
     ]
    },
    {
     "name": "stdout",
     "output_type": "stream",
     "text": [
      "\u001b[1m1/1\u001b[0m \u001b[32m━━━━━━━━━━━━━━━━━━━━\u001b[0m\u001b[37m\u001b[0m \u001b[1m0s\u001b[0m 52ms/step\n"
     ]
    },
    {
     "name": "stderr",
     "output_type": "stream",
     "text": [
      "/Users/lauramos/anaconda3/lib/python3.11/site-packages/keras/src/layers/core/dense.py:86: UserWarning: Do not pass an `input_shape`/`input_dim` argument to a layer. When using Sequential models, prefer using an `Input(shape)` object as the first layer in the model instead.\n",
      "  super().__init__(activity_regularizer=activity_regularizer, **kwargs)\n"
     ]
    },
    {
     "name": "stdout",
     "output_type": "stream",
     "text": [
      "\u001b[1m1/1\u001b[0m \u001b[32m━━━━━━━━━━━━━━━━━━━━\u001b[0m\u001b[37m\u001b[0m \u001b[1m0s\u001b[0m 56ms/step\n"
     ]
    },
    {
     "name": "stderr",
     "output_type": "stream",
     "text": [
      "/Users/lauramos/anaconda3/lib/python3.11/site-packages/keras/src/layers/core/dense.py:86: UserWarning: Do not pass an `input_shape`/`input_dim` argument to a layer. When using Sequential models, prefer using an `Input(shape)` object as the first layer in the model instead.\n",
      "  super().__init__(activity_regularizer=activity_regularizer, **kwargs)\n"
     ]
    },
    {
     "name": "stdout",
     "output_type": "stream",
     "text": [
      "\u001b[1m1/1\u001b[0m \u001b[32m━━━━━━━━━━━━━━━━━━━━\u001b[0m\u001b[37m\u001b[0m \u001b[1m0s\u001b[0m 53ms/step\n"
     ]
    },
    {
     "name": "stderr",
     "output_type": "stream",
     "text": [
      "/Users/lauramos/anaconda3/lib/python3.11/site-packages/keras/src/layers/core/dense.py:86: UserWarning: Do not pass an `input_shape`/`input_dim` argument to a layer. When using Sequential models, prefer using an `Input(shape)` object as the first layer in the model instead.\n",
      "  super().__init__(activity_regularizer=activity_regularizer, **kwargs)\n"
     ]
    },
    {
     "name": "stdout",
     "output_type": "stream",
     "text": [
      "\u001b[1m1/1\u001b[0m \u001b[32m━━━━━━━━━━━━━━━━━━━━\u001b[0m\u001b[37m\u001b[0m \u001b[1m0s\u001b[0m 51ms/step\n"
     ]
    },
    {
     "name": "stderr",
     "output_type": "stream",
     "text": [
      "/Users/lauramos/anaconda3/lib/python3.11/site-packages/keras/src/layers/core/dense.py:86: UserWarning: Do not pass an `input_shape`/`input_dim` argument to a layer. When using Sequential models, prefer using an `Input(shape)` object as the first layer in the model instead.\n",
      "  super().__init__(activity_regularizer=activity_regularizer, **kwargs)\n"
     ]
    },
    {
     "name": "stdout",
     "output_type": "stream",
     "text": [
      "\u001b[1m1/1\u001b[0m \u001b[32m━━━━━━━━━━━━━━━━━━━━\u001b[0m\u001b[37m\u001b[0m \u001b[1m0s\u001b[0m 52ms/step\n"
     ]
    },
    {
     "name": "stderr",
     "output_type": "stream",
     "text": [
      "/Users/lauramos/anaconda3/lib/python3.11/site-packages/keras/src/layers/core/dense.py:86: UserWarning: Do not pass an `input_shape`/`input_dim` argument to a layer. When using Sequential models, prefer using an `Input(shape)` object as the first layer in the model instead.\n",
      "  super().__init__(activity_regularizer=activity_regularizer, **kwargs)\n"
     ]
    },
    {
     "name": "stdout",
     "output_type": "stream",
     "text": [
      "\u001b[1m1/1\u001b[0m \u001b[32m━━━━━━━━━━━━━━━━━━━━\u001b[0m\u001b[37m\u001b[0m \u001b[1m0s\u001b[0m 56ms/step\n"
     ]
    },
    {
     "name": "stderr",
     "output_type": "stream",
     "text": [
      "/Users/lauramos/anaconda3/lib/python3.11/site-packages/keras/src/layers/core/dense.py:86: UserWarning: Do not pass an `input_shape`/`input_dim` argument to a layer. When using Sequential models, prefer using an `Input(shape)` object as the first layer in the model instead.\n",
      "  super().__init__(activity_regularizer=activity_regularizer, **kwargs)\n"
     ]
    },
    {
     "name": "stdout",
     "output_type": "stream",
     "text": [
      "\u001b[1m1/1\u001b[0m \u001b[32m━━━━━━━━━━━━━━━━━━━━\u001b[0m\u001b[37m\u001b[0m \u001b[1m0s\u001b[0m 56ms/step\n"
     ]
    },
    {
     "name": "stderr",
     "output_type": "stream",
     "text": [
      "/Users/lauramos/anaconda3/lib/python3.11/site-packages/keras/src/layers/core/dense.py:86: UserWarning: Do not pass an `input_shape`/`input_dim` argument to a layer. When using Sequential models, prefer using an `Input(shape)` object as the first layer in the model instead.\n",
      "  super().__init__(activity_regularizer=activity_regularizer, **kwargs)\n"
     ]
    },
    {
     "name": "stdout",
     "output_type": "stream",
     "text": [
      "\u001b[1m1/1\u001b[0m \u001b[32m━━━━━━━━━━━━━━━━━━━━\u001b[0m\u001b[37m\u001b[0m \u001b[1m0s\u001b[0m 65ms/step\n"
     ]
    },
    {
     "name": "stderr",
     "output_type": "stream",
     "text": [
      "/Users/lauramos/anaconda3/lib/python3.11/site-packages/keras/src/layers/core/dense.py:86: UserWarning: Do not pass an `input_shape`/`input_dim` argument to a layer. When using Sequential models, prefer using an `Input(shape)` object as the first layer in the model instead.\n",
      "  super().__init__(activity_regularizer=activity_regularizer, **kwargs)\n"
     ]
    },
    {
     "name": "stdout",
     "output_type": "stream",
     "text": [
      "\u001b[1m1/1\u001b[0m \u001b[32m━━━━━━━━━━━━━━━━━━━━\u001b[0m\u001b[37m\u001b[0m \u001b[1m0s\u001b[0m 65ms/step\n"
     ]
    },
    {
     "name": "stderr",
     "output_type": "stream",
     "text": [
      "/Users/lauramos/anaconda3/lib/python3.11/site-packages/keras/src/layers/core/dense.py:86: UserWarning: Do not pass an `input_shape`/`input_dim` argument to a layer. When using Sequential models, prefer using an `Input(shape)` object as the first layer in the model instead.\n",
      "  super().__init__(activity_regularizer=activity_regularizer, **kwargs)\n"
     ]
    },
    {
     "name": "stdout",
     "output_type": "stream",
     "text": [
      "\u001b[1m1/1\u001b[0m \u001b[32m━━━━━━━━━━━━━━━━━━━━\u001b[0m\u001b[37m\u001b[0m \u001b[1m0s\u001b[0m 68ms/step\n"
     ]
    },
    {
     "name": "stderr",
     "output_type": "stream",
     "text": [
      "/Users/lauramos/anaconda3/lib/python3.11/site-packages/keras/src/layers/core/dense.py:86: UserWarning: Do not pass an `input_shape`/`input_dim` argument to a layer. When using Sequential models, prefer using an `Input(shape)` object as the first layer in the model instead.\n",
      "  super().__init__(activity_regularizer=activity_regularizer, **kwargs)\n"
     ]
    },
    {
     "name": "stdout",
     "output_type": "stream",
     "text": [
      "\u001b[1m1/1\u001b[0m \u001b[32m━━━━━━━━━━━━━━━━━━━━\u001b[0m\u001b[37m\u001b[0m \u001b[1m0s\u001b[0m 72ms/step\n"
     ]
    },
    {
     "name": "stderr",
     "output_type": "stream",
     "text": [
      "/Users/lauramos/anaconda3/lib/python3.11/site-packages/keras/src/layers/core/dense.py:86: UserWarning: Do not pass an `input_shape`/`input_dim` argument to a layer. When using Sequential models, prefer using an `Input(shape)` object as the first layer in the model instead.\n",
      "  super().__init__(activity_regularizer=activity_regularizer, **kwargs)\n"
     ]
    },
    {
     "name": "stdout",
     "output_type": "stream",
     "text": [
      "\u001b[1m1/1\u001b[0m \u001b[32m━━━━━━━━━━━━━━━━━━━━\u001b[0m\u001b[37m\u001b[0m \u001b[1m0s\u001b[0m 68ms/step\n"
     ]
    },
    {
     "name": "stderr",
     "output_type": "stream",
     "text": [
      "/Users/lauramos/anaconda3/lib/python3.11/site-packages/keras/src/layers/core/dense.py:86: UserWarning: Do not pass an `input_shape`/`input_dim` argument to a layer. When using Sequential models, prefer using an `Input(shape)` object as the first layer in the model instead.\n",
      "  super().__init__(activity_regularizer=activity_regularizer, **kwargs)\n"
     ]
    },
    {
     "name": "stdout",
     "output_type": "stream",
     "text": [
      "\u001b[1m1/1\u001b[0m \u001b[32m━━━━━━━━━━━━━━━━━━━━\u001b[0m\u001b[37m\u001b[0m \u001b[1m0s\u001b[0m 85ms/step\n"
     ]
    },
    {
     "name": "stderr",
     "output_type": "stream",
     "text": [
      "/Users/lauramos/anaconda3/lib/python3.11/site-packages/keras/src/layers/core/dense.py:86: UserWarning: Do not pass an `input_shape`/`input_dim` argument to a layer. When using Sequential models, prefer using an `Input(shape)` object as the first layer in the model instead.\n",
      "  super().__init__(activity_regularizer=activity_regularizer, **kwargs)\n"
     ]
    },
    {
     "name": "stdout",
     "output_type": "stream",
     "text": [
      "\u001b[1m1/1\u001b[0m \u001b[32m━━━━━━━━━━━━━━━━━━━━\u001b[0m\u001b[37m\u001b[0m \u001b[1m0s\u001b[0m 74ms/step\n"
     ]
    },
    {
     "name": "stderr",
     "output_type": "stream",
     "text": [
      "/Users/lauramos/anaconda3/lib/python3.11/site-packages/keras/src/layers/core/dense.py:86: UserWarning: Do not pass an `input_shape`/`input_dim` argument to a layer. When using Sequential models, prefer using an `Input(shape)` object as the first layer in the model instead.\n",
      "  super().__init__(activity_regularizer=activity_regularizer, **kwargs)\n"
     ]
    },
    {
     "name": "stdout",
     "output_type": "stream",
     "text": [
      "\u001b[1m1/1\u001b[0m \u001b[32m━━━━━━━━━━━━━━━━━━━━\u001b[0m\u001b[37m\u001b[0m \u001b[1m0s\u001b[0m 80ms/step\n"
     ]
    },
    {
     "name": "stderr",
     "output_type": "stream",
     "text": [
      "/Users/lauramos/anaconda3/lib/python3.11/site-packages/keras/src/layers/core/dense.py:86: UserWarning: Do not pass an `input_shape`/`input_dim` argument to a layer. When using Sequential models, prefer using an `Input(shape)` object as the first layer in the model instead.\n",
      "  super().__init__(activity_regularizer=activity_regularizer, **kwargs)\n"
     ]
    },
    {
     "name": "stdout",
     "output_type": "stream",
     "text": [
      "\u001b[1m1/1\u001b[0m \u001b[32m━━━━━━━━━━━━━━━━━━━━\u001b[0m\u001b[37m\u001b[0m \u001b[1m0s\u001b[0m 82ms/step\n"
     ]
    },
    {
     "name": "stderr",
     "output_type": "stream",
     "text": [
      "/Users/lauramos/anaconda3/lib/python3.11/site-packages/keras/src/layers/core/dense.py:86: UserWarning: Do not pass an `input_shape`/`input_dim` argument to a layer. When using Sequential models, prefer using an `Input(shape)` object as the first layer in the model instead.\n",
      "  super().__init__(activity_regularizer=activity_regularizer, **kwargs)\n"
     ]
    },
    {
     "name": "stdout",
     "output_type": "stream",
     "text": [
      "\u001b[1m1/1\u001b[0m \u001b[32m━━━━━━━━━━━━━━━━━━━━\u001b[0m\u001b[37m\u001b[0m \u001b[1m0s\u001b[0m 88ms/step\n"
     ]
    },
    {
     "name": "stderr",
     "output_type": "stream",
     "text": [
      "/Users/lauramos/anaconda3/lib/python3.11/site-packages/keras/src/layers/core/dense.py:86: UserWarning: Do not pass an `input_shape`/`input_dim` argument to a layer. When using Sequential models, prefer using an `Input(shape)` object as the first layer in the model instead.\n",
      "  super().__init__(activity_regularizer=activity_regularizer, **kwargs)\n"
     ]
    },
    {
     "name": "stdout",
     "output_type": "stream",
     "text": [
      "\u001b[1m1/1\u001b[0m \u001b[32m━━━━━━━━━━━━━━━━━━━━\u001b[0m\u001b[37m\u001b[0m \u001b[1m0s\u001b[0m 92ms/step\n"
     ]
    },
    {
     "name": "stderr",
     "output_type": "stream",
     "text": [
      "/Users/lauramos/anaconda3/lib/python3.11/site-packages/keras/src/layers/core/dense.py:86: UserWarning: Do not pass an `input_shape`/`input_dim` argument to a layer. When using Sequential models, prefer using an `Input(shape)` object as the first layer in the model instead.\n",
      "  super().__init__(activity_regularizer=activity_regularizer, **kwargs)\n"
     ]
    },
    {
     "name": "stdout",
     "output_type": "stream",
     "text": [
      "\u001b[1m1/1\u001b[0m \u001b[32m━━━━━━━━━━━━━━━━━━━━\u001b[0m\u001b[37m\u001b[0m \u001b[1m0s\u001b[0m 129ms/step\n"
     ]
    },
    {
     "name": "stderr",
     "output_type": "stream",
     "text": [
      "/Users/lauramos/anaconda3/lib/python3.11/site-packages/keras/src/layers/core/dense.py:86: UserWarning: Do not pass an `input_shape`/`input_dim` argument to a layer. When using Sequential models, prefer using an `Input(shape)` object as the first layer in the model instead.\n",
      "  super().__init__(activity_regularizer=activity_regularizer, **kwargs)\n"
     ]
    },
    {
     "name": "stdout",
     "output_type": "stream",
     "text": [
      "\u001b[1m1/1\u001b[0m \u001b[32m━━━━━━━━━━━━━━━━━━━━\u001b[0m\u001b[37m\u001b[0m \u001b[1m0s\u001b[0m 99ms/step\n"
     ]
    },
    {
     "name": "stderr",
     "output_type": "stream",
     "text": [
      "/Users/lauramos/anaconda3/lib/python3.11/site-packages/keras/src/layers/core/dense.py:86: UserWarning: Do not pass an `input_shape`/`input_dim` argument to a layer. When using Sequential models, prefer using an `Input(shape)` object as the first layer in the model instead.\n",
      "  super().__init__(activity_regularizer=activity_regularizer, **kwargs)\n"
     ]
    },
    {
     "name": "stdout",
     "output_type": "stream",
     "text": [
      "\u001b[1m1/1\u001b[0m \u001b[32m━━━━━━━━━━━━━━━━━━━━\u001b[0m\u001b[37m\u001b[0m \u001b[1m0s\u001b[0m 117ms/step\n"
     ]
    },
    {
     "name": "stderr",
     "output_type": "stream",
     "text": [
      "/Users/lauramos/anaconda3/lib/python3.11/site-packages/keras/src/layers/core/dense.py:86: UserWarning: Do not pass an `input_shape`/`input_dim` argument to a layer. When using Sequential models, prefer using an `Input(shape)` object as the first layer in the model instead.\n",
      "  super().__init__(activity_regularizer=activity_regularizer, **kwargs)\n"
     ]
    },
    {
     "name": "stdout",
     "output_type": "stream",
     "text": [
      "\u001b[1m1/1\u001b[0m \u001b[32m━━━━━━━━━━━━━━━━━━━━\u001b[0m\u001b[37m\u001b[0m \u001b[1m0s\u001b[0m 119ms/step\n"
     ]
    },
    {
     "name": "stderr",
     "output_type": "stream",
     "text": [
      "/Users/lauramos/anaconda3/lib/python3.11/site-packages/keras/src/layers/core/dense.py:86: UserWarning: Do not pass an `input_shape`/`input_dim` argument to a layer. When using Sequential models, prefer using an `Input(shape)` object as the first layer in the model instead.\n",
      "  super().__init__(activity_regularizer=activity_regularizer, **kwargs)\n"
     ]
    },
    {
     "name": "stdout",
     "output_type": "stream",
     "text": [
      "\u001b[1m1/1\u001b[0m \u001b[32m━━━━━━━━━━━━━━━━━━━━\u001b[0m\u001b[37m\u001b[0m \u001b[1m0s\u001b[0m 147ms/step\n"
     ]
    },
    {
     "name": "stderr",
     "output_type": "stream",
     "text": [
      "/Users/lauramos/anaconda3/lib/python3.11/site-packages/keras/src/layers/core/dense.py:86: UserWarning: Do not pass an `input_shape`/`input_dim` argument to a layer. When using Sequential models, prefer using an `Input(shape)` object as the first layer in the model instead.\n",
      "  super().__init__(activity_regularizer=activity_regularizer, **kwargs)\n"
     ]
    },
    {
     "name": "stdout",
     "output_type": "stream",
     "text": [
      "\u001b[1m1/1\u001b[0m \u001b[32m━━━━━━━━━━━━━━━━━━━━\u001b[0m\u001b[37m\u001b[0m \u001b[1m0s\u001b[0m 94ms/step\n"
     ]
    },
    {
     "name": "stderr",
     "output_type": "stream",
     "text": [
      "/Users/lauramos/anaconda3/lib/python3.11/site-packages/keras/src/layers/core/dense.py:86: UserWarning: Do not pass an `input_shape`/`input_dim` argument to a layer. When using Sequential models, prefer using an `Input(shape)` object as the first layer in the model instead.\n",
      "  super().__init__(activity_regularizer=activity_regularizer, **kwargs)\n"
     ]
    },
    {
     "name": "stdout",
     "output_type": "stream",
     "text": [
      "\u001b[1m1/1\u001b[0m \u001b[32m━━━━━━━━━━━━━━━━━━━━\u001b[0m\u001b[37m\u001b[0m \u001b[1m0s\u001b[0m 98ms/step\n"
     ]
    },
    {
     "name": "stderr",
     "output_type": "stream",
     "text": [
      "/Users/lauramos/anaconda3/lib/python3.11/site-packages/keras/src/layers/core/dense.py:86: UserWarning: Do not pass an `input_shape`/`input_dim` argument to a layer. When using Sequential models, prefer using an `Input(shape)` object as the first layer in the model instead.\n",
      "  super().__init__(activity_regularizer=activity_regularizer, **kwargs)\n"
     ]
    },
    {
     "name": "stdout",
     "output_type": "stream",
     "text": [
      "\u001b[1m1/1\u001b[0m \u001b[32m━━━━━━━━━━━━━━━━━━━━\u001b[0m\u001b[37m\u001b[0m \u001b[1m0s\u001b[0m 108ms/step\n"
     ]
    },
    {
     "name": "stderr",
     "output_type": "stream",
     "text": [
      "/Users/lauramos/anaconda3/lib/python3.11/site-packages/keras/src/layers/core/dense.py:86: UserWarning: Do not pass an `input_shape`/`input_dim` argument to a layer. When using Sequential models, prefer using an `Input(shape)` object as the first layer in the model instead.\n",
      "  super().__init__(activity_regularizer=activity_regularizer, **kwargs)\n"
     ]
    },
    {
     "name": "stdout",
     "output_type": "stream",
     "text": [
      "\u001b[1m1/1\u001b[0m \u001b[32m━━━━━━━━━━━━━━━━━━━━\u001b[0m\u001b[37m\u001b[0m \u001b[1m0s\u001b[0m 115ms/step\n"
     ]
    },
    {
     "name": "stderr",
     "output_type": "stream",
     "text": [
      "/Users/lauramos/anaconda3/lib/python3.11/site-packages/keras/src/layers/core/dense.py:86: UserWarning: Do not pass an `input_shape`/`input_dim` argument to a layer. When using Sequential models, prefer using an `Input(shape)` object as the first layer in the model instead.\n",
      "  super().__init__(activity_regularizer=activity_regularizer, **kwargs)\n"
     ]
    },
    {
     "name": "stdout",
     "output_type": "stream",
     "text": [
      "\u001b[1m1/1\u001b[0m \u001b[32m━━━━━━━━━━━━━━━━━━━━\u001b[0m\u001b[37m\u001b[0m \u001b[1m0s\u001b[0m 97ms/step\n"
     ]
    },
    {
     "name": "stderr",
     "output_type": "stream",
     "text": [
      "/Users/lauramos/anaconda3/lib/python3.11/site-packages/keras/src/layers/core/dense.py:86: UserWarning: Do not pass an `input_shape`/`input_dim` argument to a layer. When using Sequential models, prefer using an `Input(shape)` object as the first layer in the model instead.\n",
      "  super().__init__(activity_regularizer=activity_regularizer, **kwargs)\n"
     ]
    },
    {
     "name": "stdout",
     "output_type": "stream",
     "text": [
      "\u001b[1m1/1\u001b[0m \u001b[32m━━━━━━━━━━━━━━━━━━━━\u001b[0m\u001b[37m\u001b[0m \u001b[1m0s\u001b[0m 84ms/step\n"
     ]
    },
    {
     "name": "stderr",
     "output_type": "stream",
     "text": [
      "/Users/lauramos/anaconda3/lib/python3.11/site-packages/keras/src/layers/core/dense.py:86: UserWarning: Do not pass an `input_shape`/`input_dim` argument to a layer. When using Sequential models, prefer using an `Input(shape)` object as the first layer in the model instead.\n",
      "  super().__init__(activity_regularizer=activity_regularizer, **kwargs)\n"
     ]
    },
    {
     "name": "stdout",
     "output_type": "stream",
     "text": [
      "\u001b[1m1/1\u001b[0m \u001b[32m━━━━━━━━━━━━━━━━━━━━\u001b[0m\u001b[37m\u001b[0m \u001b[1m0s\u001b[0m 73ms/step\n"
     ]
    },
    {
     "name": "stderr",
     "output_type": "stream",
     "text": [
      "/Users/lauramos/anaconda3/lib/python3.11/site-packages/keras/src/layers/core/dense.py:86: UserWarning: Do not pass an `input_shape`/`input_dim` argument to a layer. When using Sequential models, prefer using an `Input(shape)` object as the first layer in the model instead.\n",
      "  super().__init__(activity_regularizer=activity_regularizer, **kwargs)\n"
     ]
    },
    {
     "name": "stdout",
     "output_type": "stream",
     "text": [
      "\u001b[1m1/1\u001b[0m \u001b[32m━━━━━━━━━━━━━━━━━━━━\u001b[0m\u001b[37m\u001b[0m \u001b[1m0s\u001b[0m 70ms/step\n"
     ]
    },
    {
     "name": "stderr",
     "output_type": "stream",
     "text": [
      "/Users/lauramos/anaconda3/lib/python3.11/site-packages/keras/src/layers/core/dense.py:86: UserWarning: Do not pass an `input_shape`/`input_dim` argument to a layer. When using Sequential models, prefer using an `Input(shape)` object as the first layer in the model instead.\n",
      "  super().__init__(activity_regularizer=activity_regularizer, **kwargs)\n"
     ]
    },
    {
     "name": "stdout",
     "output_type": "stream",
     "text": [
      "\u001b[1m1/1\u001b[0m \u001b[32m━━━━━━━━━━━━━━━━━━━━\u001b[0m\u001b[37m\u001b[0m \u001b[1m0s\u001b[0m 62ms/step\n"
     ]
    },
    {
     "name": "stderr",
     "output_type": "stream",
     "text": [
      "/Users/lauramos/anaconda3/lib/python3.11/site-packages/keras/src/layers/core/dense.py:86: UserWarning: Do not pass an `input_shape`/`input_dim` argument to a layer. When using Sequential models, prefer using an `Input(shape)` object as the first layer in the model instead.\n",
      "  super().__init__(activity_regularizer=activity_regularizer, **kwargs)\n"
     ]
    },
    {
     "name": "stdout",
     "output_type": "stream",
     "text": [
      "\u001b[1m1/1\u001b[0m \u001b[32m━━━━━━━━━━━━━━━━━━━━\u001b[0m\u001b[37m\u001b[0m \u001b[1m0s\u001b[0m 60ms/step\n"
     ]
    },
    {
     "name": "stderr",
     "output_type": "stream",
     "text": [
      "/Users/lauramos/anaconda3/lib/python3.11/site-packages/keras/src/layers/core/dense.py:86: UserWarning: Do not pass an `input_shape`/`input_dim` argument to a layer. When using Sequential models, prefer using an `Input(shape)` object as the first layer in the model instead.\n",
      "  super().__init__(activity_regularizer=activity_regularizer, **kwargs)\n"
     ]
    },
    {
     "name": "stdout",
     "output_type": "stream",
     "text": [
      "\u001b[1m1/1\u001b[0m \u001b[32m━━━━━━━━━━━━━━━━━━━━\u001b[0m\u001b[37m\u001b[0m \u001b[1m0s\u001b[0m 55ms/step\n"
     ]
    },
    {
     "name": "stderr",
     "output_type": "stream",
     "text": [
      "/Users/lauramos/anaconda3/lib/python3.11/site-packages/keras/src/layers/core/dense.py:86: UserWarning: Do not pass an `input_shape`/`input_dim` argument to a layer. When using Sequential models, prefer using an `Input(shape)` object as the first layer in the model instead.\n",
      "  super().__init__(activity_regularizer=activity_regularizer, **kwargs)\n"
     ]
    },
    {
     "name": "stdout",
     "output_type": "stream",
     "text": [
      "\u001b[1m1/1\u001b[0m \u001b[32m━━━━━━━━━━━━━━━━━━━━\u001b[0m\u001b[37m\u001b[0m \u001b[1m0s\u001b[0m 52ms/step\n"
     ]
    },
    {
     "name": "stderr",
     "output_type": "stream",
     "text": [
      "/Users/lauramos/anaconda3/lib/python3.11/site-packages/keras/src/layers/core/dense.py:86: UserWarning: Do not pass an `input_shape`/`input_dim` argument to a layer. When using Sequential models, prefer using an `Input(shape)` object as the first layer in the model instead.\n",
      "  super().__init__(activity_regularizer=activity_regularizer, **kwargs)\n"
     ]
    },
    {
     "name": "stdout",
     "output_type": "stream",
     "text": [
      "\u001b[1m1/1\u001b[0m \u001b[32m━━━━━━━━━━━━━━━━━━━━\u001b[0m\u001b[37m\u001b[0m \u001b[1m0s\u001b[0m 51ms/step\n"
     ]
    },
    {
     "name": "stderr",
     "output_type": "stream",
     "text": [
      "/Users/lauramos/anaconda3/lib/python3.11/site-packages/keras/src/layers/core/dense.py:86: UserWarning: Do not pass an `input_shape`/`input_dim` argument to a layer. When using Sequential models, prefer using an `Input(shape)` object as the first layer in the model instead.\n",
      "  super().__init__(activity_regularizer=activity_regularizer, **kwargs)\n"
     ]
    },
    {
     "name": "stdout",
     "output_type": "stream",
     "text": [
      "\u001b[1m1/1\u001b[0m \u001b[32m━━━━━━━━━━━━━━━━━━━━\u001b[0m\u001b[37m\u001b[0m \u001b[1m0s\u001b[0m 50ms/step\n"
     ]
    },
    {
     "name": "stderr",
     "output_type": "stream",
     "text": [
      "/Users/lauramos/anaconda3/lib/python3.11/site-packages/keras/src/layers/core/dense.py:86: UserWarning: Do not pass an `input_shape`/`input_dim` argument to a layer. When using Sequential models, prefer using an `Input(shape)` object as the first layer in the model instead.\n",
      "  super().__init__(activity_regularizer=activity_regularizer, **kwargs)\n"
     ]
    },
    {
     "name": "stdout",
     "output_type": "stream",
     "text": [
      "\u001b[1m1/1\u001b[0m \u001b[32m━━━━━━━━━━━━━━━━━━━━\u001b[0m\u001b[37m\u001b[0m \u001b[1m0s\u001b[0m 48ms/step\n"
     ]
    },
    {
     "name": "stderr",
     "output_type": "stream",
     "text": [
      "/Users/lauramos/anaconda3/lib/python3.11/site-packages/keras/src/layers/core/dense.py:86: UserWarning: Do not pass an `input_shape`/`input_dim` argument to a layer. When using Sequential models, prefer using an `Input(shape)` object as the first layer in the model instead.\n",
      "  super().__init__(activity_regularizer=activity_regularizer, **kwargs)\n"
     ]
    },
    {
     "name": "stdout",
     "output_type": "stream",
     "text": [
      "\u001b[1m1/1\u001b[0m \u001b[32m━━━━━━━━━━━━━━━━━━━━\u001b[0m\u001b[37m\u001b[0m \u001b[1m0s\u001b[0m 49ms/step\n"
     ]
    },
    {
     "name": "stderr",
     "output_type": "stream",
     "text": [
      "/Users/lauramos/anaconda3/lib/python3.11/site-packages/keras/src/layers/core/dense.py:86: UserWarning: Do not pass an `input_shape`/`input_dim` argument to a layer. When using Sequential models, prefer using an `Input(shape)` object as the first layer in the model instead.\n",
      "  super().__init__(activity_regularizer=activity_regularizer, **kwargs)\n"
     ]
    },
    {
     "name": "stdout",
     "output_type": "stream",
     "text": [
      "\u001b[1m1/1\u001b[0m \u001b[32m━━━━━━━━━━━━━━━━━━━━\u001b[0m\u001b[37m\u001b[0m \u001b[1m0s\u001b[0m 63ms/step\n"
     ]
    },
    {
     "name": "stderr",
     "output_type": "stream",
     "text": [
      "/Users/lauramos/anaconda3/lib/python3.11/site-packages/keras/src/layers/core/dense.py:86: UserWarning: Do not pass an `input_shape`/`input_dim` argument to a layer. When using Sequential models, prefer using an `Input(shape)` object as the first layer in the model instead.\n",
      "  super().__init__(activity_regularizer=activity_regularizer, **kwargs)\n"
     ]
    },
    {
     "name": "stdout",
     "output_type": "stream",
     "text": [
      "\u001b[1m1/1\u001b[0m \u001b[32m━━━━━━━━━━━━━━━━━━━━\u001b[0m\u001b[37m\u001b[0m \u001b[1m0s\u001b[0m 48ms/step\n"
     ]
    },
    {
     "name": "stderr",
     "output_type": "stream",
     "text": [
      "/Users/lauramos/anaconda3/lib/python3.11/site-packages/keras/src/layers/core/dense.py:86: UserWarning: Do not pass an `input_shape`/`input_dim` argument to a layer. When using Sequential models, prefer using an `Input(shape)` object as the first layer in the model instead.\n",
      "  super().__init__(activity_regularizer=activity_regularizer, **kwargs)\n"
     ]
    },
    {
     "name": "stdout",
     "output_type": "stream",
     "text": [
      "\u001b[1m1/1\u001b[0m \u001b[32m━━━━━━━━━━━━━━━━━━━━\u001b[0m\u001b[37m\u001b[0m \u001b[1m0s\u001b[0m 50ms/step\n"
     ]
    },
    {
     "name": "stderr",
     "output_type": "stream",
     "text": [
      "/Users/lauramos/anaconda3/lib/python3.11/site-packages/keras/src/layers/core/dense.py:86: UserWarning: Do not pass an `input_shape`/`input_dim` argument to a layer. When using Sequential models, prefer using an `Input(shape)` object as the first layer in the model instead.\n",
      "  super().__init__(activity_regularizer=activity_regularizer, **kwargs)\n"
     ]
    },
    {
     "name": "stdout",
     "output_type": "stream",
     "text": [
      "\u001b[1m1/1\u001b[0m \u001b[32m━━━━━━━━━━━━━━━━━━━━\u001b[0m\u001b[37m\u001b[0m \u001b[1m0s\u001b[0m 46ms/step\n"
     ]
    },
    {
     "name": "stderr",
     "output_type": "stream",
     "text": [
      "/Users/lauramos/anaconda3/lib/python3.11/site-packages/keras/src/layers/core/dense.py:86: UserWarning: Do not pass an `input_shape`/`input_dim` argument to a layer. When using Sequential models, prefer using an `Input(shape)` object as the first layer in the model instead.\n",
      "  super().__init__(activity_regularizer=activity_regularizer, **kwargs)\n"
     ]
    },
    {
     "name": "stdout",
     "output_type": "stream",
     "text": [
      "\u001b[1m1/1\u001b[0m \u001b[32m━━━━━━━━━━━━━━━━━━━━\u001b[0m\u001b[37m\u001b[0m \u001b[1m0s\u001b[0m 54ms/step\n"
     ]
    },
    {
     "name": "stderr",
     "output_type": "stream",
     "text": [
      "/Users/lauramos/anaconda3/lib/python3.11/site-packages/keras/src/layers/core/dense.py:86: UserWarning: Do not pass an `input_shape`/`input_dim` argument to a layer. When using Sequential models, prefer using an `Input(shape)` object as the first layer in the model instead.\n",
      "  super().__init__(activity_regularizer=activity_regularizer, **kwargs)\n"
     ]
    },
    {
     "name": "stdout",
     "output_type": "stream",
     "text": [
      "\u001b[1m1/1\u001b[0m \u001b[32m━━━━━━━━━━━━━━━━━━━━\u001b[0m\u001b[37m\u001b[0m \u001b[1m0s\u001b[0m 57ms/step\n"
     ]
    },
    {
     "name": "stderr",
     "output_type": "stream",
     "text": [
      "/Users/lauramos/anaconda3/lib/python3.11/site-packages/keras/src/layers/core/dense.py:86: UserWarning: Do not pass an `input_shape`/`input_dim` argument to a layer. When using Sequential models, prefer using an `Input(shape)` object as the first layer in the model instead.\n",
      "  super().__init__(activity_regularizer=activity_regularizer, **kwargs)\n"
     ]
    },
    {
     "name": "stdout",
     "output_type": "stream",
     "text": [
      "\u001b[1m1/1\u001b[0m \u001b[32m━━━━━━━━━━━━━━━━━━━━\u001b[0m\u001b[37m\u001b[0m \u001b[1m0s\u001b[0m 44ms/step\n"
     ]
    },
    {
     "name": "stderr",
     "output_type": "stream",
     "text": [
      "/Users/lauramos/anaconda3/lib/python3.11/site-packages/keras/src/layers/core/dense.py:86: UserWarning: Do not pass an `input_shape`/`input_dim` argument to a layer. When using Sequential models, prefer using an `Input(shape)` object as the first layer in the model instead.\n",
      "  super().__init__(activity_regularizer=activity_regularizer, **kwargs)\n"
     ]
    },
    {
     "name": "stdout",
     "output_type": "stream",
     "text": [
      "\u001b[1m1/1\u001b[0m \u001b[32m━━━━━━━━━━━━━━━━━━━━\u001b[0m\u001b[37m\u001b[0m \u001b[1m0s\u001b[0m 43ms/step\n"
     ]
    },
    {
     "name": "stderr",
     "output_type": "stream",
     "text": [
      "/Users/lauramos/anaconda3/lib/python3.11/site-packages/keras/src/layers/core/dense.py:86: UserWarning: Do not pass an `input_shape`/`input_dim` argument to a layer. When using Sequential models, prefer using an `Input(shape)` object as the first layer in the model instead.\n",
      "  super().__init__(activity_regularizer=activity_regularizer, **kwargs)\n"
     ]
    },
    {
     "name": "stdout",
     "output_type": "stream",
     "text": [
      "\u001b[1m1/1\u001b[0m \u001b[32m━━━━━━━━━━━━━━━━━━━━\u001b[0m\u001b[37m\u001b[0m \u001b[1m0s\u001b[0m 42ms/step\n"
     ]
    },
    {
     "name": "stderr",
     "output_type": "stream",
     "text": [
      "/Users/lauramos/anaconda3/lib/python3.11/site-packages/keras/src/layers/core/dense.py:86: UserWarning: Do not pass an `input_shape`/`input_dim` argument to a layer. When using Sequential models, prefer using an `Input(shape)` object as the first layer in the model instead.\n",
      "  super().__init__(activity_regularizer=activity_regularizer, **kwargs)\n"
     ]
    },
    {
     "name": "stdout",
     "output_type": "stream",
     "text": [
      "\u001b[1m1/1\u001b[0m \u001b[32m━━━━━━━━━━━━━━━━━━━━\u001b[0m\u001b[37m\u001b[0m \u001b[1m0s\u001b[0m 44ms/step\n"
     ]
    },
    {
     "name": "stderr",
     "output_type": "stream",
     "text": [
      "/Users/lauramos/anaconda3/lib/python3.11/site-packages/keras/src/layers/core/dense.py:86: UserWarning: Do not pass an `input_shape`/`input_dim` argument to a layer. When using Sequential models, prefer using an `Input(shape)` object as the first layer in the model instead.\n",
      "  super().__init__(activity_regularizer=activity_regularizer, **kwargs)\n"
     ]
    },
    {
     "name": "stdout",
     "output_type": "stream",
     "text": [
      "\u001b[1m1/1\u001b[0m \u001b[32m━━━━━━━━━━━━━━━━━━━━\u001b[0m\u001b[37m\u001b[0m \u001b[1m0s\u001b[0m 44ms/step\n"
     ]
    },
    {
     "name": "stderr",
     "output_type": "stream",
     "text": [
      "/Users/lauramos/anaconda3/lib/python3.11/site-packages/keras/src/layers/core/dense.py:86: UserWarning: Do not pass an `input_shape`/`input_dim` argument to a layer. When using Sequential models, prefer using an `Input(shape)` object as the first layer in the model instead.\n",
      "  super().__init__(activity_regularizer=activity_regularizer, **kwargs)\n"
     ]
    },
    {
     "name": "stdout",
     "output_type": "stream",
     "text": [
      "\u001b[1m1/1\u001b[0m \u001b[32m━━━━━━━━━━━━━━━━━━━━\u001b[0m\u001b[37m\u001b[0m \u001b[1m0s\u001b[0m 46ms/step\n"
     ]
    },
    {
     "name": "stderr",
     "output_type": "stream",
     "text": [
      "/Users/lauramos/anaconda3/lib/python3.11/site-packages/keras/src/layers/core/dense.py:86: UserWarning: Do not pass an `input_shape`/`input_dim` argument to a layer. When using Sequential models, prefer using an `Input(shape)` object as the first layer in the model instead.\n",
      "  super().__init__(activity_regularizer=activity_regularizer, **kwargs)\n"
     ]
    },
    {
     "name": "stdout",
     "output_type": "stream",
     "text": [
      "\u001b[1m1/1\u001b[0m \u001b[32m━━━━━━━━━━━━━━━━━━━━\u001b[0m\u001b[37m\u001b[0m \u001b[1m0s\u001b[0m 44ms/step\n"
     ]
    },
    {
     "name": "stderr",
     "output_type": "stream",
     "text": [
      "/Users/lauramos/anaconda3/lib/python3.11/site-packages/keras/src/layers/core/dense.py:86: UserWarning: Do not pass an `input_shape`/`input_dim` argument to a layer. When using Sequential models, prefer using an `Input(shape)` object as the first layer in the model instead.\n",
      "  super().__init__(activity_regularizer=activity_regularizer, **kwargs)\n"
     ]
    },
    {
     "name": "stdout",
     "output_type": "stream",
     "text": [
      "\u001b[1m1/1\u001b[0m \u001b[32m━━━━━━━━━━━━━━━━━━━━\u001b[0m\u001b[37m\u001b[0m \u001b[1m0s\u001b[0m 43ms/step\n"
     ]
    },
    {
     "name": "stderr",
     "output_type": "stream",
     "text": [
      "/Users/lauramos/anaconda3/lib/python3.11/site-packages/keras/src/layers/core/dense.py:86: UserWarning: Do not pass an `input_shape`/`input_dim` argument to a layer. When using Sequential models, prefer using an `Input(shape)` object as the first layer in the model instead.\n",
      "  super().__init__(activity_regularizer=activity_regularizer, **kwargs)\n"
     ]
    },
    {
     "name": "stdout",
     "output_type": "stream",
     "text": [
      "\u001b[1m1/1\u001b[0m \u001b[32m━━━━━━━━━━━━━━━━━━━━\u001b[0m\u001b[37m\u001b[0m \u001b[1m0s\u001b[0m 43ms/step\n"
     ]
    },
    {
     "name": "stderr",
     "output_type": "stream",
     "text": [
      "/Users/lauramos/anaconda3/lib/python3.11/site-packages/keras/src/layers/core/dense.py:86: UserWarning: Do not pass an `input_shape`/`input_dim` argument to a layer. When using Sequential models, prefer using an `Input(shape)` object as the first layer in the model instead.\n",
      "  super().__init__(activity_regularizer=activity_regularizer, **kwargs)\n"
     ]
    },
    {
     "name": "stdout",
     "output_type": "stream",
     "text": [
      "\u001b[1m1/1\u001b[0m \u001b[32m━━━━━━━━━━━━━━━━━━━━\u001b[0m\u001b[37m\u001b[0m \u001b[1m0s\u001b[0m 44ms/step\n"
     ]
    },
    {
     "name": "stderr",
     "output_type": "stream",
     "text": [
      "/Users/lauramos/anaconda3/lib/python3.11/site-packages/keras/src/layers/core/dense.py:86: UserWarning: Do not pass an `input_shape`/`input_dim` argument to a layer. When using Sequential models, prefer using an `Input(shape)` object as the first layer in the model instead.\n",
      "  super().__init__(activity_regularizer=activity_regularizer, **kwargs)\n"
     ]
    },
    {
     "name": "stdout",
     "output_type": "stream",
     "text": [
      "\u001b[1m1/1\u001b[0m \u001b[32m━━━━━━━━━━━━━━━━━━━━\u001b[0m\u001b[37m\u001b[0m \u001b[1m0s\u001b[0m 43ms/step\n"
     ]
    },
    {
     "name": "stderr",
     "output_type": "stream",
     "text": [
      "/Users/lauramos/anaconda3/lib/python3.11/site-packages/keras/src/layers/core/dense.py:86: UserWarning: Do not pass an `input_shape`/`input_dim` argument to a layer. When using Sequential models, prefer using an `Input(shape)` object as the first layer in the model instead.\n",
      "  super().__init__(activity_regularizer=activity_regularizer, **kwargs)\n"
     ]
    },
    {
     "name": "stdout",
     "output_type": "stream",
     "text": [
      "\u001b[1m1/1\u001b[0m \u001b[32m━━━━━━━━━━━━━━━━━━━━\u001b[0m\u001b[37m\u001b[0m \u001b[1m0s\u001b[0m 55ms/step\n"
     ]
    },
    {
     "name": "stderr",
     "output_type": "stream",
     "text": [
      "/Users/lauramos/anaconda3/lib/python3.11/site-packages/keras/src/layers/core/dense.py:86: UserWarning: Do not pass an `input_shape`/`input_dim` argument to a layer. When using Sequential models, prefer using an `Input(shape)` object as the first layer in the model instead.\n",
      "  super().__init__(activity_regularizer=activity_regularizer, **kwargs)\n"
     ]
    },
    {
     "name": "stdout",
     "output_type": "stream",
     "text": [
      "\u001b[1m1/1\u001b[0m \u001b[32m━━━━━━━━━━━━━━━━━━━━\u001b[0m\u001b[37m\u001b[0m \u001b[1m0s\u001b[0m 51ms/step\n"
     ]
    },
    {
     "name": "stderr",
     "output_type": "stream",
     "text": [
      "/Users/lauramos/anaconda3/lib/python3.11/site-packages/keras/src/layers/core/dense.py:86: UserWarning: Do not pass an `input_shape`/`input_dim` argument to a layer. When using Sequential models, prefer using an `Input(shape)` object as the first layer in the model instead.\n",
      "  super().__init__(activity_regularizer=activity_regularizer, **kwargs)\n"
     ]
    },
    {
     "name": "stdout",
     "output_type": "stream",
     "text": [
      "\u001b[1m1/1\u001b[0m \u001b[32m━━━━━━━━━━━━━━━━━━━━\u001b[0m\u001b[37m\u001b[0m \u001b[1m0s\u001b[0m 62ms/step\n"
     ]
    },
    {
     "name": "stderr",
     "output_type": "stream",
     "text": [
      "/Users/lauramos/anaconda3/lib/python3.11/site-packages/keras/src/layers/core/dense.py:86: UserWarning: Do not pass an `input_shape`/`input_dim` argument to a layer. When using Sequential models, prefer using an `Input(shape)` object as the first layer in the model instead.\n",
      "  super().__init__(activity_regularizer=activity_regularizer, **kwargs)\n"
     ]
    },
    {
     "name": "stdout",
     "output_type": "stream",
     "text": [
      "\u001b[1m1/1\u001b[0m \u001b[32m━━━━━━━━━━━━━━━━━━━━\u001b[0m\u001b[37m\u001b[0m \u001b[1m0s\u001b[0m 54ms/step\n"
     ]
    },
    {
     "name": "stderr",
     "output_type": "stream",
     "text": [
      "/Users/lauramos/anaconda3/lib/python3.11/site-packages/keras/src/layers/core/dense.py:86: UserWarning: Do not pass an `input_shape`/`input_dim` argument to a layer. When using Sequential models, prefer using an `Input(shape)` object as the first layer in the model instead.\n",
      "  super().__init__(activity_regularizer=activity_regularizer, **kwargs)\n"
     ]
    },
    {
     "name": "stdout",
     "output_type": "stream",
     "text": [
      "\u001b[1m1/1\u001b[0m \u001b[32m━━━━━━━━━━━━━━━━━━━━\u001b[0m\u001b[37m\u001b[0m \u001b[1m0s\u001b[0m 136ms/step\n"
     ]
    },
    {
     "name": "stderr",
     "output_type": "stream",
     "text": [
      "/Users/lauramos/anaconda3/lib/python3.11/site-packages/keras/src/layers/core/dense.py:86: UserWarning: Do not pass an `input_shape`/`input_dim` argument to a layer. When using Sequential models, prefer using an `Input(shape)` object as the first layer in the model instead.\n",
      "  super().__init__(activity_regularizer=activity_regularizer, **kwargs)\n"
     ]
    },
    {
     "name": "stdout",
     "output_type": "stream",
     "text": [
      "\u001b[1m1/1\u001b[0m \u001b[32m━━━━━━━━━━━━━━━━━━━━\u001b[0m\u001b[37m\u001b[0m \u001b[1m0s\u001b[0m 144ms/step\n"
     ]
    },
    {
     "name": "stderr",
     "output_type": "stream",
     "text": [
      "/Users/lauramos/anaconda3/lib/python3.11/site-packages/keras/src/layers/core/dense.py:86: UserWarning: Do not pass an `input_shape`/`input_dim` argument to a layer. When using Sequential models, prefer using an `Input(shape)` object as the first layer in the model instead.\n",
      "  super().__init__(activity_regularizer=activity_regularizer, **kwargs)\n"
     ]
    },
    {
     "name": "stdout",
     "output_type": "stream",
     "text": [
      "\u001b[1m1/1\u001b[0m \u001b[32m━━━━━━━━━━━━━━━━━━━━\u001b[0m\u001b[37m\u001b[0m \u001b[1m0s\u001b[0m 140ms/step\n"
     ]
    },
    {
     "name": "stderr",
     "output_type": "stream",
     "text": [
      "/Users/lauramos/anaconda3/lib/python3.11/site-packages/keras/src/layers/core/dense.py:86: UserWarning: Do not pass an `input_shape`/`input_dim` argument to a layer. When using Sequential models, prefer using an `Input(shape)` object as the first layer in the model instead.\n",
      "  super().__init__(activity_regularizer=activity_regularizer, **kwargs)\n"
     ]
    },
    {
     "name": "stdout",
     "output_type": "stream",
     "text": [
      "\u001b[1m1/1\u001b[0m \u001b[32m━━━━━━━━━━━━━━━━━━━━\u001b[0m\u001b[37m\u001b[0m \u001b[1m0s\u001b[0m 246ms/step\n"
     ]
    },
    {
     "name": "stderr",
     "output_type": "stream",
     "text": [
      "/Users/lauramos/anaconda3/lib/python3.11/site-packages/keras/src/layers/core/dense.py:86: UserWarning: Do not pass an `input_shape`/`input_dim` argument to a layer. When using Sequential models, prefer using an `Input(shape)` object as the first layer in the model instead.\n",
      "  super().__init__(activity_regularizer=activity_regularizer, **kwargs)\n"
     ]
    },
    {
     "name": "stdout",
     "output_type": "stream",
     "text": [
      "\u001b[1m1/1\u001b[0m \u001b[32m━━━━━━━━━━━━━━━━━━━━\u001b[0m\u001b[37m\u001b[0m \u001b[1m0s\u001b[0m 214ms/step\n"
     ]
    },
    {
     "name": "stderr",
     "output_type": "stream",
     "text": [
      "/Users/lauramos/anaconda3/lib/python3.11/site-packages/keras/src/layers/core/dense.py:86: UserWarning: Do not pass an `input_shape`/`input_dim` argument to a layer. When using Sequential models, prefer using an `Input(shape)` object as the first layer in the model instead.\n",
      "  super().__init__(activity_regularizer=activity_regularizer, **kwargs)\n"
     ]
    },
    {
     "name": "stdout",
     "output_type": "stream",
     "text": [
      "\u001b[1m1/1\u001b[0m \u001b[32m━━━━━━━━━━━━━━━━━━━━\u001b[0m\u001b[37m\u001b[0m \u001b[1m0s\u001b[0m 172ms/step\n"
     ]
    },
    {
     "name": "stderr",
     "output_type": "stream",
     "text": [
      "/Users/lauramos/anaconda3/lib/python3.11/site-packages/keras/src/layers/core/dense.py:86: UserWarning: Do not pass an `input_shape`/`input_dim` argument to a layer. When using Sequential models, prefer using an `Input(shape)` object as the first layer in the model instead.\n",
      "  super().__init__(activity_regularizer=activity_regularizer, **kwargs)\n"
     ]
    },
    {
     "name": "stdout",
     "output_type": "stream",
     "text": [
      "\u001b[1m1/1\u001b[0m \u001b[32m━━━━━━━━━━━━━━━━━━━━\u001b[0m\u001b[37m\u001b[0m \u001b[1m0s\u001b[0m 87ms/step\n"
     ]
    },
    {
     "name": "stderr",
     "output_type": "stream",
     "text": [
      "/Users/lauramos/anaconda3/lib/python3.11/site-packages/keras/src/layers/core/dense.py:86: UserWarning: Do not pass an `input_shape`/`input_dim` argument to a layer. When using Sequential models, prefer using an `Input(shape)` object as the first layer in the model instead.\n",
      "  super().__init__(activity_regularizer=activity_regularizer, **kwargs)\n"
     ]
    },
    {
     "name": "stdout",
     "output_type": "stream",
     "text": [
      "\u001b[1m1/1\u001b[0m \u001b[32m━━━━━━━━━━━━━━━━━━━━\u001b[0m\u001b[37m\u001b[0m \u001b[1m0s\u001b[0m 74ms/step\n"
     ]
    },
    {
     "name": "stderr",
     "output_type": "stream",
     "text": [
      "/Users/lauramos/anaconda3/lib/python3.11/site-packages/keras/src/layers/core/dense.py:86: UserWarning: Do not pass an `input_shape`/`input_dim` argument to a layer. When using Sequential models, prefer using an `Input(shape)` object as the first layer in the model instead.\n",
      "  super().__init__(activity_regularizer=activity_regularizer, **kwargs)\n"
     ]
    },
    {
     "name": "stdout",
     "output_type": "stream",
     "text": [
      "\u001b[1m1/1\u001b[0m \u001b[32m━━━━━━━━━━━━━━━━━━━━\u001b[0m\u001b[37m\u001b[0m \u001b[1m0s\u001b[0m 66ms/step\n"
     ]
    },
    {
     "name": "stderr",
     "output_type": "stream",
     "text": [
      "/Users/lauramos/anaconda3/lib/python3.11/site-packages/keras/src/layers/core/dense.py:86: UserWarning: Do not pass an `input_shape`/`input_dim` argument to a layer. When using Sequential models, prefer using an `Input(shape)` object as the first layer in the model instead.\n",
      "  super().__init__(activity_regularizer=activity_regularizer, **kwargs)\n"
     ]
    },
    {
     "name": "stdout",
     "output_type": "stream",
     "text": [
      "\u001b[1m1/1\u001b[0m \u001b[32m━━━━━━━━━━━━━━━━━━━━\u001b[0m\u001b[37m\u001b[0m \u001b[1m0s\u001b[0m 61ms/step\n"
     ]
    },
    {
     "name": "stderr",
     "output_type": "stream",
     "text": [
      "/Users/lauramos/anaconda3/lib/python3.11/site-packages/keras/src/layers/core/dense.py:86: UserWarning: Do not pass an `input_shape`/`input_dim` argument to a layer. When using Sequential models, prefer using an `Input(shape)` object as the first layer in the model instead.\n",
      "  super().__init__(activity_regularizer=activity_regularizer, **kwargs)\n"
     ]
    },
    {
     "name": "stdout",
     "output_type": "stream",
     "text": [
      "\u001b[1m1/1\u001b[0m \u001b[32m━━━━━━━━━━━━━━━━━━━━\u001b[0m\u001b[37m\u001b[0m \u001b[1m0s\u001b[0m 56ms/step\n"
     ]
    },
    {
     "name": "stderr",
     "output_type": "stream",
     "text": [
      "/Users/lauramos/anaconda3/lib/python3.11/site-packages/keras/src/layers/core/dense.py:86: UserWarning: Do not pass an `input_shape`/`input_dim` argument to a layer. When using Sequential models, prefer using an `Input(shape)` object as the first layer in the model instead.\n",
      "  super().__init__(activity_regularizer=activity_regularizer, **kwargs)\n"
     ]
    },
    {
     "name": "stdout",
     "output_type": "stream",
     "text": [
      "\u001b[1m1/1\u001b[0m \u001b[32m━━━━━━━━━━━━━━━━━━━━\u001b[0m\u001b[37m\u001b[0m \u001b[1m0s\u001b[0m 50ms/step\n"
     ]
    },
    {
     "name": "stderr",
     "output_type": "stream",
     "text": [
      "/Users/lauramos/anaconda3/lib/python3.11/site-packages/keras/src/layers/core/dense.py:86: UserWarning: Do not pass an `input_shape`/`input_dim` argument to a layer. When using Sequential models, prefer using an `Input(shape)` object as the first layer in the model instead.\n",
      "  super().__init__(activity_regularizer=activity_regularizer, **kwargs)\n"
     ]
    },
    {
     "name": "stdout",
     "output_type": "stream",
     "text": [
      "\u001b[1m1/1\u001b[0m \u001b[32m━━━━━━━━━━━━━━━━━━━━\u001b[0m\u001b[37m\u001b[0m \u001b[1m0s\u001b[0m 53ms/step\n"
     ]
    },
    {
     "name": "stderr",
     "output_type": "stream",
     "text": [
      "/Users/lauramos/anaconda3/lib/python3.11/site-packages/keras/src/layers/core/dense.py:86: UserWarning: Do not pass an `input_shape`/`input_dim` argument to a layer. When using Sequential models, prefer using an `Input(shape)` object as the first layer in the model instead.\n",
      "  super().__init__(activity_regularizer=activity_regularizer, **kwargs)\n"
     ]
    },
    {
     "name": "stdout",
     "output_type": "stream",
     "text": [
      "\u001b[1m1/1\u001b[0m \u001b[32m━━━━━━━━━━━━━━━━━━━━\u001b[0m\u001b[37m\u001b[0m \u001b[1m0s\u001b[0m 50ms/step\n"
     ]
    },
    {
     "name": "stderr",
     "output_type": "stream",
     "text": [
      "/Users/lauramos/anaconda3/lib/python3.11/site-packages/keras/src/layers/core/dense.py:86: UserWarning: Do not pass an `input_shape`/`input_dim` argument to a layer. When using Sequential models, prefer using an `Input(shape)` object as the first layer in the model instead.\n",
      "  super().__init__(activity_regularizer=activity_regularizer, **kwargs)\n"
     ]
    },
    {
     "name": "stdout",
     "output_type": "stream",
     "text": [
      "\u001b[1m1/1\u001b[0m \u001b[32m━━━━━━━━━━━━━━━━━━━━\u001b[0m\u001b[37m\u001b[0m \u001b[1m0s\u001b[0m 54ms/step\n"
     ]
    },
    {
     "name": "stderr",
     "output_type": "stream",
     "text": [
      "/Users/lauramos/anaconda3/lib/python3.11/site-packages/keras/src/layers/core/dense.py:86: UserWarning: Do not pass an `input_shape`/`input_dim` argument to a layer. When using Sequential models, prefer using an `Input(shape)` object as the first layer in the model instead.\n",
      "  super().__init__(activity_regularizer=activity_regularizer, **kwargs)\n"
     ]
    },
    {
     "name": "stdout",
     "output_type": "stream",
     "text": [
      "\u001b[1m1/1\u001b[0m \u001b[32m━━━━━━━━━━━━━━━━━━━━\u001b[0m\u001b[37m\u001b[0m \u001b[1m0s\u001b[0m 41ms/step\n"
     ]
    },
    {
     "name": "stderr",
     "output_type": "stream",
     "text": [
      "/Users/lauramos/anaconda3/lib/python3.11/site-packages/keras/src/layers/core/dense.py:86: UserWarning: Do not pass an `input_shape`/`input_dim` argument to a layer. When using Sequential models, prefer using an `Input(shape)` object as the first layer in the model instead.\n",
      "  super().__init__(activity_regularizer=activity_regularizer, **kwargs)\n"
     ]
    },
    {
     "name": "stdout",
     "output_type": "stream",
     "text": [
      "\u001b[1m1/1\u001b[0m \u001b[32m━━━━━━━━━━━━━━━━━━━━\u001b[0m\u001b[37m\u001b[0m \u001b[1m0s\u001b[0m 43ms/step\n"
     ]
    },
    {
     "name": "stderr",
     "output_type": "stream",
     "text": [
      "/Users/lauramos/anaconda3/lib/python3.11/site-packages/keras/src/layers/core/dense.py:86: UserWarning: Do not pass an `input_shape`/`input_dim` argument to a layer. When using Sequential models, prefer using an `Input(shape)` object as the first layer in the model instead.\n",
      "  super().__init__(activity_regularizer=activity_regularizer, **kwargs)\n"
     ]
    },
    {
     "name": "stdout",
     "output_type": "stream",
     "text": [
      "\u001b[1m1/1\u001b[0m \u001b[32m━━━━━━━━━━━━━━━━━━━━\u001b[0m\u001b[37m\u001b[0m \u001b[1m0s\u001b[0m 41ms/step\n"
     ]
    },
    {
     "name": "stderr",
     "output_type": "stream",
     "text": [
      "/Users/lauramos/anaconda3/lib/python3.11/site-packages/keras/src/layers/core/dense.py:86: UserWarning: Do not pass an `input_shape`/`input_dim` argument to a layer. When using Sequential models, prefer using an `Input(shape)` object as the first layer in the model instead.\n",
      "  super().__init__(activity_regularizer=activity_regularizer, **kwargs)\n"
     ]
    },
    {
     "name": "stdout",
     "output_type": "stream",
     "text": [
      "\u001b[1m1/1\u001b[0m \u001b[32m━━━━━━━━━━━━━━━━━━━━\u001b[0m\u001b[37m\u001b[0m \u001b[1m0s\u001b[0m 39ms/step\n"
     ]
    },
    {
     "name": "stderr",
     "output_type": "stream",
     "text": [
      "/Users/lauramos/anaconda3/lib/python3.11/site-packages/keras/src/layers/core/dense.py:86: UserWarning: Do not pass an `input_shape`/`input_dim` argument to a layer. When using Sequential models, prefer using an `Input(shape)` object as the first layer in the model instead.\n",
      "  super().__init__(activity_regularizer=activity_regularizer, **kwargs)\n"
     ]
    },
    {
     "name": "stdout",
     "output_type": "stream",
     "text": [
      "\u001b[1m1/1\u001b[0m \u001b[32m━━━━━━━━━━━━━━━━━━━━\u001b[0m\u001b[37m\u001b[0m \u001b[1m0s\u001b[0m 45ms/step\n"
     ]
    },
    {
     "name": "stderr",
     "output_type": "stream",
     "text": [
      "/Users/lauramos/anaconda3/lib/python3.11/site-packages/keras/src/layers/core/dense.py:86: UserWarning: Do not pass an `input_shape`/`input_dim` argument to a layer. When using Sequential models, prefer using an `Input(shape)` object as the first layer in the model instead.\n",
      "  super().__init__(activity_regularizer=activity_regularizer, **kwargs)\n"
     ]
    },
    {
     "name": "stdout",
     "output_type": "stream",
     "text": [
      "\u001b[1m1/1\u001b[0m \u001b[32m━━━━━━━━━━━━━━━━━━━━\u001b[0m\u001b[37m\u001b[0m \u001b[1m0s\u001b[0m 39ms/step\n"
     ]
    },
    {
     "name": "stderr",
     "output_type": "stream",
     "text": [
      "/Users/lauramos/anaconda3/lib/python3.11/site-packages/keras/src/layers/core/dense.py:86: UserWarning: Do not pass an `input_shape`/`input_dim` argument to a layer. When using Sequential models, prefer using an `Input(shape)` object as the first layer in the model instead.\n",
      "  super().__init__(activity_regularizer=activity_regularizer, **kwargs)\n"
     ]
    },
    {
     "name": "stdout",
     "output_type": "stream",
     "text": [
      "\u001b[1m1/1\u001b[0m \u001b[32m━━━━━━━━━━━━━━━━━━━━\u001b[0m\u001b[37m\u001b[0m \u001b[1m0s\u001b[0m 37ms/step\n"
     ]
    },
    {
     "name": "stderr",
     "output_type": "stream",
     "text": [
      "/Users/lauramos/anaconda3/lib/python3.11/site-packages/keras/src/layers/core/dense.py:86: UserWarning: Do not pass an `input_shape`/`input_dim` argument to a layer. When using Sequential models, prefer using an `Input(shape)` object as the first layer in the model instead.\n",
      "  super().__init__(activity_regularizer=activity_regularizer, **kwargs)\n"
     ]
    },
    {
     "name": "stdout",
     "output_type": "stream",
     "text": [
      "\u001b[1m1/1\u001b[0m \u001b[32m━━━━━━━━━━━━━━━━━━━━\u001b[0m\u001b[37m\u001b[0m \u001b[1m0s\u001b[0m 40ms/step\n"
     ]
    },
    {
     "name": "stderr",
     "output_type": "stream",
     "text": [
      "/Users/lauramos/anaconda3/lib/python3.11/site-packages/keras/src/layers/core/dense.py:86: UserWarning: Do not pass an `input_shape`/`input_dim` argument to a layer. When using Sequential models, prefer using an `Input(shape)` object as the first layer in the model instead.\n",
      "  super().__init__(activity_regularizer=activity_regularizer, **kwargs)\n"
     ]
    },
    {
     "name": "stdout",
     "output_type": "stream",
     "text": [
      "\u001b[1m1/1\u001b[0m \u001b[32m━━━━━━━━━━━━━━━━━━━━\u001b[0m\u001b[37m\u001b[0m \u001b[1m0s\u001b[0m 43ms/step\n"
     ]
    },
    {
     "name": "stderr",
     "output_type": "stream",
     "text": [
      "/Users/lauramos/anaconda3/lib/python3.11/site-packages/keras/src/layers/core/dense.py:86: UserWarning: Do not pass an `input_shape`/`input_dim` argument to a layer. When using Sequential models, prefer using an `Input(shape)` object as the first layer in the model instead.\n",
      "  super().__init__(activity_regularizer=activity_regularizer, **kwargs)\n"
     ]
    },
    {
     "name": "stdout",
     "output_type": "stream",
     "text": [
      "\u001b[1m1/1\u001b[0m \u001b[32m━━━━━━━━━━━━━━━━━━━━\u001b[0m\u001b[37m\u001b[0m \u001b[1m0s\u001b[0m 39ms/step\n"
     ]
    },
    {
     "name": "stderr",
     "output_type": "stream",
     "text": [
      "/Users/lauramos/anaconda3/lib/python3.11/site-packages/keras/src/layers/core/dense.py:86: UserWarning: Do not pass an `input_shape`/`input_dim` argument to a layer. When using Sequential models, prefer using an `Input(shape)` object as the first layer in the model instead.\n",
      "  super().__init__(activity_regularizer=activity_regularizer, **kwargs)\n"
     ]
    },
    {
     "name": "stdout",
     "output_type": "stream",
     "text": [
      "\u001b[1m1/1\u001b[0m \u001b[32m━━━━━━━━━━━━━━━━━━━━\u001b[0m\u001b[37m\u001b[0m \u001b[1m0s\u001b[0m 43ms/step\n"
     ]
    },
    {
     "name": "stderr",
     "output_type": "stream",
     "text": [
      "/Users/lauramos/anaconda3/lib/python3.11/site-packages/keras/src/layers/core/dense.py:86: UserWarning: Do not pass an `input_shape`/`input_dim` argument to a layer. When using Sequential models, prefer using an `Input(shape)` object as the first layer in the model instead.\n",
      "  super().__init__(activity_regularizer=activity_regularizer, **kwargs)\n"
     ]
    },
    {
     "name": "stdout",
     "output_type": "stream",
     "text": [
      "\u001b[1m1/1\u001b[0m \u001b[32m━━━━━━━━━━━━━━━━━━━━\u001b[0m\u001b[37m\u001b[0m \u001b[1m0s\u001b[0m 43ms/step\n"
     ]
    },
    {
     "name": "stderr",
     "output_type": "stream",
     "text": [
      "/Users/lauramos/anaconda3/lib/python3.11/site-packages/keras/src/layers/core/dense.py:86: UserWarning: Do not pass an `input_shape`/`input_dim` argument to a layer. When using Sequential models, prefer using an `Input(shape)` object as the first layer in the model instead.\n",
      "  super().__init__(activity_regularizer=activity_regularizer, **kwargs)\n"
     ]
    },
    {
     "name": "stdout",
     "output_type": "stream",
     "text": [
      "\u001b[1m1/1\u001b[0m \u001b[32m━━━━━━━━━━━━━━━━━━━━\u001b[0m\u001b[37m\u001b[0m \u001b[1m0s\u001b[0m 49ms/step\n"
     ]
    },
    {
     "data": {
      "text/html": [
       "<div>\n",
       "<style scoped>\n",
       "    .dataframe tbody tr th:only-of-type {\n",
       "        vertical-align: middle;\n",
       "    }\n",
       "\n",
       "    .dataframe tbody tr th {\n",
       "        vertical-align: top;\n",
       "    }\n",
       "\n",
       "    .dataframe thead th {\n",
       "        text-align: right;\n",
       "    }\n",
       "</style>\n",
       "<table border=\"1\" class=\"dataframe\">\n",
       "  <thead>\n",
       "    <tr style=\"text-align: right;\">\n",
       "      <th></th>\n",
       "      <th>Precision</th>\n",
       "      <th>Recall</th>\n",
       "      <th>F1-score</th>\n",
       "      <th>Average Time</th>\n",
       "      <th>PCA Components</th>\n",
       "    </tr>\n",
       "  </thead>\n",
       "  <tbody>\n",
       "    <tr>\n",
       "      <th>10</th>\n",
       "      <td>0.842326</td>\n",
       "      <td>0.837957</td>\n",
       "      <td>0.836641</td>\n",
       "      <td>7.400122</td>\n",
       "      <td>11</td>\n",
       "    </tr>\n",
       "    <tr>\n",
       "      <th>4</th>\n",
       "      <td>0.834121</td>\n",
       "      <td>0.828065</td>\n",
       "      <td>0.826783</td>\n",
       "      <td>3.150169</td>\n",
       "      <td>5</td>\n",
       "    </tr>\n",
       "    <tr>\n",
       "      <th>6</th>\n",
       "      <td>0.832979</td>\n",
       "      <td>0.827849</td>\n",
       "      <td>0.826332</td>\n",
       "      <td>6.082858</td>\n",
       "      <td>7</td>\n",
       "    </tr>\n",
       "    <tr>\n",
       "      <th>11</th>\n",
       "      <td>0.833238</td>\n",
       "      <td>0.827742</td>\n",
       "      <td>0.825686</td>\n",
       "      <td>2.968058</td>\n",
       "      <td>12</td>\n",
       "    </tr>\n",
       "    <tr>\n",
       "      <th>8</th>\n",
       "      <td>0.824657</td>\n",
       "      <td>0.821183</td>\n",
       "      <td>0.819319</td>\n",
       "      <td>2.669995</td>\n",
       "      <td>9</td>\n",
       "    </tr>\n",
       "    <tr>\n",
       "      <th>7</th>\n",
       "      <td>0.831639</td>\n",
       "      <td>0.821075</td>\n",
       "      <td>0.818120</td>\n",
       "      <td>3.679107</td>\n",
       "      <td>8</td>\n",
       "    </tr>\n",
       "    <tr>\n",
       "      <th>9</th>\n",
       "      <td>0.825071</td>\n",
       "      <td>0.818280</td>\n",
       "      <td>0.816478</td>\n",
       "      <td>2.582938</td>\n",
       "      <td>10</td>\n",
       "    </tr>\n",
       "    <tr>\n",
       "      <th>5</th>\n",
       "      <td>0.823565</td>\n",
       "      <td>0.817742</td>\n",
       "      <td>0.815861</td>\n",
       "      <td>4.868959</td>\n",
       "      <td>6</td>\n",
       "    </tr>\n",
       "    <tr>\n",
       "      <th>2</th>\n",
       "      <td>0.824471</td>\n",
       "      <td>0.817849</td>\n",
       "      <td>0.815716</td>\n",
       "      <td>7.546278</td>\n",
       "      <td>3</td>\n",
       "    </tr>\n",
       "    <tr>\n",
       "      <th>3</th>\n",
       "      <td>0.817071</td>\n",
       "      <td>0.811398</td>\n",
       "      <td>0.809406</td>\n",
       "      <td>2.932113</td>\n",
       "      <td>4</td>\n",
       "    </tr>\n",
       "    <tr>\n",
       "      <th>1</th>\n",
       "      <td>0.816612</td>\n",
       "      <td>0.808065</td>\n",
       "      <td>0.806378</td>\n",
       "      <td>2.340835</td>\n",
       "      <td>2</td>\n",
       "    </tr>\n",
       "    <tr>\n",
       "      <th>12</th>\n",
       "      <td>0.808805</td>\n",
       "      <td>0.801935</td>\n",
       "      <td>0.800671</td>\n",
       "      <td>2.335832</td>\n",
       "      <td>13</td>\n",
       "    </tr>\n",
       "    <tr>\n",
       "      <th>0</th>\n",
       "      <td>0.794113</td>\n",
       "      <td>0.788065</td>\n",
       "      <td>0.786398</td>\n",
       "      <td>1.973515</td>\n",
       "      <td>1</td>\n",
       "    </tr>\n",
       "  </tbody>\n",
       "</table>\n",
       "</div>"
      ],
      "text/plain": [
       "    Precision    Recall  F1-score  Average Time  PCA Components\n",
       "10   0.842326  0.837957  0.836641      7.400122              11\n",
       "4    0.834121  0.828065  0.826783      3.150169               5\n",
       "6    0.832979  0.827849  0.826332      6.082858               7\n",
       "11   0.833238  0.827742  0.825686      2.968058              12\n",
       "8    0.824657  0.821183  0.819319      2.669995               9\n",
       "7    0.831639  0.821075  0.818120      3.679107               8\n",
       "9    0.825071  0.818280  0.816478      2.582938              10\n",
       "5    0.823565  0.817742  0.815861      4.868959               6\n",
       "2    0.824471  0.817849  0.815716      7.546278               3\n",
       "3    0.817071  0.811398  0.809406      2.932113               4\n",
       "1    0.816612  0.808065  0.806378      2.340835               2\n",
       "12   0.808805  0.801935  0.800671      2.335832              13\n",
       "0    0.794113  0.788065  0.786398      1.973515               1"
      ]
     },
     "execution_count": 12,
     "metadata": {},
     "output_type": "execute_result"
    }
   ],
   "source": [
    "from sklearn.decomposition import PCA\n",
    "from sklearn.model_selection import StratifiedKFold\n",
    "from tensorflow.keras.models import Sequential\n",
    "from tensorflow.keras.layers import Dense\n",
    "from sklearn.metrics import precision_recall_fscore_support\n",
    "import time\n",
    "\n",
    "def create_sigmoid_model(num_neurons, input_shape):\n",
    "    model = Sequential([\n",
    "        Dense(num_neurons, activation='relu', input_shape=(input_shape,)),\n",
    "        Dense(1, activation='sigmoid')\n",
    "    ])\n",
    "    model.compile(optimizer='adam', loss='binary_crossentropy', metrics=['accuracy'])\n",
    "    return model\n",
    "\n",
    "def evaluate_sigmoid_model(X, y, n_components, neurons, epochs=30, n_splits=10):\n",
    "    # PCA transformation\n",
    "    pca = PCA(n_components=n_components)\n",
    "    X_pca = pca.fit_transform(X)\n",
    "    \n",
    "    skf = StratifiedKFold(n_splits=n_splits, shuffle=True, random_state=42)\n",
    "    scores = []\n",
    "    times = []\n",
    "\n",
    "    for train_index, test_index in skf.split(X_pca, y):\n",
    "        X_train, X_test = X_pca[train_index], X_pca[test_index]\n",
    "        y_train, y_test = y[train_index], y[test_index]\n",
    "\n",
    "        model = create_sigmoid_model(neurons, X_train.shape[1])\n",
    "        \n",
    "        start_time = time.time()\n",
    "        model.fit(X_train, y_train, epochs=epochs, batch_size=10, verbose=0)\n",
    "        end_time = time.time()\n",
    "        \n",
    "        y_pred = (model.predict(X_test) > 0.5).astype(int)\n",
    "        precision, recall, f1_score, _ = precision_recall_fscore_support(y_test, y_pred, average='weighted')\n",
    "        scores.append({\n",
    "            'Precision': precision,\n",
    "            'Recall': recall,\n",
    "            'F1-score': f1_score\n",
    "        })\n",
    "        times.append(end_time - start_time)\n",
    "    \n",
    "    avg_scores = {key: np.mean([score[key] for score in scores]) for key in scores[0]}\n",
    "    avg_scores['Average Time'] = np.mean(times)\n",
    "    avg_scores['PCA Components'] = n_components \n",
    "    return avg_scores\n",
    "\n",
    "results = []\n",
    "for components in range(1, 14):\n",
    "    result = evaluate_sigmoid_model(X, y, n_components=components, neurons=10)\n",
    "    results.append(result)\n",
    "\n",
    "results_df = pd.DataFrame(results)\n",
    "results_df_sorted = results_df.sort_values(by='F1-score', ascending=False)\n",
    "results_df_sorted\n"
   ]
  },
  {
   "cell_type": "markdown",
   "id": "13754006-05bd-4a52-a217-f231f6ed2b5d",
   "metadata": {},
   "source": [
    "### 5.3 Random Forest con extracción de características"
   ]
  },
  {
   "cell_type": "code",
   "execution_count": 192,
   "id": "81565a85-0969-4eab-b4f4-70a1f4f65581",
   "metadata": {
    "tags": []
   },
   "outputs": [
    {
     "data": {
      "text/html": [
       "<div>\n",
       "<style scoped>\n",
       "    .dataframe tbody tr th:only-of-type {\n",
       "        vertical-align: middle;\n",
       "    }\n",
       "\n",
       "    .dataframe tbody tr th {\n",
       "        vertical-align: top;\n",
       "    }\n",
       "\n",
       "    .dataframe thead th {\n",
       "        text-align: right;\n",
       "    }\n",
       "</style>\n",
       "<table border=\"1\" class=\"dataframe\">\n",
       "  <thead>\n",
       "    <tr style=\"text-align: right;\">\n",
       "      <th></th>\n",
       "      <th>Modelo</th>\n",
       "      <th>Precisión</th>\n",
       "      <th>Recall</th>\n",
       "      <th>F1-score</th>\n",
       "    </tr>\n",
       "  </thead>\n",
       "  <tbody>\n",
       "    <tr>\n",
       "      <th>7</th>\n",
       "      <td>Random Forest with PCA 8</td>\n",
       "      <td>0.803969</td>\n",
       "      <td>0.791398</td>\n",
       "      <td>0.784725</td>\n",
       "    </tr>\n",
       "    <tr>\n",
       "      <th>0</th>\n",
       "      <td>Random Forest with PCA 1</td>\n",
       "      <td>0.809778</td>\n",
       "      <td>0.791505</td>\n",
       "      <td>0.784131</td>\n",
       "    </tr>\n",
       "    <tr>\n",
       "      <th>3</th>\n",
       "      <td>Random Forest with PCA 4</td>\n",
       "      <td>0.808628</td>\n",
       "      <td>0.791290</td>\n",
       "      <td>0.784011</td>\n",
       "    </tr>\n",
       "    <tr>\n",
       "      <th>1</th>\n",
       "      <td>Random Forest with PCA 2</td>\n",
       "      <td>0.810917</td>\n",
       "      <td>0.791505</td>\n",
       "      <td>0.783721</td>\n",
       "    </tr>\n",
       "    <tr>\n",
       "      <th>9</th>\n",
       "      <td>Random Forest with PCA 10</td>\n",
       "      <td>0.810926</td>\n",
       "      <td>0.791398</td>\n",
       "      <td>0.783681</td>\n",
       "    </tr>\n",
       "    <tr>\n",
       "      <th>10</th>\n",
       "      <td>Random Forest with PCA 11</td>\n",
       "      <td>0.804708</td>\n",
       "      <td>0.788280</td>\n",
       "      <td>0.781513</td>\n",
       "    </tr>\n",
       "    <tr>\n",
       "      <th>5</th>\n",
       "      <td>Random Forest with PCA 6</td>\n",
       "      <td>0.812859</td>\n",
       "      <td>0.788065</td>\n",
       "      <td>0.777764</td>\n",
       "    </tr>\n",
       "    <tr>\n",
       "      <th>4</th>\n",
       "      <td>Random Forest with PCA 5</td>\n",
       "      <td>0.802074</td>\n",
       "      <td>0.784731</td>\n",
       "      <td>0.776731</td>\n",
       "    </tr>\n",
       "    <tr>\n",
       "      <th>8</th>\n",
       "      <td>Random Forest with PCA 9</td>\n",
       "      <td>0.800060</td>\n",
       "      <td>0.781505</td>\n",
       "      <td>0.771732</td>\n",
       "    </tr>\n",
       "    <tr>\n",
       "      <th>6</th>\n",
       "      <td>Random Forest with PCA 7</td>\n",
       "      <td>0.793962</td>\n",
       "      <td>0.778065</td>\n",
       "      <td>0.769864</td>\n",
       "    </tr>\n",
       "    <tr>\n",
       "      <th>11</th>\n",
       "      <td>Random Forest with PCA 12</td>\n",
       "      <td>0.794078</td>\n",
       "      <td>0.778280</td>\n",
       "      <td>0.768794</td>\n",
       "    </tr>\n",
       "    <tr>\n",
       "      <th>2</th>\n",
       "      <td>Random Forest with PCA 3</td>\n",
       "      <td>0.784964</td>\n",
       "      <td>0.768172</td>\n",
       "      <td>0.761095</td>\n",
       "    </tr>\n",
       "    <tr>\n",
       "      <th>12</th>\n",
       "      <td>Random Forest with PCA 13</td>\n",
       "      <td>0.778150</td>\n",
       "      <td>0.765161</td>\n",
       "      <td>0.758525</td>\n",
       "    </tr>\n",
       "  </tbody>\n",
       "</table>\n",
       "</div>"
      ],
      "text/plain": [
       "                       Modelo  Precisión    Recall  F1-score\n",
       "7    Random Forest with PCA 8   0.803969  0.791398  0.784725\n",
       "0    Random Forest with PCA 1   0.809778  0.791505  0.784131\n",
       "3    Random Forest with PCA 4   0.808628  0.791290  0.784011\n",
       "1    Random Forest with PCA 2   0.810917  0.791505  0.783721\n",
       "9   Random Forest with PCA 10   0.810926  0.791398  0.783681\n",
       "10  Random Forest with PCA 11   0.804708  0.788280  0.781513\n",
       "5    Random Forest with PCA 6   0.812859  0.788065  0.777764\n",
       "4    Random Forest with PCA 5   0.802074  0.784731  0.776731\n",
       "8    Random Forest with PCA 9   0.800060  0.781505  0.771732\n",
       "6    Random Forest with PCA 7   0.793962  0.778065  0.769864\n",
       "11  Random Forest with PCA 12   0.794078  0.778280  0.768794\n",
       "2    Random Forest with PCA 3   0.784964  0.768172  0.761095\n",
       "12  Random Forest with PCA 13   0.778150  0.765161  0.758525"
      ]
     },
     "execution_count": 192,
     "metadata": {},
     "output_type": "execute_result"
    }
   ],
   "source": [
    "from sklearn.decomposition import PCA\n",
    "from sklearn.metrics import classification_report\n",
    "from sklearn.model_selection import StratifiedKFold\n",
    "\n",
    "# Función para evaluar el modelo con PCA\n",
    "def evaluate_model_with_pca(X, y, n_components, model, model_name, n_splits=10):\n",
    "    \n",
    "    # Iniciar la validación cruzada\n",
    "    skf = StratifiedKFold(n_splits=n_splits, shuffle=True, random_state=42)\n",
    "    results = []\n",
    "    \n",
    "    for train_index, test_index in skf.split(X, y):\n",
    "        X_train, X_test = X[train_index], X[test_index]\n",
    "        y_train, y_test = y[train_index], y[test_index]\n",
    "        \n",
    "        # Aplicar PCA\n",
    "        pca = PCA(n_components=n_components)\n",
    "        X_train_pca = pca.fit_transform(X_train)\n",
    "        X_test_pca = pca.transform(X_test)\n",
    "        \n",
    "        # Entrenamiento del modelo\n",
    "        model.fit(X_train_pca, y_train)\n",
    "        y_pred = model.predict(X_test_pca)\n",
    "        \n",
    "        # Evaluación del modelo\n",
    "        report = classification_report(y_test, y_pred, output_dict=True)\n",
    "        results.append(report['weighted avg'])\n",
    "    \n",
    "    # Calcular promedios de las métricas\n",
    "    avg_precision = np.mean([score['precision'] for score in results])\n",
    "    avg_recall = np.mean([score['recall'] for score in results])\n",
    "    avg_f1_score = np.mean([score['f1-score'] for score in results])\n",
    "    \n",
    "    return {\n",
    "        'Modelo': f\"{model_name} with PCA {n_components}\",\n",
    "        'Precisión': avg_precision,\n",
    "        'Recall': avg_recall,\n",
    "        'F1-score': avg_f1_score\n",
    "    }\n",
    "\n",
    "# Configuración del modelo\n",
    "rf_model = RandomForestClassifier(n_estimators=30, max_depth=2, criterion='entropy', random_state=42)\n",
    "component_list = range(1, 14)  \n",
    "all_results = []\n",
    "\n",
    "# Evaluar con diferentes componentes de PCA\n",
    "for components in component_list:\n",
    "    result = evaluate_model_with_pca(X, y, components, rf_model, \"Random Forest\")\n",
    "    all_results.append(result)\n",
    "\n",
    "# Convertir resultados a DataFrame\n",
    "results_df = pd.DataFrame(all_results)\n",
    "results_df.sort_values(by='F1-score', ascending=False)\n"
   ]
  },
  {
   "cell_type": "markdown",
   "id": "08125c21-6e28-4447-b2e1-1055122408ed",
   "metadata": {
    "tags": []
   },
   "source": [
    "## 6 Tabla Comparativa"
   ]
  },
  {
   "cell_type": "code",
   "execution_count": 19,
   "id": "21f5c35e-3740-432d-ae90-949272a94e89",
   "metadata": {
    "tags": []
   },
   "outputs": [
    {
     "data": {
      "text/html": [
       "<div>\n",
       "<style scoped>\n",
       "    .dataframe tbody tr th:only-of-type {\n",
       "        vertical-align: middle;\n",
       "    }\n",
       "\n",
       "    .dataframe tbody tr th {\n",
       "        vertical-align: top;\n",
       "    }\n",
       "\n",
       "    .dataframe thead th {\n",
       "        text-align: right;\n",
       "    }\n",
       "</style>\n",
       "<table border=\"1\" class=\"dataframe\">\n",
       "  <thead>\n",
       "    <tr style=\"text-align: right;\">\n",
       "      <th></th>\n",
       "      <th>Study Reference</th>\n",
       "      <th>Accuracy</th>\n",
       "      <th>Precision</th>\n",
       "      <th>Recall</th>\n",
       "      <th>F1-Score</th>\n",
       "      <th>Specificity</th>\n",
       "    </tr>\n",
       "  </thead>\n",
       "  <tbody>\n",
       "    <tr>\n",
       "      <th>0</th>\n",
       "      <td>[3] HDPM (2020)</td>\n",
       "      <td>98.40%</td>\n",
       "      <td>98.57%</td>\n",
       "      <td>98.33%</td>\n",
       "      <td>98.32%</td>\n",
       "      <td>N/A</td>\n",
       "    </tr>\n",
       "    <tr>\n",
       "      <th>1</th>\n",
       "      <td>[6] MIFH (2020)</td>\n",
       "      <td>93.44%</td>\n",
       "      <td>N/A</td>\n",
       "      <td>89.28%</td>\n",
       "      <td>N/A</td>\n",
       "      <td>96.96%</td>\n",
       "    </tr>\n",
       "    <tr>\n",
       "      <th>2</th>\n",
       "      <td>[4] Hybrid CNN-LSTM (2023)</td>\n",
       "      <td>97.75%</td>\n",
       "      <td>99.13%</td>\n",
       "      <td>98.74%</td>\n",
       "      <td>99.83%</td>\n",
       "      <td>99.42%</td>\n",
       "    </tr>\n",
       "    <tr>\n",
       "      <th>3</th>\n",
       "      <td>[5] HRFLM (2019)</td>\n",
       "      <td>88.47%</td>\n",
       "      <td>87.5%</td>\n",
       "      <td>92.8%</td>\n",
       "      <td>90.0%</td>\n",
       "      <td>82.6%</td>\n",
       "    </tr>\n",
       "    <tr>\n",
       "      <th>4</th>\n",
       "      <td>Current work QDA reg_param=0.3</td>\n",
       "      <td>N/A</td>\n",
       "      <td>84.35%</td>\n",
       "      <td>83.52%</td>\n",
       "      <td>83.33%</td>\n",
       "      <td>N/A</td>\n",
       "    </tr>\n",
       "    <tr>\n",
       "      <th>5</th>\n",
       "      <td>Current work KNN n_neighbors=11</td>\n",
       "      <td>N/A</td>\n",
       "      <td>84.82%</td>\n",
       "      <td>83.49%</td>\n",
       "      <td>83.25%</td>\n",
       "      <td>N/A</td>\n",
       "    </tr>\n",
       "    <tr>\n",
       "      <th>6</th>\n",
       "      <td>RF n=30, depth=2, criterion=entropy</td>\n",
       "      <td>N/A</td>\n",
       "      <td>85.87%</td>\n",
       "      <td>84.83%</td>\n",
       "      <td>84.59%</td>\n",
       "      <td>N/A</td>\n",
       "    </tr>\n",
       "    <tr>\n",
       "      <th>7</th>\n",
       "      <td>Current work Neural Network Neurons=10, Epochs...</td>\n",
       "      <td>N/A</td>\n",
       "      <td>84.75%</td>\n",
       "      <td>84.14%</td>\n",
       "      <td>83.99%</td>\n",
       "      <td>N/A</td>\n",
       "    </tr>\n",
       "    <tr>\n",
       "      <th>8</th>\n",
       "      <td>Current work Neural Network Neurons=50, Epochs...</td>\n",
       "      <td>N/A</td>\n",
       "      <td>84.79%</td>\n",
       "      <td>83.81%</td>\n",
       "      <td>83.62%</td>\n",
       "      <td>N/A</td>\n",
       "    </tr>\n",
       "    <tr>\n",
       "      <th>9</th>\n",
       "      <td>Current work SVM C=300, gamma=0.001</td>\n",
       "      <td>N/A</td>\n",
       "      <td>85.55%</td>\n",
       "      <td>84.16%</td>\n",
       "      <td>83.82%</td>\n",
       "      <td>N/A</td>\n",
       "    </tr>\n",
       "    <tr>\n",
       "      <th>10</th>\n",
       "      <td>Current work Random Forest with Selected Features</td>\n",
       "      <td>N/A</td>\n",
       "      <td>85.87%</td>\n",
       "      <td>84.82%</td>\n",
       "      <td>84.59%</td>\n",
       "      <td>N/A</td>\n",
       "    </tr>\n",
       "    <tr>\n",
       "      <th>11</th>\n",
       "      <td>Current work Neural Network with Selected Feat...</td>\n",
       "      <td>N/A</td>\n",
       "      <td>81.67%</td>\n",
       "      <td>81.07%</td>\n",
       "      <td>80.79%</td>\n",
       "      <td>N/A</td>\n",
       "    </tr>\n",
       "    <tr>\n",
       "      <th>12</th>\n",
       "      <td>Current work SVM with Selected Features</td>\n",
       "      <td>N/A</td>\n",
       "      <td>85.52%</td>\n",
       "      <td>84.16%</td>\n",
       "      <td>83.82%</td>\n",
       "      <td>N/A</td>\n",
       "    </tr>\n",
       "    <tr>\n",
       "      <th>13</th>\n",
       "      <td>Current work SVM with PCA, 12 Components</td>\n",
       "      <td>N/A</td>\n",
       "      <td>84.86%</td>\n",
       "      <td>84.10%</td>\n",
       "      <td>83.87%</td>\n",
       "      <td>N/A</td>\n",
       "    </tr>\n",
       "    <tr>\n",
       "      <th>14</th>\n",
       "      <td>Current work Neural Network with 11 Components</td>\n",
       "      <td>N/A</td>\n",
       "      <td>84.23%</td>\n",
       "      <td>83.80%</td>\n",
       "      <td>83.66%</td>\n",
       "      <td>N/A</td>\n",
       "    </tr>\n",
       "    <tr>\n",
       "      <th>15</th>\n",
       "      <td>Current work Random Forest with 8 Components</td>\n",
       "      <td>N/A</td>\n",
       "      <td>80.40%</td>\n",
       "      <td>79.14%</td>\n",
       "      <td>78.47%</td>\n",
       "      <td>N/A</td>\n",
       "    </tr>\n",
       "  </tbody>\n",
       "</table>\n",
       "</div>"
      ],
      "text/plain": [
       "                                      Study Reference Accuracy Precision  \\\n",
       "0                                     [3] HDPM (2020)   98.40%    98.57%   \n",
       "1                                     [6] MIFH (2020)   93.44%       N/A   \n",
       "2                          [4] Hybrid CNN-LSTM (2023)   97.75%    99.13%   \n",
       "3                                    [5] HRFLM (2019)   88.47%     87.5%   \n",
       "4                      Current work QDA reg_param=0.3      N/A    84.35%   \n",
       "5                     Current work KNN n_neighbors=11      N/A    84.82%   \n",
       "6                 RF n=30, depth=2, criterion=entropy      N/A    85.87%   \n",
       "7   Current work Neural Network Neurons=10, Epochs...      N/A    84.75%   \n",
       "8   Current work Neural Network Neurons=50, Epochs...      N/A    84.79%   \n",
       "9                 Current work SVM C=300, gamma=0.001      N/A    85.55%   \n",
       "10  Current work Random Forest with Selected Features      N/A    85.87%   \n",
       "11  Current work Neural Network with Selected Feat...      N/A    81.67%   \n",
       "12            Current work SVM with Selected Features      N/A    85.52%   \n",
       "13           Current work SVM with PCA, 12 Components      N/A    84.86%   \n",
       "14     Current work Neural Network with 11 Components      N/A    84.23%   \n",
       "15       Current work Random Forest with 8 Components      N/A    80.40%   \n",
       "\n",
       "    Recall F1-Score Specificity  \n",
       "0   98.33%   98.32%         N/A  \n",
       "1   89.28%      N/A      96.96%  \n",
       "2   98.74%   99.83%      99.42%  \n",
       "3    92.8%    90.0%       82.6%  \n",
       "4   83.52%   83.33%         N/A  \n",
       "5   83.49%   83.25%         N/A  \n",
       "6   84.83%   84.59%         N/A  \n",
       "7   84.14%   83.99%         N/A  \n",
       "8   83.81%   83.62%         N/A  \n",
       "9   84.16%   83.82%         N/A  \n",
       "10  84.82%   84.59%         N/A  \n",
       "11  81.07%   80.79%         N/A  \n",
       "12  84.16%   83.82%         N/A  \n",
       "13  84.10%   83.87%         N/A  \n",
       "14  83.80%   83.66%         N/A  \n",
       "15  79.14%   78.47%         N/A  "
      ]
     },
     "execution_count": 19,
     "metadata": {},
     "output_type": "execute_result"
    }
   ],
   "source": [
    "# Datos existentes\n",
    "data = {\n",
    "    \"Study Reference\": [\n",
    "        \"[3] HDPM (2020)\", \n",
    "        \"[6] MIFH (2020)\", \n",
    "        \"[4] Hybrid CNN-LSTM (2023)\", \n",
    "        \"[5] HRFLM (2019)\"\n",
    "    ],\n",
    "    \"Accuracy\": [\"98.40%\", \"93.44%\", \"97.75%\", \"88.47%\"],\n",
    "    \"Precision\": [\"98.57%\", \"N/A\", \"99.13%\", \"87.5%\"],\n",
    "    \"Recall\": [\"98.33%\", \"89.28%\", \"98.74%\", \"92.8%\"],\n",
    "    \"F1-Score\": [\"98.32%\", \"N/A\", \"99.83%\", \"90.0%\"],\n",
    "    \"Specificity\": [\"N/A\", \"96.96%\", \"99.42%\", \"82.6%\"],\n",
    "}\n",
    "\n",
    "# Convertir a DataFrame\n",
    "df = pd.DataFrame(data)\n",
    "\n",
    "# Añadir nuevos datos\n",
    "new_data = {\n",
    "    \"Study Reference\": [\n",
    "        \"Current work QDA reg_param=0.3\", \n",
    "        \"Current work KNN n_neighbors=11\", \n",
    "        \"RF n=30, depth=2, criterion=entropy\", \n",
    "        \"Current work Neural Network Neurons=10, Epochs=30 One Neuron output layer\",\n",
    "        \"Current work Neural Network Neurons=50, Epochs=10 Two Neuron output layer\",\n",
    "        \"Current work SVM C=300, gamma=0.001\",\n",
    "        \"Current work Random Forest with Selected Features\",\n",
    "        \"Current work Neural Network with Selected Features\",\n",
    "        \"Current work SVM with Selected Features\",\n",
    "        \"Current work SVM with PCA, 12 Components\",\n",
    "        \"Current work Neural Network with 11 Components\",\n",
    "        \"Current work Random Forest with 8 Components\"\n",
    "    ],\n",
    "    \"Accuracy\": [\n",
    "        \"N/A\", \"N/A\", \"N/A\", \"N/A\", \"N/A\", \"N/A\", \"N/A\", \"N/A\", \"N/A\", \"N/A\", \"N/A\", \"N/A\"\n",
    "    ],\n",
    "    \"Precision\": [\n",
    "        \"84.35%\", \"84.82%\", \"85.87%\", \"84.75%\", \"84.79%\", \"85.55%\", \"85.87%\", \"81.67%\",\"85.52%\", \"84.86%\", \"84.23%\", \"80.40%\"\n",
    "    ],\n",
    "    \"Recall\": [\n",
    "        \"83.52%\", \"83.49%\", \"84.83%\", \"84.14%\", \"83.81%\", \"84.16%\", \"84.82%\", \"81.07%\",\"84.16%\", \"84.10%\", \"83.80%\",\"79.14%\"\n",
    "    ],\n",
    "    \"F1-Score\": [\n",
    "        \"83.33%\", \"83.25%\", \"84.59%\", \"83.99%\", \"83.62%\", \"83.82%\", \"84.59%\", \"80.79%\",\"83.82%\", \"83.87%\", \"83.66%\",\"78.47%\"\n",
    "    ],\n",
    "    \"Specificity\": [\n",
    "        \"N/A\", \"N/A\", \"N/A\", \"N/A\", \"N/A\", \"N/A\", \"N/A\", \"N/A\", \"N/A\", \"N/A\", \"N/A\", \"N/A\"\n",
    "    ]\n",
    "}\n",
    "\n",
    "# Convertir los nuevos datos a DataFrame y concatenar con el DataFrame existente\n",
    "new_df = pd.DataFrame(new_data)\n",
    "df = pd.concat([df, new_df]).reset_index(drop=True)\n",
    "\n",
    "# Mostrar la tabla\n",
    "df\n"
   ]
  }
 ],
 "metadata": {
  "kernelspec": {
   "display_name": "Python 3 (ipykernel)",
   "language": "python",
   "name": "python3"
  },
  "language_info": {
   "codemirror_mode": {
    "name": "ipython",
    "version": 3
   },
   "file_extension": ".py",
   "mimetype": "text/x-python",
   "name": "python",
   "nbconvert_exporter": "python",
   "pygments_lexer": "ipython3",
   "version": "3.11.5"
  }
 },
 "nbformat": 4,
 "nbformat_minor": 5
}
